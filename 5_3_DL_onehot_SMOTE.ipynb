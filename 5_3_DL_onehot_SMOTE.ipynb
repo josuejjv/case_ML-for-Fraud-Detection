{
  "nbformat": 4,
  "nbformat_minor": 0,
  "metadata": {
    "colab": {
      "name": "5_3_DL_onehot_SMOTE.ipynb",
      "provenance": [],
      "authorship_tag": "ABX9TyP7BDJqsbe2QQo84QNcrzjH",
      "include_colab_link": true
    },
    "kernelspec": {
      "name": "python3",
      "display_name": "Python 3"
    },
    "language_info": {
      "name": "python"
    }
  },
  "cells": [
    {
      "cell_type": "markdown",
      "metadata": {
        "id": "view-in-github",
        "colab_type": "text"
      },
      "source": [
        "<a href=\"https://colab.research.google.com/github/ryanhao1115/ML-for-Fraud-Detection/blob/main/5_3_DL_onehot_SMOTE.ipynb\" target=\"_parent\"><img src=\"https://colab.research.google.com/assets/colab-badge.svg\" alt=\"Open In Colab\"/></a>"
      ]
    },
    {
      "cell_type": "code",
      "metadata": {
        "colab": {
          "base_uri": "https://localhost:8080/"
        },
        "id": "ndtW0FwNmcWr",
        "outputId": "d595aa04-e4ca-4ff4-b9c7-30fa44f4301c"
      },
      "source": [
        "from google.colab import drive\n",
        "drive.mount('/content/drive')"
      ],
      "execution_count": 298,
      "outputs": [
        {
          "output_type": "stream",
          "name": "stdout",
          "text": [
            "Drive already mounted at /content/drive; to attempt to forcibly remount, call drive.mount(\"/content/drive\", force_remount=True).\n"
          ]
        }
      ]
    },
    {
      "cell_type": "code",
      "metadata": {
        "colab": {
          "base_uri": "https://localhost:8080/"
        },
        "id": "B0ly0AY21KvU",
        "outputId": "06daac1c-9cbc-4247-8dbd-89db23f15792"
      },
      "source": [
        "!pip install imbalanced-learn"
      ],
      "execution_count": 294,
      "outputs": [
        {
          "output_type": "stream",
          "name": "stdout",
          "text": [
            "Requirement already satisfied: imbalanced-learn in /usr/local/lib/python3.7/dist-packages (0.4.3)\n",
            "Requirement already satisfied: scikit-learn>=0.20 in /usr/local/lib/python3.7/dist-packages (from imbalanced-learn) (0.22.2.post1)\n",
            "Requirement already satisfied: scipy>=0.13.3 in /usr/local/lib/python3.7/dist-packages (from imbalanced-learn) (1.4.1)\n",
            "Requirement already satisfied: numpy>=1.8.2 in /usr/local/lib/python3.7/dist-packages (from imbalanced-learn) (1.19.5)\n",
            "Requirement already satisfied: joblib>=0.11 in /usr/local/lib/python3.7/dist-packages (from scikit-learn>=0.20->imbalanced-learn) (1.0.1)\n"
          ]
        }
      ]
    },
    {
      "cell_type": "markdown",
      "metadata": {
        "id": "oINI7xYSmpo8"
      },
      "source": [
        "## Deep Learning model with One hot encoding data\n",
        "1. import new return label data.\n",
        "2. Under sampling data to address imbalance class issue.\n",
        "4. Train model\n",
        "5. Eval model\n",
        "6. Create Risk-heatmap"
      ]
    },
    {
      "cell_type": "code",
      "metadata": {
        "id": "6Gc_G68myO1w"
      },
      "source": [
        "import pandas as pd\n",
        "import numpy as np\n",
        "from sklearn.preprocessing import OneHotEncoder\n",
        "from sklearn.preprocessing import StandardScaler\n",
        "from keras.models import Sequential\n",
        "from keras.layers import Dense\n",
        "from keras.callbacks import EarlyStopping\n",
        "from keras.backend import clear_session\n",
        "from sklearn.metrics import classification_report, roc_auc_score, confusion_matrix\n",
        "import tensorflow as tf\n",
        "import random\n",
        "from imblearn.over_sampling import SMOTE\n",
        "from imblearn.under_sampling import RandomUnderSampler\n",
        "from imblearn.pipeline import Pipeline\n"
      ],
      "execution_count": 299,
      "outputs": []
    },
    {
      "cell_type": "code",
      "metadata": {
        "id": "wr3fxm5Waw2H"
      },
      "source": [
        "def reset_seeds():\n",
        "    '''\n",
        "    reset random seeds for modeling\n",
        "    '''\n",
        "    np.random.seed(1)\n",
        "    random.seed(2)\n",
        "    if tf.__version__[0] == '2':\n",
        "        tf.random.set_seed(3)\n",
        "    else:\n",
        "        tf.set_random_seed(3)\n",
        "    print(\"RANDOM SEEDS RESET\")"
      ],
      "execution_count": 219,
      "outputs": []
    },
    {
      "cell_type": "code",
      "metadata": {
        "id": "EB5yPnJdyRnG"
      },
      "source": [
        "## import dataset \n",
        "path = '/content/drive/MyDrive/Colab Notebooks/finalproject/'\n",
        "file = path + 'sales_clean.csv'\n",
        "df = pd.read_csv(file)"
      ],
      "execution_count": 5,
      "outputs": []
    },
    {
      "cell_type": "code",
      "metadata": {
        "id": "zM0xX0nKWIu0"
      },
      "source": [
        "df = df.drop(columns='Unnamed: 0')"
      ],
      "execution_count": 6,
      "outputs": []
    },
    {
      "cell_type": "code",
      "metadata": {
        "colab": {
          "base_uri": "https://localhost:8080/"
        },
        "id": "tXuAbPlSyWVW",
        "outputId": "e12cbefe-322b-41c4-f4cd-0661483ad5f7"
      },
      "source": [
        "df.nunique()"
      ],
      "execution_count": 7,
      "outputs": [
        {
          "output_type": "execute_result",
          "data": {
            "text/plain": [
              "distributor        639\n",
              "sales              209\n",
              "branch              28\n",
              "inv_type             3\n",
              "invoice_no       30721\n",
              "product_no        1094\n",
              "prod_cla             7\n",
              "qty                202\n",
              "total_amt        16112\n",
              "sale_price        8598\n",
              "ship_qty           202\n",
              "cust_type           20\n",
              "return               2\n",
              "discount_app         2\n",
              "list_price        6720\n",
              "inv_ship_days      133\n",
              "dtype: int64"
            ]
          },
          "metadata": {},
          "execution_count": 7
        }
      ]
    },
    {
      "cell_type": "markdown",
      "metadata": {
        "id": "lCCJjJWqGLvU"
      },
      "source": [
        "## import return label data"
      ]
    },
    {
      "cell_type": "code",
      "metadata": {
        "id": "cYVtnDc2HXFA"
      },
      "source": [
        "## import fraud data\n",
        "file = path + 'frauds.csv'\n",
        "df_fraud = pd.read_csv(file,header=None)\n",
        "df_fraud.columns = ['invoice_no']"
      ],
      "execution_count": 8,
      "outputs": []
    },
    {
      "cell_type": "code",
      "metadata": {
        "id": "YntiE6PVIrPC"
      },
      "source": [
        "## import return new labeled data\n",
        "file = path + 'return.csv'\n",
        "df_fraud2 = pd.read_csv(file,header=None)\n",
        "df_fraud2.columns = ['invoice_no']"
      ],
      "execution_count": 9,
      "outputs": []
    },
    {
      "cell_type": "code",
      "metadata": {
        "colab": {
          "base_uri": "https://localhost:8080/"
        },
        "id": "CiNt30SZf6aD",
        "outputId": "9ad2d057-388f-4348-b8d4-89c9b1d3c26e"
      },
      "source": [
        "len(df_fraud2)"
      ],
      "execution_count": 10,
      "outputs": [
        {
          "output_type": "execute_result",
          "data": {
            "text/plain": [
              "24"
            ]
          },
          "metadata": {},
          "execution_count": 10
        }
      ]
    },
    {
      "cell_type": "code",
      "metadata": {
        "id": "bo6Q08-CJyOv"
      },
      "source": [
        "def label_fraud(df, df_fraud, df_fraud2):\n",
        "  df['fraud'] = np.zeros(len(df))\n",
        "  frauds_l = df_fraud['invoice_no'].to_list()\n",
        "  frauds_l2 = df_fraud2['invoice_no'].to_list()\n",
        "  df.loc[df['invoice_no'].isin(frauds_l),'fraud'] = 1\n",
        "  df.loc[df['invoice_no'].isin(frauds_l2),'fraud'] = 2\n",
        "  return df"
      ],
      "execution_count": 11,
      "outputs": []
    },
    {
      "cell_type": "code",
      "metadata": {
        "id": "y0iwhuZ_XIpE"
      },
      "source": [
        "df = label_fraud(df, df_fraud,df_fraud2)"
      ],
      "execution_count": 12,
      "outputs": []
    },
    {
      "cell_type": "code",
      "metadata": {
        "colab": {
          "base_uri": "https://localhost:8080/"
        },
        "id": "S6y811N2NJZS",
        "outputId": "4a05289e-b7e3-407b-e8a4-3fccd22e35f2"
      },
      "source": [
        "df['fraud'].value_counts()"
      ],
      "execution_count": 13,
      "outputs": [
        {
          "output_type": "execute_result",
          "data": {
            "text/plain": [
              "0.0    228014\n",
              "2.0       433\n",
              "1.0       154\n",
              "Name: fraud, dtype: int64"
            ]
          },
          "metadata": {},
          "execution_count": 13
        }
      ]
    },
    {
      "cell_type": "markdown",
      "metadata": {
        "id": "l7OnGZt9GEAL"
      },
      "source": [
        "## Encoding"
      ]
    },
    {
      "cell_type": "code",
      "metadata": {
        "colab": {
          "base_uri": "https://localhost:8080/"
        },
        "id": "KnPg5AboX9Pp",
        "outputId": "f0daccd3-2d33-4421-f147-e5bb345a9b66"
      },
      "source": [
        "df.nunique()"
      ],
      "execution_count": 317,
      "outputs": [
        {
          "output_type": "execute_result",
          "data": {
            "text/plain": [
              "distributor        639\n",
              "sales              209\n",
              "branch              28\n",
              "inv_type             3\n",
              "invoice_no       30721\n",
              "product_no        1094\n",
              "prod_cla             7\n",
              "qty                202\n",
              "total_amt        16112\n",
              "sale_price        8598\n",
              "ship_qty           202\n",
              "cust_type           20\n",
              "return               2\n",
              "discount_app         2\n",
              "list_price        6720\n",
              "inv_ship_days      133\n",
              "fraud                3\n",
              "dtype: int64"
            ]
          },
          "metadata": {},
          "execution_count": 317
        }
      ]
    },
    {
      "cell_type": "code",
      "metadata": {
        "id": "T0O7sPin33OP"
      },
      "source": [
        "cols = df.columns.to_list()\n",
        "cols = ['distributor', 'sales', 'branch', 'inv_type', 'invoice_no', 'product_no', 'prod_cla', 'cust_type']"
      ],
      "execution_count": 38,
      "outputs": []
    },
    {
      "cell_type": "code",
      "metadata": {
        "id": "VlDcgPcLY014"
      },
      "source": [
        "## remove some fields with many classes\n",
        "cols1 = ['distributor', 'sales', 'invoice_no', 'product_no']\n",
        "df_less = df.drop(columns=cols1)"
      ],
      "execution_count": 248,
      "outputs": []
    },
    {
      "cell_type": "code",
      "metadata": {
        "id": "fpoyuiZZaxoR"
      },
      "source": [
        "def field_onehotencoding(df):\n",
        "  cols = [ 'branch', 'inv_type',  'prod_cla', 'cust_type']\n",
        "  df[cols] = df[cols].astype('str') \n",
        "  df_enc = pd.get_dummies(df)\n",
        "  return df_enc"
      ],
      "execution_count": 249,
      "outputs": []
    },
    {
      "cell_type": "code",
      "metadata": {
        "id": "IX-MPQX1cq4P"
      },
      "source": [
        "df_less = field_onehotencoding(df_less)"
      ],
      "execution_count": 250,
      "outputs": []
    },
    {
      "cell_type": "code",
      "metadata": {
        "colab": {
          "base_uri": "https://localhost:8080/"
        },
        "id": "PdzuM0U2jb9V",
        "outputId": "a86cb94f-c37f-47b5-d491-fe5060107ca2"
      },
      "source": [
        "df_less.shape"
      ],
      "execution_count": 251,
      "outputs": [
        {
          "output_type": "execute_result",
          "data": {
            "text/plain": [
              "(228601, 67)"
            ]
          },
          "metadata": {},
          "execution_count": 251
        }
      ]
    },
    {
      "cell_type": "markdown",
      "metadata": {
        "id": "zYRaXHXsP07P"
      },
      "source": [
        "## Resampling to address the imbalance class\n",
        "Because fraud labels are given to invoice level, need to keep records of same invoice together. "
      ]
    },
    {
      "cell_type": "code",
      "metadata": {
        "id": "d7PpSBXyT1iz"
      },
      "source": [
        "df_fraud = df_less[df_less['fraud'] == 1]\n",
        "df_non_fraud = df_less[df_less['fraud'] == 0]\n",
        "df_fraud2 = df_less[df_less['fraud'] == 2]"
      ],
      "execution_count": 302,
      "outputs": []
    },
    {
      "cell_type": "code",
      "metadata": {
        "colab": {
          "base_uri": "https://localhost:8080/"
        },
        "id": "eGH1pJ_JVnr7",
        "outputId": "00e87e91-6195-42a3-f90f-f9fd386bc9ac"
      },
      "source": [
        "df_fraud2.shape"
      ],
      "execution_count": 311,
      "outputs": [
        {
          "output_type": "execute_result",
          "data": {
            "text/plain": [
              "(433, 67)"
            ]
          },
          "metadata": {},
          "execution_count": 311
        }
      ]
    },
    {
      "cell_type": "code",
      "metadata": {
        "colab": {
          "base_uri": "https://localhost:8080/"
        },
        "id": "9J8c4dTt6QAt",
        "outputId": "f13c637a-d567-4e3a-c33c-9487d5aaab2b"
      },
      "source": [
        "df_non_fraud.shape"
      ],
      "execution_count": 303,
      "outputs": [
        {
          "output_type": "execute_result",
          "data": {
            "text/plain": [
              "(228014, 67)"
            ]
          },
          "metadata": {},
          "execution_count": 303
        }
      ]
    },
    {
      "cell_type": "code",
      "metadata": {
        "colab": {
          "base_uri": "https://localhost:8080/"
        },
        "id": "k4nyP6ft-Lg9",
        "outputId": "b1ef245c-204c-4d24-b451-24d715d6c669"
      },
      "source": [
        "df_non_fraud.nunique()"
      ],
      "execution_count": 307,
      "outputs": [
        {
          "output_type": "execute_result",
          "data": {
            "text/plain": [
              "qty                 202\n",
              "total_amt         15896\n",
              "sale_price         8237\n",
              "ship_qty            202\n",
              "return                2\n",
              "                  ...  \n",
              "cust_type_KX01        2\n",
              "cust_type_LX01        2\n",
              "cust_type_MX01        2\n",
              "cust_type_NX01        2\n",
              "cust_type_ZZ01        2\n",
              "Length: 67, dtype: int64"
            ]
          },
          "metadata": {},
          "execution_count": 307
        }
      ]
    },
    {
      "cell_type": "code",
      "metadata": {
        "id": "M2L3ePEOXvyD"
      },
      "source": [
        "def sampling_record(df_non_fraud,df_fraud,df_fraud2):\n",
        "  '''\n",
        "  Random sampling from unlabled records.\n",
        "  concat with labeled records\n",
        "  '''\n",
        "  df = df_non_fraud.sample(frac=1,replace=False)\n",
        "\n",
        "  sample_size = len(df_non_fraud) - 8000\n",
        " \n",
        "  ## Build training dataset\n",
        "  df_train = df.iloc[:sample_size,:]\n",
        "  df_train = pd.concat([df_train,df_fraud2])\n",
        "  df_train.loc[df_train['fraud'] == 2, 'fraud'] = 1 \n",
        "  df_train = df_train.sample(frac=1,replace=False)\n",
        "  print(len(df_train))\n",
        "\n",
        "  ## Build eval dataset\n",
        "  df_test = df.iloc[sample_size:,:]\n",
        "  df_test = pd.concat([df_test,df_fraud])\n",
        "  df_test = df_test.sort_index()\n",
        "  print(len(df_test))\n",
        "\n",
        "  return df_train, df_test\n"
      ],
      "execution_count": 312,
      "outputs": []
    },
    {
      "cell_type": "code",
      "metadata": {
        "colab": {
          "base_uri": "https://localhost:8080/"
        },
        "id": "O01agYImtUx9",
        "outputId": "5485a367-4e4b-4464-e79f-d675c9f47cc6"
      },
      "source": [
        "df_train, df_test = sampling_record(df_non_fraud, df_fraud, df_fraud2)"
      ],
      "execution_count": 313,
      "outputs": [
        {
          "output_type": "stream",
          "name": "stdout",
          "text": [
            "220447\n",
            "8154\n"
          ]
        }
      ]
    },
    {
      "cell_type": "code",
      "metadata": {
        "colab": {
          "base_uri": "https://localhost:8080/"
        },
        "id": "pzKw_DggxMS-",
        "outputId": "5c46b24e-5dda-41a1-b299-95043b2a64b0"
      },
      "source": [
        "df_train.shape"
      ],
      "execution_count": 314,
      "outputs": [
        {
          "output_type": "execute_result",
          "data": {
            "text/plain": [
              "(220447, 67)"
            ]
          },
          "metadata": {},
          "execution_count": 314
        }
      ]
    },
    {
      "cell_type": "code",
      "metadata": {
        "colab": {
          "base_uri": "https://localhost:8080/"
        },
        "id": "HqJlSiFlRwXl",
        "outputId": "e573570e-5bec-476c-f7d6-6b68f989eacd"
      },
      "source": [
        "df_test.shape"
      ],
      "execution_count": 316,
      "outputs": [
        {
          "output_type": "execute_result",
          "data": {
            "text/plain": [
              "(8154, 67)"
            ]
          },
          "metadata": {},
          "execution_count": 316
        }
      ]
    },
    {
      "cell_type": "code",
      "metadata": {
        "colab": {
          "base_uri": "https://localhost:8080/"
        },
        "id": "V_LOYj9ZZne0",
        "outputId": "cf81c20c-c879-474d-8150-5ee19be969c6"
      },
      "source": [
        "df_train.nunique()"
      ],
      "execution_count": 315,
      "outputs": [
        {
          "output_type": "execute_result",
          "data": {
            "text/plain": [
              "qty                 202\n",
              "total_amt         15737\n",
              "sale_price         8375\n",
              "ship_qty            202\n",
              "return                2\n",
              "                  ...  \n",
              "cust_type_KX01        2\n",
              "cust_type_LX01        2\n",
              "cust_type_MX01        2\n",
              "cust_type_NX01        2\n",
              "cust_type_ZZ01        2\n",
              "Length: 67, dtype: int64"
            ]
          },
          "metadata": {},
          "execution_count": 315
        }
      ]
    },
    {
      "cell_type": "markdown",
      "metadata": {
        "id": "accC5JvAB2kU"
      },
      "source": [
        "SMOTE "
      ]
    },
    {
      "cell_type": "code",
      "metadata": {
        "id": "H6TNNuMcCrgh"
      },
      "source": [
        "y_train = df_train['fraud'].values\n",
        "X_train = df_train.drop(columns=['fraud'])"
      ],
      "execution_count": 318,
      "outputs": []
    },
    {
      "cell_type": "code",
      "metadata": {
        "colab": {
          "base_uri": "https://localhost:8080/"
        },
        "id": "hxaNVbYnB87z",
        "outputId": "7382c521-222a-4b03-9cad-580685de9908"
      },
      "source": [
        "# define pipeline\n",
        "over = SMOTE(sampling_strategy=0.1)\n",
        "under = RandomUnderSampler(sampling_strategy=0.5)\n",
        "steps = [('o', over), ('u', under)]\n",
        "pipeline = Pipeline(steps=steps)\n",
        "\n",
        "# transform the dataset\n",
        "X_train, y_train = pipeline.fit_resample(X_train, y_train)"
      ],
      "execution_count": 319,
      "outputs": [
        {
          "output_type": "stream",
          "name": "stderr",
          "text": [
            "/usr/local/lib/python3.7/dist-packages/sklearn/utils/deprecation.py:87: FutureWarning: Function safe_indexing is deprecated; safe_indexing is deprecated in version 0.22 and will be removed in version 0.24.\n",
            "  warnings.warn(msg, category=FutureWarning)\n",
            "/usr/local/lib/python3.7/dist-packages/sklearn/utils/deprecation.py:87: FutureWarning: Function safe_indexing is deprecated; safe_indexing is deprecated in version 0.22 and will be removed in version 0.24.\n",
            "  warnings.warn(msg, category=FutureWarning)\n"
          ]
        }
      ]
    },
    {
      "cell_type": "code",
      "metadata": {
        "colab": {
          "base_uri": "https://localhost:8080/"
        },
        "id": "Op4gFEOnDBG5",
        "outputId": "2d05843a-f450-4251-91f7-d5ae35e56cab"
      },
      "source": [
        "X_train.shape"
      ],
      "execution_count": 320,
      "outputs": [
        {
          "output_type": "execute_result",
          "data": {
            "text/plain": [
              "(66003, 66)"
            ]
          },
          "metadata": {},
          "execution_count": 320
        }
      ]
    },
    {
      "cell_type": "code",
      "metadata": {
        "colab": {
          "base_uri": "https://localhost:8080/"
        },
        "id": "0zfTl8fyDLdo",
        "outputId": "77bb13e7-3b73-4137-e615-e3a51a2008a0"
      },
      "source": [
        "y_train.sum()"
      ],
      "execution_count": 321,
      "outputs": [
        {
          "output_type": "execute_result",
          "data": {
            "text/plain": [
              "22001.0"
            ]
          },
          "metadata": {},
          "execution_count": 321
        }
      ]
    },
    {
      "cell_type": "code",
      "metadata": {
        "colab": {
          "base_uri": "https://localhost:8080/"
        },
        "id": "rdaT9AW_DTnY",
        "outputId": "f2bea567-5ff2-4d78-f572-529911bcd93a"
      },
      "source": [
        "y_train.shape"
      ],
      "execution_count": 322,
      "outputs": [
        {
          "output_type": "execute_result",
          "data": {
            "text/plain": [
              "(66003,)"
            ]
          },
          "metadata": {},
          "execution_count": 322
        }
      ]
    },
    {
      "cell_type": "markdown",
      "metadata": {
        "id": "gDkexYmPxM8O"
      },
      "source": [
        "## Standardscale data"
      ]
    },
    {
      "cell_type": "code",
      "metadata": {
        "id": "Wxt4dsJo7tDa"
      },
      "source": [
        "scaler = StandardScaler()"
      ],
      "execution_count": 45,
      "outputs": []
    },
    {
      "cell_type": "code",
      "metadata": {
        "id": "YeeK6JNC8Fqz"
      },
      "source": [
        "\n",
        "X_train = scaler.fit_transform(X_train)\n",
        "y_train = y_train.reshape(len(y_train),1)"
      ],
      "execution_count": 323,
      "outputs": []
    },
    {
      "cell_type": "code",
      "metadata": {
        "id": "86joAZPl9YpL"
      },
      "source": [
        "y_test = df_test['fraud'].values\n",
        "X_test = df_test.drop(columns=['fraud'])\n",
        "\n",
        "X_test = scaler.transform(X_test)\n",
        "y_test = y_test.reshape(len(y_test),1)"
      ],
      "execution_count": 324,
      "outputs": []
    },
    {
      "cell_type": "code",
      "metadata": {
        "colab": {
          "base_uri": "https://localhost:8080/"
        },
        "id": "MNUBFns291Qv",
        "outputId": "8518abb9-498f-4e3e-93f8-fbd58cd3767e"
      },
      "source": [
        "X_train.shape"
      ],
      "execution_count": 325,
      "outputs": [
        {
          "output_type": "execute_result",
          "data": {
            "text/plain": [
              "(66003, 66)"
            ]
          },
          "metadata": {},
          "execution_count": 325
        }
      ]
    },
    {
      "cell_type": "code",
      "metadata": {
        "colab": {
          "base_uri": "https://localhost:8080/"
        },
        "id": "4o9UXO0--hgv",
        "outputId": "9cc018c1-4b78-4ec8-b5ab-1da66c99d46d"
      },
      "source": [
        "y_test.shape"
      ],
      "execution_count": 326,
      "outputs": [
        {
          "output_type": "execute_result",
          "data": {
            "text/plain": [
              "(8154, 1)"
            ]
          },
          "metadata": {},
          "execution_count": 326
        }
      ]
    },
    {
      "cell_type": "code",
      "metadata": {
        "colab": {
          "base_uri": "https://localhost:8080/"
        },
        "id": "gMv9MH5QVu6B",
        "outputId": "03a23a99-eb97-48a9-ab55-2301ff3aca27"
      },
      "source": [
        "y_train.sum()"
      ],
      "execution_count": 327,
      "outputs": [
        {
          "output_type": "execute_result",
          "data": {
            "text/plain": [
              "22001.0"
            ]
          },
          "metadata": {},
          "execution_count": 327
        }
      ]
    },
    {
      "cell_type": "markdown",
      "metadata": {
        "id": "vnO2HnA4_RQU"
      },
      "source": [
        "## Build model"
      ]
    },
    {
      "cell_type": "code",
      "metadata": {
        "id": "09WCa-Qn_T0G"
      },
      "source": [
        "# define the  model\n",
        "def build_model():\n",
        "  model = Sequential()\n",
        "  model.add(Dense(128, input_dim=X_train.shape[1], activation='relu', kernel_initializer='he_normal'))\n",
        "  model.add(Dense(64,activation='relu'))\n",
        "  model.add(Dense(1, activation='sigmoid'))\n",
        "  # compile the keras model\n",
        "  # opt = tf.keras.optimizers.Adam(clipnorm=1, learning_rate=0.01)\n",
        "  model.compile(loss='binary_crossentropy', optimizer='adam', metrics=['accuracy'])\n",
        "  return model"
      ],
      "execution_count": 328,
      "outputs": []
    },
    {
      "cell_type": "code",
      "metadata": {
        "colab": {
          "base_uri": "https://localhost:8080/"
        },
        "id": "pBs2KuNeAErs",
        "outputId": "097164a6-7561-4228-9b61-cd714e3720a9"
      },
      "source": [
        "model.summary()"
      ],
      "execution_count": 330,
      "outputs": [
        {
          "output_type": "stream",
          "name": "stdout",
          "text": [
            "Model: \"sequential\"\n",
            "_________________________________________________________________\n",
            "Layer (type)                 Output Shape              Param #   \n",
            "=================================================================\n",
            "dense (Dense)                (None, 128)               8576      \n",
            "_________________________________________________________________\n",
            "dense_1 (Dense)              (None, 64)                8256      \n",
            "_________________________________________________________________\n",
            "dense_2 (Dense)              (None, 1)                 65        \n",
            "=================================================================\n",
            "Total params: 16,897\n",
            "Trainable params: 16,897\n",
            "Non-trainable params: 0\n",
            "_________________________________________________________________\n"
          ]
        }
      ]
    },
    {
      "cell_type": "markdown",
      "metadata": {
        "id": "cfEQ-OXDA3mV"
      },
      "source": [
        "## Training model"
      ]
    },
    {
      "cell_type": "code",
      "metadata": {
        "colab": {
          "base_uri": "https://localhost:8080/"
        },
        "id": "413m67NPZY4F",
        "outputId": "218c15d8-5f18-4626-e5b5-89620a2adbfd"
      },
      "source": [
        "## clear previous model.  Make sure training from 0. \n",
        "del model\n",
        "clear_session()\n",
        "tf.compat.v1.reset_default_graph()\n",
        "reset_seeds()\n",
        "model = build_model()"
      ],
      "execution_count": 354,
      "outputs": [
        {
          "output_type": "stream",
          "name": "stdout",
          "text": [
            "RANDOM SEEDS RESET\n"
          ]
        }
      ]
    },
    {
      "cell_type": "code",
      "metadata": {
        "colab": {
          "base_uri": "https://localhost:8080/"
        },
        "id": "Pp9q-HK4A6UX",
        "outputId": "1edb96fb-431b-45d6-920e-d8655be8a493"
      },
      "source": [
        "model.fit(X_train, y_train, epochs=200,batch_size=64,class_weight={0:1, 1:2})"
      ],
      "execution_count": 355,
      "outputs": [
        {
          "output_type": "stream",
          "name": "stdout",
          "text": [
            "Epoch 1/200\n",
            "1032/1032 [==============================] - 3s 2ms/step - loss: 0.2395 - accuracy: 0.9074\n",
            "Epoch 2/200\n",
            "1032/1032 [==============================] - 3s 2ms/step - loss: 0.1548 - accuracy: 0.9446\n",
            "Epoch 3/200\n",
            "1032/1032 [==============================] - 3s 2ms/step - loss: 0.1320 - accuracy: 0.9536\n",
            "Epoch 4/200\n",
            "1032/1032 [==============================] - 3s 3ms/step - loss: 0.1119 - accuracy: 0.9623\n",
            "Epoch 5/200\n",
            "1032/1032 [==============================] - 3s 3ms/step - loss: 0.1027 - accuracy: 0.9652\n",
            "Epoch 6/200\n",
            "1032/1032 [==============================] - 2s 2ms/step - loss: 0.0931 - accuracy: 0.9688\n",
            "Epoch 7/200\n",
            "1032/1032 [==============================] - 3s 3ms/step - loss: 0.0862 - accuracy: 0.9704\n",
            "Epoch 8/200\n",
            "1032/1032 [==============================] - 3s 2ms/step - loss: 0.0808 - accuracy: 0.9732\n",
            "Epoch 9/200\n",
            "1032/1032 [==============================] - 3s 3ms/step - loss: 0.0799 - accuracy: 0.9739\n",
            "Epoch 10/200\n",
            "1032/1032 [==============================] - 3s 3ms/step - loss: 0.0730 - accuracy: 0.9760\n",
            "Epoch 11/200\n",
            "1032/1032 [==============================] - 3s 2ms/step - loss: 0.0706 - accuracy: 0.9768\n",
            "Epoch 12/200\n",
            "1032/1032 [==============================] - 2s 2ms/step - loss: 0.0698 - accuracy: 0.9773\n",
            "Epoch 13/200\n",
            "1032/1032 [==============================] - 3s 3ms/step - loss: 0.0635 - accuracy: 0.9789\n",
            "Epoch 14/200\n",
            "1032/1032 [==============================] - 3s 2ms/step - loss: 0.0643 - accuracy: 0.9785\n",
            "Epoch 15/200\n",
            "1032/1032 [==============================] - 3s 2ms/step - loss: 0.0636 - accuracy: 0.9788\n",
            "Epoch 16/200\n",
            "1032/1032 [==============================] - 3s 2ms/step - loss: 0.0607 - accuracy: 0.9799\n",
            "Epoch 17/200\n",
            "1032/1032 [==============================] - 3s 3ms/step - loss: 0.0587 - accuracy: 0.9809\n",
            "Epoch 18/200\n",
            "1032/1032 [==============================] - 3s 3ms/step - loss: 0.0581 - accuracy: 0.9810\n",
            "Epoch 19/200\n",
            "1032/1032 [==============================] - 3s 2ms/step - loss: 0.0593 - accuracy: 0.9803\n",
            "Epoch 20/200\n",
            "1032/1032 [==============================] - 3s 2ms/step - loss: 0.0569 - accuracy: 0.9812\n",
            "Epoch 21/200\n",
            "1032/1032 [==============================] - 3s 2ms/step - loss: 0.0552 - accuracy: 0.9815\n",
            "Epoch 22/200\n",
            "1032/1032 [==============================] - 3s 2ms/step - loss: 0.0562 - accuracy: 0.9809\n",
            "Epoch 23/200\n",
            "1032/1032 [==============================] - 2s 2ms/step - loss: 0.0532 - accuracy: 0.9820\n",
            "Epoch 24/200\n",
            "1032/1032 [==============================] - 2s 2ms/step - loss: 0.0542 - accuracy: 0.9824\n",
            "Epoch 25/200\n",
            "1032/1032 [==============================] - 3s 2ms/step - loss: 0.0540 - accuracy: 0.9818\n",
            "Epoch 26/200\n",
            "1032/1032 [==============================] - 2s 2ms/step - loss: 0.0525 - accuracy: 0.9824\n",
            "Epoch 27/200\n",
            "1032/1032 [==============================] - 2s 2ms/step - loss: 0.0539 - accuracy: 0.9820\n",
            "Epoch 28/200\n",
            "1032/1032 [==============================] - 2s 2ms/step - loss: 0.0536 - accuracy: 0.9817\n",
            "Epoch 29/200\n",
            "1032/1032 [==============================] - 2s 2ms/step - loss: 0.0500 - accuracy: 0.9832\n",
            "Epoch 30/200\n",
            "1032/1032 [==============================] - 3s 2ms/step - loss: 0.0511 - accuracy: 0.9820\n",
            "Epoch 31/200\n",
            "1032/1032 [==============================] - 3s 3ms/step - loss: 0.0500 - accuracy: 0.9833\n",
            "Epoch 32/200\n",
            "1032/1032 [==============================] - 2s 2ms/step - loss: 0.0510 - accuracy: 0.9835\n",
            "Epoch 33/200\n",
            "1032/1032 [==============================] - 2s 2ms/step - loss: 0.0493 - accuracy: 0.9838\n",
            "Epoch 34/200\n",
            "1032/1032 [==============================] - 2s 2ms/step - loss: 0.0498 - accuracy: 0.9834\n",
            "Epoch 35/200\n",
            "1032/1032 [==============================] - 2s 2ms/step - loss: 0.0466 - accuracy: 0.9842\n",
            "Epoch 36/200\n",
            "1032/1032 [==============================] - 2s 2ms/step - loss: 0.0517 - accuracy: 0.9829\n",
            "Epoch 37/200\n",
            "1032/1032 [==============================] - 3s 3ms/step - loss: 0.0476 - accuracy: 0.9838\n",
            "Epoch 38/200\n",
            "1032/1032 [==============================] - 3s 3ms/step - loss: 0.0471 - accuracy: 0.9842\n",
            "Epoch 39/200\n",
            "1032/1032 [==============================] - 3s 3ms/step - loss: 0.0467 - accuracy: 0.9842\n",
            "Epoch 40/200\n",
            "1032/1032 [==============================] - 3s 3ms/step - loss: 0.0494 - accuracy: 0.9832\n",
            "Epoch 41/200\n",
            "1032/1032 [==============================] - 3s 3ms/step - loss: 0.0456 - accuracy: 0.9845\n",
            "Epoch 42/200\n",
            "1032/1032 [==============================] - 3s 3ms/step - loss: 0.0472 - accuracy: 0.9846\n",
            "Epoch 43/200\n",
            "1032/1032 [==============================] - 3s 3ms/step - loss: 0.0482 - accuracy: 0.9838\n",
            "Epoch 44/200\n",
            "1032/1032 [==============================] - 3s 3ms/step - loss: 0.0469 - accuracy: 0.9842\n",
            "Epoch 45/200\n",
            "1032/1032 [==============================] - 3s 3ms/step - loss: 0.0449 - accuracy: 0.9847\n",
            "Epoch 46/200\n",
            "1032/1032 [==============================] - 3s 3ms/step - loss: 0.0461 - accuracy: 0.9841\n",
            "Epoch 47/200\n",
            "1032/1032 [==============================] - 3s 3ms/step - loss: 0.0453 - accuracy: 0.9839\n",
            "Epoch 48/200\n",
            "1032/1032 [==============================] - 3s 3ms/step - loss: 0.0459 - accuracy: 0.9843\n",
            "Epoch 49/200\n",
            "1032/1032 [==============================] - 3s 3ms/step - loss: 0.0464 - accuracy: 0.9840\n",
            "Epoch 50/200\n",
            "1032/1032 [==============================] - 2s 2ms/step - loss: 0.0446 - accuracy: 0.9845\n",
            "Epoch 51/200\n",
            "1032/1032 [==============================] - 2s 2ms/step - loss: 0.0478 - accuracy: 0.9834\n",
            "Epoch 52/200\n",
            "1032/1032 [==============================] - 3s 3ms/step - loss: 0.0440 - accuracy: 0.9849\n",
            "Epoch 53/200\n",
            "1032/1032 [==============================] - 3s 3ms/step - loss: 0.0449 - accuracy: 0.9848\n",
            "Epoch 54/200\n",
            "1032/1032 [==============================] - 3s 2ms/step - loss: 0.0436 - accuracy: 0.9854\n",
            "Epoch 55/200\n",
            "1032/1032 [==============================] - 2s 2ms/step - loss: 0.0429 - accuracy: 0.9855\n",
            "Epoch 56/200\n",
            "1032/1032 [==============================] - 3s 2ms/step - loss: 0.0431 - accuracy: 0.9853\n",
            "Epoch 57/200\n",
            "1032/1032 [==============================] - 2s 2ms/step - loss: 0.0452 - accuracy: 0.9847\n",
            "Epoch 58/200\n",
            "1032/1032 [==============================] - 3s 3ms/step - loss: 0.0415 - accuracy: 0.9855\n",
            "Epoch 59/200\n",
            "1032/1032 [==============================] - 3s 3ms/step - loss: 0.0433 - accuracy: 0.9849\n",
            "Epoch 60/200\n",
            "1032/1032 [==============================] - 3s 3ms/step - loss: 0.0443 - accuracy: 0.9848\n",
            "Epoch 61/200\n",
            "1032/1032 [==============================] - 3s 2ms/step - loss: 0.0422 - accuracy: 0.9853\n",
            "Epoch 62/200\n",
            "1032/1032 [==============================] - 3s 2ms/step - loss: 0.0437 - accuracy: 0.9850\n",
            "Epoch 63/200\n",
            "1032/1032 [==============================] - 3s 2ms/step - loss: 0.0430 - accuracy: 0.9854\n",
            "Epoch 64/200\n",
            "1032/1032 [==============================] - 3s 3ms/step - loss: 0.0455 - accuracy: 0.9848\n",
            "Epoch 65/200\n",
            "1032/1032 [==============================] - 3s 3ms/step - loss: 0.0410 - accuracy: 0.9857\n",
            "Epoch 66/200\n",
            "1032/1032 [==============================] - 2s 2ms/step - loss: 0.0430 - accuracy: 0.9853\n",
            "Epoch 67/200\n",
            "1032/1032 [==============================] - 2s 2ms/step - loss: 0.0428 - accuracy: 0.9856\n",
            "Epoch 68/200\n",
            "1032/1032 [==============================] - 2s 2ms/step - loss: 0.0429 - accuracy: 0.9856\n",
            "Epoch 69/200\n",
            "1032/1032 [==============================] - 3s 3ms/step - loss: 0.0420 - accuracy: 0.9857\n",
            "Epoch 70/200\n",
            "1032/1032 [==============================] - 2s 2ms/step - loss: 0.0408 - accuracy: 0.9861\n",
            "Epoch 71/200\n",
            "1032/1032 [==============================] - 2s 2ms/step - loss: 0.0411 - accuracy: 0.9856\n",
            "Epoch 72/200\n",
            "1032/1032 [==============================] - 3s 2ms/step - loss: 0.0414 - accuracy: 0.9862\n",
            "Epoch 73/200\n",
            "1032/1032 [==============================] - 2s 2ms/step - loss: 0.0413 - accuracy: 0.9859\n",
            "Epoch 74/200\n",
            "1032/1032 [==============================] - 2s 2ms/step - loss: 0.0390 - accuracy: 0.9866\n",
            "Epoch 75/200\n",
            "1032/1032 [==============================] - 2s 2ms/step - loss: 0.0402 - accuracy: 0.9860\n",
            "Epoch 76/200\n",
            "1032/1032 [==============================] - 3s 3ms/step - loss: 0.0422 - accuracy: 0.9860\n",
            "Epoch 77/200\n",
            "1032/1032 [==============================] - 3s 2ms/step - loss: 0.0408 - accuracy: 0.9864\n",
            "Epoch 78/200\n",
            "1032/1032 [==============================] - 2s 2ms/step - loss: 0.0417 - accuracy: 0.9860\n",
            "Epoch 79/200\n",
            "1032/1032 [==============================] - 2s 2ms/step - loss: 0.0409 - accuracy: 0.9863\n",
            "Epoch 80/200\n",
            "1032/1032 [==============================] - 2s 2ms/step - loss: 0.0400 - accuracy: 0.9867\n",
            "Epoch 81/200\n",
            "1032/1032 [==============================] - 2s 2ms/step - loss: 0.0401 - accuracy: 0.9863\n",
            "Epoch 82/200\n",
            "1032/1032 [==============================] - 2s 2ms/step - loss: 0.0397 - accuracy: 0.9873\n",
            "Epoch 83/200\n",
            "1032/1032 [==============================] - 2s 2ms/step - loss: 0.0390 - accuracy: 0.9870\n",
            "Epoch 84/200\n",
            "1032/1032 [==============================] - 2s 2ms/step - loss: 0.0398 - accuracy: 0.9867\n",
            "Epoch 85/200\n",
            "1032/1032 [==============================] - 2s 2ms/step - loss: 0.0416 - accuracy: 0.9854\n",
            "Epoch 86/200\n",
            "1032/1032 [==============================] - 2s 2ms/step - loss: 0.0394 - accuracy: 0.9867\n",
            "Epoch 87/200\n",
            "1032/1032 [==============================] - 2s 2ms/step - loss: 0.0400 - accuracy: 0.9868\n",
            "Epoch 88/200\n",
            "1032/1032 [==============================] - 3s 2ms/step - loss: 0.0388 - accuracy: 0.9869\n",
            "Epoch 89/200\n",
            "1032/1032 [==============================] - 3s 2ms/step - loss: 0.0389 - accuracy: 0.9870\n",
            "Epoch 90/200\n",
            "1032/1032 [==============================] - 3s 2ms/step - loss: 0.0379 - accuracy: 0.9872\n",
            "Epoch 91/200\n",
            "1032/1032 [==============================] - 3s 3ms/step - loss: 0.0416 - accuracy: 0.9863\n",
            "Epoch 92/200\n",
            "1032/1032 [==============================] - 3s 3ms/step - loss: 0.0385 - accuracy: 0.9873\n",
            "Epoch 93/200\n",
            "1032/1032 [==============================] - 3s 2ms/step - loss: 0.0369 - accuracy: 0.9873\n",
            "Epoch 94/200\n",
            "1032/1032 [==============================] - 3s 3ms/step - loss: 0.0362 - accuracy: 0.9881\n",
            "Epoch 95/200\n",
            "1032/1032 [==============================] - 3s 2ms/step - loss: 0.0393 - accuracy: 0.9866\n",
            "Epoch 96/200\n",
            "1032/1032 [==============================] - 2s 2ms/step - loss: 0.0384 - accuracy: 0.9868\n",
            "Epoch 97/200\n",
            "1032/1032 [==============================] - 3s 3ms/step - loss: 0.0370 - accuracy: 0.9876\n",
            "Epoch 98/200\n",
            "1032/1032 [==============================] - 3s 3ms/step - loss: 0.0368 - accuracy: 0.9873\n",
            "Epoch 99/200\n",
            "1032/1032 [==============================] - 2s 2ms/step - loss: 0.0374 - accuracy: 0.9875\n",
            "Epoch 100/200\n",
            "1032/1032 [==============================] - 3s 2ms/step - loss: 0.0363 - accuracy: 0.9877\n",
            "Epoch 101/200\n",
            "1032/1032 [==============================] - 3s 2ms/step - loss: 0.0380 - accuracy: 0.9872\n",
            "Epoch 102/200\n",
            "1032/1032 [==============================] - 3s 2ms/step - loss: 0.0373 - accuracy: 0.9876\n",
            "Epoch 103/200\n",
            "1032/1032 [==============================] - 2s 2ms/step - loss: 0.0360 - accuracy: 0.9879\n",
            "Epoch 104/200\n",
            "1032/1032 [==============================] - 3s 2ms/step - loss: 0.0368 - accuracy: 0.9876\n",
            "Epoch 105/200\n",
            "1032/1032 [==============================] - 3s 2ms/step - loss: 0.0366 - accuracy: 0.9874\n",
            "Epoch 106/200\n",
            "1032/1032 [==============================] - 2s 2ms/step - loss: 0.0368 - accuracy: 0.9878\n",
            "Epoch 107/200\n",
            "1032/1032 [==============================] - 3s 3ms/step - loss: 0.0365 - accuracy: 0.9879\n",
            "Epoch 108/200\n",
            "1032/1032 [==============================] - 3s 3ms/step - loss: 0.0391 - accuracy: 0.9873\n",
            "Epoch 109/200\n",
            "1032/1032 [==============================] - 2s 2ms/step - loss: 0.0357 - accuracy: 0.9882\n",
            "Epoch 110/200\n",
            "1032/1032 [==============================] - 3s 2ms/step - loss: 0.0363 - accuracy: 0.9882\n",
            "Epoch 111/200\n",
            "1032/1032 [==============================] - 2s 2ms/step - loss: 0.0370 - accuracy: 0.9873\n",
            "Epoch 112/200\n",
            "1032/1032 [==============================] - 2s 2ms/step - loss: 0.0359 - accuracy: 0.9879\n",
            "Epoch 113/200\n",
            "1032/1032 [==============================] - 3s 2ms/step - loss: 0.0355 - accuracy: 0.9882\n",
            "Epoch 114/200\n",
            "1032/1032 [==============================] - 2s 2ms/step - loss: 0.0374 - accuracy: 0.9873\n",
            "Epoch 115/200\n",
            "1032/1032 [==============================] - 3s 2ms/step - loss: 0.0378 - accuracy: 0.9876\n",
            "Epoch 116/200\n",
            "1032/1032 [==============================] - 3s 2ms/step - loss: 0.0365 - accuracy: 0.9879\n",
            "Epoch 117/200\n",
            "1032/1032 [==============================] - 3s 3ms/step - loss: 0.0360 - accuracy: 0.9883\n",
            "Epoch 118/200\n",
            "1032/1032 [==============================] - 3s 3ms/step - loss: 0.0363 - accuracy: 0.9875\n",
            "Epoch 119/200\n",
            "1032/1032 [==============================] - 3s 3ms/step - loss: 0.0369 - accuracy: 0.9876\n",
            "Epoch 120/200\n",
            "1032/1032 [==============================] - 3s 3ms/step - loss: 0.0358 - accuracy: 0.9883\n",
            "Epoch 121/200\n",
            "1032/1032 [==============================] - 3s 3ms/step - loss: 0.0356 - accuracy: 0.9881\n",
            "Epoch 122/200\n",
            "1032/1032 [==============================] - 3s 2ms/step - loss: 0.0341 - accuracy: 0.9879\n",
            "Epoch 123/200\n",
            "1032/1032 [==============================] - 2s 2ms/step - loss: 0.0360 - accuracy: 0.9879\n",
            "Epoch 124/200\n",
            "1032/1032 [==============================] - 3s 3ms/step - loss: 0.0363 - accuracy: 0.9880\n",
            "Epoch 125/200\n",
            "1032/1032 [==============================] - 2s 2ms/step - loss: 0.0360 - accuracy: 0.9879\n",
            "Epoch 126/200\n",
            "1032/1032 [==============================] - 3s 3ms/step - loss: 0.0343 - accuracy: 0.9884\n",
            "Epoch 127/200\n",
            "1032/1032 [==============================] - 3s 3ms/step - loss: 0.0354 - accuracy: 0.9884\n",
            "Epoch 128/200\n",
            "1032/1032 [==============================] - 3s 3ms/step - loss: 0.0362 - accuracy: 0.9882\n",
            "Epoch 129/200\n",
            "1032/1032 [==============================] - 2s 2ms/step - loss: 0.0336 - accuracy: 0.9889\n",
            "Epoch 130/200\n",
            "1032/1032 [==============================] - 2s 2ms/step - loss: 0.0349 - accuracy: 0.9883\n",
            "Epoch 131/200\n",
            "1032/1032 [==============================] - 2s 2ms/step - loss: 0.0349 - accuracy: 0.9882\n",
            "Epoch 132/200\n",
            "1032/1032 [==============================] - 3s 3ms/step - loss: 0.0348 - accuracy: 0.9884\n",
            "Epoch 133/200\n",
            "1032/1032 [==============================] - 3s 2ms/step - loss: 0.0344 - accuracy: 0.9888\n",
            "Epoch 134/200\n",
            "1032/1032 [==============================] - 3s 3ms/step - loss: 0.0345 - accuracy: 0.9886\n",
            "Epoch 135/200\n",
            "1032/1032 [==============================] - 2s 2ms/step - loss: 0.0374 - accuracy: 0.9880\n",
            "Epoch 136/200\n",
            "1032/1032 [==============================] - 2s 2ms/step - loss: 0.0344 - accuracy: 0.9885\n",
            "Epoch 137/200\n",
            "1032/1032 [==============================] - 2s 2ms/step - loss: 0.0338 - accuracy: 0.9889\n",
            "Epoch 138/200\n",
            "1032/1032 [==============================] - 3s 2ms/step - loss: 0.0343 - accuracy: 0.9884\n",
            "Epoch 139/200\n",
            "1032/1032 [==============================] - 3s 2ms/step - loss: 0.0362 - accuracy: 0.9882\n",
            "Epoch 140/200\n",
            "1032/1032 [==============================] - 2s 2ms/step - loss: 0.0323 - accuracy: 0.9897\n",
            "Epoch 141/200\n",
            "1032/1032 [==============================] - 2s 2ms/step - loss: 0.0332 - accuracy: 0.9886\n",
            "Epoch 142/200\n",
            "1032/1032 [==============================] - 2s 2ms/step - loss: 0.0336 - accuracy: 0.9887\n",
            "Epoch 143/200\n",
            "1032/1032 [==============================] - 2s 2ms/step - loss: 0.0326 - accuracy: 0.9894\n",
            "Epoch 144/200\n",
            "1032/1032 [==============================] - 2s 2ms/step - loss: 0.0338 - accuracy: 0.9884\n",
            "Epoch 145/200\n",
            "1032/1032 [==============================] - 2s 2ms/step - loss: 0.0355 - accuracy: 0.9885\n",
            "Epoch 146/200\n",
            "1032/1032 [==============================] - 3s 2ms/step - loss: 0.0331 - accuracy: 0.9893\n",
            "Epoch 147/200\n",
            "1032/1032 [==============================] - 3s 3ms/step - loss: 0.0330 - accuracy: 0.9893\n",
            "Epoch 148/200\n",
            "1032/1032 [==============================] - 3s 3ms/step - loss: 0.0326 - accuracy: 0.9897\n",
            "Epoch 149/200\n",
            "1032/1032 [==============================] - 3s 2ms/step - loss: 0.0338 - accuracy: 0.9887\n",
            "Epoch 150/200\n",
            "1032/1032 [==============================] - 3s 3ms/step - loss: 0.0347 - accuracy: 0.9884\n",
            "Epoch 151/200\n",
            "1032/1032 [==============================] - 3s 2ms/step - loss: 0.0351 - accuracy: 0.9884\n",
            "Epoch 152/200\n",
            "1032/1032 [==============================] - 3s 2ms/step - loss: 0.0328 - accuracy: 0.9892\n",
            "Epoch 153/200\n",
            "1032/1032 [==============================] - 2s 2ms/step - loss: 0.0357 - accuracy: 0.9880\n",
            "Epoch 154/200\n",
            "1032/1032 [==============================] - 3s 3ms/step - loss: 0.0327 - accuracy: 0.9893\n",
            "Epoch 155/200\n",
            "1032/1032 [==============================] - 3s 2ms/step - loss: 0.0349 - accuracy: 0.9890\n",
            "Epoch 156/200\n",
            "1032/1032 [==============================] - 2s 2ms/step - loss: 0.0337 - accuracy: 0.9894\n",
            "Epoch 157/200\n",
            "1032/1032 [==============================] - 3s 3ms/step - loss: 0.0319 - accuracy: 0.9895\n",
            "Epoch 158/200\n",
            "1032/1032 [==============================] - 3s 3ms/step - loss: 0.0329 - accuracy: 0.9891\n",
            "Epoch 159/200\n",
            "1032/1032 [==============================] - 3s 2ms/step - loss: 0.0331 - accuracy: 0.9890\n",
            "Epoch 160/200\n",
            "1032/1032 [==============================] - 3s 3ms/step - loss: 0.0324 - accuracy: 0.9896\n",
            "Epoch 161/200\n",
            "1032/1032 [==============================] - 3s 2ms/step - loss: 0.0321 - accuracy: 0.9898\n",
            "Epoch 162/200\n",
            "1032/1032 [==============================] - 3s 2ms/step - loss: 0.0323 - accuracy: 0.9889\n",
            "Epoch 163/200\n",
            "1032/1032 [==============================] - 3s 2ms/step - loss: 0.0306 - accuracy: 0.9900\n",
            "Epoch 164/200\n",
            "1032/1032 [==============================] - 2s 2ms/step - loss: 0.0361 - accuracy: 0.9890\n",
            "Epoch 165/200\n",
            "1032/1032 [==============================] - 3s 2ms/step - loss: 0.0314 - accuracy: 0.9895\n",
            "Epoch 166/200\n",
            "1032/1032 [==============================] - 3s 3ms/step - loss: 0.0329 - accuracy: 0.9889\n",
            "Epoch 167/200\n",
            "1032/1032 [==============================] - 3s 3ms/step - loss: 0.0319 - accuracy: 0.9894\n",
            "Epoch 168/200\n",
            "1032/1032 [==============================] - 3s 3ms/step - loss: 0.0319 - accuracy: 0.9895\n",
            "Epoch 169/200\n",
            "1032/1032 [==============================] - 3s 2ms/step - loss: 0.0324 - accuracy: 0.9892\n",
            "Epoch 170/200\n",
            "1032/1032 [==============================] - 3s 2ms/step - loss: 0.0314 - accuracy: 0.9898\n",
            "Epoch 171/200\n",
            "1032/1032 [==============================] - 3s 2ms/step - loss: 0.0303 - accuracy: 0.9897\n",
            "Epoch 172/200\n",
            "1032/1032 [==============================] - 3s 3ms/step - loss: 0.0335 - accuracy: 0.9896\n",
            "Epoch 173/200\n",
            "1032/1032 [==============================] - 3s 3ms/step - loss: 0.0322 - accuracy: 0.9893\n",
            "Epoch 174/200\n",
            "1032/1032 [==============================] - 3s 3ms/step - loss: 0.0324 - accuracy: 0.9895\n",
            "Epoch 175/200\n",
            "1032/1032 [==============================] - 3s 3ms/step - loss: 0.0306 - accuracy: 0.9901\n",
            "Epoch 176/200\n",
            "1032/1032 [==============================] - 3s 2ms/step - loss: 0.0339 - accuracy: 0.9893\n",
            "Epoch 177/200\n",
            "1032/1032 [==============================] - 3s 2ms/step - loss: 0.0321 - accuracy: 0.9898\n",
            "Epoch 178/200\n",
            "1032/1032 [==============================] - 3s 3ms/step - loss: 0.0325 - accuracy: 0.9895\n",
            "Epoch 179/200\n",
            "1032/1032 [==============================] - 3s 3ms/step - loss: 0.0314 - accuracy: 0.9893\n",
            "Epoch 180/200\n",
            "1032/1032 [==============================] - 3s 3ms/step - loss: 0.0302 - accuracy: 0.9906\n",
            "Epoch 181/200\n",
            "1032/1032 [==============================] - 3s 3ms/step - loss: 0.0304 - accuracy: 0.9903\n",
            "Epoch 182/200\n",
            "1032/1032 [==============================] - 3s 3ms/step - loss: 0.0297 - accuracy: 0.9902\n",
            "Epoch 183/200\n",
            "1032/1032 [==============================] - 3s 3ms/step - loss: 0.0297 - accuracy: 0.9901\n",
            "Epoch 184/200\n",
            "1032/1032 [==============================] - 3s 3ms/step - loss: 0.0303 - accuracy: 0.9905\n",
            "Epoch 185/200\n",
            "1032/1032 [==============================] - 3s 3ms/step - loss: 0.0304 - accuracy: 0.9900\n",
            "Epoch 186/200\n",
            "1032/1032 [==============================] - 3s 3ms/step - loss: 0.0322 - accuracy: 0.9898\n",
            "Epoch 187/200\n",
            "1032/1032 [==============================] - 3s 3ms/step - loss: 0.0287 - accuracy: 0.9909\n",
            "Epoch 188/200\n",
            "1032/1032 [==============================] - 3s 3ms/step - loss: 0.0312 - accuracy: 0.9898\n",
            "Epoch 189/200\n",
            "1032/1032 [==============================] - 3s 3ms/step - loss: 0.0304 - accuracy: 0.9900\n",
            "Epoch 190/200\n",
            "1032/1032 [==============================] - 3s 3ms/step - loss: 0.0297 - accuracy: 0.9903\n",
            "Epoch 191/200\n",
            "1032/1032 [==============================] - 2s 2ms/step - loss: 0.0314 - accuracy: 0.9897\n",
            "Epoch 192/200\n",
            "1032/1032 [==============================] - 3s 2ms/step - loss: 0.0307 - accuracy: 0.9902\n",
            "Epoch 193/200\n",
            "1032/1032 [==============================] - 3s 3ms/step - loss: 0.0300 - accuracy: 0.9903\n",
            "Epoch 194/200\n",
            "1032/1032 [==============================] - 3s 2ms/step - loss: 0.0314 - accuracy: 0.9901\n",
            "Epoch 195/200\n",
            "1032/1032 [==============================] - 3s 3ms/step - loss: 0.0304 - accuracy: 0.9898\n",
            "Epoch 196/200\n",
            "1032/1032 [==============================] - 2s 2ms/step - loss: 0.0302 - accuracy: 0.9902\n",
            "Epoch 197/200\n",
            "1032/1032 [==============================] - 3s 2ms/step - loss: 0.0311 - accuracy: 0.9899\n",
            "Epoch 198/200\n",
            "1032/1032 [==============================] - 3s 2ms/step - loss: 0.0325 - accuracy: 0.9900\n",
            "Epoch 199/200\n",
            "1032/1032 [==============================] - 2s 2ms/step - loss: 0.0339 - accuracy: 0.9890\n",
            "Epoch 200/200\n",
            "1032/1032 [==============================] - 3s 3ms/step - loss: 0.0294 - accuracy: 0.9906\n"
          ]
        },
        {
          "output_type": "execute_result",
          "data": {
            "text/plain": [
              "<keras.callbacks.History at 0x7faad2e47410>"
            ]
          },
          "metadata": {},
          "execution_count": 355
        }
      ]
    },
    {
      "cell_type": "code",
      "metadata": {
        "colab": {
          "base_uri": "https://localhost:8080/"
        },
        "id": "EyNl7_bKBjTl",
        "outputId": "5ec0ac86-4de0-41e0-f32e-6a4f9c825047"
      },
      "source": [
        "loss,accuracy = model.evaluate(X_test, y_test)\n",
        "print(loss, accuracy)"
      ],
      "execution_count": 356,
      "outputs": [
        {
          "output_type": "stream",
          "name": "stdout",
          "text": [
            "255/255 [==============================] - 0s 1ms/step - loss: 3.1830 - accuracy: 0.9788\n",
            "3.183027744293213 0.9787834286689758\n"
          ]
        }
      ]
    },
    {
      "cell_type": "markdown",
      "metadata": {
        "id": "WSMcDJFaCdbi"
      },
      "source": [
        "## Predict on eval dataset for further labeling."
      ]
    },
    {
      "cell_type": "code",
      "metadata": {
        "id": "v1O3J-fUESee"
      },
      "source": [
        "y_pred = model.predict(X_test)\n",
        "y_cls = (y_pred > 0.5).astype(\"int32\")"
      ],
      "execution_count": 367,
      "outputs": []
    },
    {
      "cell_type": "code",
      "metadata": {
        "colab": {
          "base_uri": "https://localhost:8080/"
        },
        "id": "35pPz6XlH9bB",
        "outputId": "b49b7838-06aa-4dee-e4dc-f9093382ac85"
      },
      "source": [
        "(y_pred > 0.4).sum()"
      ],
      "execution_count": 358,
      "outputs": [
        {
          "output_type": "execute_result",
          "data": {
            "text/plain": [
              "104"
            ]
          },
          "metadata": {},
          "execution_count": 358
        }
      ]
    },
    {
      "cell_type": "code",
      "metadata": {
        "id": "B91pKTF8JNYN"
      },
      "source": [
        "def eval_model(y_test, y_cls):\n",
        "  y1 = y_test.reshape(-1)\n",
        "  y2 = y_cls.reshape(-1)\n",
        "  print(roc_auc_score(y1, y2))\n",
        "  print(classification_report(y1,y2))\n",
        "  print(confusion_matrix(y1,y2))\n"
      ],
      "execution_count": 334,
      "outputs": []
    },
    {
      "cell_type": "code",
      "metadata": {
        "colab": {
          "base_uri": "https://localhost:8080/"
        },
        "id": "UWFMBYZxOSUk",
        "outputId": "e009f91b-41b3-46f4-d359-adc7a42154ee"
      },
      "source": [
        "eval_model(y_train, y_cls)"
      ],
      "execution_count": 284,
      "outputs": [
        {
          "output_type": "stream",
          "name": "stdout",
          "text": [
            "0.5355162712576108\n",
            "              precision    recall  f1-score   support\n",
            "\n",
            "         0.0       0.98      0.98      0.98     22000\n",
            "         1.0       0.09      0.09      0.09       433\n",
            "\n",
            "    accuracy                           0.97     22433\n",
            "   macro avg       0.54      0.54      0.54     22433\n",
            "weighted avg       0.96      0.97      0.97     22433\n",
            "\n",
            "[[21632   368]\n",
            " [  395    38]]\n"
          ]
        }
      ]
    },
    {
      "cell_type": "code",
      "metadata": {
        "colab": {
          "base_uri": "https://localhost:8080/"
        },
        "id": "9_zSyw6yoU1S",
        "outputId": "63e16b52-fe88-4eba-97ea-eab8a56aa27b"
      },
      "source": [
        "eval_model(y_train, y_cls)"
      ],
      "execution_count": 203,
      "outputs": [
        {
          "output_type": "stream",
          "name": "stdout",
          "text": [
            "0.5064665001502765\n",
            "              precision    recall  f1-score   support\n",
            "\n",
            "         0.0       0.99      0.67      0.80     36799\n",
            "         1.0       0.01      0.35      0.02       433\n",
            "\n",
            "    accuracy                           0.66     37232\n",
            "   macro avg       0.50      0.51      0.41     37232\n",
            "weighted avg       0.98      0.66      0.79     37232\n",
            "\n",
            "[[24527 12272]\n",
            " [  283   150]]\n"
          ]
        }
      ]
    },
    {
      "cell_type": "code",
      "metadata": {
        "colab": {
          "base_uri": "https://localhost:8080/"
        },
        "id": "BEGS90tDyMV6",
        "outputId": "29e97c6a-ee2d-4670-dbe4-cc78375a4242"
      },
      "source": [
        "eval_model(y_test, y_cls)"
      ],
      "execution_count": 290,
      "outputs": [
        {
          "output_type": "stream",
          "name": "stdout",
          "text": [
            "0.6254853896103897\n",
            "              precision    recall  f1-score   support\n",
            "\n",
            "         0.0       0.99      0.97      0.98      8000\n",
            "         1.0       0.16      0.28      0.20       154\n",
            "\n",
            "    accuracy                           0.96      8154\n",
            "   macro avg       0.57      0.63      0.59      8154\n",
            "weighted avg       0.97      0.96      0.96      8154\n",
            "\n",
            "[[7774  226]\n",
            " [ 111   43]]\n"
          ]
        }
      ]
    },
    {
      "cell_type": "code",
      "metadata": {
        "colab": {
          "base_uri": "https://localhost:8080/"
        },
        "id": "gloH4XtD02hn",
        "outputId": "e42450d8-d76e-43eb-a192-e6b5a2a55502"
      },
      "source": [
        "eval_model(y_test, y_cls)"
      ],
      "execution_count": 368,
      "outputs": [
        {
          "output_type": "stream",
          "name": "stdout",
          "text": [
            "0.5975243506493507\n",
            "              precision    recall  f1-score   support\n",
            "\n",
            "         0.0       0.98      0.99      0.99      8000\n",
            "         1.0       0.38      0.20      0.26       154\n",
            "\n",
            "    accuracy                           0.98      8154\n",
            "   macro avg       0.68      0.60      0.63      8154\n",
            "weighted avg       0.97      0.98      0.98      8154\n",
            "\n",
            "[[7950   50]\n",
            " [ 123   31]]\n"
          ]
        }
      ]
    },
    {
      "cell_type": "code",
      "metadata": {
        "id": "t6byULn8GBib"
      },
      "source": [
        ""
      ],
      "execution_count": null,
      "outputs": []
    },
    {
      "cell_type": "code",
      "metadata": {
        "id": "BYZigB-fymgd"
      },
      "source": [
        "def export_result(df_test,y_cls, y_pred):\n",
        "  '''\n",
        "  Attach the predicte result (probability) into original records.\n",
        "  Export to a csv file for further investication\n",
        "  '''\n",
        "  df_test['predict'] = y_cls\n",
        "  df_test['prob']  = y_pred\n",
        "  path = '/content/drive/MyDrive/Colab Notebooks/finalproject/'\n",
        "  file_csv = path + 'pred_result.csv'\n",
        "  df_test.to_csv(file_csv)\n",
        "  return True\n"
      ],
      "execution_count": 362,
      "outputs": []
    },
    {
      "cell_type": "code",
      "metadata": {
        "colab": {
          "base_uri": "https://localhost:8080/"
        },
        "id": "dI0Pw_Ur3xbd",
        "outputId": "478013c9-27b1-408e-eed8-678ea164c5c5"
      },
      "source": [
        "export_result(df_test,y_cls,y_pred)"
      ],
      "execution_count": 364,
      "outputs": [
        {
          "output_type": "execute_result",
          "data": {
            "text/plain": [
              "True"
            ]
          },
          "metadata": {},
          "execution_count": 364
        }
      ]
    },
    {
      "cell_type": "code",
      "metadata": {
        "id": "uvKs4xdaXiuN"
      },
      "source": [
        ""
      ],
      "execution_count": null,
      "outputs": []
    }
  ]
}