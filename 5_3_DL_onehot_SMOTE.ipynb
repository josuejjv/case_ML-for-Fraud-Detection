{
  "nbformat": 4,
  "nbformat_minor": 0,
  "metadata": {
    "colab": {
      "name": "5_3_DL_onehot_SMOTE.ipynb",
      "provenance": [],
      "include_colab_link": true
    },
    "kernelspec": {
      "name": "python3",
      "display_name": "Python 3"
    },
    "language_info": {
      "name": "python"
    }
  },
  "cells": [
    {
      "cell_type": "markdown",
      "metadata": {
        "id": "view-in-github",
        "colab_type": "text"
      },
      "source": [
        "<a href=\"https://colab.research.google.com/github/ryanhao1115/ML-for-Fraud-Detection/blob/main/5_3_DL_onehot_SMOTE.ipynb\" target=\"_parent\"><img src=\"https://colab.research.google.com/assets/colab-badge.svg\" alt=\"Open In Colab\"/></a>"
      ]
    },
    {
      "cell_type": "code",
      "metadata": {
        "colab": {
          "base_uri": "https://localhost:8080/"
        },
        "id": "ndtW0FwNmcWr",
        "outputId": "ac31c73b-89b6-4f05-a05f-d5f57ae7520f"
      },
      "source": [
        "from google.colab import drive\n",
        "drive.mount('/content/drive')"
      ],
      "execution_count": 1,
      "outputs": [
        {
          "output_type": "stream",
          "name": "stdout",
          "text": [
            "Mounted at /content/drive\n"
          ]
        }
      ]
    },
    {
      "cell_type": "code",
      "metadata": {
        "colab": {
          "base_uri": "https://localhost:8080/"
        },
        "id": "B0ly0AY21KvU",
        "outputId": "06daac1c-9cbc-4247-8dbd-89db23f15792"
      },
      "source": [
        "!pip install imbalanced-learn"
      ],
      "execution_count": null,
      "outputs": [
        {
          "output_type": "stream",
          "name": "stdout",
          "text": [
            "Requirement already satisfied: imbalanced-learn in /usr/local/lib/python3.7/dist-packages (0.4.3)\n",
            "Requirement already satisfied: scikit-learn>=0.20 in /usr/local/lib/python3.7/dist-packages (from imbalanced-learn) (0.22.2.post1)\n",
            "Requirement already satisfied: scipy>=0.13.3 in /usr/local/lib/python3.7/dist-packages (from imbalanced-learn) (1.4.1)\n",
            "Requirement already satisfied: numpy>=1.8.2 in /usr/local/lib/python3.7/dist-packages (from imbalanced-learn) (1.19.5)\n",
            "Requirement already satisfied: joblib>=0.11 in /usr/local/lib/python3.7/dist-packages (from scikit-learn>=0.20->imbalanced-learn) (1.0.1)\n"
          ]
        }
      ]
    },
    {
      "cell_type": "markdown",
      "metadata": {
        "id": "oINI7xYSmpo8"
      },
      "source": [
        "## Deep Learning model with One hot encoding data\n",
        "1. import new return label data.\n",
        "2. Under sampling data to address imbalance class issue.\n",
        "4. Train model\n",
        "5. Eval model\n",
        "6. Create Risk-heatmap"
      ]
    },
    {
      "cell_type": "code",
      "metadata": {
        "id": "6Gc_G68myO1w",
        "colab": {
          "base_uri": "https://localhost:8080/"
        },
        "outputId": "660ae81f-a680-4de7-dc28-13ccc3096b68"
      },
      "source": [
        "import pandas as pd\n",
        "import numpy as np\n",
        "from sklearn.preprocessing import OneHotEncoder\n",
        "from sklearn.preprocessing import StandardScaler\n",
        "from keras.models import Sequential\n",
        "from keras.layers import Dense\n",
        "from keras.callbacks import EarlyStopping\n",
        "from keras.backend import clear_session\n",
        "from sklearn.metrics import classification_report, roc_auc_score, confusion_matrix\n",
        "import tensorflow as tf\n",
        "import random\n",
        "from imblearn.over_sampling import SMOTE\n",
        "from imblearn.under_sampling import RandomUnderSampler\n",
        "from imblearn.pipeline import Pipeline\n"
      ],
      "execution_count": 2,
      "outputs": [
        {
          "output_type": "stream",
          "name": "stderr",
          "text": [
            "/usr/local/lib/python3.7/dist-packages/sklearn/externals/six.py:31: FutureWarning: The module is deprecated in version 0.21 and will be removed in version 0.23 since we've dropped support for Python 2.7. Please rely on the official version of six (https://pypi.org/project/six/).\n",
            "  \"(https://pypi.org/project/six/).\", FutureWarning)\n",
            "/usr/local/lib/python3.7/dist-packages/sklearn/utils/deprecation.py:144: FutureWarning: The sklearn.neighbors.base module is  deprecated in version 0.22 and will be removed in version 0.24. The corresponding classes / functions should instead be imported from sklearn.neighbors. Anything that cannot be imported from sklearn.neighbors is now part of the private API.\n",
            "  warnings.warn(message, FutureWarning)\n"
          ]
        }
      ]
    },
    {
      "cell_type": "code",
      "metadata": {
        "id": "wr3fxm5Waw2H"
      },
      "source": [
        "def reset_seeds():\n",
        "    '''\n",
        "    reset random seeds for modeling\n",
        "    '''\n",
        "    np.random.seed(1)\n",
        "    random.seed(2)\n",
        "    if tf.__version__[0] == '2':\n",
        "        tf.random.set_seed(3)\n",
        "    else:\n",
        "        tf.set_random_seed(3)\n",
        "    print(\"RANDOM SEEDS RESET\")"
      ],
      "execution_count": 3,
      "outputs": []
    },
    {
      "cell_type": "code",
      "metadata": {
        "id": "EB5yPnJdyRnG"
      },
      "source": [
        "## import dataset \n",
        "path = '/content/drive/MyDrive/Colab Notebooks/finalproject/'\n",
        "file = path + 'sales_clean.csv'\n",
        "df = pd.read_csv(file)"
      ],
      "execution_count": null,
      "outputs": []
    },
    {
      "cell_type": "code",
      "metadata": {
        "id": "zM0xX0nKWIu0"
      },
      "source": [
        "df = df.drop(columns='Unnamed: 0')"
      ],
      "execution_count": null,
      "outputs": []
    },
    {
      "cell_type": "code",
      "metadata": {
        "colab": {
          "base_uri": "https://localhost:8080/"
        },
        "id": "tXuAbPlSyWVW",
        "outputId": "32f4a3f6-5cfb-423e-888d-4c55a81e85bd"
      },
      "source": [
        "df.nunique()"
      ],
      "execution_count": null,
      "outputs": [
        {
          "output_type": "execute_result",
          "data": {
            "text/plain": [
              "distributor        639\n",
              "sales              209\n",
              "branch              28\n",
              "inv_type             3\n",
              "invoice_no       30721\n",
              "product_no        1094\n",
              "prod_cla             7\n",
              "qty                202\n",
              "total_amt        16112\n",
              "sale_price        8598\n",
              "ship_qty           202\n",
              "cust_type           20\n",
              "return               2\n",
              "discount_app         2\n",
              "list_price        6720\n",
              "inv_ship_days      133\n",
              "dtype: int64"
            ]
          },
          "metadata": {},
          "execution_count": 7
        }
      ]
    },
    {
      "cell_type": "markdown",
      "metadata": {
        "id": "lCCJjJWqGLvU"
      },
      "source": [
        "## import return label data"
      ]
    },
    {
      "cell_type": "code",
      "metadata": {
        "id": "cYVtnDc2HXFA"
      },
      "source": [
        "## import fraud data\n",
        "file = path + 'frauds.csv'\n",
        "df_fraud = pd.read_csv(file,header=None)\n",
        "df_fraud.columns = ['invoice_no']"
      ],
      "execution_count": null,
      "outputs": []
    },
    {
      "cell_type": "code",
      "metadata": {
        "id": "YntiE6PVIrPC"
      },
      "source": [
        "## import return new labeled data\n",
        "file = path + 'return.csv'\n",
        "df_fraud2 = pd.read_csv(file,header=None)\n",
        "df_fraud2.columns = ['invoice_no']"
      ],
      "execution_count": null,
      "outputs": []
    },
    {
      "cell_type": "code",
      "metadata": {
        "colab": {
          "base_uri": "https://localhost:8080/"
        },
        "id": "CiNt30SZf6aD",
        "outputId": "8ee1caaa-27c7-4026-d165-295ac8c39c97"
      },
      "source": [
        "len(df_fraud2)"
      ],
      "execution_count": null,
      "outputs": [
        {
          "output_type": "execute_result",
          "data": {
            "text/plain": [
              "24"
            ]
          },
          "metadata": {},
          "execution_count": 10
        }
      ]
    },
    {
      "cell_type": "code",
      "metadata": {
        "id": "bo6Q08-CJyOv"
      },
      "source": [
        "def label_fraud(df, df_fraud, df_fraud2):\n",
        "  df['fraud'] = np.zeros(len(df))\n",
        "  frauds_l = df_fraud['invoice_no'].to_list()\n",
        "  frauds_l2 = df_fraud2['invoice_no'].to_list()\n",
        "  df.loc[df['invoice_no'].isin(frauds_l),'fraud'] = 1\n",
        "  df.loc[df['invoice_no'].isin(frauds_l2),'fraud'] = 2\n",
        "  return df"
      ],
      "execution_count": null,
      "outputs": []
    },
    {
      "cell_type": "code",
      "metadata": {
        "id": "y0iwhuZ_XIpE"
      },
      "source": [
        "df = label_fraud(df, df_fraud,df_fraud2)"
      ],
      "execution_count": null,
      "outputs": []
    },
    {
      "cell_type": "code",
      "metadata": {
        "colab": {
          "base_uri": "https://localhost:8080/"
        },
        "id": "S6y811N2NJZS",
        "outputId": "30c9bbaa-be81-4a2b-d813-9b921048a9a8"
      },
      "source": [
        "df['fraud'].value_counts()"
      ],
      "execution_count": null,
      "outputs": [
        {
          "output_type": "execute_result",
          "data": {
            "text/plain": [
              "0.0    228014\n",
              "2.0       433\n",
              "1.0       154\n",
              "Name: fraud, dtype: int64"
            ]
          },
          "metadata": {},
          "execution_count": 13
        }
      ]
    },
    {
      "cell_type": "markdown",
      "metadata": {
        "id": "l7OnGZt9GEAL"
      },
      "source": [
        "## Encoding"
      ]
    },
    {
      "cell_type": "code",
      "metadata": {
        "colab": {
          "base_uri": "https://localhost:8080/"
        },
        "id": "KnPg5AboX9Pp",
        "outputId": "f22ac760-2226-4b42-f32d-8247cd213d2d"
      },
      "source": [
        "df.nunique()"
      ],
      "execution_count": null,
      "outputs": [
        {
          "output_type": "execute_result",
          "data": {
            "text/plain": [
              "distributor        639\n",
              "sales              209\n",
              "branch              28\n",
              "inv_type             3\n",
              "invoice_no       30721\n",
              "product_no        1094\n",
              "prod_cla             7\n",
              "qty                202\n",
              "total_amt        16112\n",
              "sale_price        8598\n",
              "ship_qty           202\n",
              "cust_type           20\n",
              "return               2\n",
              "discount_app         2\n",
              "list_price        6720\n",
              "inv_ship_days      133\n",
              "fraud                3\n",
              "dtype: int64"
            ]
          },
          "metadata": {},
          "execution_count": 14
        }
      ]
    },
    {
      "cell_type": "code",
      "metadata": {
        "id": "T0O7sPin33OP"
      },
      "source": [
        "cols = df.columns.to_list()\n",
        "cols = ['distributor', 'sales', 'branch', 'inv_type', 'invoice_no', 'product_no', 'prod_cla', 'cust_type']"
      ],
      "execution_count": null,
      "outputs": []
    },
    {
      "cell_type": "code",
      "metadata": {
        "id": "VlDcgPcLY014"
      },
      "source": [
        "## remove some fields with many classes\n",
        "cols1 = ['distributor', 'sales','branch', 'invoice_no', 'product_no']\n",
        "df_less = df.drop(columns=cols1)"
      ],
      "execution_count": null,
      "outputs": []
    },
    {
      "cell_type": "code",
      "metadata": {
        "id": "fpoyuiZZaxoR"
      },
      "source": [
        "def field_onehotencoding(df):\n",
        "  cols = [ 'inv_type',  'prod_cla', 'cust_type']\n",
        "  df[cols] = df[cols].astype('str') \n",
        "  df_enc = pd.get_dummies(df)\n",
        "  return df_enc"
      ],
      "execution_count": null,
      "outputs": []
    },
    {
      "cell_type": "code",
      "metadata": {
        "id": "IX-MPQX1cq4P"
      },
      "source": [
        "df_less = field_onehotencoding(df_less)"
      ],
      "execution_count": null,
      "outputs": []
    },
    {
      "cell_type": "code",
      "metadata": {
        "colab": {
          "base_uri": "https://localhost:8080/"
        },
        "id": "PdzuM0U2jb9V",
        "outputId": "c8e96aa0-f50e-426f-e982-974027b63f50"
      },
      "source": [
        "df_less.shape"
      ],
      "execution_count": null,
      "outputs": [
        {
          "output_type": "execute_result",
          "data": {
            "text/plain": [
              "(228601, 39)"
            ]
          },
          "metadata": {},
          "execution_count": 19
        }
      ]
    },
    {
      "cell_type": "markdown",
      "metadata": {
        "id": "zYRaXHXsP07P"
      },
      "source": [
        "## Resampling to address the imbalance class\n",
        "Because fraud labels are given to invoice level, need to keep records of same invoice together. "
      ]
    },
    {
      "cell_type": "code",
      "metadata": {
        "id": "d7PpSBXyT1iz"
      },
      "source": [
        "df_fraud = df_less[df_less['fraud'] == 1]\n",
        "df_non_fraud = df_less[df_less['fraud'] == 0]\n",
        "df_fraud2 = df_less[df_less['fraud'] == 2]"
      ],
      "execution_count": null,
      "outputs": []
    },
    {
      "cell_type": "code",
      "metadata": {
        "colab": {
          "base_uri": "https://localhost:8080/"
        },
        "id": "eGH1pJ_JVnr7",
        "outputId": "ca0ea641-d97f-4b7c-b8fd-ecc6e9131e55"
      },
      "source": [
        "df_fraud2.shape"
      ],
      "execution_count": null,
      "outputs": [
        {
          "output_type": "execute_result",
          "data": {
            "text/plain": [
              "(433, 39)"
            ]
          },
          "metadata": {},
          "execution_count": 21
        }
      ]
    },
    {
      "cell_type": "code",
      "metadata": {
        "colab": {
          "base_uri": "https://localhost:8080/"
        },
        "id": "9J8c4dTt6QAt",
        "outputId": "1760823a-e3a5-44cd-e1f2-abb7bf5688a7"
      },
      "source": [
        "df_non_fraud.shape"
      ],
      "execution_count": null,
      "outputs": [
        {
          "output_type": "execute_result",
          "data": {
            "text/plain": [
              "(228014, 39)"
            ]
          },
          "metadata": {},
          "execution_count": 22
        }
      ]
    },
    {
      "cell_type": "code",
      "metadata": {
        "colab": {
          "base_uri": "https://localhost:8080/"
        },
        "id": "k4nyP6ft-Lg9",
        "outputId": "10189967-3f95-41ac-8bf8-943bf11623c4"
      },
      "source": [
        "df_non_fraud.nunique()"
      ],
      "execution_count": null,
      "outputs": [
        {
          "output_type": "execute_result",
          "data": {
            "text/plain": [
              "qty                   202\n",
              "total_amt           15896\n",
              "sale_price           8237\n",
              "ship_qty              202\n",
              "return                  2\n",
              "discount_app            2\n",
              "list_price           6710\n",
              "inv_ship_days         128\n",
              "fraud                   1\n",
              "inv_type_Z001           2\n",
              "inv_type_Z016           2\n",
              "inv_type_Z038           2\n",
              "prod_cla_11010.0        2\n",
              "prod_cla_11020.0        2\n",
              "prod_cla_11030.0        2\n",
              "prod_cla_11040.0        2\n",
              "prod_cla_11050.0        2\n",
              "prod_cla_11060.0        2\n",
              "prod_cla_9999.0         2\n",
              "cust_type_AA01          2\n",
              "cust_type_AA02          2\n",
              "cust_type_AB01          2\n",
              "cust_type_AB02          2\n",
              "cust_type_AB03          2\n",
              "cust_type_AB04          2\n",
              "cust_type_AB05          2\n",
              "cust_type_AB06          2\n",
              "cust_type_AX01          2\n",
              "cust_type_CX01          2\n",
              "cust_type_EX01          2\n",
              "cust_type_FX01          2\n",
              "cust_type_GX01          2\n",
              "cust_type_HX01          2\n",
              "cust_type_JX01          2\n",
              "cust_type_KX01          2\n",
              "cust_type_LX01          2\n",
              "cust_type_MX01          2\n",
              "cust_type_NX01          2\n",
              "cust_type_ZZ01          2\n",
              "dtype: int64"
            ]
          },
          "metadata": {},
          "execution_count": 23
        }
      ]
    },
    {
      "cell_type": "code",
      "metadata": {
        "id": "M2L3ePEOXvyD"
      },
      "source": [
        "def sampling_record(df_non_fraud,df_fraud,df_fraud2):\n",
        "  '''\n",
        "  Random sampling from unlabled records.\n",
        "  concat with labeled records\n",
        "  '''\n",
        "  df = df_non_fraud.sample(frac=1,replace=False)\n",
        "\n",
        "  sample_size = len(df_non_fraud) - 8000\n",
        " \n",
        "  ## Build training dataset\n",
        "  df_train = df.iloc[:sample_size,:]\n",
        "  df_train = pd.concat([df_train,df_fraud2])\n",
        "  df_train.loc[df_train['fraud'] == 2, 'fraud'] = 1 \n",
        "  df_train = df_train.sample(frac=1,replace=False)\n",
        "  print(len(df_train))\n",
        "\n",
        "  ## Build eval dataset\n",
        "  df_test = df.iloc[sample_size:,:]\n",
        "  df_test = pd.concat([df_test,df_fraud])\n",
        "  df_test = df_test.sort_index()\n",
        "  print(len(df_test))\n",
        "\n",
        "  return df_train, df_test\n"
      ],
      "execution_count": null,
      "outputs": []
    },
    {
      "cell_type": "code",
      "metadata": {
        "colab": {
          "base_uri": "https://localhost:8080/"
        },
        "id": "O01agYImtUx9",
        "outputId": "4f75eacc-9d60-4425-9f33-004fcbb2a11d"
      },
      "source": [
        "df_train, df_test = sampling_record(df_non_fraud, df_fraud, df_fraud2)"
      ],
      "execution_count": null,
      "outputs": [
        {
          "output_type": "stream",
          "name": "stdout",
          "text": [
            "220447\n",
            "8154\n"
          ]
        }
      ]
    },
    {
      "cell_type": "code",
      "metadata": {
        "colab": {
          "base_uri": "https://localhost:8080/"
        },
        "id": "pzKw_DggxMS-",
        "outputId": "ea9abcb1-3aba-4fd3-ef14-84c2b2ae973c"
      },
      "source": [
        "df_train.shape"
      ],
      "execution_count": null,
      "outputs": [
        {
          "output_type": "execute_result",
          "data": {
            "text/plain": [
              "(220447, 39)"
            ]
          },
          "metadata": {},
          "execution_count": 26
        }
      ]
    },
    {
      "cell_type": "code",
      "metadata": {
        "colab": {
          "base_uri": "https://localhost:8080/"
        },
        "id": "HqJlSiFlRwXl",
        "outputId": "f02837bc-5f39-408e-b294-039a47bdb539"
      },
      "source": [
        "df_test.shape"
      ],
      "execution_count": null,
      "outputs": [
        {
          "output_type": "execute_result",
          "data": {
            "text/plain": [
              "(8154, 39)"
            ]
          },
          "metadata": {},
          "execution_count": 27
        }
      ]
    },
    {
      "cell_type": "code",
      "metadata": {
        "colab": {
          "base_uri": "https://localhost:8080/"
        },
        "id": "V_LOYj9ZZne0",
        "outputId": "2e6fc7d2-1986-45e0-c66a-736588b654dd"
      },
      "source": [
        "df_train.nunique()"
      ],
      "execution_count": null,
      "outputs": [
        {
          "output_type": "execute_result",
          "data": {
            "text/plain": [
              "qty                   202\n",
              "total_amt           15729\n",
              "sale_price           8382\n",
              "ship_qty              202\n",
              "return                  2\n",
              "discount_app            2\n",
              "list_price           6621\n",
              "inv_ship_days         132\n",
              "fraud                   2\n",
              "inv_type_Z001           2\n",
              "inv_type_Z016           2\n",
              "inv_type_Z038           2\n",
              "prod_cla_11010.0        2\n",
              "prod_cla_11020.0        2\n",
              "prod_cla_11030.0        2\n",
              "prod_cla_11040.0        2\n",
              "prod_cla_11050.0        2\n",
              "prod_cla_11060.0        2\n",
              "prod_cla_9999.0         2\n",
              "cust_type_AA01          2\n",
              "cust_type_AA02          2\n",
              "cust_type_AB01          2\n",
              "cust_type_AB02          2\n",
              "cust_type_AB03          2\n",
              "cust_type_AB04          2\n",
              "cust_type_AB05          2\n",
              "cust_type_AB06          2\n",
              "cust_type_AX01          2\n",
              "cust_type_CX01          2\n",
              "cust_type_EX01          2\n",
              "cust_type_FX01          2\n",
              "cust_type_GX01          2\n",
              "cust_type_HX01          2\n",
              "cust_type_JX01          2\n",
              "cust_type_KX01          2\n",
              "cust_type_LX01          2\n",
              "cust_type_MX01          2\n",
              "cust_type_NX01          2\n",
              "cust_type_ZZ01          2\n",
              "dtype: int64"
            ]
          },
          "metadata": {},
          "execution_count": 28
        }
      ]
    },
    {
      "cell_type": "markdown",
      "metadata": {
        "id": "accC5JvAB2kU"
      },
      "source": [
        "SMOTE "
      ]
    },
    {
      "cell_type": "code",
      "metadata": {
        "id": "H6TNNuMcCrgh"
      },
      "source": [
        "y_train = df_train['fraud'].values\n",
        "X_train = df_train.drop(columns=['fraud'])"
      ],
      "execution_count": null,
      "outputs": []
    },
    {
      "cell_type": "code",
      "metadata": {
        "colab": {
          "base_uri": "https://localhost:8080/"
        },
        "id": "hxaNVbYnB87z",
        "outputId": "80321710-10bf-4749-a1e0-590620f14784"
      },
      "source": [
        "# define pipeline\n",
        "over = SMOTE(sampling_strategy=0.1)\n",
        "under = RandomUnderSampler(sampling_strategy=0.5)\n",
        "steps = [('o', over), ('u', under)]\n",
        "pipeline = Pipeline(steps=steps)\n",
        "\n",
        "# transform the dataset\n",
        "X_train, y_train = pipeline.fit_resample(X_train, y_train)"
      ],
      "execution_count": null,
      "outputs": [
        {
          "output_type": "stream",
          "name": "stderr",
          "text": [
            "/usr/local/lib/python3.7/dist-packages/sklearn/utils/deprecation.py:87: FutureWarning: Function safe_indexing is deprecated; safe_indexing is deprecated in version 0.22 and will be removed in version 0.24.\n",
            "  warnings.warn(msg, category=FutureWarning)\n",
            "/usr/local/lib/python3.7/dist-packages/sklearn/utils/deprecation.py:87: FutureWarning: Function safe_indexing is deprecated; safe_indexing is deprecated in version 0.22 and will be removed in version 0.24.\n",
            "  warnings.warn(msg, category=FutureWarning)\n"
          ]
        }
      ]
    },
    {
      "cell_type": "code",
      "metadata": {
        "colab": {
          "base_uri": "https://localhost:8080/"
        },
        "id": "Op4gFEOnDBG5",
        "outputId": "1ac432ef-f6c5-4481-e7b6-44a989c60fe7"
      },
      "source": [
        "X_train.shape"
      ],
      "execution_count": null,
      "outputs": [
        {
          "output_type": "execute_result",
          "data": {
            "text/plain": [
              "(66003, 38)"
            ]
          },
          "metadata": {},
          "execution_count": 31
        }
      ]
    },
    {
      "cell_type": "code",
      "metadata": {
        "colab": {
          "base_uri": "https://localhost:8080/"
        },
        "id": "0zfTl8fyDLdo",
        "outputId": "41fb0580-dc4c-40ed-ea27-c8af582a33f0"
      },
      "source": [
        "y_train.sum()"
      ],
      "execution_count": null,
      "outputs": [
        {
          "output_type": "execute_result",
          "data": {
            "text/plain": [
              "22001.0"
            ]
          },
          "metadata": {},
          "execution_count": 32
        }
      ]
    },
    {
      "cell_type": "code",
      "metadata": {
        "colab": {
          "base_uri": "https://localhost:8080/"
        },
        "id": "rdaT9AW_DTnY",
        "outputId": "5e395fa4-34f9-452e-814a-838655b5f880"
      },
      "source": [
        "y_train.shape"
      ],
      "execution_count": null,
      "outputs": [
        {
          "output_type": "execute_result",
          "data": {
            "text/plain": [
              "(66003,)"
            ]
          },
          "metadata": {},
          "execution_count": 33
        }
      ]
    },
    {
      "cell_type": "markdown",
      "metadata": {
        "id": "gDkexYmPxM8O"
      },
      "source": [
        "## Standardscale data"
      ]
    },
    {
      "cell_type": "code",
      "metadata": {
        "id": "Wxt4dsJo7tDa"
      },
      "source": [
        "scaler = StandardScaler()"
      ],
      "execution_count": null,
      "outputs": []
    },
    {
      "cell_type": "code",
      "metadata": {
        "id": "YeeK6JNC8Fqz"
      },
      "source": [
        "\n",
        "X_train = scaler.fit_transform(X_train)\n",
        "y_train = y_train.reshape(len(y_train),1)"
      ],
      "execution_count": null,
      "outputs": []
    },
    {
      "cell_type": "code",
      "metadata": {
        "id": "86joAZPl9YpL"
      },
      "source": [
        "y_test = df_test['fraud'].values\n",
        "X_test = df_test.drop(columns=['fraud'])\n",
        "\n",
        "X_test = scaler.transform(X_test)\n",
        "y_test = y_test.reshape(len(y_test),1)"
      ],
      "execution_count": null,
      "outputs": []
    },
    {
      "cell_type": "code",
      "metadata": {
        "colab": {
          "base_uri": "https://localhost:8080/"
        },
        "id": "MNUBFns291Qv",
        "outputId": "7e996cf0-a81c-4f5e-add4-49d243efb6f7"
      },
      "source": [
        "X_train.shape"
      ],
      "execution_count": null,
      "outputs": [
        {
          "output_type": "execute_result",
          "data": {
            "text/plain": [
              "(66003, 38)"
            ]
          },
          "metadata": {},
          "execution_count": 37
        }
      ]
    },
    {
      "cell_type": "code",
      "metadata": {
        "colab": {
          "base_uri": "https://localhost:8080/"
        },
        "id": "4o9UXO0--hgv",
        "outputId": "d4c9e0e7-74d2-4d7b-d75d-52fcf73936fd"
      },
      "source": [
        "y_test.shape"
      ],
      "execution_count": null,
      "outputs": [
        {
          "output_type": "execute_result",
          "data": {
            "text/plain": [
              "(8154, 1)"
            ]
          },
          "metadata": {},
          "execution_count": 38
        }
      ]
    },
    {
      "cell_type": "code",
      "metadata": {
        "colab": {
          "base_uri": "https://localhost:8080/"
        },
        "id": "gMv9MH5QVu6B",
        "outputId": "847667e3-8353-4ce9-b8c9-3142ab9b5b98"
      },
      "source": [
        "y_train.sum()"
      ],
      "execution_count": null,
      "outputs": [
        {
          "output_type": "execute_result",
          "data": {
            "text/plain": [
              "22001.0"
            ]
          },
          "metadata": {},
          "execution_count": 39
        }
      ]
    },
    {
      "cell_type": "markdown",
      "metadata": {
        "id": "vnO2HnA4_RQU"
      },
      "source": [
        "## Build model"
      ]
    },
    {
      "cell_type": "code",
      "metadata": {
        "id": "09WCa-Qn_T0G"
      },
      "source": [
        "# define the  model\n",
        "def build_model():\n",
        "  model = Sequential()\n",
        "  model.add(Dense(128, input_dim=X_train.shape[1], activation='relu', kernel_initializer='he_normal'))\n",
        "  model.add(Dense(64,activation='relu'))\n",
        "  model.add(Dense(32,activation='relu'))\n",
        "  model.add(Dense(1, activation='sigmoid'))\n",
        "  # compile the keras model\n",
        "  # opt = tf.keras.optimizers.Adam(clipnorm=1, learning_rate=0.01)\n",
        "  model.compile(loss='binary_crossentropy', optimizer='adam', metrics=[tf.keras.metrics.Recall()])\n",
        "  return model"
      ],
      "execution_count": null,
      "outputs": []
    },
    {
      "cell_type": "code",
      "metadata": {
        "colab": {
          "base_uri": "https://localhost:8080/"
        },
        "id": "pBs2KuNeAErs",
        "outputId": "097164a6-7561-4228-9b61-cd714e3720a9"
      },
      "source": [
        "model.summary()"
      ],
      "execution_count": null,
      "outputs": [
        {
          "output_type": "stream",
          "name": "stdout",
          "text": [
            "Model: \"sequential\"\n",
            "_________________________________________________________________\n",
            "Layer (type)                 Output Shape              Param #   \n",
            "=================================================================\n",
            "dense (Dense)                (None, 128)               8576      \n",
            "_________________________________________________________________\n",
            "dense_1 (Dense)              (None, 64)                8256      \n",
            "_________________________________________________________________\n",
            "dense_2 (Dense)              (None, 1)                 65        \n",
            "=================================================================\n",
            "Total params: 16,897\n",
            "Trainable params: 16,897\n",
            "Non-trainable params: 0\n",
            "_________________________________________________________________\n"
          ]
        }
      ]
    },
    {
      "cell_type": "markdown",
      "metadata": {
        "id": "cfEQ-OXDA3mV"
      },
      "source": [
        "## Training model"
      ]
    },
    {
      "cell_type": "code",
      "metadata": {
        "colab": {
          "base_uri": "https://localhost:8080/"
        },
        "id": "413m67NPZY4F",
        "outputId": "346d6dc0-5647-418a-84be-3489da7e9530"
      },
      "source": [
        "## clear previous model.  Make sure training from 0. \n",
        "del model\n",
        "clear_session()\n",
        "tf.compat.v1.reset_default_graph()\n",
        "reset_seeds()\n",
        "model = build_model()"
      ],
      "execution_count": null,
      "outputs": [
        {
          "output_type": "stream",
          "name": "stdout",
          "text": [
            "RANDOM SEEDS RESET\n"
          ]
        }
      ]
    },
    {
      "cell_type": "code",
      "metadata": {
        "colab": {
          "base_uri": "https://localhost:8080/"
        },
        "id": "Pp9q-HK4A6UX",
        "outputId": "4cbb8fd5-37f5-4af5-e914-430d28a64c33"
      },
      "source": [
        "model.fit(X_train, y_train, epochs=1000,batch_size=64,class_weight={0:1, 1:2},validation_data=(X_test,y_test), callbacks=[EarlyStopping(monitor='val_loss', patience=20, mode='min')])"
      ],
      "execution_count": null,
      "outputs": [
        {
          "output_type": "stream",
          "name": "stdout",
          "text": [
            "Epoch 1/1000\n",
            "1032/1032 [==============================] - 4s 4ms/step - loss: 0.0648 - recall: 0.9810 - val_loss: 0.5225 - val_recall: 0.6364\n",
            "Epoch 2/1000\n",
            "1032/1032 [==============================] - 2s 2ms/step - loss: 0.0681 - recall: 0.9800 - val_loss: 0.4796 - val_recall: 0.5974\n",
            "Epoch 3/1000\n",
            "1032/1032 [==============================] - 2s 2ms/step - loss: 0.0771 - recall: 0.9789 - val_loss: 0.6597 - val_recall: 0.6234\n",
            "Epoch 4/1000\n",
            "1032/1032 [==============================] - 2s 2ms/step - loss: 0.0674 - recall: 0.9797 - val_loss: 0.4980 - val_recall: 0.5714\n",
            "Epoch 5/1000\n",
            "1032/1032 [==============================] - 2s 2ms/step - loss: 0.0696 - recall: 0.9806 - val_loss: 0.4656 - val_recall: 0.5974\n",
            "Epoch 6/1000\n",
            "1032/1032 [==============================] - 2s 2ms/step - loss: 0.0689 - recall: 0.9819 - val_loss: 0.4785 - val_recall: 0.6429\n",
            "Epoch 7/1000\n",
            "1032/1032 [==============================] - 2s 2ms/step - loss: 0.0603 - recall: 0.9822 - val_loss: 0.5664 - val_recall: 0.5974\n",
            "Epoch 8/1000\n",
            "1032/1032 [==============================] - 2s 2ms/step - loss: 0.0675 - recall: 0.9812 - val_loss: 0.5140 - val_recall: 0.5649\n",
            "Epoch 9/1000\n",
            "1032/1032 [==============================] - 3s 2ms/step - loss: 0.0661 - recall: 0.9802 - val_loss: 0.5565 - val_recall: 0.5909\n",
            "Epoch 10/1000\n",
            "1032/1032 [==============================] - 2s 2ms/step - loss: 0.0685 - recall: 0.9804 - val_loss: 0.5100 - val_recall: 0.5779\n",
            "Epoch 11/1000\n",
            "1032/1032 [==============================] - 2s 2ms/step - loss: 0.0646 - recall: 0.9811 - val_loss: 0.5221 - val_recall: 0.5779\n",
            "Epoch 12/1000\n",
            "1032/1032 [==============================] - 3s 2ms/step - loss: 0.0629 - recall: 0.9824 - val_loss: 0.5260 - val_recall: 0.5325\n",
            "Epoch 13/1000\n",
            "1032/1032 [==============================] - 3s 3ms/step - loss: 0.0652 - recall: 0.9814 - val_loss: 0.5312 - val_recall: 0.5779\n",
            "Epoch 14/1000\n",
            "1032/1032 [==============================] - 3s 3ms/step - loss: 0.0629 - recall: 0.9821 - val_loss: 0.5493 - val_recall: 0.6234\n",
            "Epoch 15/1000\n",
            "1032/1032 [==============================] - 2s 2ms/step - loss: 0.0652 - recall: 0.9809 - val_loss: 0.5191 - val_recall: 0.5974\n",
            "Epoch 16/1000\n",
            "1032/1032 [==============================] - 2s 2ms/step - loss: 0.0613 - recall: 0.9815 - val_loss: 0.5183 - val_recall: 0.5714\n",
            "Epoch 17/1000\n",
            "1032/1032 [==============================] - 2s 2ms/step - loss: 0.0602 - recall: 0.9823 - val_loss: 0.5960 - val_recall: 0.5649\n",
            "Epoch 18/1000\n",
            "1032/1032 [==============================] - 2s 2ms/step - loss: 0.0653 - recall: 0.9812 - val_loss: 0.5096 - val_recall: 0.6299\n",
            "Epoch 19/1000\n",
            "1032/1032 [==============================] - 3s 2ms/step - loss: 0.0666 - recall: 0.9828 - val_loss: 0.6265 - val_recall: 0.6169\n",
            "Epoch 20/1000\n",
            "1032/1032 [==============================] - 3s 2ms/step - loss: 0.0600 - recall: 0.9833 - val_loss: 0.5217 - val_recall: 0.6104\n",
            "Epoch 21/1000\n",
            "1032/1032 [==============================] - 3s 2ms/step - loss: 0.0722 - recall: 0.9790 - val_loss: 0.5321 - val_recall: 0.6039\n",
            "Epoch 22/1000\n",
            "1032/1032 [==============================] - 3s 2ms/step - loss: 0.0621 - recall: 0.9817 - val_loss: 0.5566 - val_recall: 0.5455\n",
            "Epoch 23/1000\n",
            "1032/1032 [==============================] - 3s 3ms/step - loss: 0.0707 - recall: 0.9804 - val_loss: 0.5179 - val_recall: 0.5844\n",
            "Epoch 24/1000\n",
            "1032/1032 [==============================] - 3s 2ms/step - loss: 0.0617 - recall: 0.9810 - val_loss: 0.5575 - val_recall: 0.6558\n",
            "Epoch 25/1000\n",
            "1032/1032 [==============================] - 3s 2ms/step - loss: 0.0653 - recall: 0.9807 - val_loss: 0.5393 - val_recall: 0.6104\n"
          ]
        },
        {
          "output_type": "execute_result",
          "data": {
            "text/plain": [
              "<keras.callbacks.History at 0x7fdda7a60d10>"
            ]
          },
          "metadata": {},
          "execution_count": 53
        }
      ]
    },
    {
      "cell_type": "code",
      "metadata": {
        "colab": {
          "base_uri": "https://localhost:8080/"
        },
        "id": "EyNl7_bKBjTl",
        "outputId": "e3abcff3-5a51-41a3-f92a-f506d322b743"
      },
      "source": [
        "loss,accuracy = model.evaluate(X_test, y_test)\n",
        "print(loss, accuracy)"
      ],
      "execution_count": null,
      "outputs": [
        {
          "output_type": "stream",
          "name": "stdout",
          "text": [
            "255/255 [==============================] - 1s 1ms/step - loss: 0.6956 - recall: 0.6299\n",
            "0.6956173181533813 0.6298701167106628\n"
          ]
        }
      ]
    },
    {
      "cell_type": "markdown",
      "metadata": {
        "id": "WSMcDJFaCdbi"
      },
      "source": [
        "## Predict on eval dataset for further labeling."
      ]
    },
    {
      "cell_type": "code",
      "metadata": {
        "id": "v1O3J-fUESee"
      },
      "source": [
        "y_pred = model.predict(X_test)\n",
        "y_cls = (y_pred > 0.5).astype(\"int32\")"
      ],
      "execution_count": null,
      "outputs": []
    },
    {
      "cell_type": "code",
      "metadata": {
        "colab": {
          "base_uri": "https://localhost:8080/"
        },
        "id": "35pPz6XlH9bB",
        "outputId": "b49b7838-06aa-4dee-e4dc-f9093382ac85"
      },
      "source": [
        "(y_pred > 0.4).sum()"
      ],
      "execution_count": null,
      "outputs": [
        {
          "output_type": "execute_result",
          "data": {
            "text/plain": [
              "104"
            ]
          },
          "metadata": {},
          "execution_count": 358
        }
      ]
    },
    {
      "cell_type": "code",
      "metadata": {
        "id": "B91pKTF8JNYN"
      },
      "source": [
        "def eval_model(y_test, y_cls):\n",
        "  y1 = y_test.reshape(-1)\n",
        "  y2 = y_cls.reshape(-1)\n",
        "  print(roc_auc_score(y1, y2))\n",
        "  print(classification_report(y1,y2))\n",
        "  print(confusion_matrix(y1,y2))\n"
      ],
      "execution_count": null,
      "outputs": []
    },
    {
      "cell_type": "code",
      "metadata": {
        "colab": {
          "base_uri": "https://localhost:8080/"
        },
        "id": "9_zSyw6yoU1S",
        "outputId": "63e16b52-fe88-4eba-97ea-eab8a56aa27b"
      },
      "source": [
        "eval_model(y_train, y_cls)"
      ],
      "execution_count": null,
      "outputs": [
        {
          "output_type": "stream",
          "name": "stdout",
          "text": [
            "0.5064665001502765\n",
            "              precision    recall  f1-score   support\n",
            "\n",
            "         0.0       0.99      0.67      0.80     36799\n",
            "         1.0       0.01      0.35      0.02       433\n",
            "\n",
            "    accuracy                           0.66     37232\n",
            "   macro avg       0.50      0.51      0.41     37232\n",
            "weighted avg       0.98      0.66      0.79     37232\n",
            "\n",
            "[[24527 12272]\n",
            " [  283   150]]\n"
          ]
        }
      ]
    },
    {
      "cell_type": "code",
      "metadata": {
        "colab": {
          "base_uri": "https://localhost:8080/"
        },
        "id": "BEGS90tDyMV6",
        "outputId": "b09415ad-1330-4728-88ce-197740a4365b"
      },
      "source": [
        "eval_model(y_test, y_cls)"
      ],
      "execution_count": null,
      "outputs": [
        {
          "output_type": "stream",
          "name": "stdout",
          "text": [
            "0.763310064935065\n",
            "              precision    recall  f1-score   support\n",
            "\n",
            "         0.0       0.99      0.90      0.94      8000\n",
            "         1.0       0.11      0.63      0.18       154\n",
            "\n",
            "    accuracy                           0.89      8154\n",
            "   macro avg       0.55      0.76      0.56      8154\n",
            "weighted avg       0.98      0.89      0.93      8154\n",
            "\n",
            "[[7174  826]\n",
            " [  57   97]]\n"
          ]
        }
      ]
    },
    {
      "cell_type": "code",
      "metadata": {
        "colab": {
          "base_uri": "https://localhost:8080/"
        },
        "id": "gloH4XtD02hn",
        "outputId": "7eb873cd-332a-415d-e262-601a8dfc7cd2"
      },
      "source": [
        "eval_model(y_test, y_cls)"
      ],
      "execution_count": null,
      "outputs": [
        {
          "output_type": "stream",
          "name": "stdout",
          "text": [
            "0.763310064935065\n",
            "              precision    recall  f1-score   support\n",
            "\n",
            "         0.0       0.99      0.90      0.94      8000\n",
            "         1.0       0.11      0.63      0.18       154\n",
            "\n",
            "    accuracy                           0.89      8154\n",
            "   macro avg       0.55      0.76      0.56      8154\n",
            "weighted avg       0.98      0.89      0.93      8154\n",
            "\n",
            "[[7174  826]\n",
            " [  57   97]]\n"
          ]
        }
      ]
    },
    {
      "cell_type": "code",
      "metadata": {
        "id": "t6byULn8GBib"
      },
      "source": [
        ""
      ],
      "execution_count": null,
      "outputs": []
    },
    {
      "cell_type": "code",
      "metadata": {
        "id": "BYZigB-fymgd"
      },
      "source": [
        "def export_result(df_test,y_cls, y_pred):\n",
        "  '''\n",
        "  Attach the predicte result (probability) into original records.\n",
        "  Export to a csv file for further investication\n",
        "  '''\n",
        "  df_test['predict'] = y_cls\n",
        "  df_test['prob']  = y_pred\n",
        "  path = '/content/drive/MyDrive/Colab Notebooks/finalproject/'\n",
        "  file_csv = path + 'pred_result.csv'\n",
        "  df_test.to_csv(file_csv)\n",
        "  return True\n"
      ],
      "execution_count": null,
      "outputs": []
    },
    {
      "cell_type": "code",
      "metadata": {
        "colab": {
          "base_uri": "https://localhost:8080/"
        },
        "id": "dI0Pw_Ur3xbd",
        "outputId": "478013c9-27b1-408e-eed8-678ea164c5c5"
      },
      "source": [
        "export_result(df_test,y_cls,y_pred)"
      ],
      "execution_count": null,
      "outputs": [
        {
          "output_type": "execute_result",
          "data": {
            "text/plain": [
              "True"
            ]
          },
          "metadata": {},
          "execution_count": 364
        }
      ]
    },
    {
      "cell_type": "code",
      "metadata": {
        "id": "uvKs4xdaXiuN"
      },
      "source": [
        ""
      ],
      "execution_count": null,
      "outputs": []
    }
  ]
}