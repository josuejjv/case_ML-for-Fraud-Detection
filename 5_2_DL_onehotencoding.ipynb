{
  "nbformat": 4,
  "nbformat_minor": 0,
  "metadata": {
    "colab": {
      "name": "5_2_DL_onehotencoding.ipynb",
      "provenance": [],
      "authorship_tag": "ABX9TyPtD4gakxL3EJkL46BNzIBg",
      "include_colab_link": true
    },
    "kernelspec": {
      "name": "python3",
      "display_name": "Python 3"
    },
    "language_info": {
      "name": "python"
    },
    "accelerator": "TPU"
  },
  "cells": [
    {
      "cell_type": "markdown",
      "metadata": {
        "id": "view-in-github",
        "colab_type": "text"
      },
      "source": [
        "<a href=\"https://colab.research.google.com/github/ryanhao1115/ML-for-Fraud-Detection/blob/main/5_2_DL_onehotencoding.ipynb\" target=\"_parent\"><img src=\"https://colab.research.google.com/assets/colab-badge.svg\" alt=\"Open In Colab\"/></a>"
      ]
    },
    {
      "cell_type": "code",
      "metadata": {
        "colab": {
          "base_uri": "https://localhost:8080/"
        },
        "id": "ndtW0FwNmcWr",
        "outputId": "eebd2c5b-c74c-4bca-b15e-72ed15eece0c"
      },
      "source": [
        "from google.colab import drive\n",
        "drive.mount('/content/drive')"
      ],
      "execution_count": 217,
      "outputs": [
        {
          "output_type": "stream",
          "name": "stdout",
          "text": [
            "Drive already mounted at /content/drive; to attempt to forcibly remount, call drive.mount(\"/content/drive\", force_remount=True).\n"
          ]
        }
      ]
    },
    {
      "cell_type": "code",
      "metadata": {
        "colab": {
          "base_uri": "https://localhost:8080/"
        },
        "id": "B0ly0AY21KvU",
        "outputId": "06daac1c-9cbc-4247-8dbd-89db23f15792"
      },
      "source": [
        "!pip install imbalanced-learn"
      ],
      "execution_count": 294,
      "outputs": [
        {
          "output_type": "stream",
          "name": "stdout",
          "text": [
            "Requirement already satisfied: imbalanced-learn in /usr/local/lib/python3.7/dist-packages (0.4.3)\n",
            "Requirement already satisfied: scikit-learn>=0.20 in /usr/local/lib/python3.7/dist-packages (from imbalanced-learn) (0.22.2.post1)\n",
            "Requirement already satisfied: scipy>=0.13.3 in /usr/local/lib/python3.7/dist-packages (from imbalanced-learn) (1.4.1)\n",
            "Requirement already satisfied: numpy>=1.8.2 in /usr/local/lib/python3.7/dist-packages (from imbalanced-learn) (1.19.5)\n",
            "Requirement already satisfied: joblib>=0.11 in /usr/local/lib/python3.7/dist-packages (from scikit-learn>=0.20->imbalanced-learn) (1.0.1)\n"
          ]
        }
      ]
    },
    {
      "cell_type": "markdown",
      "metadata": {
        "id": "oINI7xYSmpo8"
      },
      "source": [
        "## Deep Learning model with One hot encoding data\n",
        "1. import new return label data.\n",
        "2. Under sampling data to address imbalance class issue.\n",
        "4. Train model\n",
        "5. Eval model\n",
        "6. Create Risk-heatmap"
      ]
    },
    {
      "cell_type": "code",
      "metadata": {
        "id": "6Gc_G68myO1w"
      },
      "source": [
        "import pandas as pd\n",
        "import numpy as np\n",
        "from sklearn.preprocessing import OneHotEncoder\n",
        "from sklearn.preprocessing import StandardScaler\n",
        "from keras.models import Sequential\n",
        "from keras.layers import Dense\n",
        "from keras.callbacks import EarlyStopping\n",
        "from keras.backend import clear_session\n",
        "from sklearn.metrics import classification_report, roc_auc_score, confusion_matrix\n",
        "import tensorflow as tf\n",
        "import random\n",
        "from imblearn.over_sampling import SMOTE\n",
        "from imblearn.under_sampling import RandomUnderSampler\n",
        "from imblearn.pipeline import Pipeline\n"
      ],
      "execution_count": 296,
      "outputs": []
    },
    {
      "cell_type": "code",
      "metadata": {
        "id": "wr3fxm5Waw2H"
      },
      "source": [
        "def reset_seeds():\n",
        "    '''\n",
        "    reset random seeds for modeling\n",
        "    '''\n",
        "    np.random.seed(1)\n",
        "    random.seed(2)\n",
        "    if tf.__version__[0] == '2':\n",
        "        tf.random.set_seed(3)\n",
        "    else:\n",
        "        tf.set_random_seed(3)\n",
        "    print(\"RANDOM SEEDS RESET\")"
      ],
      "execution_count": 219,
      "outputs": []
    },
    {
      "cell_type": "code",
      "metadata": {
        "id": "EB5yPnJdyRnG"
      },
      "source": [
        "## import dataset \n",
        "path = '/content/drive/MyDrive/Colab Notebooks/finalproject/'\n",
        "file = path + 'sales_clean.csv'\n",
        "df = pd.read_csv(file)"
      ],
      "execution_count": 5,
      "outputs": []
    },
    {
      "cell_type": "code",
      "metadata": {
        "id": "zM0xX0nKWIu0"
      },
      "source": [
        "df = df.drop(columns='Unnamed: 0')"
      ],
      "execution_count": 6,
      "outputs": []
    },
    {
      "cell_type": "code",
      "metadata": {
        "colab": {
          "base_uri": "https://localhost:8080/"
        },
        "id": "tXuAbPlSyWVW",
        "outputId": "e12cbefe-322b-41c4-f4cd-0661483ad5f7"
      },
      "source": [
        "df.nunique()"
      ],
      "execution_count": 7,
      "outputs": [
        {
          "output_type": "execute_result",
          "data": {
            "text/plain": [
              "distributor        639\n",
              "sales              209\n",
              "branch              28\n",
              "inv_type             3\n",
              "invoice_no       30721\n",
              "product_no        1094\n",
              "prod_cla             7\n",
              "qty                202\n",
              "total_amt        16112\n",
              "sale_price        8598\n",
              "ship_qty           202\n",
              "cust_type           20\n",
              "return               2\n",
              "discount_app         2\n",
              "list_price        6720\n",
              "inv_ship_days      133\n",
              "dtype: int64"
            ]
          },
          "metadata": {},
          "execution_count": 7
        }
      ]
    },
    {
      "cell_type": "markdown",
      "metadata": {
        "id": "lCCJjJWqGLvU"
      },
      "source": [
        "## import return label data"
      ]
    },
    {
      "cell_type": "code",
      "metadata": {
        "id": "cYVtnDc2HXFA"
      },
      "source": [
        "## import fraud data\n",
        "file = path + 'frauds.csv'\n",
        "df_fraud = pd.read_csv(file,header=None)\n",
        "df_fraud.columns = ['invoice_no']"
      ],
      "execution_count": 8,
      "outputs": []
    },
    {
      "cell_type": "code",
      "metadata": {
        "id": "YntiE6PVIrPC"
      },
      "source": [
        "## import return new labeled data\n",
        "file = path + 'return.csv'\n",
        "df_fraud2 = pd.read_csv(file,header=None)\n",
        "df_fraud2.columns = ['invoice_no']"
      ],
      "execution_count": 9,
      "outputs": []
    },
    {
      "cell_type": "code",
      "metadata": {
        "colab": {
          "base_uri": "https://localhost:8080/"
        },
        "id": "CiNt30SZf6aD",
        "outputId": "9ad2d057-388f-4348-b8d4-89c9b1d3c26e"
      },
      "source": [
        "len(df_fraud2)"
      ],
      "execution_count": 10,
      "outputs": [
        {
          "output_type": "execute_result",
          "data": {
            "text/plain": [
              "24"
            ]
          },
          "metadata": {},
          "execution_count": 10
        }
      ]
    },
    {
      "cell_type": "code",
      "metadata": {
        "id": "bo6Q08-CJyOv"
      },
      "source": [
        "def label_fraud(df, df_fraud, df_fraud2):\n",
        "  df['fraud'] = np.zeros(len(df))\n",
        "  frauds_l = df_fraud['invoice_no'].to_list()\n",
        "  frauds_l2 = df_fraud2['invoice_no'].to_list()\n",
        "  df.loc[df['invoice_no'].isin(frauds_l),'fraud'] = 1\n",
        "  df.loc[df['invoice_no'].isin(frauds_l2),'fraud'] = 2\n",
        "  return df"
      ],
      "execution_count": 11,
      "outputs": []
    },
    {
      "cell_type": "code",
      "metadata": {
        "id": "y0iwhuZ_XIpE"
      },
      "source": [
        "df = label_fraud(df, df_fraud,df_fraud2)"
      ],
      "execution_count": 12,
      "outputs": []
    },
    {
      "cell_type": "code",
      "metadata": {
        "colab": {
          "base_uri": "https://localhost:8080/"
        },
        "id": "S6y811N2NJZS",
        "outputId": "4a05289e-b7e3-407b-e8a4-3fccd22e35f2"
      },
      "source": [
        "df['fraud'].value_counts()"
      ],
      "execution_count": 13,
      "outputs": [
        {
          "output_type": "execute_result",
          "data": {
            "text/plain": [
              "0.0    228014\n",
              "2.0       433\n",
              "1.0       154\n",
              "Name: fraud, dtype: int64"
            ]
          },
          "metadata": {},
          "execution_count": 13
        }
      ]
    },
    {
      "cell_type": "markdown",
      "metadata": {
        "id": "l7OnGZt9GEAL"
      },
      "source": [
        "## Encoding"
      ]
    },
    {
      "cell_type": "code",
      "metadata": {
        "colab": {
          "base_uri": "https://localhost:8080/"
        },
        "id": "KnPg5AboX9Pp",
        "outputId": "c7f20c80-8a36-4e07-8108-497dc5ee01c6"
      },
      "source": [
        "df.nunique()"
      ],
      "execution_count": 247,
      "outputs": [
        {
          "output_type": "execute_result",
          "data": {
            "text/plain": [
              "distributor        639\n",
              "sales              209\n",
              "branch              28\n",
              "inv_type             3\n",
              "invoice_no       30721\n",
              "product_no        1094\n",
              "prod_cla             7\n",
              "qty                202\n",
              "total_amt        16112\n",
              "sale_price        8598\n",
              "ship_qty           202\n",
              "cust_type           20\n",
              "return               2\n",
              "discount_app         2\n",
              "list_price        6720\n",
              "inv_ship_days      133\n",
              "fraud                3\n",
              "dtype: int64"
            ]
          },
          "metadata": {},
          "execution_count": 247
        }
      ]
    },
    {
      "cell_type": "code",
      "metadata": {
        "id": "T0O7sPin33OP"
      },
      "source": [
        "cols = df.columns.to_list()\n",
        "cols = ['distributor', 'sales', 'branch', 'inv_type', 'invoice_no', 'product_no', 'prod_cla', 'cust_type']"
      ],
      "execution_count": 38,
      "outputs": []
    },
    {
      "cell_type": "code",
      "metadata": {
        "id": "VlDcgPcLY014"
      },
      "source": [
        "## remove some fields with many classes\n",
        "cols1 = ['distributor', 'sales', 'invoice_no', 'product_no']\n",
        "df_less = df.drop(columns=cols1)"
      ],
      "execution_count": 248,
      "outputs": []
    },
    {
      "cell_type": "code",
      "metadata": {
        "id": "fpoyuiZZaxoR"
      },
      "source": [
        "def field_onehotencoding(df):\n",
        "  cols = [ 'branch', 'inv_type',  'prod_cla', 'cust_type']\n",
        "  df[cols] = df[cols].astype('str') \n",
        "  df_enc = pd.get_dummies(df)\n",
        "  return df_enc"
      ],
      "execution_count": 249,
      "outputs": []
    },
    {
      "cell_type": "code",
      "metadata": {
        "id": "IX-MPQX1cq4P"
      },
      "source": [
        "df_less = field_onehotencoding(df_less)"
      ],
      "execution_count": 250,
      "outputs": []
    },
    {
      "cell_type": "code",
      "metadata": {
        "colab": {
          "base_uri": "https://localhost:8080/"
        },
        "id": "PdzuM0U2jb9V",
        "outputId": "a86cb94f-c37f-47b5-d491-fe5060107ca2"
      },
      "source": [
        "df_less.shape"
      ],
      "execution_count": 251,
      "outputs": [
        {
          "output_type": "execute_result",
          "data": {
            "text/plain": [
              "(228601, 67)"
            ]
          },
          "metadata": {},
          "execution_count": 251
        }
      ]
    },
    {
      "cell_type": "markdown",
      "metadata": {
        "id": "zYRaXHXsP07P"
      },
      "source": [
        "## Resampling to address the imbalance class\n",
        "Because fraud labels are given to invoice level, need to keep records of same invoice together. "
      ]
    },
    {
      "cell_type": "code",
      "metadata": {
        "id": "d7PpSBXyT1iz"
      },
      "source": [
        "df_fraud = df_less[df_less['fraud'] == 1]\n",
        "df_non_fraud = df_less[df_less['fraud'] == 0]\n",
        "df_fraud2 = df_less[df_less['fraud'] == 2]"
      ],
      "execution_count": 262,
      "outputs": []
    },
    {
      "cell_type": "code",
      "metadata": {
        "colab": {
          "base_uri": "https://localhost:8080/"
        },
        "id": "eGH1pJ_JVnr7",
        "outputId": "fbb66546-5f26-4374-fef6-b4a77a49f4de"
      },
      "source": [
        "len(df_fraud2)"
      ],
      "execution_count": 264,
      "outputs": [
        {
          "output_type": "execute_result",
          "data": {
            "text/plain": [
              "433"
            ]
          },
          "metadata": {},
          "execution_count": 264
        }
      ]
    },
    {
      "cell_type": "code",
      "metadata": {
        "colab": {
          "base_uri": "https://localhost:8080/"
        },
        "id": "9J8c4dTt6QAt",
        "outputId": "953503a8-6027-47a1-c44b-d4760d78c0db"
      },
      "source": [
        "df_non_fraud.shape"
      ],
      "execution_count": 297,
      "outputs": [
        {
          "output_type": "execute_result",
          "data": {
            "text/plain": [
              "(228014, 67)"
            ]
          },
          "metadata": {},
          "execution_count": 297
        }
      ]
    },
    {
      "cell_type": "code",
      "metadata": {
        "id": "M2L3ePEOXvyD"
      },
      "source": [
        "def sampling_record(df_non_fraud,df_fraud,df_fraud2):\n",
        "  '''\n",
        "  Random sampling from unlabled records.\n",
        "  concat with labeled records\n",
        "  '''\n",
        "  df = df_non_fraud.sample(n=30000,replace=False)\n",
        "  print(len(df))\n",
        "\n",
        "  ## Build training dataset\n",
        "  df_train = df.iloc[:22000,:]\n",
        "  df_train = pd.concat([df_train,df_fraud2])\n",
        "  df_train.loc[df_train['fraud'] == 2, 'fraud'] = 1 \n",
        "  df_train = df_train.sort_index()\n",
        "  print(len(df_train))\n",
        "\n",
        "  ## Build eval dataset\n",
        "  df_test = df.iloc[22000:,:]\n",
        "  df_test = pd.concat([df_test,df_fraud])\n",
        "  df_test = df_test.sort_index()\n",
        "\n",
        "  return df_train, df_test\n"
      ],
      "execution_count": 267,
      "outputs": []
    },
    {
      "cell_type": "code",
      "metadata": {
        "colab": {
          "base_uri": "https://localhost:8080/"
        },
        "id": "O01agYImtUx9",
        "outputId": "e453747e-a2be-4d7c-fd7b-6b98cc391e7c"
      },
      "source": [
        "df_train, df_test = sampling_record(df_non_fraud, df_fraud, df_fraud2)"
      ],
      "execution_count": 268,
      "outputs": [
        {
          "output_type": "stream",
          "name": "stdout",
          "text": [
            "30000\n",
            "22433\n"
          ]
        }
      ]
    },
    {
      "cell_type": "code",
      "metadata": {
        "colab": {
          "base_uri": "https://localhost:8080/"
        },
        "id": "pzKw_DggxMS-",
        "outputId": "f998af4a-0e23-430f-9da0-89e74cbf7cec"
      },
      "source": [
        "df_train.shape"
      ],
      "execution_count": 269,
      "outputs": [
        {
          "output_type": "execute_result",
          "data": {
            "text/plain": [
              "(22433, 67)"
            ]
          },
          "metadata": {},
          "execution_count": 269
        }
      ]
    },
    {
      "cell_type": "code",
      "metadata": {
        "colab": {
          "base_uri": "https://localhost:8080/"
        },
        "id": "HqJlSiFlRwXl",
        "outputId": "b93b4286-4b86-499f-ea39-87568b62dc09"
      },
      "source": [
        "df_test.shape"
      ],
      "execution_count": 270,
      "outputs": [
        {
          "output_type": "execute_result",
          "data": {
            "text/plain": [
              "(8154, 67)"
            ]
          },
          "metadata": {},
          "execution_count": 270
        }
      ]
    },
    {
      "cell_type": "code",
      "metadata": {
        "colab": {
          "base_uri": "https://localhost:8080/"
        },
        "id": "V_LOYj9ZZne0",
        "outputId": "018d4f9d-5dc3-4d05-b7e8-7d268e805200"
      },
      "source": [
        "df_train.nunique()"
      ],
      "execution_count": 271,
      "outputs": [
        {
          "output_type": "execute_result",
          "data": {
            "text/plain": [
              "qty                 98\n",
              "total_amt         3929\n",
              "sale_price        2947\n",
              "ship_qty            98\n",
              "return               2\n",
              "                  ... \n",
              "cust_type_KX01       2\n",
              "cust_type_LX01       2\n",
              "cust_type_MX01       2\n",
              "cust_type_NX01       2\n",
              "cust_type_ZZ01       2\n",
              "Length: 67, dtype: int64"
            ]
          },
          "metadata": {},
          "execution_count": 271
        }
      ]
    },
    {
      "cell_type": "markdown",
      "metadata": {
        "id": "gDkexYmPxM8O"
      },
      "source": [
        "## Standardscale data"
      ]
    },
    {
      "cell_type": "code",
      "metadata": {
        "id": "Wxt4dsJo7tDa"
      },
      "source": [
        "scaler = StandardScaler()"
      ],
      "execution_count": 45,
      "outputs": []
    },
    {
      "cell_type": "code",
      "metadata": {
        "id": "YeeK6JNC8Fqz"
      },
      "source": [
        "y_train = df_train['fraud'].values\n",
        "X_train = df_train.drop(columns=['fraud'])\n",
        "\n",
        "X_train = scaler.fit_transform(X_train)\n",
        "y_train = y_train.reshape(len(y_train),1)"
      ],
      "execution_count": 272,
      "outputs": []
    },
    {
      "cell_type": "code",
      "metadata": {
        "id": "86joAZPl9YpL"
      },
      "source": [
        "y_test = df_test['fraud'].values\n",
        "X_test = df_test.drop(columns=['fraud'])\n",
        "\n",
        "X_test = scaler.transform(X_test)\n",
        "y_test = y_test.reshape(len(y_test),1)"
      ],
      "execution_count": 273,
      "outputs": []
    },
    {
      "cell_type": "code",
      "metadata": {
        "colab": {
          "base_uri": "https://localhost:8080/"
        },
        "id": "MNUBFns291Qv",
        "outputId": "70e14e61-ee60-4ab3-f135-b5089977a9f8"
      },
      "source": [
        "X_train.shape"
      ],
      "execution_count": 276,
      "outputs": [
        {
          "output_type": "execute_result",
          "data": {
            "text/plain": [
              "(22433, 66)"
            ]
          },
          "metadata": {},
          "execution_count": 276
        }
      ]
    },
    {
      "cell_type": "code",
      "metadata": {
        "colab": {
          "base_uri": "https://localhost:8080/"
        },
        "id": "4o9UXO0--hgv",
        "outputId": "f160d5f1-e545-4a20-cbb2-d3a3970ccb32"
      },
      "source": [
        "y_test.shape"
      ],
      "execution_count": 274,
      "outputs": [
        {
          "output_type": "execute_result",
          "data": {
            "text/plain": [
              "(8154, 1)"
            ]
          },
          "metadata": {},
          "execution_count": 274
        }
      ]
    },
    {
      "cell_type": "code",
      "metadata": {
        "colab": {
          "base_uri": "https://localhost:8080/"
        },
        "id": "gMv9MH5QVu6B",
        "outputId": "170743cf-b136-438e-88f7-545f387204b0"
      },
      "source": [
        "y_train.sum()"
      ],
      "execution_count": 275,
      "outputs": [
        {
          "output_type": "execute_result",
          "data": {
            "text/plain": [
              "433.0"
            ]
          },
          "metadata": {},
          "execution_count": 275
        }
      ]
    },
    {
      "cell_type": "markdown",
      "metadata": {
        "id": "vnO2HnA4_RQU"
      },
      "source": [
        "## Build model"
      ]
    },
    {
      "cell_type": "code",
      "metadata": {
        "id": "09WCa-Qn_T0G"
      },
      "source": [
        "# define the  model\n",
        "def build_model():\n",
        "  model = Sequential()\n",
        "  model.add(Dense(128, input_dim=X_train.shape[1], activation='relu', kernel_initializer='he_normal'))\n",
        "  model.add(Dense(64,activation='relu'))\n",
        "  model.add(Dense(1, activation='sigmoid'))\n",
        "  # compile the keras model\n",
        "  # opt = tf.keras.optimizers.Adam(clipnorm=1, learning_rate=0.01)\n",
        "  model.compile(loss='binary_crossentropy', optimizer='adam', metrics=['accuracy'])\n",
        "  return model"
      ],
      "execution_count": 277,
      "outputs": []
    },
    {
      "cell_type": "code",
      "metadata": {
        "colab": {
          "base_uri": "https://localhost:8080/"
        },
        "id": "pBs2KuNeAErs",
        "outputId": "2295cf29-5b84-446a-edea-809dfd33238d"
      },
      "source": [
        "model.summary()"
      ],
      "execution_count": 280,
      "outputs": [
        {
          "output_type": "stream",
          "name": "stdout",
          "text": [
            "Model: \"sequential\"\n",
            "_________________________________________________________________\n",
            "Layer (type)                 Output Shape              Param #   \n",
            "=================================================================\n",
            "dense (Dense)                (None, 128)               8576      \n",
            "_________________________________________________________________\n",
            "dense_1 (Dense)              (None, 64)                8256      \n",
            "_________________________________________________________________\n",
            "dense_2 (Dense)              (None, 1)                 65        \n",
            "=================================================================\n",
            "Total params: 16,897\n",
            "Trainable params: 16,897\n",
            "Non-trainable params: 0\n",
            "_________________________________________________________________\n"
          ]
        }
      ]
    },
    {
      "cell_type": "markdown",
      "metadata": {
        "id": "cfEQ-OXDA3mV"
      },
      "source": [
        "## Training model"
      ]
    },
    {
      "cell_type": "code",
      "metadata": {
        "colab": {
          "base_uri": "https://localhost:8080/"
        },
        "id": "413m67NPZY4F",
        "outputId": "ffd5b900-9ed4-4b8b-c7de-c70dea11a1db"
      },
      "source": [
        "## clear previous model.  Make sure training from 0. \n",
        "del model\n",
        "clear_session()\n",
        "tf.compat.v1.reset_default_graph()\n",
        "reset_seeds()\n",
        "model = build_model()"
      ],
      "execution_count": 285,
      "outputs": [
        {
          "output_type": "stream",
          "name": "stdout",
          "text": [
            "RANDOM SEEDS RESET\n"
          ]
        }
      ]
    },
    {
      "cell_type": "code",
      "metadata": {
        "colab": {
          "base_uri": "https://localhost:8080/"
        },
        "id": "Pp9q-HK4A6UX",
        "outputId": "33d927c6-d7ca-44b1-f14f-f7d0b9c8132c"
      },
      "source": [
        "model.fit(X_train, y_train, epochs=100,batch_size=64,class_weight={0:4, 1:200})"
      ],
      "execution_count": 291,
      "outputs": [
        {
          "output_type": "stream",
          "name": "stdout",
          "text": [
            "Epoch 1/100\n",
            "351/351 [==============================] - 1s 2ms/step - loss: 0.3249 - accuracy: 0.9714\n",
            "Epoch 2/100\n",
            "351/351 [==============================] - 1s 2ms/step - loss: 0.4075 - accuracy: 0.9675\n",
            "Epoch 3/100\n",
            "351/351 [==============================] - 1s 2ms/step - loss: 0.3662 - accuracy: 0.9682\n",
            "Epoch 4/100\n",
            "351/351 [==============================] - 1s 2ms/step - loss: 0.3265 - accuracy: 0.9730\n",
            "Epoch 5/100\n",
            "351/351 [==============================] - 1s 2ms/step - loss: 0.3822 - accuracy: 0.9690\n",
            "Epoch 6/100\n",
            "351/351 [==============================] - 1s 2ms/step - loss: 0.3812 - accuracy: 0.9680\n",
            "Epoch 7/100\n",
            "351/351 [==============================] - 1s 2ms/step - loss: 0.3458 - accuracy: 0.9714\n",
            "Epoch 8/100\n",
            "351/351 [==============================] - 1s 2ms/step - loss: 0.3439 - accuracy: 0.9728\n",
            "Epoch 9/100\n",
            "351/351 [==============================] - 1s 2ms/step - loss: 0.4057 - accuracy: 0.9666\n",
            "Epoch 10/100\n",
            "351/351 [==============================] - 1s 2ms/step - loss: 0.3348 - accuracy: 0.9700\n",
            "Epoch 11/100\n",
            "351/351 [==============================] - 1s 2ms/step - loss: 0.4207 - accuracy: 0.9671\n",
            "Epoch 12/100\n",
            "351/351 [==============================] - 1s 2ms/step - loss: 0.3725 - accuracy: 0.9684\n",
            "Epoch 13/100\n",
            "351/351 [==============================] - 1s 2ms/step - loss: 0.3624 - accuracy: 0.9688\n",
            "Epoch 14/100\n",
            "351/351 [==============================] - 1s 2ms/step - loss: 0.4752 - accuracy: 0.9667\n",
            "Epoch 15/100\n",
            "351/351 [==============================] - 1s 2ms/step - loss: 0.3394 - accuracy: 0.9715\n",
            "Epoch 16/100\n",
            "351/351 [==============================] - 1s 2ms/step - loss: 0.3671 - accuracy: 0.9707\n",
            "Epoch 17/100\n",
            "351/351 [==============================] - 1s 2ms/step - loss: 0.3562 - accuracy: 0.9735\n",
            "Epoch 18/100\n",
            "351/351 [==============================] - 1s 2ms/step - loss: 0.4585 - accuracy: 0.9659\n",
            "Epoch 19/100\n",
            "351/351 [==============================] - 1s 2ms/step - loss: 0.6139 - accuracy: 0.9674\n",
            "Epoch 20/100\n",
            "351/351 [==============================] - 1s 2ms/step - loss: 0.4027 - accuracy: 0.9700\n",
            "Epoch 21/100\n",
            "351/351 [==============================] - 1s 2ms/step - loss: 0.4938 - accuracy: 0.9683\n",
            "Epoch 22/100\n",
            "351/351 [==============================] - 1s 2ms/step - loss: 0.3629 - accuracy: 0.9711\n",
            "Epoch 23/100\n",
            "351/351 [==============================] - 1s 2ms/step - loss: 0.3619 - accuracy: 0.9704\n",
            "Epoch 24/100\n",
            "351/351 [==============================] - 1s 2ms/step - loss: 0.3887 - accuracy: 0.9716\n",
            "Epoch 25/100\n",
            "351/351 [==============================] - 1s 2ms/step - loss: 0.3466 - accuracy: 0.9708\n",
            "Epoch 26/100\n",
            "351/351 [==============================] - 1s 2ms/step - loss: 0.3625 - accuracy: 0.9717\n",
            "Epoch 27/100\n",
            "351/351 [==============================] - 1s 2ms/step - loss: 0.4319 - accuracy: 0.9682\n",
            "Epoch 28/100\n",
            "351/351 [==============================] - 1s 2ms/step - loss: 0.3058 - accuracy: 0.9735\n",
            "Epoch 29/100\n",
            "351/351 [==============================] - 1s 2ms/step - loss: 0.3513 - accuracy: 0.9731\n",
            "Epoch 30/100\n",
            "351/351 [==============================] - 1s 2ms/step - loss: 0.3628 - accuracy: 0.9734\n",
            "Epoch 31/100\n",
            "351/351 [==============================] - 1s 2ms/step - loss: 0.3308 - accuracy: 0.9710\n",
            "Epoch 32/100\n",
            "351/351 [==============================] - 1s 2ms/step - loss: 0.3245 - accuracy: 0.9764\n",
            "Epoch 33/100\n",
            "351/351 [==============================] - 1s 2ms/step - loss: 0.3893 - accuracy: 0.9706\n",
            "Epoch 34/100\n",
            "351/351 [==============================] - 1s 2ms/step - loss: 0.3844 - accuracy: 0.9696\n",
            "Epoch 35/100\n",
            "351/351 [==============================] - 1s 2ms/step - loss: 0.3444 - accuracy: 0.9727\n",
            "Epoch 36/100\n",
            "351/351 [==============================] - 1s 2ms/step - loss: 0.4074 - accuracy: 0.9702\n",
            "Epoch 37/100\n",
            "351/351 [==============================] - 1s 2ms/step - loss: 0.3266 - accuracy: 0.9736\n",
            "Epoch 38/100\n",
            "351/351 [==============================] - 1s 2ms/step - loss: 0.3483 - accuracy: 0.9722\n",
            "Epoch 39/100\n",
            "351/351 [==============================] - 1s 2ms/step - loss: 0.3293 - accuracy: 0.9733\n",
            "Epoch 40/100\n",
            "351/351 [==============================] - 1s 2ms/step - loss: 0.3745 - accuracy: 0.9706\n",
            "Epoch 41/100\n",
            "351/351 [==============================] - 1s 2ms/step - loss: 0.3362 - accuracy: 0.9749\n",
            "Epoch 42/100\n",
            "351/351 [==============================] - 1s 2ms/step - loss: 0.3470 - accuracy: 0.9721\n",
            "Epoch 43/100\n",
            "351/351 [==============================] - 1s 2ms/step - loss: 0.3393 - accuracy: 0.9737\n",
            "Epoch 44/100\n",
            "351/351 [==============================] - 1s 2ms/step - loss: 0.3761 - accuracy: 0.9733\n",
            "Epoch 45/100\n",
            "351/351 [==============================] - 1s 2ms/step - loss: 0.3416 - accuracy: 0.9732\n",
            "Epoch 46/100\n",
            "351/351 [==============================] - 1s 2ms/step - loss: 0.4861 - accuracy: 0.9672\n",
            "Epoch 47/100\n",
            "351/351 [==============================] - 1s 2ms/step - loss: 0.6055 - accuracy: 0.9701\n",
            "Epoch 48/100\n",
            "351/351 [==============================] - 1s 2ms/step - loss: 0.3961 - accuracy: 0.9741\n",
            "Epoch 49/100\n",
            "351/351 [==============================] - 1s 2ms/step - loss: 0.3416 - accuracy: 0.9745\n",
            "Epoch 50/100\n",
            "351/351 [==============================] - 1s 2ms/step - loss: 0.3126 - accuracy: 0.9753\n",
            "Epoch 51/100\n",
            "351/351 [==============================] - 1s 2ms/step - loss: 0.3126 - accuracy: 0.9743\n",
            "Epoch 52/100\n",
            "351/351 [==============================] - 1s 2ms/step - loss: 0.3038 - accuracy: 0.9766\n",
            "Epoch 53/100\n",
            "351/351 [==============================] - 1s 2ms/step - loss: 0.2784 - accuracy: 0.9781\n",
            "Epoch 54/100\n",
            "351/351 [==============================] - 1s 2ms/step - loss: 0.3188 - accuracy: 0.9758\n",
            "Epoch 55/100\n",
            "351/351 [==============================] - 1s 2ms/step - loss: 0.3855 - accuracy: 0.9725\n",
            "Epoch 56/100\n",
            "351/351 [==============================] - 1s 2ms/step - loss: 0.3660 - accuracy: 0.9722\n",
            "Epoch 57/100\n",
            "351/351 [==============================] - 1s 2ms/step - loss: 0.2854 - accuracy: 0.9774\n",
            "Epoch 58/100\n",
            "351/351 [==============================] - 1s 2ms/step - loss: 0.3162 - accuracy: 0.9762\n",
            "Epoch 59/100\n",
            "351/351 [==============================] - 1s 2ms/step - loss: 0.3468 - accuracy: 0.9737\n",
            "Epoch 60/100\n",
            "351/351 [==============================] - 1s 2ms/step - loss: 0.3232 - accuracy: 0.9750\n",
            "Epoch 61/100\n",
            "351/351 [==============================] - 1s 2ms/step - loss: 0.3510 - accuracy: 0.9739\n",
            "Epoch 62/100\n",
            "351/351 [==============================] - 1s 2ms/step - loss: 0.3532 - accuracy: 0.9733\n",
            "Epoch 63/100\n",
            "351/351 [==============================] - 1s 2ms/step - loss: 0.3173 - accuracy: 0.9747\n",
            "Epoch 64/100\n",
            "351/351 [==============================] - 1s 2ms/step - loss: 0.3035 - accuracy: 0.9763\n",
            "Epoch 65/100\n",
            "351/351 [==============================] - 1s 2ms/step - loss: 0.2948 - accuracy: 0.9759\n",
            "Epoch 66/100\n",
            "351/351 [==============================] - 1s 2ms/step - loss: 0.3269 - accuracy: 0.9751\n",
            "Epoch 67/100\n",
            "351/351 [==============================] - 1s 2ms/step - loss: 0.3201 - accuracy: 0.9761\n",
            "Epoch 68/100\n",
            "351/351 [==============================] - 1s 2ms/step - loss: 0.3097 - accuracy: 0.9766\n",
            "Epoch 69/100\n",
            "351/351 [==============================] - 1s 2ms/step - loss: 0.3635 - accuracy: 0.9726\n",
            "Epoch 70/100\n",
            "351/351 [==============================] - 1s 2ms/step - loss: 0.3019 - accuracy: 0.9756\n",
            "Epoch 71/100\n",
            "351/351 [==============================] - 1s 2ms/step - loss: 0.3256 - accuracy: 0.9754\n",
            "Epoch 72/100\n",
            "351/351 [==============================] - 1s 2ms/step - loss: 0.3424 - accuracy: 0.9759\n",
            "Epoch 73/100\n",
            "351/351 [==============================] - 1s 2ms/step - loss: 0.3656 - accuracy: 0.9777\n",
            "Epoch 74/100\n",
            "351/351 [==============================] - 1s 2ms/step - loss: 0.4626 - accuracy: 0.9709\n",
            "Epoch 75/100\n",
            "351/351 [==============================] - 1s 2ms/step - loss: 0.8439 - accuracy: 0.9704\n",
            "Epoch 76/100\n",
            "351/351 [==============================] - 1s 2ms/step - loss: 0.4258 - accuracy: 0.9721\n",
            "Epoch 77/100\n",
            "351/351 [==============================] - 1s 2ms/step - loss: 0.3143 - accuracy: 0.9756\n",
            "Epoch 78/100\n",
            "351/351 [==============================] - 1s 2ms/step - loss: 0.2900 - accuracy: 0.9777\n",
            "Epoch 79/100\n",
            "351/351 [==============================] - 1s 2ms/step - loss: 0.3463 - accuracy: 0.9771\n",
            "Epoch 80/100\n",
            "351/351 [==============================] - 1s 2ms/step - loss: 0.3371 - accuracy: 0.9744\n",
            "Epoch 81/100\n",
            "351/351 [==============================] - 1s 2ms/step - loss: 0.3199 - accuracy: 0.9751\n",
            "Epoch 82/100\n",
            "351/351 [==============================] - 1s 2ms/step - loss: 0.4500 - accuracy: 0.9719\n",
            "Epoch 83/100\n",
            "351/351 [==============================] - 1s 2ms/step - loss: 0.2973 - accuracy: 0.9770\n",
            "Epoch 84/100\n",
            "351/351 [==============================] - 1s 2ms/step - loss: 0.2725 - accuracy: 0.9809\n",
            "Epoch 85/100\n",
            "351/351 [==============================] - 1s 2ms/step - loss: 0.3054 - accuracy: 0.9758\n",
            "Epoch 86/100\n",
            "351/351 [==============================] - 1s 2ms/step - loss: 0.2769 - accuracy: 0.9781\n",
            "Epoch 87/100\n",
            "351/351 [==============================] - 1s 2ms/step - loss: 0.3203 - accuracy: 0.9767\n",
            "Epoch 88/100\n",
            "351/351 [==============================] - 1s 2ms/step - loss: 0.3271 - accuracy: 0.9753\n",
            "Epoch 89/100\n",
            "351/351 [==============================] - 1s 2ms/step - loss: 0.3357 - accuracy: 0.9761\n",
            "Epoch 90/100\n",
            "351/351 [==============================] - 1s 2ms/step - loss: 0.5507 - accuracy: 0.9687\n",
            "Epoch 91/100\n",
            "351/351 [==============================] - 1s 2ms/step - loss: 0.3763 - accuracy: 0.9730\n",
            "Epoch 92/100\n",
            "351/351 [==============================] - 1s 2ms/step - loss: 0.3276 - accuracy: 0.9754\n",
            "Epoch 93/100\n",
            "351/351 [==============================] - 1s 2ms/step - loss: 0.3022 - accuracy: 0.9773\n",
            "Epoch 94/100\n",
            "351/351 [==============================] - 1s 2ms/step - loss: 0.2775 - accuracy: 0.9791\n",
            "Epoch 95/100\n",
            "351/351 [==============================] - 1s 2ms/step - loss: 0.3080 - accuracy: 0.9758\n",
            "Epoch 96/100\n",
            "351/351 [==============================] - 1s 2ms/step - loss: 0.3048 - accuracy: 0.9772\n",
            "Epoch 97/100\n",
            "351/351 [==============================] - 1s 2ms/step - loss: 0.3051 - accuracy: 0.9766\n",
            "Epoch 98/100\n",
            "351/351 [==============================] - 1s 2ms/step - loss: 0.2881 - accuracy: 0.9778\n",
            "Epoch 99/100\n",
            "351/351 [==============================] - 1s 2ms/step - loss: 0.2963 - accuracy: 0.9771\n",
            "Epoch 100/100\n",
            "351/351 [==============================] - 1s 2ms/step - loss: 0.3878 - accuracy: 0.9710\n"
          ]
        },
        {
          "output_type": "execute_result",
          "data": {
            "text/plain": [
              "<keras.callbacks.History at 0x7faad8babe90>"
            ]
          },
          "metadata": {},
          "execution_count": 291
        }
      ]
    },
    {
      "cell_type": "code",
      "metadata": {
        "colab": {
          "base_uri": "https://localhost:8080/"
        },
        "id": "EyNl7_bKBjTl",
        "outputId": "8cfd8857-32ba-4b1b-9e9d-08f67a3bab46"
      },
      "source": [
        "loss,accuracy = model.evaluate(X_test, y_test)\n",
        "print(loss, accuracy)"
      ],
      "execution_count": 287,
      "outputs": [
        {
          "output_type": "stream",
          "name": "stdout",
          "text": [
            "255/255 [==============================] - 0s 1ms/step - loss: 0.7816 - accuracy: 0.9587\n",
            "0.7816275954246521 0.9586706161499023\n"
          ]
        }
      ]
    },
    {
      "cell_type": "markdown",
      "metadata": {
        "id": "WSMcDJFaCdbi"
      },
      "source": [
        "## Predict on eval dataset for further labeling."
      ]
    },
    {
      "cell_type": "code",
      "metadata": {
        "id": "v1O3J-fUESee"
      },
      "source": [
        "y_pred = model.predict(X_test)\n",
        "y_cls = (y_pred > 0.5).astype(\"int32\")"
      ],
      "execution_count": 292,
      "outputs": []
    },
    {
      "cell_type": "code",
      "metadata": {
        "colab": {
          "base_uri": "https://localhost:8080/"
        },
        "id": "35pPz6XlH9bB",
        "outputId": "fc654701-fe8f-443b-9ace-f32f61d9edae"
      },
      "source": [
        "(y_pred > 0.5).sum()"
      ],
      "execution_count": 60,
      "outputs": [
        {
          "output_type": "execute_result",
          "data": {
            "text/plain": [
              "827"
            ]
          },
          "metadata": {},
          "execution_count": 60
        }
      ]
    },
    {
      "cell_type": "code",
      "metadata": {
        "id": "B91pKTF8JNYN"
      },
      "source": [
        "def eval_model(y_test, y_cls):\n",
        "  y1 = y_test.reshape(-1)\n",
        "  y2 = y_cls.reshape(-1)\n",
        "  print(roc_auc_score(y1, y2))\n",
        "  print(classification_report(y1,y2))\n",
        "  print(confusion_matrix(y1,y2))\n"
      ],
      "execution_count": 289,
      "outputs": []
    },
    {
      "cell_type": "code",
      "metadata": {
        "colab": {
          "base_uri": "https://localhost:8080/"
        },
        "id": "UWFMBYZxOSUk",
        "outputId": "e009f91b-41b3-46f4-d359-adc7a42154ee"
      },
      "source": [
        "eval_model(y_train, y_cls)"
      ],
      "execution_count": 284,
      "outputs": [
        {
          "output_type": "stream",
          "name": "stdout",
          "text": [
            "0.5355162712576108\n",
            "              precision    recall  f1-score   support\n",
            "\n",
            "         0.0       0.98      0.98      0.98     22000\n",
            "         1.0       0.09      0.09      0.09       433\n",
            "\n",
            "    accuracy                           0.97     22433\n",
            "   macro avg       0.54      0.54      0.54     22433\n",
            "weighted avg       0.96      0.97      0.97     22433\n",
            "\n",
            "[[21632   368]\n",
            " [  395    38]]\n"
          ]
        }
      ]
    },
    {
      "cell_type": "code",
      "metadata": {
        "colab": {
          "base_uri": "https://localhost:8080/"
        },
        "id": "9_zSyw6yoU1S",
        "outputId": "63e16b52-fe88-4eba-97ea-eab8a56aa27b"
      },
      "source": [
        "eval_model(y_train, y_cls)"
      ],
      "execution_count": 203,
      "outputs": [
        {
          "output_type": "stream",
          "name": "stdout",
          "text": [
            "0.5064665001502765\n",
            "              precision    recall  f1-score   support\n",
            "\n",
            "         0.0       0.99      0.67      0.80     36799\n",
            "         1.0       0.01      0.35      0.02       433\n",
            "\n",
            "    accuracy                           0.66     37232\n",
            "   macro avg       0.50      0.51      0.41     37232\n",
            "weighted avg       0.98      0.66      0.79     37232\n",
            "\n",
            "[[24527 12272]\n",
            " [  283   150]]\n"
          ]
        }
      ]
    },
    {
      "cell_type": "code",
      "metadata": {
        "colab": {
          "base_uri": "https://localhost:8080/"
        },
        "id": "BEGS90tDyMV6",
        "outputId": "29e97c6a-ee2d-4670-dbe4-cc78375a4242"
      },
      "source": [
        "eval_model(y_test, y_cls)"
      ],
      "execution_count": 290,
      "outputs": [
        {
          "output_type": "stream",
          "name": "stdout",
          "text": [
            "0.6254853896103897\n",
            "              precision    recall  f1-score   support\n",
            "\n",
            "         0.0       0.99      0.97      0.98      8000\n",
            "         1.0       0.16      0.28      0.20       154\n",
            "\n",
            "    accuracy                           0.96      8154\n",
            "   macro avg       0.57      0.63      0.59      8154\n",
            "weighted avg       0.97      0.96      0.96      8154\n",
            "\n",
            "[[7774  226]\n",
            " [ 111   43]]\n"
          ]
        }
      ]
    },
    {
      "cell_type": "code",
      "metadata": {
        "colab": {
          "base_uri": "https://localhost:8080/"
        },
        "id": "gloH4XtD02hn",
        "outputId": "9cbe6463-7018-44ee-f23d-5e38b751af9e"
      },
      "source": [
        "eval_model(y_test, y_cls)"
      ],
      "execution_count": 293,
      "outputs": [
        {
          "output_type": "stream",
          "name": "stdout",
          "text": [
            "0.6058798701298701\n",
            "              precision    recall  f1-score   support\n",
            "\n",
            "         0.0       0.99      0.97      0.98      8000\n",
            "         1.0       0.14      0.24      0.18       154\n",
            "\n",
            "    accuracy                           0.96      8154\n",
            "   macro avg       0.56      0.61      0.58      8154\n",
            "weighted avg       0.97      0.96      0.96      8154\n",
            "\n",
            "[[7772  228]\n",
            " [ 117   37]]\n"
          ]
        }
      ]
    },
    {
      "cell_type": "code",
      "metadata": {
        "id": "BYZigB-fymgd"
      },
      "source": [
        "def export_result(df_eval,y_pred):\n",
        "  '''\n",
        "  Attach the predicte result (probability) into original records.\n",
        "  Export to a csv file for further investication\n",
        "  '''\n",
        "  df_eval['predict'] = y_pred\n",
        "  df_eval['mid_value'] = abs(df_eval['predict'] - 0.5)\n",
        "  df_eval = df_eval.sort_values('mid_value')\n",
        "  value_limit = df_eval.iloc[200,-1]\n",
        "  df_record4label = df_eval[(df_eval['mid_value'] <= value_limit)|(df_eval['fraud'] == 1)]\n",
        "  path = '/content/drive/MyDrive/Colab Notebooks/finalproject/'\n",
        "  file_csv = path + 'for_label.csv'\n",
        "  df_record4label.to_csv(file_csv)\n",
        "  return True\n"
      ],
      "execution_count": 84,
      "outputs": []
    },
    {
      "cell_type": "code",
      "metadata": {
        "colab": {
          "base_uri": "https://localhost:8080/"
        },
        "id": "dI0Pw_Ur3xbd",
        "outputId": "75ccc644-ccd3-48ca-a126-7cfb9c8de1ef"
      },
      "source": [
        "record_to_label(df_eval,y_pred)"
      ],
      "execution_count": 85,
      "outputs": [
        {
          "output_type": "execute_result",
          "data": {
            "text/plain": [
              "True"
            ]
          },
          "metadata": {},
          "execution_count": 85
        }
      ]
    },
    {
      "cell_type": "code",
      "metadata": {
        "id": "uvKs4xdaXiuN"
      },
      "source": [
        ""
      ],
      "execution_count": null,
      "outputs": []
    }
  ]
}