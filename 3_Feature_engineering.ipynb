{
  "nbformat": 4,
  "nbformat_minor": 0,
  "metadata": {
    "colab": {
      "name": "3_Feature_engineering.ipynb",
      "provenance": [],
      "include_colab_link": true
    },
    "kernelspec": {
      "name": "python3",
      "display_name": "Python 3"
    },
    "language_info": {
      "name": "python"
    }
  },
  "cells": [
    {
      "cell_type": "markdown",
      "metadata": {
        "id": "view-in-github",
        "colab_type": "text"
      },
      "source": [
        "<a href=\"https://colab.research.google.com/github/ryanhao1115/ML-for-Fraud-Detection/blob/main/3_Feature_engineering.ipynb\" target=\"_parent\"><img src=\"https://colab.research.google.com/assets/colab-badge.svg\" alt=\"Open In Colab\"/></a>"
      ]
    },
    {
      "cell_type": "code",
      "metadata": {
        "colab": {
          "base_uri": "https://localhost:8080/"
        },
        "id": "cw0Mv1-t9zob",
        "outputId": "c181eddd-2203-4439-a04b-15977baa462d"
      },
      "source": [
        "from google.colab import drive\n",
        "drive.mount('/content/drive')"
      ],
      "execution_count": 1,
      "outputs": [
        {
          "output_type": "stream",
          "name": "stdout",
          "text": [
            "Mounted at /content/drive\n"
          ]
        }
      ]
    },
    {
      "cell_type": "markdown",
      "metadata": {
        "id": "yDH7596-E-qS"
      },
      "source": [
        "## Feature engineering\n",
        "1. Finalize the fileds needed for model training.\n",
        "2. Conver fileds into appropriate formats. "
      ]
    },
    {
      "cell_type": "code",
      "metadata": {
        "id": "tQKrmLk99-Mt"
      },
      "source": [
        "import pandas as pd\n",
        "import numpy as np"
      ],
      "execution_count": 2,
      "outputs": []
    },
    {
      "cell_type": "code",
      "metadata": {
        "colab": {
          "base_uri": "https://localhost:8080/"
        },
        "id": "BpthzMIP-Bvg",
        "outputId": "9c9e8cd2-d859-4286-81c4-c55783cf3f6f"
      },
      "source": [
        "## import dataset \n",
        "path = '/content/drive/MyDrive/Colab Notebooks/finalproject/'\n",
        "file = path + 'sales.csv'\n",
        "df = pd.read_csv(file,index_col=0)"
      ],
      "execution_count": 3,
      "outputs": [
        {
          "output_type": "stream",
          "name": "stderr",
          "text": [
            "/usr/local/lib/python3.7/dist-packages/IPython/core/interactiveshell.py:2718: DtypeWarning: Columns (16) have mixed types.Specify dtype option on import or set low_memory=False.\n",
            "  interactivity=interactivity, compiler=compiler, result=result)\n"
          ]
        }
      ]
    },
    {
      "cell_type": "code",
      "metadata": {
        "colab": {
          "base_uri": "https://localhost:8080/"
        },
        "id": "xvtkDxDx-MSP",
        "outputId": "9a2f81c7-999a-4619-fac6-b529a1d2f347"
      },
      "source": [
        "df.info()"
      ],
      "execution_count": null,
      "outputs": [
        {
          "output_type": "stream",
          "name": "stdout",
          "text": [
            "<class 'pandas.core.frame.DataFrame'>\n",
            "Int64Index: 248825 entries, 0 to 45763\n",
            "Data columns (total 20 columns):\n",
            " #   Column        Non-Null Count   Dtype  \n",
            "---  ------        --------------   -----  \n",
            " 0   distributor   248825 non-null  object \n",
            " 1   sales         248825 non-null  object \n",
            " 2   branch        248825 non-null  int64  \n",
            " 3   inv_type      248825 non-null  object \n",
            " 4   invoice_no    248825 non-null  int64  \n",
            " 5   line_item     248825 non-null  int64  \n",
            " 6   product_no    248825 non-null  object \n",
            " 7   prod_cla      248825 non-null  float64\n",
            " 8   qty           248825 non-null  int64  \n",
            " 9   total_amt     248825 non-null  float64\n",
            " 10  sale_price    248825 non-null  float64\n",
            " 11  status        248825 non-null  object \n",
            " 12  ship_qty      248825 non-null  int64  \n",
            " 13  cust_type     248825 non-null  object \n",
            " 14  return        248825 non-null  object \n",
            " 15  discount_app  248825 non-null  object \n",
            " 16  list_price    248825 non-null  float64\n",
            " 17  invoice_date  248825 non-null  object \n",
            " 18  ship_date     248825 non-null  object \n",
            " 19  request_ship  248825 non-null  object \n",
            "dtypes: float64(4), int64(5), object(11)\n",
            "memory usage: 39.9+ MB\n"
          ]
        }
      ]
    },
    {
      "cell_type": "code",
      "metadata": {
        "colab": {
          "base_uri": "https://localhost:8080/"
        },
        "id": "cTKMxGCm9gtF",
        "outputId": "8e6cf945-5cd0-44ec-8f96-98d2f2498447"
      },
      "source": [
        "df.nunique()"
      ],
      "execution_count": null,
      "outputs": [
        {
          "output_type": "execute_result",
          "data": {
            "text/plain": [
              "distributor        639\n",
              "sales              209\n",
              "branch              28\n",
              "inv_type             3\n",
              "invoice_no       30721\n",
              "product_no        1094\n",
              "prod_cla             7\n",
              "qty                202\n",
              "total_amt        16112\n",
              "sale_price        8598\n",
              "ship_qty           202\n",
              "cust_type           20\n",
              "return               2\n",
              "discount_app         2\n",
              "list_price        6720\n",
              "inv_ship_days      133\n",
              "dtype: int64"
            ]
          },
          "metadata": {},
          "execution_count": 45
        }
      ]
    },
    {
      "cell_type": "code",
      "metadata": {
        "colab": {
          "base_uri": "https://localhost:8080/"
        },
        "id": "mKMJ12Xb-fEv",
        "outputId": "1afa9c64-d6fe-43e3-f0af-4e0ae2f2bbd3"
      },
      "source": [
        "(df['return'] == 'No').sum()"
      ],
      "execution_count": null,
      "outputs": [
        {
          "output_type": "execute_result",
          "data": {
            "text/plain": [
              "228413"
            ]
          },
          "metadata": {},
          "execution_count": 38
        }
      ]
    },
    {
      "cell_type": "code",
      "metadata": {
        "id": "41eZX2lyAjNK"
      },
      "source": [
        "df.head()"
      ],
      "execution_count": null,
      "outputs": []
    },
    {
      "cell_type": "code",
      "metadata": {
        "colab": {
          "base_uri": "https://localhost:8080/",
          "height": 331
        },
        "id": "08yuqP4sIWkr",
        "outputId": "f3966155-2e92-4c55-e490-3ce306be8336"
      },
      "source": [
        "df.corr()"
      ],
      "execution_count": null,
      "outputs": [
        {
          "output_type": "execute_result",
          "data": {
            "text/html": [
              "<div>\n",
              "<style scoped>\n",
              "    .dataframe tbody tr th:only-of-type {\n",
              "        vertical-align: middle;\n",
              "    }\n",
              "\n",
              "    .dataframe tbody tr th {\n",
              "        vertical-align: top;\n",
              "    }\n",
              "\n",
              "    .dataframe thead th {\n",
              "        text-align: right;\n",
              "    }\n",
              "</style>\n",
              "<table border=\"1\" class=\"dataframe\">\n",
              "  <thead>\n",
              "    <tr style=\"text-align: right;\">\n",
              "      <th></th>\n",
              "      <th>branch</th>\n",
              "      <th>invoice_no</th>\n",
              "      <th>line_item</th>\n",
              "      <th>prod_cla</th>\n",
              "      <th>qty</th>\n",
              "      <th>total_amt</th>\n",
              "      <th>sale_price</th>\n",
              "      <th>ship_qty</th>\n",
              "      <th>list_price</th>\n",
              "    </tr>\n",
              "  </thead>\n",
              "  <tbody>\n",
              "    <tr>\n",
              "      <th>branch</th>\n",
              "      <td>1.000000</td>\n",
              "      <td>-0.049594</td>\n",
              "      <td>-0.121279</td>\n",
              "      <td>-0.122295</td>\n",
              "      <td>-0.172125</td>\n",
              "      <td>-0.085552</td>\n",
              "      <td>-0.119623</td>\n",
              "      <td>-0.179482</td>\n",
              "      <td>-0.120791</td>\n",
              "    </tr>\n",
              "    <tr>\n",
              "      <th>invoice_no</th>\n",
              "      <td>-0.049594</td>\n",
              "      <td>1.000000</td>\n",
              "      <td>-0.119274</td>\n",
              "      <td>-0.006354</td>\n",
              "      <td>-0.073161</td>\n",
              "      <td>-0.090843</td>\n",
              "      <td>0.017959</td>\n",
              "      <td>-0.051587</td>\n",
              "      <td>0.018929</td>\n",
              "    </tr>\n",
              "    <tr>\n",
              "      <th>line_item</th>\n",
              "      <td>-0.121279</td>\n",
              "      <td>-0.119274</td>\n",
              "      <td>1.000000</td>\n",
              "      <td>0.008218</td>\n",
              "      <td>0.102291</td>\n",
              "      <td>0.099527</td>\n",
              "      <td>0.002805</td>\n",
              "      <td>0.102599</td>\n",
              "      <td>0.002651</td>\n",
              "    </tr>\n",
              "    <tr>\n",
              "      <th>prod_cla</th>\n",
              "      <td>-0.122295</td>\n",
              "      <td>-0.006354</td>\n",
              "      <td>0.008218</td>\n",
              "      <td>1.000000</td>\n",
              "      <td>0.018270</td>\n",
              "      <td>-0.001710</td>\n",
              "      <td>0.007406</td>\n",
              "      <td>0.018294</td>\n",
              "      <td>0.007674</td>\n",
              "    </tr>\n",
              "    <tr>\n",
              "      <th>qty</th>\n",
              "      <td>-0.172125</td>\n",
              "      <td>-0.073161</td>\n",
              "      <td>0.102291</td>\n",
              "      <td>0.018270</td>\n",
              "      <td>1.000000</td>\n",
              "      <td>0.605014</td>\n",
              "      <td>-0.006894</td>\n",
              "      <td>0.947562</td>\n",
              "      <td>-0.006931</td>\n",
              "    </tr>\n",
              "    <tr>\n",
              "      <th>total_amt</th>\n",
              "      <td>-0.085552</td>\n",
              "      <td>-0.090843</td>\n",
              "      <td>0.099527</td>\n",
              "      <td>-0.001710</td>\n",
              "      <td>0.605014</td>\n",
              "      <td>1.000000</td>\n",
              "      <td>-0.397724</td>\n",
              "      <td>0.605055</td>\n",
              "      <td>-0.398421</td>\n",
              "    </tr>\n",
              "    <tr>\n",
              "      <th>sale_price</th>\n",
              "      <td>-0.119623</td>\n",
              "      <td>0.017959</td>\n",
              "      <td>0.002805</td>\n",
              "      <td>0.007406</td>\n",
              "      <td>-0.006894</td>\n",
              "      <td>-0.397724</td>\n",
              "      <td>1.000000</td>\n",
              "      <td>-0.006702</td>\n",
              "      <td>0.999939</td>\n",
              "    </tr>\n",
              "    <tr>\n",
              "      <th>ship_qty</th>\n",
              "      <td>-0.179482</td>\n",
              "      <td>-0.051587</td>\n",
              "      <td>0.102599</td>\n",
              "      <td>0.018294</td>\n",
              "      <td>0.947562</td>\n",
              "      <td>0.605055</td>\n",
              "      <td>-0.006702</td>\n",
              "      <td>1.000000</td>\n",
              "      <td>-0.006719</td>\n",
              "    </tr>\n",
              "    <tr>\n",
              "      <th>list_price</th>\n",
              "      <td>-0.120791</td>\n",
              "      <td>0.018929</td>\n",
              "      <td>0.002651</td>\n",
              "      <td>0.007674</td>\n",
              "      <td>-0.006931</td>\n",
              "      <td>-0.398421</td>\n",
              "      <td>0.999939</td>\n",
              "      <td>-0.006719</td>\n",
              "      <td>1.000000</td>\n",
              "    </tr>\n",
              "  </tbody>\n",
              "</table>\n",
              "</div>"
            ],
            "text/plain": [
              "              branch  invoice_no  line_item  ...  sale_price  ship_qty  list_price\n",
              "branch      1.000000   -0.049594  -0.121279  ...   -0.119623 -0.179482   -0.120791\n",
              "invoice_no -0.049594    1.000000  -0.119274  ...    0.017959 -0.051587    0.018929\n",
              "line_item  -0.121279   -0.119274   1.000000  ...    0.002805  0.102599    0.002651\n",
              "prod_cla   -0.122295   -0.006354   0.008218  ...    0.007406  0.018294    0.007674\n",
              "qty        -0.172125   -0.073161   0.102291  ...   -0.006894  0.947562   -0.006931\n",
              "total_amt  -0.085552   -0.090843   0.099527  ...   -0.397724  0.605055   -0.398421\n",
              "sale_price -0.119623    0.017959   0.002805  ...    1.000000 -0.006702    0.999939\n",
              "ship_qty   -0.179482   -0.051587   0.102599  ...   -0.006702  1.000000   -0.006719\n",
              "list_price -0.120791    0.018929   0.002651  ...    0.999939 -0.006719    1.000000\n",
              "\n",
              "[9 rows x 9 columns]"
            ]
          },
          "metadata": {},
          "execution_count": 5
        }
      ]
    },
    {
      "cell_type": "code",
      "metadata": {
        "colab": {
          "base_uri": "https://localhost:8080/",
          "height": 320
        },
        "id": "lZ1oPlCzIlWq",
        "outputId": "3fafc6ef-351d-4e3e-86c6-885c002f4ab8"
      },
      "source": [
        "df.describe()"
      ],
      "execution_count": null,
      "outputs": [
        {
          "output_type": "execute_result",
          "data": {
            "text/html": [
              "<div>\n",
              "<style scoped>\n",
              "    .dataframe tbody tr th:only-of-type {\n",
              "        vertical-align: middle;\n",
              "    }\n",
              "\n",
              "    .dataframe tbody tr th {\n",
              "        vertical-align: top;\n",
              "    }\n",
              "\n",
              "    .dataframe thead th {\n",
              "        text-align: right;\n",
              "    }\n",
              "</style>\n",
              "<table border=\"1\" class=\"dataframe\">\n",
              "  <thead>\n",
              "    <tr style=\"text-align: right;\">\n",
              "      <th></th>\n",
              "      <th>branch</th>\n",
              "      <th>invoice_no</th>\n",
              "      <th>line_item</th>\n",
              "      <th>prod_cla</th>\n",
              "      <th>qty</th>\n",
              "      <th>total_amt</th>\n",
              "      <th>sale_price</th>\n",
              "      <th>ship_qty</th>\n",
              "      <th>list_price</th>\n",
              "    </tr>\n",
              "  </thead>\n",
              "  <tbody>\n",
              "    <tr>\n",
              "      <th>count</th>\n",
              "      <td>248825.000000</td>\n",
              "      <td>2.488250e+05</td>\n",
              "      <td>248825.000000</td>\n",
              "      <td>248825.000000</td>\n",
              "      <td>248825.000000</td>\n",
              "      <td>2.488250e+05</td>\n",
              "      <td>2.488250e+05</td>\n",
              "      <td>248825.000000</td>\n",
              "      <td>2.488250e+05</td>\n",
              "    </tr>\n",
              "    <tr>\n",
              "      <th>mean</th>\n",
              "      <td>715065.076918</td>\n",
              "      <td>2.266587e+09</td>\n",
              "      <td>122.754144</td>\n",
              "      <td>11020.197569</td>\n",
              "      <td>1.815529</td>\n",
              "      <td>4.610675e+03</td>\n",
              "      <td>3.198007e+03</td>\n",
              "      <td>1.852169</td>\n",
              "      <td>3.619291e+03</td>\n",
              "    </tr>\n",
              "    <tr>\n",
              "      <th>std</th>\n",
              "      <td>56423.284561</td>\n",
              "      <td>5.348107e+08</td>\n",
              "      <td>204.562274</td>\n",
              "      <td>12.469784</td>\n",
              "      <td>11.153265</td>\n",
              "      <td>2.801579e+04</td>\n",
              "      <td>1.438295e+04</td>\n",
              "      <td>10.292674</td>\n",
              "      <td>1.634524e+04</td>\n",
              "    </tr>\n",
              "    <tr>\n",
              "      <th>min</th>\n",
              "      <td>72010.000000</td>\n",
              "      <td>1.103721e+09</td>\n",
              "      <td>10.000000</td>\n",
              "      <td>9999.000000</td>\n",
              "      <td>-542.000000</td>\n",
              "      <td>-4.004956e+06</td>\n",
              "      <td>-3.069569e+04</td>\n",
              "      <td>0.000000</td>\n",
              "      <td>-3.560700e+04</td>\n",
              "    </tr>\n",
              "    <tr>\n",
              "      <th>25%</th>\n",
              "      <td>720008.000000</td>\n",
              "      <td>2.111335e+09</td>\n",
              "      <td>40.000000</td>\n",
              "      <td>11020.000000</td>\n",
              "      <td>1.000000</td>\n",
              "      <td>3.982300e+02</td>\n",
              "      <td>4.031900e+02</td>\n",
              "      <td>1.000000</td>\n",
              "      <td>4.564300e+02</td>\n",
              "    </tr>\n",
              "    <tr>\n",
              "      <th>50%</th>\n",
              "      <td>720013.000000</td>\n",
              "      <td>2.111365e+09</td>\n",
              "      <td>80.000000</td>\n",
              "      <td>11020.000000</td>\n",
              "      <td>1.000000</td>\n",
              "      <td>2.094830e+03</td>\n",
              "      <td>2.123890e+03</td>\n",
              "      <td>1.000000</td>\n",
              "      <td>2.400000e+03</td>\n",
              "    </tr>\n",
              "    <tr>\n",
              "      <th>75%</th>\n",
              "      <td>720021.000000</td>\n",
              "      <td>2.111394e+09</td>\n",
              "      <td>130.000000</td>\n",
              "      <td>11020.000000</td>\n",
              "      <td>1.000000</td>\n",
              "      <td>4.017970e+03</td>\n",
              "      <td>3.628320e+03</td>\n",
              "      <td>1.000000</td>\n",
              "      <td>4.100000e+03</td>\n",
              "    </tr>\n",
              "    <tr>\n",
              "      <th>max</th>\n",
              "      <td>720037.000000</td>\n",
              "      <td>4.200000e+09</td>\n",
              "      <td>3960.000000</td>\n",
              "      <td>11060.000000</td>\n",
              "      <td>1189.000000</td>\n",
              "      <td>2.051452e+06</td>\n",
              "      <td>4.004956e+06</td>\n",
              "      <td>1189.000000</td>\n",
              "      <td>4.525600e+06</td>\n",
              "    </tr>\n",
              "  </tbody>\n",
              "</table>\n",
              "</div>"
            ],
            "text/plain": [
              "              branch    invoice_no  ...       ship_qty    list_price\n",
              "count  248825.000000  2.488250e+05  ...  248825.000000  2.488250e+05\n",
              "mean   715065.076918  2.266587e+09  ...       1.852169  3.619291e+03\n",
              "std     56423.284561  5.348107e+08  ...      10.292674  1.634524e+04\n",
              "min     72010.000000  1.103721e+09  ...       0.000000 -3.560700e+04\n",
              "25%    720008.000000  2.111335e+09  ...       1.000000  4.564300e+02\n",
              "50%    720013.000000  2.111365e+09  ...       1.000000  2.400000e+03\n",
              "75%    720021.000000  2.111394e+09  ...       1.000000  4.100000e+03\n",
              "max    720037.000000  4.200000e+09  ...    1189.000000  4.525600e+06\n",
              "\n",
              "[8 rows x 9 columns]"
            ]
          },
          "metadata": {},
          "execution_count": 6
        }
      ]
    },
    {
      "cell_type": "code",
      "metadata": {
        "id": "lv6oPCypgdxS"
      },
      "source": [
        "## Analyze the relationship among 'branch','distributor' and 'sales'\n",
        "df_b_s = df.groupby(['branch','sales'],as_index=False)['qty'].count()\n",
        "df_b_s.sales.duplicated().sum()"
      ],
      "execution_count": null,
      "outputs": []
    },
    {
      "cell_type": "code",
      "metadata": {
        "colab": {
          "base_uri": "https://localhost:8080/"
        },
        "id": "uL_jWzvog9CI",
        "outputId": "612d8227-c154-4d5b-f0c4-d8a9c1a551e9"
      },
      "source": [
        "df_b_s = df.groupby(['branch','distributor'],as_index=False)['qty'].count()\n",
        "df_b_s.distributor.duplicated().sum()"
      ],
      "execution_count": null,
      "outputs": [
        {
          "output_type": "execute_result",
          "data": {
            "text/plain": [
              "175"
            ]
          },
          "metadata": {},
          "execution_count": 15
        }
      ]
    },
    {
      "cell_type": "code",
      "metadata": {
        "colab": {
          "base_uri": "https://localhost:8080/"
        },
        "id": "C9z6IppLjI9M",
        "outputId": "611fed28-28cf-42b3-8949-850ca9b6bf1d"
      },
      "source": [
        "df_b_s = df.groupby(['sales','distributor'],as_index=False)['qty'].count()\n",
        "df_b_s.distributor.duplicated().sum()"
      ],
      "execution_count": null,
      "outputs": [
        {
          "output_type": "execute_result",
          "data": {
            "text/plain": [
              "801"
            ]
          },
          "metadata": {},
          "execution_count": 16
        }
      ]
    },
    {
      "cell_type": "code",
      "metadata": {
        "id": "oKH_nhMlqg8c"
      },
      "source": [
        "def count_days(df):\n",
        "  '''\n",
        "  convert date fields to date type.  \n",
        "  Calculate the difference between invoice date and ship date in days\n",
        "  '''\n",
        "  df['ship_date'] =  pd.to_datetime(df['ship_date'])\n",
        "  df['invoice_date'] =  pd.to_datetime(df['invoice_date'])\n",
        "  df['inv_ship_days'] = (df['ship_date']-df['invoice_date']).dt.days\n",
        "  return df\n"
      ],
      "execution_count": 4,
      "outputs": []
    },
    {
      "cell_type": "code",
      "metadata": {
        "id": "DdGmOd9RvXbX"
      },
      "source": [
        "df = count_days(df)"
      ],
      "execution_count": 5,
      "outputs": []
    },
    {
      "cell_type": "code",
      "metadata": {
        "colab": {
          "base_uri": "https://localhost:8080/"
        },
        "id": "vkDMrRlJvb8C",
        "outputId": "f53a6f34-510d-493f-d357-d7d10cb6eff8"
      },
      "source": [
        "df['inv_ship_days'].describe()"
      ],
      "execution_count": 6,
      "outputs": [
        {
          "output_type": "execute_result",
          "data": {
            "text/plain": [
              "count    248825.000000\n",
              "mean         19.276094\n",
              "std          52.177451\n",
              "min          -1.000000\n",
              "25%           2.000000\n",
              "50%           3.000000\n",
              "75%           6.000000\n",
              "max         239.000000\n",
              "Name: inv_ship_days, dtype: float64"
            ]
          },
          "metadata": {},
          "execution_count": 6
        }
      ]
    },
    {
      "cell_type": "code",
      "metadata": {
        "id": "e34cua1LjZuL"
      },
      "source": [
        "def remove_unnecessary(df):\n",
        "  '''\n",
        "  remove all unnecessary rows and columns\n",
        "  '''\n",
        "  df = df[(df['qty'] > 0) & (df['sale_price'] > 0)]\n",
        "  col = ['line_item','request_ship','status','ship_date','invoice_date']\n",
        "  df = df.drop(columns=col)\n",
        "  return df"
      ],
      "execution_count": 7,
      "outputs": []
    },
    {
      "cell_type": "code",
      "metadata": {
        "id": "CZ8EqSAOLAYg"
      },
      "source": [
        "df = remove_unnecessary(df)"
      ],
      "execution_count": 8,
      "outputs": []
    },
    {
      "cell_type": "code",
      "metadata": {
        "colab": {
          "base_uri": "https://localhost:8080/"
        },
        "id": "t7fZ4v2mLMgf",
        "outputId": "20218767-8530-48e4-ca58-21804b1a3e7c"
      },
      "source": [
        "df.info()"
      ],
      "execution_count": null,
      "outputs": [
        {
          "output_type": "stream",
          "name": "stdout",
          "text": [
            "<class 'pandas.core.frame.DataFrame'>\n",
            "Int64Index: 228601 entries, 0 to 42431\n",
            "Data columns (total 16 columns):\n",
            " #   Column         Non-Null Count   Dtype  \n",
            "---  ------         --------------   -----  \n",
            " 0   distributor    228601 non-null  object \n",
            " 1   sales          228601 non-null  object \n",
            " 2   branch         228601 non-null  int64  \n",
            " 3   inv_type       228601 non-null  object \n",
            " 4   invoice_no     228601 non-null  int64  \n",
            " 5   product_no     228601 non-null  object \n",
            " 6   prod_cla       228601 non-null  float64\n",
            " 7   qty            228601 non-null  int64  \n",
            " 8   total_amt      228601 non-null  float64\n",
            " 9   sale_price     228601 non-null  float64\n",
            " 10  ship_qty       228601 non-null  int64  \n",
            " 11  cust_type      228601 non-null  object \n",
            " 12  return         228601 non-null  object \n",
            " 13  discount_app   228601 non-null  object \n",
            " 14  list_price     228601 non-null  float64\n",
            " 15  inv_ship_days  228601 non-null  int64  \n",
            "dtypes: float64(4), int64(5), object(7)\n",
            "memory usage: 29.6+ MB\n"
          ]
        }
      ]
    },
    {
      "cell_type": "code",
      "metadata": {
        "id": "5ZWkdeyKPsBu"
      },
      "source": [
        "## Transform 'return' and 'discount_app' fields\n",
        "def judge_no(cla):\n",
        "  if cla == 'No':\n",
        "    return 0\n",
        "  else:\n",
        "    return 1\n",
        "\n",
        "def feature_transform(df):\n",
        "  '''\n",
        "  Transform 'return' and 'discount_app' into binomial value.\n",
        "  Basically, identify yes or no 'return'/'discount_app'\n",
        "  '''\n",
        "  df['return'] = df['return'].apply(judge_no)\n",
        "  df['discount_app'] = df['discount_app'].apply(judge_no)\n",
        "  return df\n"
      ],
      "execution_count": 9,
      "outputs": []
    },
    {
      "cell_type": "code",
      "metadata": {
        "id": "HFf-nHJGRn6d"
      },
      "source": [
        "df = feature_transform(df)"
      ],
      "execution_count": 10,
      "outputs": []
    },
    {
      "cell_type": "code",
      "metadata": {
        "colab": {
          "base_uri": "https://localhost:8080/"
        },
        "id": "h9bgSJqzRqJa",
        "outputId": "56a45a17-cc15-432a-b8be-8de06a3b6929"
      },
      "source": [
        "df.info()"
      ],
      "execution_count": 11,
      "outputs": [
        {
          "output_type": "stream",
          "name": "stdout",
          "text": [
            "<class 'pandas.core.frame.DataFrame'>\n",
            "Int64Index: 228601 entries, 0 to 42431\n",
            "Data columns (total 16 columns):\n",
            " #   Column         Non-Null Count   Dtype  \n",
            "---  ------         --------------   -----  \n",
            " 0   distributor    228601 non-null  object \n",
            " 1   sales          228601 non-null  object \n",
            " 2   branch         228601 non-null  int64  \n",
            " 3   inv_type       228601 non-null  object \n",
            " 4   invoice_no     228601 non-null  int64  \n",
            " 5   product_no     228601 non-null  object \n",
            " 6   prod_cla       228601 non-null  float64\n",
            " 7   qty            228601 non-null  int64  \n",
            " 8   total_amt      228601 non-null  float64\n",
            " 9   sale_price     228601 non-null  float64\n",
            " 10  ship_qty       228601 non-null  int64  \n",
            " 11  cust_type      228601 non-null  object \n",
            " 12  return         228601 non-null  int64  \n",
            " 13  discount_app   228601 non-null  int64  \n",
            " 14  list_price     228601 non-null  float64\n",
            " 15  inv_ship_days  228601 non-null  int64  \n",
            "dtypes: float64(4), int64(7), object(5)\n",
            "memory usage: 29.6+ MB\n"
          ]
        }
      ]
    },
    {
      "cell_type": "code",
      "metadata": {
        "id": "Ha31gdb7UxRQ"
      },
      "source": [
        "## Extract dataset for next steps\n",
        "path = '/content/drive/MyDrive/Colab Notebooks/finalproject/'\n",
        "file_csv = path + 'sales_clean.csv'\n",
        "df.to_csv(file_csv)"
      ],
      "execution_count": 12,
      "outputs": []
    }
  ]
}