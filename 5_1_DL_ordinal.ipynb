{
  "nbformat": 4,
  "nbformat_minor": 0,
  "metadata": {
    "colab": {
      "name": "5_1_DL_ordinal.ipynb",
      "provenance": [],
      "authorship_tag": "ABX9TyMUuNkiE7zXBfBXL9P7NrCV",
      "include_colab_link": true
    },
    "kernelspec": {
      "name": "python3",
      "display_name": "Python 3"
    },
    "language_info": {
      "name": "python"
    },
    "accelerator": "TPU"
  },
  "cells": [
    {
      "cell_type": "markdown",
      "metadata": {
        "id": "view-in-github",
        "colab_type": "text"
      },
      "source": [
        "<a href=\"https://colab.research.google.com/github/ryanhao1115/ML-for-Fraud-Detection/blob/main/5_1_DL_ordinal.ipynb\" target=\"_parent\"><img src=\"https://colab.research.google.com/assets/colab-badge.svg\" alt=\"Open In Colab\"/></a>"
      ]
    },
    {
      "cell_type": "code",
      "metadata": {
        "colab": {
          "base_uri": "https://localhost:8080/"
        },
        "id": "ndtW0FwNmcWr",
        "outputId": "12f55f55-2aab-4c1f-8793-911b70f2924d"
      },
      "source": [
        "from google.colab import drive\n",
        "drive.mount('/content/drive')"
      ],
      "execution_count": 1,
      "outputs": [
        {
          "output_type": "stream",
          "name": "stdout",
          "text": [
            "Mounted at /content/drive\n"
          ]
        }
      ]
    },
    {
      "cell_type": "markdown",
      "metadata": {
        "id": "oINI7xYSmpo8"
      },
      "source": [
        "## Deep Learning model with Ordinal encoding data\n",
        "1. import new return label data.\n",
        "2. Under sampling data to address imbalance class issue.\n",
        "4. Train model\n",
        "5. Eval model\n",
        "6. Create Risk-heatmap"
      ]
    },
    {
      "cell_type": "code",
      "metadata": {
        "id": "6Gc_G68myO1w"
      },
      "source": [
        "import pandas as pd\n",
        "import numpy as np\n",
        "from sklearn.preprocessing import LabelEncoder\n",
        "from sklearn.preprocessing import StandardScaler\n",
        "from keras.models import Sequential\n",
        "from keras.layers import Dense\n",
        "from keras.callbacks import EarlyStopping\n",
        "from keras.backend import clear_session\n",
        "from sklearn.metrics import classification_report, roc_auc_score, confusion_matrix\n",
        "import tensorflow as tf\n",
        "import random\n"
      ],
      "execution_count": 138,
      "outputs": []
    },
    {
      "cell_type": "code",
      "metadata": {
        "id": "wr3fxm5Waw2H"
      },
      "source": [
        "def reset_seeds():\n",
        "    '''\n",
        "    reset random seeds for modeling\n",
        "    '''\n",
        "    np.random.seed(1)\n",
        "    random.seed(2)\n",
        "    if tf.__version__[0] == '2':\n",
        "        tf.random.set_seed(3)\n",
        "    else:\n",
        "        tf.set_random_seed(3)\n",
        "    print(\"RANDOM SEEDS RESET\")"
      ],
      "execution_count": 77,
      "outputs": []
    },
    {
      "cell_type": "code",
      "metadata": {
        "id": "EB5yPnJdyRnG"
      },
      "source": [
        "## import dataset \n",
        "path = '/content/drive/MyDrive/Colab Notebooks/finalproject/'\n",
        "file = path + 'sales_clean.csv'\n",
        "df = pd.read_csv(file)"
      ],
      "execution_count": 5,
      "outputs": []
    },
    {
      "cell_type": "code",
      "metadata": {
        "id": "zM0xX0nKWIu0"
      },
      "source": [
        "df = df.drop(columns='Unnamed: 0')"
      ],
      "execution_count": 6,
      "outputs": []
    },
    {
      "cell_type": "code",
      "metadata": {
        "colab": {
          "base_uri": "https://localhost:8080/"
        },
        "id": "tXuAbPlSyWVW",
        "outputId": "e12cbefe-322b-41c4-f4cd-0661483ad5f7"
      },
      "source": [
        "df.nunique()"
      ],
      "execution_count": 7,
      "outputs": [
        {
          "output_type": "execute_result",
          "data": {
            "text/plain": [
              "distributor        639\n",
              "sales              209\n",
              "branch              28\n",
              "inv_type             3\n",
              "invoice_no       30721\n",
              "product_no        1094\n",
              "prod_cla             7\n",
              "qty                202\n",
              "total_amt        16112\n",
              "sale_price        8598\n",
              "ship_qty           202\n",
              "cust_type           20\n",
              "return               2\n",
              "discount_app         2\n",
              "list_price        6720\n",
              "inv_ship_days      133\n",
              "dtype: int64"
            ]
          },
          "metadata": {},
          "execution_count": 7
        }
      ]
    },
    {
      "cell_type": "markdown",
      "metadata": {
        "id": "lCCJjJWqGLvU"
      },
      "source": [
        "## import return label data"
      ]
    },
    {
      "cell_type": "code",
      "metadata": {
        "id": "cYVtnDc2HXFA"
      },
      "source": [
        "## import fraud data\n",
        "file = path + 'frauds.csv'\n",
        "df_fraud = pd.read_csv(file,header=None)\n",
        "df_fraud.columns = ['invoice_no']"
      ],
      "execution_count": 8,
      "outputs": []
    },
    {
      "cell_type": "code",
      "metadata": {
        "id": "YntiE6PVIrPC"
      },
      "source": [
        "## import return new labeled data\n",
        "file = path + 'return.csv'\n",
        "df_fraud2 = pd.read_csv(file,header=None)\n",
        "df_fraud2.columns = ['invoice_no']"
      ],
      "execution_count": 9,
      "outputs": []
    },
    {
      "cell_type": "code",
      "metadata": {
        "colab": {
          "base_uri": "https://localhost:8080/"
        },
        "id": "CiNt30SZf6aD",
        "outputId": "9ad2d057-388f-4348-b8d4-89c9b1d3c26e"
      },
      "source": [
        "len(df_fraud2)"
      ],
      "execution_count": 10,
      "outputs": [
        {
          "output_type": "execute_result",
          "data": {
            "text/plain": [
              "24"
            ]
          },
          "metadata": {},
          "execution_count": 10
        }
      ]
    },
    {
      "cell_type": "code",
      "metadata": {
        "id": "bo6Q08-CJyOv"
      },
      "source": [
        "def label_fraud(df, df_fraud, df_fraud2):\n",
        "  df['fraud'] = np.zeros(len(df))\n",
        "  frauds_l = df_fraud['invoice_no'].to_list()\n",
        "  frauds_l2 = df_fraud2['invoice_no'].to_list()\n",
        "  df.loc[df['invoice_no'].isin(frauds_l),'fraud'] = 1\n",
        "  df.loc[df['invoice_no'].isin(frauds_l2),'fraud'] = 2\n",
        "  return df"
      ],
      "execution_count": 11,
      "outputs": []
    },
    {
      "cell_type": "code",
      "metadata": {
        "id": "y0iwhuZ_XIpE"
      },
      "source": [
        "df = label_fraud(df, df_fraud,df_fraud2)"
      ],
      "execution_count": 12,
      "outputs": []
    },
    {
      "cell_type": "code",
      "metadata": {
        "colab": {
          "base_uri": "https://localhost:8080/"
        },
        "id": "S6y811N2NJZS",
        "outputId": "4a05289e-b7e3-407b-e8a4-3fccd22e35f2"
      },
      "source": [
        "df['fraud'].value_counts()"
      ],
      "execution_count": 13,
      "outputs": [
        {
          "output_type": "execute_result",
          "data": {
            "text/plain": [
              "0.0    228014\n",
              "2.0       433\n",
              "1.0       154\n",
              "Name: fraud, dtype: int64"
            ]
          },
          "metadata": {},
          "execution_count": 13
        }
      ]
    },
    {
      "cell_type": "markdown",
      "metadata": {
        "id": "zYRaXHXsP07P"
      },
      "source": [
        "## Resampling to address the imbalance class\n",
        "Because fraud labels are given to invoice level, need to keep records of same invoice together. "
      ]
    },
    {
      "cell_type": "code",
      "metadata": {
        "id": "d7PpSBXyT1iz"
      },
      "source": [
        "df_fraud = df[df['fraud'] == 1]\n",
        "df_non_fraud = df[df['fraud'] == 0]\n",
        "df_fraud2 = df[df['fraud'] == 2]"
      ],
      "execution_count": 20,
      "outputs": []
    },
    {
      "cell_type": "code",
      "metadata": {
        "colab": {
          "base_uri": "https://localhost:8080/"
        },
        "id": "eGH1pJ_JVnr7",
        "outputId": "1b2450fe-0cad-4483-b6b9-788a7d84a7b3"
      },
      "source": [
        "df_fraud2.info()"
      ],
      "execution_count": 21,
      "outputs": [
        {
          "output_type": "stream",
          "name": "stdout",
          "text": [
            "<class 'pandas.core.frame.DataFrame'>\n",
            "Int64Index: 433 entries, 19646 to 217825\n",
            "Data columns (total 17 columns):\n",
            " #   Column         Non-Null Count  Dtype  \n",
            "---  ------         --------------  -----  \n",
            " 0   distributor    433 non-null    object \n",
            " 1   sales          433 non-null    object \n",
            " 2   branch         433 non-null    int64  \n",
            " 3   inv_type       433 non-null    object \n",
            " 4   invoice_no     433 non-null    int64  \n",
            " 5   product_no     433 non-null    object \n",
            " 6   prod_cla       433 non-null    float64\n",
            " 7   qty            433 non-null    int64  \n",
            " 8   total_amt      433 non-null    float64\n",
            " 9   sale_price     433 non-null    float64\n",
            " 10  ship_qty       433 non-null    int64  \n",
            " 11  cust_type      433 non-null    object \n",
            " 12  return         433 non-null    int64  \n",
            " 13  discount_app   433 non-null    int64  \n",
            " 14  list_price     433 non-null    float64\n",
            " 15  inv_ship_days  433 non-null    int64  \n",
            " 16  fraud          433 non-null    float64\n",
            "dtypes: float64(5), int64(7), object(5)\n",
            "memory usage: 60.9+ KB\n"
          ]
        }
      ]
    },
    {
      "cell_type": "code",
      "metadata": {
        "id": "M2L3ePEOXvyD"
      },
      "source": [
        "def sampling_inv(df_non_fraud):\n",
        "  '''\n",
        "  Random sampling from unlabled invoices.\n",
        "  '''\n",
        "  sample_inv = df_non_fraud['invoice_no'].unique()\n",
        "  print(len(sample_inv))\n",
        "  sample_inv1 = np.random.choice(sample_inv,size=1000,replace=False)\n",
        "  sample_inv = np.setdiff1d(sample_inv,sample_inv1)\n",
        "  print(len(sample_inv))\n",
        "  sample_inv2 = np.random.choice(sample_inv,size=5000,replace=False)\n",
        "  sample_inv = np.setdiff1d(sample_inv,sample_inv2)\n",
        "  print(len(sample_inv))\n",
        "  return sample_inv1, sample_inv2, sample_inv\n"
      ],
      "execution_count": 27,
      "outputs": []
    },
    {
      "cell_type": "code",
      "metadata": {
        "colab": {
          "base_uri": "https://localhost:8080/"
        },
        "id": "l_tDCpKgY1W-",
        "outputId": "529b2cf8-356d-4191-c11c-0c55793fcb67"
      },
      "source": [
        "sample_inv1, sample_inv2, sample_inv = sampling_inv(df_non_fraud)"
      ],
      "execution_count": 28,
      "outputs": [
        {
          "output_type": "stream",
          "name": "stdout",
          "text": [
            "30686\n",
            "29686\n",
            "24686\n"
          ]
        }
      ]
    },
    {
      "cell_type": "code",
      "metadata": {
        "colab": {
          "base_uri": "https://localhost:8080/"
        },
        "id": "aFm7Iw2VepcP",
        "outputId": "f94d6781-10d3-4f97-83bd-a204ba8f3042"
      },
      "source": [
        "len(np.unique(sample_inv2))"
      ],
      "execution_count": 30,
      "outputs": [
        {
          "output_type": "execute_result",
          "data": {
            "text/plain": [
              "5000"
            ]
          },
          "metadata": {},
          "execution_count": 30
        }
      ]
    },
    {
      "cell_type": "code",
      "metadata": {
        "id": "9Js8R7sDr7BM"
      },
      "source": [
        "## Build training dataset\n",
        "df_train = df_non_fraud[df_non_fraud['invoice_no'].isin(sample_inv2)]\n",
        "df_train = pd.concat([df_train,df_fraud2])\n",
        "df_train.loc[df_train['fraud'] == 2, 'fraud'] = 1 \n",
        "df_train = df_train.sort_index()"
      ],
      "execution_count": 31,
      "outputs": []
    },
    {
      "cell_type": "code",
      "metadata": {
        "id": "O01agYImtUx9"
      },
      "source": [
        "## Build eval dataset\n",
        "df_test = df_non_fraud[df_non_fraud['invoice_no'].isin(sample_inv1)]\n",
        "df_test = pd.concat([df_test,df_fraud])\n",
        "df_test = df_test.sort_index()"
      ],
      "execution_count": 35,
      "outputs": []
    },
    {
      "cell_type": "code",
      "metadata": {
        "colab": {
          "base_uri": "https://localhost:8080/"
        },
        "id": "pzKw_DggxMS-",
        "outputId": "0d02b1b3-6fee-4424-a5ef-0ce6652c48a4"
      },
      "source": [
        "df_train.shape"
      ],
      "execution_count": 33,
      "outputs": [
        {
          "output_type": "execute_result",
          "data": {
            "text/plain": [
              "(37232, 17)"
            ]
          },
          "metadata": {},
          "execution_count": 33
        }
      ]
    },
    {
      "cell_type": "code",
      "metadata": {
        "colab": {
          "base_uri": "https://localhost:8080/"
        },
        "id": "HqJlSiFlRwXl",
        "outputId": "e9ba5409-dd45-4a43-fe9a-ff6525e44e6b"
      },
      "source": [
        "df_test.shape"
      ],
      "execution_count": 36,
      "outputs": [
        {
          "output_type": "execute_result",
          "data": {
            "text/plain": [
              "(7465, 17)"
            ]
          },
          "metadata": {},
          "execution_count": 36
        }
      ]
    },
    {
      "cell_type": "code",
      "metadata": {
        "colab": {
          "base_uri": "https://localhost:8080/"
        },
        "id": "V_LOYj9ZZne0",
        "outputId": "59500217-5543-494e-c7f4-196dc9b7e621"
      },
      "source": [
        "df_train.info()"
      ],
      "execution_count": 37,
      "outputs": [
        {
          "output_type": "stream",
          "name": "stdout",
          "text": [
            "<class 'pandas.core.frame.DataFrame'>\n",
            "Int64Index: 37232 entries, 108 to 228534\n",
            "Data columns (total 17 columns):\n",
            " #   Column         Non-Null Count  Dtype  \n",
            "---  ------         --------------  -----  \n",
            " 0   distributor    37232 non-null  object \n",
            " 1   sales          37232 non-null  object \n",
            " 2   branch         37232 non-null  int64  \n",
            " 3   inv_type       37232 non-null  object \n",
            " 4   invoice_no     37232 non-null  int64  \n",
            " 5   product_no     37232 non-null  object \n",
            " 6   prod_cla       37232 non-null  float64\n",
            " 7   qty            37232 non-null  int64  \n",
            " 8   total_amt      37232 non-null  float64\n",
            " 9   sale_price     37232 non-null  float64\n",
            " 10  ship_qty       37232 non-null  int64  \n",
            " 11  cust_type      37232 non-null  object \n",
            " 12  return         37232 non-null  int64  \n",
            " 13  discount_app   37232 non-null  int64  \n",
            " 14  list_price     37232 non-null  float64\n",
            " 15  inv_ship_days  37232 non-null  int64  \n",
            " 16  fraud          37232 non-null  float64\n",
            "dtypes: float64(5), int64(7), object(5)\n",
            "memory usage: 5.1+ MB\n"
          ]
        }
      ]
    },
    {
      "cell_type": "markdown",
      "metadata": {
        "id": "l7OnGZt9GEAL"
      },
      "source": [
        "## Encoding"
      ]
    },
    {
      "cell_type": "code",
      "metadata": {
        "id": "T0O7sPin33OP"
      },
      "source": [
        "cols = df.columns.to_list()\n",
        "cols = ['distributor', 'sales', 'branch', 'inv_type', 'invoice_no', 'product_no', 'prod_cla', 'cust_type']"
      ],
      "execution_count": 38,
      "outputs": []
    },
    {
      "cell_type": "code",
      "metadata": {
        "id": "486mzoZj2LsQ"
      },
      "source": [
        "def field_encoding(df_train, df_eval):\n",
        "  '''\n",
        "  Ordinal encode categorical fields.\n",
        "  '''\n",
        "  cols = ['distributor', 'sales', 'branch', 'inv_type', 'invoice_no', 'product_no', 'prod_cla', 'cust_type']\n",
        "  df_train[cols] = df_train[cols].astype('str') \n",
        "  df_test[cols] = df_test[cols].astype('str') \n",
        "  df1 = pd.concat([df_train, df_test])\n",
        "  enc = LabelEncoder()\n",
        "  for f in cols:\n",
        "    enc.fit(df1[f])\n",
        "    df_train[f] = enc.transform(df_train[f])\n",
        "    df_test[f] = enc.transform(df_test[f])\n",
        "  return df_train, df_test"
      ],
      "execution_count": 39,
      "outputs": []
    },
    {
      "cell_type": "code",
      "metadata": {
        "id": "qgVnIE3j7G0X"
      },
      "source": [
        "X_train = df_train.copy()\n",
        "X_test = df_test.copy()\n",
        "X_train, X_test = field_encoding(X_train, X_test)"
      ],
      "execution_count": 47,
      "outputs": []
    },
    {
      "cell_type": "code",
      "metadata": {
        "colab": {
          "base_uri": "https://localhost:8080/"
        },
        "id": "PdzuM0U2jb9V",
        "outputId": "77a74b01-e851-4496-c2ac-6c905b07e7ee"
      },
      "source": [
        "print(len(X_test),len(X_train))"
      ],
      "execution_count": 110,
      "outputs": [
        {
          "output_type": "stream",
          "name": "stdout",
          "text": [
            "7465 37232\n"
          ]
        }
      ]
    },
    {
      "cell_type": "code",
      "metadata": {
        "colab": {
          "base_uri": "https://localhost:8080/"
        },
        "id": "A7gwzMqo8zkK",
        "outputId": "600249d0-31ff-4981-feae-8959d13f79a0"
      },
      "source": [
        "X_train.nunique()"
      ],
      "execution_count": 41,
      "outputs": [
        {
          "output_type": "execute_result",
          "data": {
            "text/plain": [
              "distributor       518\n",
              "sales             187\n",
              "branch             28\n",
              "inv_type            3\n",
              "invoice_no       5024\n",
              "product_no        785\n",
              "prod_cla            7\n",
              "qty                89\n",
              "total_amt        5363\n",
              "sale_price       3725\n",
              "ship_qty           90\n",
              "cust_type          20\n",
              "return              2\n",
              "discount_app        2\n",
              "list_price       3012\n",
              "inv_ship_days      75\n",
              "fraud               2\n",
              "dtype: int64"
            ]
          },
          "metadata": {},
          "execution_count": 41
        }
      ]
    },
    {
      "cell_type": "markdown",
      "metadata": {
        "id": "gDkexYmPxM8O"
      },
      "source": [
        "## Standardscale data"
      ]
    },
    {
      "cell_type": "code",
      "metadata": {
        "id": "Wxt4dsJo7tDa"
      },
      "source": [
        "scaler = StandardScaler()"
      ],
      "execution_count": 45,
      "outputs": []
    },
    {
      "cell_type": "code",
      "metadata": {
        "id": "YeeK6JNC8Fqz"
      },
      "source": [
        "y_train = X_train['fraud'].values\n",
        "X_train = X_train.drop(columns=['fraud'])\n",
        "\n",
        "X_train = scaler.fit_transform(X_train)\n",
        "y_train = y_train.reshape(len(y_train),1)"
      ],
      "execution_count": 48,
      "outputs": []
    },
    {
      "cell_type": "code",
      "metadata": {
        "id": "86joAZPl9YpL"
      },
      "source": [
        "y_test = X_test['fraud'].values\n",
        "X_test = X_test.drop(columns=['fraud'])\n",
        "\n",
        "X_test = scaler.transform(X_test)\n",
        "y_test = y_test.reshape(len(y_test),1)"
      ],
      "execution_count": 49,
      "outputs": []
    },
    {
      "cell_type": "code",
      "metadata": {
        "colab": {
          "base_uri": "https://localhost:8080/"
        },
        "id": "MNUBFns291Qv",
        "outputId": "21674f79-4e99-4b2e-ab55-1fc39c8682da"
      },
      "source": [
        "X_train[0]"
      ],
      "execution_count": 50,
      "outputs": [
        {
          "output_type": "execute_result",
          "data": {
            "text/plain": [
              "array([ 0.31969424,  0.81761482, -1.18807636,  0.01829786, -1.70644042,\n",
              "        1.7724664 , -0.0709056 , -0.00639322,  1.28657546,  3.27756406,\n",
              "        0.0045258 , -0.77624262, -0.0163908 ,  0.01036562,  3.27549634,\n",
              "       -0.06245374])"
            ]
          },
          "metadata": {},
          "execution_count": 50
        }
      ]
    },
    {
      "cell_type": "code",
      "metadata": {
        "colab": {
          "base_uri": "https://localhost:8080/"
        },
        "id": "4o9UXO0--hgv",
        "outputId": "a17586c3-7590-4424-91e9-fc21f2605af4"
      },
      "source": [
        "y_test.shape"
      ],
      "execution_count": 51,
      "outputs": [
        {
          "output_type": "execute_result",
          "data": {
            "text/plain": [
              "(7465, 1)"
            ]
          },
          "metadata": {},
          "execution_count": 51
        }
      ]
    },
    {
      "cell_type": "code",
      "metadata": {
        "colab": {
          "base_uri": "https://localhost:8080/"
        },
        "id": "gMv9MH5QVu6B",
        "outputId": "9b46608e-75f2-4ad9-d46c-fc21da3cad8f"
      },
      "source": [
        "y_train.sum()"
      ],
      "execution_count": 60,
      "outputs": [
        {
          "output_type": "execute_result",
          "data": {
            "text/plain": [
              "433.0"
            ]
          },
          "metadata": {},
          "execution_count": 60
        }
      ]
    },
    {
      "cell_type": "markdown",
      "metadata": {
        "id": "vnO2HnA4_RQU"
      },
      "source": [
        "## Build model"
      ]
    },
    {
      "cell_type": "code",
      "metadata": {
        "id": "09WCa-Qn_T0G"
      },
      "source": [
        "# define the  model\n",
        "def build_model():\n",
        "  model = Sequential()\n",
        "  model.add(Dense(32, input_dim=X_train.shape[1], activation='relu', kernel_initializer='he_normal'))\n",
        "  model.add(Dense(16,activation='relu'))\n",
        "  model.add(Dense(1, activation='sigmoid'))\n",
        "  # compile the keras model\n",
        "  # opt = tf.keras.optimizers.Adam(clipnorm=1, learning_rate=0.01)\n",
        "  model.compile(loss='binary_crossentropy', optimizer='adam', metrics=['accuracy'])\n",
        "  return model"
      ],
      "execution_count": 199,
      "outputs": []
    },
    {
      "cell_type": "code",
      "metadata": {
        "colab": {
          "base_uri": "https://localhost:8080/"
        },
        "id": "pBs2KuNeAErs",
        "outputId": "5da98c3a-810d-48b2-bad7-ec8163bb960e"
      },
      "source": [
        "model.summary()"
      ],
      "execution_count": 109,
      "outputs": [
        {
          "output_type": "stream",
          "name": "stdout",
          "text": [
            "Model: \"sequential\"\n",
            "_________________________________________________________________\n",
            "Layer (type)                 Output Shape              Param #   \n",
            "=================================================================\n",
            "dense (Dense)                (None, 64)                1088      \n",
            "_________________________________________________________________\n",
            "dense_1 (Dense)              (None, 32)                2080      \n",
            "_________________________________________________________________\n",
            "dense_2 (Dense)              (None, 1)                 33        \n",
            "=================================================================\n",
            "Total params: 3,201\n",
            "Trainable params: 3,201\n",
            "Non-trainable params: 0\n",
            "_________________________________________________________________\n"
          ]
        }
      ]
    },
    {
      "cell_type": "markdown",
      "metadata": {
        "id": "cfEQ-OXDA3mV"
      },
      "source": [
        "## Training model"
      ]
    },
    {
      "cell_type": "code",
      "metadata": {
        "colab": {
          "base_uri": "https://localhost:8080/"
        },
        "id": "413m67NPZY4F",
        "outputId": "d262db81-b6c5-4111-aca5-7d24e843ce68"
      },
      "source": [
        "## clear previous model.  Make sure training from 0. \n",
        "del model\n",
        "clear_session()\n",
        "tf.compat.v1.reset_default_graph()\n",
        "reset_seeds()\n",
        "model = build_model()"
      ],
      "execution_count": 213,
      "outputs": [
        {
          "output_type": "stream",
          "name": "stdout",
          "text": [
            "RANDOM SEEDS RESET\n"
          ]
        }
      ]
    },
    {
      "cell_type": "code",
      "metadata": {
        "colab": {
          "base_uri": "https://localhost:8080/"
        },
        "id": "Pp9q-HK4A6UX",
        "outputId": "ea99c46c-f0c4-4ce3-ede6-70d940bbcf38"
      },
      "source": [
        "model.fit(X_test, y_test, epochs=500,batch_size=64,class_weight={0:5, 1:300})"
      ],
      "execution_count": 214,
      "outputs": [
        {
          "output_type": "stream",
          "name": "stdout",
          "text": [
            "Epoch 1/500\n",
            "117/117 [==============================] - 1s 2ms/step - loss: 9.3178 - accuracy: 0.4761\n",
            "Epoch 2/500\n",
            "117/117 [==============================] - 0s 2ms/step - loss: 7.8343 - accuracy: 0.5102\n",
            "Epoch 3/500\n",
            "117/117 [==============================] - 0s 2ms/step - loss: 6.8232 - accuracy: 0.6276\n",
            "Epoch 4/500\n",
            "117/117 [==============================] - 0s 2ms/step - loss: 7.2422 - accuracy: 0.5566\n",
            "Epoch 5/500\n",
            "117/117 [==============================] - 0s 2ms/step - loss: 6.5429 - accuracy: 0.6435\n",
            "Epoch 6/500\n",
            "117/117 [==============================] - 0s 2ms/step - loss: 6.3730 - accuracy: 0.6548\n",
            "Epoch 7/500\n",
            "117/117 [==============================] - 0s 2ms/step - loss: 6.4800 - accuracy: 0.6221\n",
            "Epoch 8/500\n",
            "117/117 [==============================] - 0s 2ms/step - loss: 6.2976 - accuracy: 0.6583\n",
            "Epoch 9/500\n",
            "117/117 [==============================] - 0s 2ms/step - loss: 6.5031 - accuracy: 0.6643\n",
            "Epoch 10/500\n",
            "117/117 [==============================] - 0s 2ms/step - loss: 5.9343 - accuracy: 0.6847\n",
            "Epoch 11/500\n",
            "117/117 [==============================] - 0s 2ms/step - loss: 5.8048 - accuracy: 0.7290\n",
            "Epoch 12/500\n",
            "117/117 [==============================] - 0s 2ms/step - loss: 6.0383 - accuracy: 0.6888\n",
            "Epoch 13/500\n",
            "117/117 [==============================] - 0s 2ms/step - loss: 6.0359 - accuracy: 0.6872\n",
            "Epoch 14/500\n",
            "117/117 [==============================] - 0s 2ms/step - loss: 5.4239 - accuracy: 0.7660\n",
            "Epoch 15/500\n",
            "117/117 [==============================] - 0s 2ms/step - loss: 5.5057 - accuracy: 0.7437\n",
            "Epoch 16/500\n",
            "117/117 [==============================] - 0s 2ms/step - loss: 5.4721 - accuracy: 0.7198\n",
            "Epoch 17/500\n",
            "117/117 [==============================] - 0s 2ms/step - loss: 5.4580 - accuracy: 0.7543\n",
            "Epoch 18/500\n",
            "117/117 [==============================] - 0s 2ms/step - loss: 5.2574 - accuracy: 0.7575\n",
            "Epoch 19/500\n",
            "117/117 [==============================] - 0s 2ms/step - loss: 5.7177 - accuracy: 0.7270\n",
            "Epoch 20/500\n",
            "117/117 [==============================] - 0s 2ms/step - loss: 5.3210 - accuracy: 0.7512\n",
            "Epoch 21/500\n",
            "117/117 [==============================] - 0s 2ms/step - loss: 5.2771 - accuracy: 0.7705\n",
            "Epoch 22/500\n",
            "117/117 [==============================] - 0s 2ms/step - loss: 4.9397 - accuracy: 0.7891\n",
            "Epoch 23/500\n",
            "117/117 [==============================] - 0s 2ms/step - loss: 5.3020 - accuracy: 0.7368\n",
            "Epoch 24/500\n",
            "117/117 [==============================] - 0s 2ms/step - loss: 5.1082 - accuracy: 0.7709\n",
            "Epoch 25/500\n",
            "117/117 [==============================] - 0s 2ms/step - loss: 5.1524 - accuracy: 0.7555\n",
            "Epoch 26/500\n",
            "117/117 [==============================] - 0s 2ms/step - loss: 4.9140 - accuracy: 0.7751\n",
            "Epoch 27/500\n",
            "117/117 [==============================] - 0s 2ms/step - loss: 4.7314 - accuracy: 0.8122\n",
            "Epoch 28/500\n",
            "117/117 [==============================] - 0s 2ms/step - loss: 4.6636 - accuracy: 0.8163\n",
            "Epoch 29/500\n",
            "117/117 [==============================] - 0s 2ms/step - loss: 5.2384 - accuracy: 0.7435\n",
            "Epoch 30/500\n",
            "117/117 [==============================] - 0s 2ms/step - loss: 4.5695 - accuracy: 0.8130\n",
            "Epoch 31/500\n",
            "117/117 [==============================] - 0s 2ms/step - loss: 5.1424 - accuracy: 0.7602\n",
            "Epoch 32/500\n",
            "117/117 [==============================] - 0s 2ms/step - loss: 4.9452 - accuracy: 0.7863\n",
            "Epoch 33/500\n",
            "117/117 [==============================] - 0s 2ms/step - loss: 4.6006 - accuracy: 0.8004\n",
            "Epoch 34/500\n",
            "117/117 [==============================] - 0s 2ms/step - loss: 4.6585 - accuracy: 0.7918\n",
            "Epoch 35/500\n",
            "117/117 [==============================] - 0s 2ms/step - loss: 4.5200 - accuracy: 0.8075\n",
            "Epoch 36/500\n",
            "117/117 [==============================] - 0s 2ms/step - loss: 4.6164 - accuracy: 0.7997\n",
            "Epoch 37/500\n",
            "117/117 [==============================] - 0s 2ms/step - loss: 4.8391 - accuracy: 0.7788\n",
            "Epoch 38/500\n",
            "117/117 [==============================] - 0s 2ms/step - loss: 4.6978 - accuracy: 0.7898\n",
            "Epoch 39/500\n",
            "117/117 [==============================] - 0s 2ms/step - loss: 4.2595 - accuracy: 0.8170\n",
            "Epoch 40/500\n",
            "117/117 [==============================] - 0s 2ms/step - loss: 4.7692 - accuracy: 0.7802\n",
            "Epoch 41/500\n",
            "117/117 [==============================] - 0s 2ms/step - loss: 4.4257 - accuracy: 0.7956\n",
            "Epoch 42/500\n",
            "117/117 [==============================] - 0s 2ms/step - loss: 4.1930 - accuracy: 0.8193\n",
            "Epoch 43/500\n",
            "117/117 [==============================] - 0s 2ms/step - loss: 4.8054 - accuracy: 0.7725\n",
            "Epoch 44/500\n",
            "117/117 [==============================] - 0s 2ms/step - loss: 4.2383 - accuracy: 0.8245\n",
            "Epoch 45/500\n",
            "117/117 [==============================] - 0s 2ms/step - loss: 4.4828 - accuracy: 0.8013\n",
            "Epoch 46/500\n",
            "117/117 [==============================] - 0s 2ms/step - loss: 4.2431 - accuracy: 0.8107\n",
            "Epoch 47/500\n",
            "117/117 [==============================] - 0s 2ms/step - loss: 4.5343 - accuracy: 0.8126\n",
            "Epoch 48/500\n",
            "117/117 [==============================] - 0s 2ms/step - loss: 4.5649 - accuracy: 0.7909\n",
            "Epoch 49/500\n",
            "117/117 [==============================] - 0s 2ms/step - loss: 4.1309 - accuracy: 0.8252\n",
            "Epoch 50/500\n",
            "117/117 [==============================] - 0s 2ms/step - loss: 4.2009 - accuracy: 0.8038\n",
            "Epoch 51/500\n",
            "117/117 [==============================] - 0s 2ms/step - loss: 4.3397 - accuracy: 0.8147\n",
            "Epoch 52/500\n",
            "117/117 [==============================] - 0s 2ms/step - loss: 4.7184 - accuracy: 0.7877\n",
            "Epoch 53/500\n",
            "117/117 [==============================] - 0s 2ms/step - loss: 4.3577 - accuracy: 0.8067\n",
            "Epoch 54/500\n",
            "117/117 [==============================] - 0s 2ms/step - loss: 4.4263 - accuracy: 0.7992\n",
            "Epoch 55/500\n",
            "117/117 [==============================] - 0s 2ms/step - loss: 3.9187 - accuracy: 0.8376\n",
            "Epoch 56/500\n",
            "117/117 [==============================] - 0s 2ms/step - loss: 4.9887 - accuracy: 0.7790\n",
            "Epoch 57/500\n",
            "117/117 [==============================] - 0s 2ms/step - loss: 4.1722 - accuracy: 0.8209\n",
            "Epoch 58/500\n",
            "117/117 [==============================] - 0s 2ms/step - loss: 4.1440 - accuracy: 0.8228\n",
            "Epoch 59/500\n",
            "117/117 [==============================] - 0s 2ms/step - loss: 3.9603 - accuracy: 0.8281\n",
            "Epoch 60/500\n",
            "117/117 [==============================] - 0s 2ms/step - loss: 4.0850 - accuracy: 0.8186\n",
            "Epoch 61/500\n",
            "117/117 [==============================] - 0s 2ms/step - loss: 3.9485 - accuracy: 0.8285\n",
            "Epoch 62/500\n",
            "117/117 [==============================] - 0s 2ms/step - loss: 4.1764 - accuracy: 0.8193\n",
            "Epoch 63/500\n",
            "117/117 [==============================] - 0s 2ms/step - loss: 3.9459 - accuracy: 0.8255\n",
            "Epoch 64/500\n",
            "117/117 [==============================] - 0s 2ms/step - loss: 3.8634 - accuracy: 0.8410\n",
            "Epoch 65/500\n",
            "117/117 [==============================] - 0s 2ms/step - loss: 3.9744 - accuracy: 0.8276\n",
            "Epoch 66/500\n",
            "117/117 [==============================] - 0s 2ms/step - loss: 3.8005 - accuracy: 0.8423\n",
            "Epoch 67/500\n",
            "117/117 [==============================] - 0s 2ms/step - loss: 3.9180 - accuracy: 0.8371\n",
            "Epoch 68/500\n",
            "117/117 [==============================] - 0s 2ms/step - loss: 3.6635 - accuracy: 0.8398\n",
            "Epoch 69/500\n",
            "117/117 [==============================] - 0s 2ms/step - loss: 3.7107 - accuracy: 0.8449\n",
            "Epoch 70/500\n",
            "117/117 [==============================] - 0s 2ms/step - loss: 3.7569 - accuracy: 0.8477\n",
            "Epoch 71/500\n",
            "117/117 [==============================] - 0s 2ms/step - loss: 3.7219 - accuracy: 0.8252\n",
            "Epoch 72/500\n",
            "117/117 [==============================] - 0s 2ms/step - loss: 3.6475 - accuracy: 0.8379\n",
            "Epoch 73/500\n",
            "117/117 [==============================] - 0s 2ms/step - loss: 3.9441 - accuracy: 0.8186\n",
            "Epoch 74/500\n",
            "117/117 [==============================] - 0s 2ms/step - loss: 3.6210 - accuracy: 0.8528\n",
            "Epoch 75/500\n",
            "117/117 [==============================] - 0s 2ms/step - loss: 3.7199 - accuracy: 0.8338\n",
            "Epoch 76/500\n",
            "117/117 [==============================] - 0s 2ms/step - loss: 3.5686 - accuracy: 0.8514\n",
            "Epoch 77/500\n",
            "117/117 [==============================] - 0s 2ms/step - loss: 3.4872 - accuracy: 0.8573\n",
            "Epoch 78/500\n",
            "117/117 [==============================] - 0s 2ms/step - loss: 3.8575 - accuracy: 0.8236\n",
            "Epoch 79/500\n",
            "117/117 [==============================] - 0s 2ms/step - loss: 3.4123 - accuracy: 0.8549\n",
            "Epoch 80/500\n",
            "117/117 [==============================] - 0s 2ms/step - loss: 3.9715 - accuracy: 0.8166\n",
            "Epoch 81/500\n",
            "117/117 [==============================] - 0s 2ms/step - loss: 3.7800 - accuracy: 0.8263\n",
            "Epoch 82/500\n",
            "117/117 [==============================] - 0s 2ms/step - loss: 3.5983 - accuracy: 0.8419\n",
            "Epoch 83/500\n",
            "117/117 [==============================] - 0s 2ms/step - loss: 3.6647 - accuracy: 0.8492\n",
            "Epoch 84/500\n",
            "117/117 [==============================] - 0s 2ms/step - loss: 3.3067 - accuracy: 0.8559\n",
            "Epoch 85/500\n",
            "117/117 [==============================] - 0s 2ms/step - loss: 3.5864 - accuracy: 0.8459\n",
            "Epoch 86/500\n",
            "117/117 [==============================] - 0s 2ms/step - loss: 3.2390 - accuracy: 0.8681\n",
            "Epoch 87/500\n",
            "117/117 [==============================] - 0s 2ms/step - loss: 3.7075 - accuracy: 0.8309\n",
            "Epoch 88/500\n",
            "117/117 [==============================] - 0s 2ms/step - loss: 3.4325 - accuracy: 0.8579\n",
            "Epoch 89/500\n",
            "117/117 [==============================] - 0s 2ms/step - loss: 3.5965 - accuracy: 0.8399\n",
            "Epoch 90/500\n",
            "117/117 [==============================] - 0s 2ms/step - loss: 3.5617 - accuracy: 0.8300\n",
            "Epoch 91/500\n",
            "117/117 [==============================] - 0s 2ms/step - loss: 3.3855 - accuracy: 0.8600\n",
            "Epoch 92/500\n",
            "117/117 [==============================] - 0s 2ms/step - loss: 3.6070 - accuracy: 0.8276\n",
            "Epoch 93/500\n",
            "117/117 [==============================] - 0s 2ms/step - loss: 3.4796 - accuracy: 0.8441\n",
            "Epoch 94/500\n",
            "117/117 [==============================] - 0s 2ms/step - loss: 3.2268 - accuracy: 0.8636\n",
            "Epoch 95/500\n",
            "117/117 [==============================] - 0s 2ms/step - loss: 3.1321 - accuracy: 0.8639\n",
            "Epoch 96/500\n",
            "117/117 [==============================] - 0s 2ms/step - loss: 3.4166 - accuracy: 0.8506\n",
            "Epoch 97/500\n",
            "117/117 [==============================] - 0s 2ms/step - loss: 3.0737 - accuracy: 0.8642\n",
            "Epoch 98/500\n",
            "117/117 [==============================] - 0s 2ms/step - loss: 2.8866 - accuracy: 0.8742\n",
            "Epoch 99/500\n",
            "117/117 [==============================] - 0s 2ms/step - loss: 3.0842 - accuracy: 0.8717\n",
            "Epoch 100/500\n",
            "117/117 [==============================] - 0s 2ms/step - loss: 2.8792 - accuracy: 0.8776\n",
            "Epoch 101/500\n",
            "117/117 [==============================] - 0s 2ms/step - loss: 2.9948 - accuracy: 0.8710\n",
            "Epoch 102/500\n",
            "117/117 [==============================] - 0s 2ms/step - loss: 2.8424 - accuracy: 0.8749\n",
            "Epoch 103/500\n",
            "117/117 [==============================] - 0s 2ms/step - loss: 2.9904 - accuracy: 0.8753\n",
            "Epoch 104/500\n",
            "117/117 [==============================] - 0s 2ms/step - loss: 3.0851 - accuracy: 0.8597\n",
            "Epoch 105/500\n",
            "117/117 [==============================] - 0s 2ms/step - loss: 2.9637 - accuracy: 0.8742\n",
            "Epoch 106/500\n",
            "117/117 [==============================] - 0s 2ms/step - loss: 2.8009 - accuracy: 0.8789\n",
            "Epoch 107/500\n",
            "117/117 [==============================] - 0s 2ms/step - loss: 2.9091 - accuracy: 0.8747\n",
            "Epoch 108/500\n",
            "117/117 [==============================] - 0s 2ms/step - loss: 3.5513 - accuracy: 0.8451\n",
            "Epoch 109/500\n",
            "117/117 [==============================] - 0s 2ms/step - loss: 2.9957 - accuracy: 0.8635\n",
            "Epoch 110/500\n",
            "117/117 [==============================] - 0s 2ms/step - loss: 2.9036 - accuracy: 0.8782\n",
            "Epoch 111/500\n",
            "117/117 [==============================] - 0s 2ms/step - loss: 2.7119 - accuracy: 0.8831\n",
            "Epoch 112/500\n",
            "117/117 [==============================] - 0s 2ms/step - loss: 2.7774 - accuracy: 0.8848\n",
            "Epoch 113/500\n",
            "117/117 [==============================] - 0s 2ms/step - loss: 2.7594 - accuracy: 0.8764\n",
            "Epoch 114/500\n",
            "117/117 [==============================] - 0s 2ms/step - loss: 2.8049 - accuracy: 0.8742\n",
            "Epoch 115/500\n",
            "117/117 [==============================] - 0s 2ms/step - loss: 2.6100 - accuracy: 0.8800\n",
            "Epoch 116/500\n",
            "117/117 [==============================] - 0s 2ms/step - loss: 2.6841 - accuracy: 0.8845\n",
            "Epoch 117/500\n",
            "117/117 [==============================] - 0s 2ms/step - loss: 2.4825 - accuracy: 0.8889\n",
            "Epoch 118/500\n",
            "117/117 [==============================] - 0s 2ms/step - loss: 2.4939 - accuracy: 0.8879\n",
            "Epoch 119/500\n",
            "117/117 [==============================] - 0s 2ms/step - loss: 2.4659 - accuracy: 0.8867\n",
            "Epoch 120/500\n",
            "117/117 [==============================] - 0s 2ms/step - loss: 2.6766 - accuracy: 0.8813\n",
            "Epoch 121/500\n",
            "117/117 [==============================] - 0s 2ms/step - loss: 2.4413 - accuracy: 0.8943\n",
            "Epoch 122/500\n",
            "117/117 [==============================] - 0s 2ms/step - loss: 2.6401 - accuracy: 0.8824\n",
            "Epoch 123/500\n",
            "117/117 [==============================] - 0s 2ms/step - loss: 2.4444 - accuracy: 0.8978\n",
            "Epoch 124/500\n",
            "117/117 [==============================] - 0s 2ms/step - loss: 2.4328 - accuracy: 0.8950\n",
            "Epoch 125/500\n",
            "117/117 [==============================] - 0s 2ms/step - loss: 2.3725 - accuracy: 0.8924\n",
            "Epoch 126/500\n",
            "117/117 [==============================] - 0s 2ms/step - loss: 2.4173 - accuracy: 0.8876\n",
            "Epoch 127/500\n",
            "117/117 [==============================] - 0s 2ms/step - loss: 2.4550 - accuracy: 0.8898\n",
            "Epoch 128/500\n",
            "117/117 [==============================] - 0s 2ms/step - loss: 2.3511 - accuracy: 0.8974\n",
            "Epoch 129/500\n",
            "117/117 [==============================] - 0s 2ms/step - loss: 2.3375 - accuracy: 0.8966\n",
            "Epoch 130/500\n",
            "117/117 [==============================] - 0s 2ms/step - loss: 2.6063 - accuracy: 0.8734\n",
            "Epoch 131/500\n",
            "117/117 [==============================] - 0s 2ms/step - loss: 2.2652 - accuracy: 0.9031\n",
            "Epoch 132/500\n",
            "117/117 [==============================] - 0s 2ms/step - loss: 2.7396 - accuracy: 0.8792\n",
            "Epoch 133/500\n",
            "117/117 [==============================] - 0s 2ms/step - loss: 2.6988 - accuracy: 0.8802\n",
            "Epoch 134/500\n",
            "117/117 [==============================] - 0s 2ms/step - loss: 2.4070 - accuracy: 0.8914\n",
            "Epoch 135/500\n",
            "117/117 [==============================] - 0s 2ms/step - loss: 2.2392 - accuracy: 0.9002\n",
            "Epoch 136/500\n",
            "117/117 [==============================] - 0s 2ms/step - loss: 2.2180 - accuracy: 0.9092\n",
            "Epoch 137/500\n",
            "117/117 [==============================] - 0s 2ms/step - loss: 2.2393 - accuracy: 0.9060\n",
            "Epoch 138/500\n",
            "117/117 [==============================] - 0s 2ms/step - loss: 2.2925 - accuracy: 0.8990\n",
            "Epoch 139/500\n",
            "117/117 [==============================] - 0s 2ms/step - loss: 2.1897 - accuracy: 0.9021\n",
            "Epoch 140/500\n",
            "117/117 [==============================] - 0s 2ms/step - loss: 2.0042 - accuracy: 0.9143\n",
            "Epoch 141/500\n",
            "117/117 [==============================] - 0s 2ms/step - loss: 2.3231 - accuracy: 0.8963\n",
            "Epoch 142/500\n",
            "117/117 [==============================] - 0s 2ms/step - loss: 1.9845 - accuracy: 0.9093\n",
            "Epoch 143/500\n",
            "117/117 [==============================] - 0s 2ms/step - loss: 2.8610 - accuracy: 0.8785\n",
            "Epoch 144/500\n",
            "117/117 [==============================] - 0s 2ms/step - loss: 2.0001 - accuracy: 0.9116\n",
            "Epoch 145/500\n",
            "117/117 [==============================] - 0s 2ms/step - loss: 2.2362 - accuracy: 0.9057\n",
            "Epoch 146/500\n",
            "117/117 [==============================] - 0s 2ms/step - loss: 2.2483 - accuracy: 0.9057\n",
            "Epoch 147/500\n",
            "117/117 [==============================] - 0s 2ms/step - loss: 2.1561 - accuracy: 0.9105\n",
            "Epoch 148/500\n",
            "117/117 [==============================] - 0s 2ms/step - loss: 2.1292 - accuracy: 0.9065\n",
            "Epoch 149/500\n",
            "117/117 [==============================] - 0s 2ms/step - loss: 2.4861 - accuracy: 0.8936\n",
            "Epoch 150/500\n",
            "117/117 [==============================] - 0s 2ms/step - loss: 2.0991 - accuracy: 0.9101\n",
            "Epoch 151/500\n",
            "117/117 [==============================] - 0s 2ms/step - loss: 2.4103 - accuracy: 0.8967\n",
            "Epoch 152/500\n",
            "117/117 [==============================] - 0s 2ms/step - loss: 2.3840 - accuracy: 0.8915\n",
            "Epoch 153/500\n",
            "117/117 [==============================] - 0s 2ms/step - loss: 2.1056 - accuracy: 0.9121\n",
            "Epoch 154/500\n",
            "117/117 [==============================] - 0s 2ms/step - loss: 2.5866 - accuracy: 0.8836\n",
            "Epoch 155/500\n",
            "117/117 [==============================] - 0s 2ms/step - loss: 2.2329 - accuracy: 0.9094\n",
            "Epoch 156/500\n",
            "117/117 [==============================] - 0s 2ms/step - loss: 2.3753 - accuracy: 0.9001\n",
            "Epoch 157/500\n",
            "117/117 [==============================] - 0s 2ms/step - loss: 1.9285 - accuracy: 0.9038\n",
            "Epoch 158/500\n",
            "117/117 [==============================] - 0s 2ms/step - loss: 1.9541 - accuracy: 0.9175\n",
            "Epoch 159/500\n",
            "117/117 [==============================] - 0s 2ms/step - loss: 1.9645 - accuracy: 0.9194\n",
            "Epoch 160/500\n",
            "117/117 [==============================] - 0s 2ms/step - loss: 2.2823 - accuracy: 0.9066\n",
            "Epoch 161/500\n",
            "117/117 [==============================] - 0s 2ms/step - loss: 2.0114 - accuracy: 0.9127\n",
            "Epoch 162/500\n",
            "117/117 [==============================] - 0s 2ms/step - loss: 1.9198 - accuracy: 0.9117\n",
            "Epoch 163/500\n",
            "117/117 [==============================] - 0s 2ms/step - loss: 2.2406 - accuracy: 0.9058\n",
            "Epoch 164/500\n",
            "117/117 [==============================] - 0s 2ms/step - loss: 2.2079 - accuracy: 0.9066\n",
            "Epoch 165/500\n",
            "117/117 [==============================] - 0s 2ms/step - loss: 1.9310 - accuracy: 0.9198\n",
            "Epoch 166/500\n",
            "117/117 [==============================] - 0s 2ms/step - loss: 2.2492 - accuracy: 0.8952\n",
            "Epoch 167/500\n",
            "117/117 [==============================] - 0s 2ms/step - loss: 1.9254 - accuracy: 0.9153\n",
            "Epoch 168/500\n",
            "117/117 [==============================] - 0s 2ms/step - loss: 1.8451 - accuracy: 0.9220\n",
            "Epoch 169/500\n",
            "117/117 [==============================] - 0s 2ms/step - loss: 1.8133 - accuracy: 0.9167\n",
            "Epoch 170/500\n",
            "117/117 [==============================] - 0s 2ms/step - loss: 1.9124 - accuracy: 0.9218\n",
            "Epoch 171/500\n",
            "117/117 [==============================] - 0s 2ms/step - loss: 1.8006 - accuracy: 0.9216\n",
            "Epoch 172/500\n",
            "117/117 [==============================] - 0s 2ms/step - loss: 1.7341 - accuracy: 0.9172\n",
            "Epoch 173/500\n",
            "117/117 [==============================] - 0s 2ms/step - loss: 1.8289 - accuracy: 0.9226\n",
            "Epoch 174/500\n",
            "117/117 [==============================] - 0s 2ms/step - loss: 1.8886 - accuracy: 0.9129\n",
            "Epoch 175/500\n",
            "117/117 [==============================] - 0s 2ms/step - loss: 1.8734 - accuracy: 0.9208\n",
            "Epoch 176/500\n",
            "117/117 [==============================] - 0s 2ms/step - loss: 2.1733 - accuracy: 0.9062\n",
            "Epoch 177/500\n",
            "117/117 [==============================] - 0s 2ms/step - loss: 2.5642 - accuracy: 0.8789\n",
            "Epoch 178/500\n",
            "117/117 [==============================] - 0s 2ms/step - loss: 1.9143 - accuracy: 0.9136\n",
            "Epoch 179/500\n",
            "117/117 [==============================] - 0s 2ms/step - loss: 2.0185 - accuracy: 0.9106\n",
            "Epoch 180/500\n",
            "117/117 [==============================] - 0s 2ms/step - loss: 1.8031 - accuracy: 0.9216\n",
            "Epoch 181/500\n",
            "117/117 [==============================] - 0s 2ms/step - loss: 1.8513 - accuracy: 0.9180\n",
            "Epoch 182/500\n",
            "117/117 [==============================] - 0s 2ms/step - loss: 1.8639 - accuracy: 0.9152\n",
            "Epoch 183/500\n",
            "117/117 [==============================] - 0s 2ms/step - loss: 1.7299 - accuracy: 0.9230\n",
            "Epoch 184/500\n",
            "117/117 [==============================] - 0s 2ms/step - loss: 1.9415 - accuracy: 0.9224\n",
            "Epoch 185/500\n",
            "117/117 [==============================] - 0s 2ms/step - loss: 1.8117 - accuracy: 0.9235\n",
            "Epoch 186/500\n",
            "117/117 [==============================] - 0s 2ms/step - loss: 1.6819 - accuracy: 0.9246\n",
            "Epoch 187/500\n",
            "117/117 [==============================] - 0s 2ms/step - loss: 2.0555 - accuracy: 0.9104\n",
            "Epoch 188/500\n",
            "117/117 [==============================] - 0s 2ms/step - loss: 1.7391 - accuracy: 0.9262\n",
            "Epoch 189/500\n",
            "117/117 [==============================] - 0s 2ms/step - loss: 1.8791 - accuracy: 0.9218\n",
            "Epoch 190/500\n",
            "117/117 [==============================] - 0s 2ms/step - loss: 1.5969 - accuracy: 0.9283\n",
            "Epoch 191/500\n",
            "117/117 [==============================] - 0s 3ms/step - loss: 2.0700 - accuracy: 0.9090\n",
            "Epoch 192/500\n",
            "117/117 [==============================] - 0s 2ms/step - loss: 1.6097 - accuracy: 0.9321\n",
            "Epoch 193/500\n",
            "117/117 [==============================] - 0s 3ms/step - loss: 2.0264 - accuracy: 0.9104\n",
            "Epoch 194/500\n",
            "117/117 [==============================] - 0s 3ms/step - loss: 1.5764 - accuracy: 0.9352\n",
            "Epoch 195/500\n",
            "117/117 [==============================] - 0s 2ms/step - loss: 1.9815 - accuracy: 0.9183\n",
            "Epoch 196/500\n",
            "117/117 [==============================] - 0s 3ms/step - loss: 1.7420 - accuracy: 0.9220\n",
            "Epoch 197/500\n",
            "117/117 [==============================] - 0s 2ms/step - loss: 2.3295 - accuracy: 0.9022\n",
            "Epoch 198/500\n",
            "117/117 [==============================] - 0s 3ms/step - loss: 1.7014 - accuracy: 0.9262\n",
            "Epoch 199/500\n",
            "117/117 [==============================] - 0s 3ms/step - loss: 2.0053 - accuracy: 0.9149\n",
            "Epoch 200/500\n",
            "117/117 [==============================] - 0s 3ms/step - loss: 1.8254 - accuracy: 0.9222\n",
            "Epoch 201/500\n",
            "117/117 [==============================] - 0s 3ms/step - loss: 1.6531 - accuracy: 0.9307\n",
            "Epoch 202/500\n",
            "117/117 [==============================] - 0s 3ms/step - loss: 1.7016 - accuracy: 0.9322\n",
            "Epoch 203/500\n",
            "117/117 [==============================] - 0s 3ms/step - loss: 1.5043 - accuracy: 0.9396\n",
            "Epoch 204/500\n",
            "117/117 [==============================] - 0s 3ms/step - loss: 1.8278 - accuracy: 0.9177\n",
            "Epoch 205/500\n",
            "117/117 [==============================] - 0s 2ms/step - loss: 2.4221 - accuracy: 0.9111\n",
            "Epoch 206/500\n",
            "117/117 [==============================] - 0s 2ms/step - loss: 1.5456 - accuracy: 0.9324\n",
            "Epoch 207/500\n",
            "117/117 [==============================] - 0s 3ms/step - loss: 1.5950 - accuracy: 0.9330\n",
            "Epoch 208/500\n",
            "117/117 [==============================] - 0s 3ms/step - loss: 1.3953 - accuracy: 0.9421\n",
            "Epoch 209/500\n",
            "117/117 [==============================] - 0s 3ms/step - loss: 1.7021 - accuracy: 0.9303\n",
            "Epoch 210/500\n",
            "117/117 [==============================] - 0s 3ms/step - loss: 1.6368 - accuracy: 0.9235\n",
            "Epoch 211/500\n",
            "117/117 [==============================] - 0s 3ms/step - loss: 1.5433 - accuracy: 0.9326\n",
            "Epoch 212/500\n",
            "117/117 [==============================] - 0s 4ms/step - loss: 2.0333 - accuracy: 0.9066\n",
            "Epoch 213/500\n",
            "117/117 [==============================] - 0s 4ms/step - loss: 1.7612 - accuracy: 0.9275\n",
            "Epoch 214/500\n",
            "117/117 [==============================] - 0s 4ms/step - loss: 1.5559 - accuracy: 0.9297\n",
            "Epoch 215/500\n",
            "117/117 [==============================] - 0s 3ms/step - loss: 1.4350 - accuracy: 0.9361\n",
            "Epoch 216/500\n",
            "117/117 [==============================] - 0s 2ms/step - loss: 1.9096 - accuracy: 0.9240\n",
            "Epoch 217/500\n",
            "117/117 [==============================] - 0s 2ms/step - loss: 1.4503 - accuracy: 0.9330\n",
            "Epoch 218/500\n",
            "117/117 [==============================] - 0s 2ms/step - loss: 1.3504 - accuracy: 0.9440\n",
            "Epoch 219/500\n",
            "117/117 [==============================] - 0s 2ms/step - loss: 1.7849 - accuracy: 0.9243\n",
            "Epoch 220/500\n",
            "117/117 [==============================] - 0s 2ms/step - loss: 1.8576 - accuracy: 0.9149\n",
            "Epoch 221/500\n",
            "117/117 [==============================] - 0s 2ms/step - loss: 1.6926 - accuracy: 0.9305\n",
            "Epoch 222/500\n",
            "117/117 [==============================] - 0s 2ms/step - loss: 1.4651 - accuracy: 0.9317\n",
            "Epoch 223/500\n",
            "117/117 [==============================] - 0s 2ms/step - loss: 1.8288 - accuracy: 0.9218\n",
            "Epoch 224/500\n",
            "117/117 [==============================] - 0s 2ms/step - loss: 1.5958 - accuracy: 0.9315\n",
            "Epoch 225/500\n",
            "117/117 [==============================] - 0s 2ms/step - loss: 1.9396 - accuracy: 0.9135\n",
            "Epoch 226/500\n",
            "117/117 [==============================] - 0s 2ms/step - loss: 1.8798 - accuracy: 0.9184\n",
            "Epoch 227/500\n",
            "117/117 [==============================] - 0s 2ms/step - loss: 1.5865 - accuracy: 0.9328\n",
            "Epoch 228/500\n",
            "117/117 [==============================] - 0s 2ms/step - loss: 1.4369 - accuracy: 0.9366\n",
            "Epoch 229/500\n",
            "117/117 [==============================] - 0s 2ms/step - loss: 1.3598 - accuracy: 0.9436\n",
            "Epoch 230/500\n",
            "117/117 [==============================] - 0s 2ms/step - loss: 1.6215 - accuracy: 0.9309\n",
            "Epoch 231/500\n",
            "117/117 [==============================] - 0s 2ms/step - loss: 1.5400 - accuracy: 0.9258\n",
            "Epoch 232/500\n",
            "117/117 [==============================] - 0s 2ms/step - loss: 1.9148 - accuracy: 0.9157\n",
            "Epoch 233/500\n",
            "117/117 [==============================] - 0s 2ms/step - loss: 1.4107 - accuracy: 0.9352\n",
            "Epoch 234/500\n",
            "117/117 [==============================] - 0s 2ms/step - loss: 1.7731 - accuracy: 0.9236\n",
            "Epoch 235/500\n",
            "117/117 [==============================] - 0s 2ms/step - loss: 1.7979 - accuracy: 0.9253\n",
            "Epoch 236/500\n",
            "117/117 [==============================] - 0s 2ms/step - loss: 1.3672 - accuracy: 0.9408\n",
            "Epoch 237/500\n",
            "117/117 [==============================] - 0s 2ms/step - loss: 1.5615 - accuracy: 0.9287\n",
            "Epoch 238/500\n",
            "117/117 [==============================] - 0s 2ms/step - loss: 1.7350 - accuracy: 0.9270\n",
            "Epoch 239/500\n",
            "117/117 [==============================] - 0s 2ms/step - loss: 1.4841 - accuracy: 0.9349\n",
            "Epoch 240/500\n",
            "117/117 [==============================] - 0s 2ms/step - loss: 1.2261 - accuracy: 0.9476\n",
            "Epoch 241/500\n",
            "117/117 [==============================] - 0s 2ms/step - loss: 1.7079 - accuracy: 0.9278\n",
            "Epoch 242/500\n",
            "117/117 [==============================] - 0s 2ms/step - loss: 1.5977 - accuracy: 0.9309\n",
            "Epoch 243/500\n",
            "117/117 [==============================] - 0s 2ms/step - loss: 2.3810 - accuracy: 0.8986\n",
            "Epoch 244/500\n",
            "117/117 [==============================] - 0s 2ms/step - loss: 1.8146 - accuracy: 0.9295\n",
            "Epoch 245/500\n",
            "117/117 [==============================] - 0s 2ms/step - loss: 1.4145 - accuracy: 0.9356\n",
            "Epoch 246/500\n",
            "117/117 [==============================] - 0s 2ms/step - loss: 1.2722 - accuracy: 0.9511\n",
            "Epoch 247/500\n",
            "117/117 [==============================] - 0s 2ms/step - loss: 1.3948 - accuracy: 0.9401\n",
            "Epoch 248/500\n",
            "117/117 [==============================] - 0s 2ms/step - loss: 1.1232 - accuracy: 0.9520\n",
            "Epoch 249/500\n",
            "117/117 [==============================] - 0s 2ms/step - loss: 1.3618 - accuracy: 0.9381\n",
            "Epoch 250/500\n",
            "117/117 [==============================] - 0s 2ms/step - loss: 1.3131 - accuracy: 0.9470\n",
            "Epoch 251/500\n",
            "117/117 [==============================] - 0s 2ms/step - loss: 1.4053 - accuracy: 0.9341\n",
            "Epoch 252/500\n",
            "117/117 [==============================] - 0s 2ms/step - loss: 1.2600 - accuracy: 0.9386\n",
            "Epoch 253/500\n",
            "117/117 [==============================] - 0s 2ms/step - loss: 1.6253 - accuracy: 0.9380\n",
            "Epoch 254/500\n",
            "117/117 [==============================] - 0s 2ms/step - loss: 1.4243 - accuracy: 0.9306\n",
            "Epoch 255/500\n",
            "117/117 [==============================] - 0s 2ms/step - loss: 1.5140 - accuracy: 0.9373\n",
            "Epoch 256/500\n",
            "117/117 [==============================] - 0s 2ms/step - loss: 1.4601 - accuracy: 0.9378\n",
            "Epoch 257/500\n",
            "117/117 [==============================] - 0s 2ms/step - loss: 1.4963 - accuracy: 0.9310\n",
            "Epoch 258/500\n",
            "117/117 [==============================] - 0s 2ms/step - loss: 1.6168 - accuracy: 0.9315\n",
            "Epoch 259/500\n",
            "117/117 [==============================] - 0s 2ms/step - loss: 1.3884 - accuracy: 0.9445\n",
            "Epoch 260/500\n",
            "117/117 [==============================] - 0s 2ms/step - loss: 1.3453 - accuracy: 0.9390\n",
            "Epoch 261/500\n",
            "117/117 [==============================] - 0s 2ms/step - loss: 1.2754 - accuracy: 0.9503\n",
            "Epoch 262/500\n",
            "117/117 [==============================] - 0s 2ms/step - loss: 1.9703 - accuracy: 0.9192\n",
            "Epoch 263/500\n",
            "117/117 [==============================] - 0s 2ms/step - loss: 1.1770 - accuracy: 0.9512\n",
            "Epoch 264/500\n",
            "117/117 [==============================] - 0s 2ms/step - loss: 1.4479 - accuracy: 0.9345\n",
            "Epoch 265/500\n",
            "117/117 [==============================] - 0s 2ms/step - loss: 1.6970 - accuracy: 0.9286\n",
            "Epoch 266/500\n",
            "117/117 [==============================] - 0s 2ms/step - loss: 1.3414 - accuracy: 0.9389\n",
            "Epoch 267/500\n",
            "117/117 [==============================] - 0s 2ms/step - loss: 2.8080 - accuracy: 0.9010\n",
            "Epoch 268/500\n",
            "117/117 [==============================] - 0s 2ms/step - loss: 1.5825 - accuracy: 0.9234\n",
            "Epoch 269/500\n",
            "117/117 [==============================] - 0s 2ms/step - loss: 1.2726 - accuracy: 0.9455\n",
            "Epoch 270/500\n",
            "117/117 [==============================] - 0s 2ms/step - loss: 1.1411 - accuracy: 0.9503\n",
            "Epoch 271/500\n",
            "117/117 [==============================] - 0s 2ms/step - loss: 1.3749 - accuracy: 0.9457\n",
            "Epoch 272/500\n",
            "117/117 [==============================] - 0s 2ms/step - loss: 1.2025 - accuracy: 0.9498\n",
            "Epoch 273/500\n",
            "117/117 [==============================] - 0s 2ms/step - loss: 1.1971 - accuracy: 0.9453\n",
            "Epoch 274/500\n",
            "117/117 [==============================] - 0s 2ms/step - loss: 1.2951 - accuracy: 0.9443\n",
            "Epoch 275/500\n",
            "117/117 [==============================] - 0s 2ms/step - loss: 1.2747 - accuracy: 0.9471\n",
            "Epoch 276/500\n",
            "117/117 [==============================] - 0s 2ms/step - loss: 1.3400 - accuracy: 0.9392\n",
            "Epoch 277/500\n",
            "117/117 [==============================] - 0s 2ms/step - loss: 1.3476 - accuracy: 0.9545\n",
            "Epoch 278/500\n",
            "117/117 [==============================] - 0s 2ms/step - loss: 2.1273 - accuracy: 0.8939\n",
            "Epoch 279/500\n",
            "117/117 [==============================] - 0s 2ms/step - loss: 1.1806 - accuracy: 0.9567\n",
            "Epoch 280/500\n",
            "117/117 [==============================] - 0s 2ms/step - loss: 1.3347 - accuracy: 0.9361\n",
            "Epoch 281/500\n",
            "117/117 [==============================] - 0s 2ms/step - loss: 1.5268 - accuracy: 0.9395\n",
            "Epoch 282/500\n",
            "117/117 [==============================] - 0s 2ms/step - loss: 1.4009 - accuracy: 0.9417\n",
            "Epoch 283/500\n",
            "117/117 [==============================] - 0s 2ms/step - loss: 1.6582 - accuracy: 0.9291\n",
            "Epoch 284/500\n",
            "117/117 [==============================] - 0s 2ms/step - loss: 1.2341 - accuracy: 0.9530\n",
            "Epoch 285/500\n",
            "117/117 [==============================] - 0s 2ms/step - loss: 1.1650 - accuracy: 0.9461\n",
            "Epoch 286/500\n",
            "117/117 [==============================] - 0s 2ms/step - loss: 1.4096 - accuracy: 0.9417\n",
            "Epoch 287/500\n",
            "117/117 [==============================] - 0s 2ms/step - loss: 1.3024 - accuracy: 0.9468\n",
            "Epoch 288/500\n",
            "117/117 [==============================] - 0s 2ms/step - loss: 1.1856 - accuracy: 0.9530\n",
            "Epoch 289/500\n",
            "117/117 [==============================] - 0s 2ms/step - loss: 1.7614 - accuracy: 0.9214\n",
            "Epoch 290/500\n",
            "117/117 [==============================] - 0s 2ms/step - loss: 1.2558 - accuracy: 0.9503\n",
            "Epoch 291/500\n",
            "117/117 [==============================] - 0s 2ms/step - loss: 1.0246 - accuracy: 0.9566\n",
            "Epoch 292/500\n",
            "117/117 [==============================] - 0s 2ms/step - loss: 1.5090 - accuracy: 0.9341\n",
            "Epoch 293/500\n",
            "117/117 [==============================] - 0s 2ms/step - loss: 1.2435 - accuracy: 0.9429\n",
            "Epoch 294/500\n",
            "117/117 [==============================] - 0s 2ms/step - loss: 1.7944 - accuracy: 0.9270\n",
            "Epoch 295/500\n",
            "117/117 [==============================] - 0s 2ms/step - loss: 1.4045 - accuracy: 0.9382\n",
            "Epoch 296/500\n",
            "117/117 [==============================] - 0s 2ms/step - loss: 1.2938 - accuracy: 0.9491\n",
            "Epoch 297/500\n",
            "117/117 [==============================] - 0s 2ms/step - loss: 1.1325 - accuracy: 0.9500\n",
            "Epoch 298/500\n",
            "117/117 [==============================] - 0s 2ms/step - loss: 1.4129 - accuracy: 0.9401\n",
            "Epoch 299/500\n",
            "117/117 [==============================] - 0s 2ms/step - loss: 1.3376 - accuracy: 0.9420\n",
            "Epoch 300/500\n",
            "117/117 [==============================] - 0s 2ms/step - loss: 1.1402 - accuracy: 0.9541\n",
            "Epoch 301/500\n",
            "117/117 [==============================] - 0s 2ms/step - loss: 1.0940 - accuracy: 0.9523\n",
            "Epoch 302/500\n",
            "117/117 [==============================] - 0s 2ms/step - loss: 1.3950 - accuracy: 0.9457\n",
            "Epoch 303/500\n",
            "117/117 [==============================] - 0s 2ms/step - loss: 1.2033 - accuracy: 0.9471\n",
            "Epoch 304/500\n",
            "117/117 [==============================] - 0s 2ms/step - loss: 1.8874 - accuracy: 0.9224\n",
            "Epoch 305/500\n",
            "117/117 [==============================] - 0s 2ms/step - loss: 1.8759 - accuracy: 0.9186\n",
            "Epoch 306/500\n",
            "117/117 [==============================] - 0s 2ms/step - loss: 1.2457 - accuracy: 0.9436\n",
            "Epoch 307/500\n",
            "117/117 [==============================] - 0s 2ms/step - loss: 0.9758 - accuracy: 0.9565\n",
            "Epoch 308/500\n",
            "117/117 [==============================] - 0s 2ms/step - loss: 1.1416 - accuracy: 0.9522\n",
            "Epoch 309/500\n",
            "117/117 [==============================] - 0s 2ms/step - loss: 0.9326 - accuracy: 0.9594\n",
            "Epoch 310/500\n",
            "117/117 [==============================] - 0s 2ms/step - loss: 1.2083 - accuracy: 0.9478\n",
            "Epoch 311/500\n",
            "117/117 [==============================] - 0s 2ms/step - loss: 1.2349 - accuracy: 0.9531\n",
            "Epoch 312/500\n",
            "117/117 [==============================] - 0s 2ms/step - loss: 1.0859 - accuracy: 0.9490\n",
            "Epoch 313/500\n",
            "117/117 [==============================] - 0s 2ms/step - loss: 1.0585 - accuracy: 0.9547\n",
            "Epoch 314/500\n",
            "117/117 [==============================] - 0s 2ms/step - loss: 1.3832 - accuracy: 0.9384\n",
            "Epoch 315/500\n",
            "117/117 [==============================] - 0s 2ms/step - loss: 1.0732 - accuracy: 0.9553\n",
            "Epoch 316/500\n",
            "117/117 [==============================] - 0s 2ms/step - loss: 0.9779 - accuracy: 0.9582\n",
            "Epoch 317/500\n",
            "117/117 [==============================] - 0s 2ms/step - loss: 0.8695 - accuracy: 0.9657\n",
            "Epoch 318/500\n",
            "117/117 [==============================] - 0s 2ms/step - loss: 1.1948 - accuracy: 0.9478\n",
            "Epoch 319/500\n",
            "117/117 [==============================] - 0s 2ms/step - loss: 0.9623 - accuracy: 0.9583\n",
            "Epoch 320/500\n",
            "117/117 [==============================] - 0s 2ms/step - loss: 1.1065 - accuracy: 0.9555\n",
            "Epoch 321/500\n",
            "117/117 [==============================] - 0s 2ms/step - loss: 1.0089 - accuracy: 0.9563\n",
            "Epoch 322/500\n",
            "117/117 [==============================] - 0s 2ms/step - loss: 1.1792 - accuracy: 0.9495\n",
            "Epoch 323/500\n",
            "117/117 [==============================] - 0s 2ms/step - loss: 1.3156 - accuracy: 0.9459\n",
            "Epoch 324/500\n",
            "117/117 [==============================] - 0s 2ms/step - loss: 0.9860 - accuracy: 0.9583\n",
            "Epoch 325/500\n",
            "117/117 [==============================] - 0s 2ms/step - loss: 1.3116 - accuracy: 0.9411\n",
            "Epoch 326/500\n",
            "117/117 [==============================] - 0s 2ms/step - loss: 0.9640 - accuracy: 0.9585\n",
            "Epoch 327/500\n",
            "117/117 [==============================] - 0s 2ms/step - loss: 1.3500 - accuracy: 0.9417\n",
            "Epoch 328/500\n",
            "117/117 [==============================] - 0s 2ms/step - loss: 1.2470 - accuracy: 0.9483\n",
            "Epoch 329/500\n",
            "117/117 [==============================] - 0s 2ms/step - loss: 1.1794 - accuracy: 0.9558\n",
            "Epoch 330/500\n",
            "117/117 [==============================] - 0s 2ms/step - loss: 1.3883 - accuracy: 0.9376\n",
            "Epoch 331/500\n",
            "117/117 [==============================] - 0s 2ms/step - loss: 1.2247 - accuracy: 0.9474\n",
            "Epoch 332/500\n",
            "117/117 [==============================] - 0s 2ms/step - loss: 1.5969 - accuracy: 0.9376\n",
            "Epoch 333/500\n",
            "117/117 [==============================] - 0s 2ms/step - loss: 0.9934 - accuracy: 0.9575\n",
            "Epoch 334/500\n",
            "117/117 [==============================] - 0s 2ms/step - loss: 0.9535 - accuracy: 0.9571\n",
            "Epoch 335/500\n",
            "117/117 [==============================] - 0s 2ms/step - loss: 0.9816 - accuracy: 0.9617\n",
            "Epoch 336/500\n",
            "117/117 [==============================] - 0s 2ms/step - loss: 0.9758 - accuracy: 0.9598\n",
            "Epoch 337/500\n",
            "117/117 [==============================] - 0s 2ms/step - loss: 0.9279 - accuracy: 0.9645\n",
            "Epoch 338/500\n",
            "117/117 [==============================] - 0s 2ms/step - loss: 1.2681 - accuracy: 0.9444\n",
            "Epoch 339/500\n",
            "117/117 [==============================] - 0s 2ms/step - loss: 0.9909 - accuracy: 0.9633\n",
            "Epoch 340/500\n",
            "117/117 [==============================] - 0s 2ms/step - loss: 1.0701 - accuracy: 0.9507\n",
            "Epoch 341/500\n",
            "117/117 [==============================] - 0s 2ms/step - loss: 0.9040 - accuracy: 0.9634\n",
            "Epoch 342/500\n",
            "117/117 [==============================] - 0s 2ms/step - loss: 0.9452 - accuracy: 0.9624\n",
            "Epoch 343/500\n",
            "117/117 [==============================] - 0s 2ms/step - loss: 1.6886 - accuracy: 0.9332\n",
            "Epoch 344/500\n",
            "117/117 [==============================] - 0s 2ms/step - loss: 1.0756 - accuracy: 0.9526\n",
            "Epoch 345/500\n",
            "117/117 [==============================] - 0s 2ms/step - loss: 2.1660 - accuracy: 0.9219\n",
            "Epoch 346/500\n",
            "117/117 [==============================] - 0s 2ms/step - loss: 3.2017 - accuracy: 0.8895\n",
            "Epoch 347/500\n",
            "117/117 [==============================] - 0s 2ms/step - loss: 1.4696 - accuracy: 0.9390\n",
            "Epoch 348/500\n",
            "117/117 [==============================] - 0s 2ms/step - loss: 1.2718 - accuracy: 0.9423\n",
            "Epoch 349/500\n",
            "117/117 [==============================] - 0s 2ms/step - loss: 0.9749 - accuracy: 0.9597\n",
            "Epoch 350/500\n",
            "117/117 [==============================] - 0s 2ms/step - loss: 0.7413 - accuracy: 0.9713\n",
            "Epoch 351/500\n",
            "117/117 [==============================] - 0s 2ms/step - loss: 0.9088 - accuracy: 0.9609\n",
            "Epoch 352/500\n",
            "117/117 [==============================] - 0s 2ms/step - loss: 1.3374 - accuracy: 0.9479\n",
            "Epoch 353/500\n",
            "117/117 [==============================] - 0s 2ms/step - loss: 1.1171 - accuracy: 0.9518\n",
            "Epoch 354/500\n",
            "117/117 [==============================] - 0s 2ms/step - loss: 0.9171 - accuracy: 0.9629\n",
            "Epoch 355/500\n",
            "117/117 [==============================] - 0s 2ms/step - loss: 0.9282 - accuracy: 0.9621\n",
            "Epoch 356/500\n",
            "117/117 [==============================] - 0s 2ms/step - loss: 0.9498 - accuracy: 0.9622\n",
            "Epoch 357/500\n",
            "117/117 [==============================] - 0s 2ms/step - loss: 0.8003 - accuracy: 0.9674\n",
            "Epoch 358/500\n",
            "117/117 [==============================] - 0s 2ms/step - loss: 1.7059 - accuracy: 0.9307\n",
            "Epoch 359/500\n",
            "117/117 [==============================] - 0s 2ms/step - loss: 0.8803 - accuracy: 0.9660\n",
            "Epoch 360/500\n",
            "117/117 [==============================] - 0s 2ms/step - loss: 1.2114 - accuracy: 0.9595\n",
            "Epoch 361/500\n",
            "117/117 [==============================] - 0s 2ms/step - loss: 1.7319 - accuracy: 0.9175\n",
            "Epoch 362/500\n",
            "117/117 [==============================] - 0s 2ms/step - loss: 0.9156 - accuracy: 0.9669\n",
            "Epoch 363/500\n",
            "117/117 [==============================] - 0s 2ms/step - loss: 0.7204 - accuracy: 0.9688\n",
            "Epoch 364/500\n",
            "117/117 [==============================] - 0s 2ms/step - loss: 1.4012 - accuracy: 0.9448\n",
            "Epoch 365/500\n",
            "117/117 [==============================] - 0s 2ms/step - loss: 0.9950 - accuracy: 0.9598\n",
            "Epoch 366/500\n",
            "117/117 [==============================] - 0s 2ms/step - loss: 0.8683 - accuracy: 0.9693\n",
            "Epoch 367/500\n",
            "117/117 [==============================] - 0s 2ms/step - loss: 0.8528 - accuracy: 0.9646\n",
            "Epoch 368/500\n",
            "117/117 [==============================] - 0s 2ms/step - loss: 0.7823 - accuracy: 0.9660\n",
            "Epoch 369/500\n",
            "117/117 [==============================] - 0s 2ms/step - loss: 1.6942 - accuracy: 0.9271\n",
            "Epoch 370/500\n",
            "117/117 [==============================] - 0s 2ms/step - loss: 1.0322 - accuracy: 0.9553\n",
            "Epoch 371/500\n",
            "117/117 [==============================] - 0s 2ms/step - loss: 0.9104 - accuracy: 0.9660\n",
            "Epoch 372/500\n",
            "117/117 [==============================] - 0s 2ms/step - loss: 0.8636 - accuracy: 0.9658\n",
            "Epoch 373/500\n",
            "117/117 [==============================] - 0s 2ms/step - loss: 0.9623 - accuracy: 0.9594\n",
            "Epoch 374/500\n",
            "117/117 [==============================] - 0s 2ms/step - loss: 1.1915 - accuracy: 0.9506\n",
            "Epoch 375/500\n",
            "117/117 [==============================] - 0s 2ms/step - loss: 1.2329 - accuracy: 0.9482\n",
            "Epoch 376/500\n",
            "117/117 [==============================] - 0s 2ms/step - loss: 0.8788 - accuracy: 0.9677\n",
            "Epoch 377/500\n",
            "117/117 [==============================] - 0s 2ms/step - loss: 1.0803 - accuracy: 0.9506\n",
            "Epoch 378/500\n",
            "117/117 [==============================] - 0s 2ms/step - loss: 1.0041 - accuracy: 0.9578\n",
            "Epoch 379/500\n",
            "117/117 [==============================] - 0s 2ms/step - loss: 0.9255 - accuracy: 0.9628\n",
            "Epoch 380/500\n",
            "117/117 [==============================] - 0s 2ms/step - loss: 1.1183 - accuracy: 0.9504\n",
            "Epoch 381/500\n",
            "117/117 [==============================] - 0s 2ms/step - loss: 0.8539 - accuracy: 0.9649\n",
            "Epoch 382/500\n",
            "117/117 [==============================] - 0s 2ms/step - loss: 0.9146 - accuracy: 0.9624\n",
            "Epoch 383/500\n",
            "117/117 [==============================] - 0s 2ms/step - loss: 0.8563 - accuracy: 0.9657\n",
            "Epoch 384/500\n",
            "117/117 [==============================] - 0s 2ms/step - loss: 0.8646 - accuracy: 0.9656\n",
            "Epoch 385/500\n",
            "117/117 [==============================] - 0s 2ms/step - loss: 0.8123 - accuracy: 0.9700\n",
            "Epoch 386/500\n",
            "117/117 [==============================] - 0s 2ms/step - loss: 0.8392 - accuracy: 0.9624\n",
            "Epoch 387/500\n",
            "117/117 [==============================] - 0s 2ms/step - loss: 0.9948 - accuracy: 0.9617\n",
            "Epoch 388/500\n",
            "117/117 [==============================] - 0s 2ms/step - loss: 1.9941 - accuracy: 0.9188\n",
            "Epoch 389/500\n",
            "117/117 [==============================] - 0s 2ms/step - loss: 1.8853 - accuracy: 0.9215\n",
            "Epoch 390/500\n",
            "117/117 [==============================] - 0s 2ms/step - loss: 1.3971 - accuracy: 0.9378\n",
            "Epoch 391/500\n",
            "117/117 [==============================] - 0s 2ms/step - loss: 1.1707 - accuracy: 0.9559\n",
            "Epoch 392/500\n",
            "117/117 [==============================] - 0s 3ms/step - loss: 1.3389 - accuracy: 0.9500\n",
            "Epoch 393/500\n",
            "117/117 [==============================] - 0s 2ms/step - loss: 1.0212 - accuracy: 0.9553\n",
            "Epoch 394/500\n",
            "117/117 [==============================] - 0s 3ms/step - loss: 0.8993 - accuracy: 0.9636\n",
            "Epoch 395/500\n",
            "117/117 [==============================] - 0s 2ms/step - loss: 1.1465 - accuracy: 0.9557\n",
            "Epoch 396/500\n",
            "117/117 [==============================] - 0s 2ms/step - loss: 1.3765 - accuracy: 0.9468\n",
            "Epoch 397/500\n",
            "117/117 [==============================] - 0s 2ms/step - loss: 0.8346 - accuracy: 0.9688\n",
            "Epoch 398/500\n",
            "117/117 [==============================] - 0s 2ms/step - loss: 0.9473 - accuracy: 0.9570\n",
            "Epoch 399/500\n",
            "117/117 [==============================] - 0s 2ms/step - loss: 0.8530 - accuracy: 0.9638\n",
            "Epoch 400/500\n",
            "117/117 [==============================] - 0s 2ms/step - loss: 0.9452 - accuracy: 0.9609\n",
            "Epoch 401/500\n",
            "117/117 [==============================] - 0s 2ms/step - loss: 0.8976 - accuracy: 0.9646\n",
            "Epoch 402/500\n",
            "117/117 [==============================] - 0s 2ms/step - loss: 1.0244 - accuracy: 0.9571\n",
            "Epoch 403/500\n",
            "117/117 [==============================] - 0s 2ms/step - loss: 0.9273 - accuracy: 0.9657\n",
            "Epoch 404/500\n",
            "117/117 [==============================] - 0s 2ms/step - loss: 1.5015 - accuracy: 0.9390\n",
            "Epoch 405/500\n",
            "117/117 [==============================] - 0s 2ms/step - loss: 0.8157 - accuracy: 0.9674\n",
            "Epoch 406/500\n",
            "117/117 [==============================] - 0s 2ms/step - loss: 1.1265 - accuracy: 0.9551\n",
            "Epoch 407/500\n",
            "117/117 [==============================] - 0s 2ms/step - loss: 1.0771 - accuracy: 0.9539\n",
            "Epoch 408/500\n",
            "117/117 [==============================] - 0s 2ms/step - loss: 0.7916 - accuracy: 0.9668\n",
            "Epoch 409/500\n",
            "117/117 [==============================] - 0s 2ms/step - loss: 0.9994 - accuracy: 0.9626\n",
            "Epoch 410/500\n",
            "117/117 [==============================] - 0s 2ms/step - loss: 0.8553 - accuracy: 0.9717\n",
            "Epoch 411/500\n",
            "117/117 [==============================] - 0s 2ms/step - loss: 1.0139 - accuracy: 0.9577\n",
            "Epoch 412/500\n",
            "117/117 [==============================] - 0s 2ms/step - loss: 0.7345 - accuracy: 0.9685\n",
            "Epoch 413/500\n",
            "117/117 [==============================] - 0s 2ms/step - loss: 0.9867 - accuracy: 0.9598\n",
            "Epoch 414/500\n",
            "117/117 [==============================] - 0s 2ms/step - loss: 0.9049 - accuracy: 0.9644\n",
            "Epoch 415/500\n",
            "117/117 [==============================] - 0s 2ms/step - loss: 0.8807 - accuracy: 0.9657\n",
            "Epoch 416/500\n",
            "117/117 [==============================] - 0s 3ms/step - loss: 1.0099 - accuracy: 0.9563\n",
            "Epoch 417/500\n",
            "117/117 [==============================] - 0s 2ms/step - loss: 1.0348 - accuracy: 0.9569\n",
            "Epoch 418/500\n",
            "117/117 [==============================] - 0s 2ms/step - loss: 1.5988 - accuracy: 0.9441\n",
            "Epoch 419/500\n",
            "117/117 [==============================] - 0s 2ms/step - loss: 0.8444 - accuracy: 0.9640\n",
            "Epoch 420/500\n",
            "117/117 [==============================] - 0s 2ms/step - loss: 0.6959 - accuracy: 0.9688\n",
            "Epoch 421/500\n",
            "117/117 [==============================] - 0s 2ms/step - loss: 1.1205 - accuracy: 0.9570\n",
            "Epoch 422/500\n",
            "117/117 [==============================] - 0s 2ms/step - loss: 0.8036 - accuracy: 0.9692\n",
            "Epoch 423/500\n",
            "117/117 [==============================] - 0s 2ms/step - loss: 0.8770 - accuracy: 0.9612\n",
            "Epoch 424/500\n",
            "117/117 [==============================] - 0s 2ms/step - loss: 1.1077 - accuracy: 0.9616\n",
            "Epoch 425/500\n",
            "117/117 [==============================] - 0s 2ms/step - loss: 0.7923 - accuracy: 0.9668\n",
            "Epoch 426/500\n",
            "117/117 [==============================] - 0s 2ms/step - loss: 0.8508 - accuracy: 0.9641\n",
            "Epoch 427/500\n",
            "117/117 [==============================] - 0s 2ms/step - loss: 0.6931 - accuracy: 0.9739\n",
            "Epoch 428/500\n",
            "117/117 [==============================] - 0s 2ms/step - loss: 0.7636 - accuracy: 0.9669\n",
            "Epoch 429/500\n",
            "117/117 [==============================] - 0s 3ms/step - loss: 1.1935 - accuracy: 0.9515\n",
            "Epoch 430/500\n",
            "117/117 [==============================] - 0s 2ms/step - loss: 1.0088 - accuracy: 0.9641\n",
            "Epoch 431/500\n",
            "117/117 [==============================] - 0s 2ms/step - loss: 0.8129 - accuracy: 0.9700\n",
            "Epoch 432/500\n",
            "117/117 [==============================] - 0s 2ms/step - loss: 1.2228 - accuracy: 0.9468\n",
            "Epoch 433/500\n",
            "117/117 [==============================] - 0s 2ms/step - loss: 1.0807 - accuracy: 0.9559\n",
            "Epoch 434/500\n",
            "117/117 [==============================] - 0s 2ms/step - loss: 1.1656 - accuracy: 0.9546\n",
            "Epoch 435/500\n",
            "117/117 [==============================] - 0s 2ms/step - loss: 0.9210 - accuracy: 0.9691\n",
            "Epoch 436/500\n",
            "117/117 [==============================] - 0s 2ms/step - loss: 1.0067 - accuracy: 0.9590\n",
            "Epoch 437/500\n",
            "117/117 [==============================] - 0s 2ms/step - loss: 1.0680 - accuracy: 0.9543\n",
            "Epoch 438/500\n",
            "117/117 [==============================] - 0s 2ms/step - loss: 1.0121 - accuracy: 0.9609\n",
            "Epoch 439/500\n",
            "117/117 [==============================] - 0s 2ms/step - loss: 0.6704 - accuracy: 0.9736\n",
            "Epoch 440/500\n",
            "117/117 [==============================] - 0s 2ms/step - loss: 1.3340 - accuracy: 0.9395\n",
            "Epoch 441/500\n",
            "117/117 [==============================] - 0s 2ms/step - loss: 0.8430 - accuracy: 0.9656\n",
            "Epoch 442/500\n",
            "117/117 [==============================] - 0s 2ms/step - loss: 0.8886 - accuracy: 0.9628\n",
            "Epoch 443/500\n",
            "117/117 [==============================] - 0s 2ms/step - loss: 1.0554 - accuracy: 0.9586\n",
            "Epoch 444/500\n",
            "117/117 [==============================] - 0s 2ms/step - loss: 0.6946 - accuracy: 0.9701\n",
            "Epoch 445/500\n",
            "117/117 [==============================] - 0s 2ms/step - loss: 0.5260 - accuracy: 0.9794\n",
            "Epoch 446/500\n",
            "117/117 [==============================] - 0s 2ms/step - loss: 0.9040 - accuracy: 0.9621\n",
            "Epoch 447/500\n",
            "117/117 [==============================] - 0s 2ms/step - loss: 1.3180 - accuracy: 0.9490\n",
            "Epoch 448/500\n",
            "117/117 [==============================] - 0s 2ms/step - loss: 1.0174 - accuracy: 0.9640\n",
            "Epoch 449/500\n",
            "117/117 [==============================] - 0s 2ms/step - loss: 0.7443 - accuracy: 0.9664\n",
            "Epoch 450/500\n",
            "117/117 [==============================] - 0s 2ms/step - loss: 0.8630 - accuracy: 0.9658\n",
            "Epoch 451/500\n",
            "117/117 [==============================] - 0s 2ms/step - loss: 0.7259 - accuracy: 0.9692\n",
            "Epoch 452/500\n",
            "117/117 [==============================] - 0s 2ms/step - loss: 0.9914 - accuracy: 0.9628\n",
            "Epoch 453/500\n",
            "117/117 [==============================] - 0s 2ms/step - loss: 0.8844 - accuracy: 0.9637\n",
            "Epoch 454/500\n",
            "117/117 [==============================] - 0s 2ms/step - loss: 0.7296 - accuracy: 0.9678\n",
            "Epoch 455/500\n",
            "117/117 [==============================] - 0s 2ms/step - loss: 0.9072 - accuracy: 0.9650\n",
            "Epoch 456/500\n",
            "117/117 [==============================] - 0s 2ms/step - loss: 1.2951 - accuracy: 0.9495\n",
            "Epoch 457/500\n",
            "117/117 [==============================] - 0s 2ms/step - loss: 1.0916 - accuracy: 0.9558\n",
            "Epoch 458/500\n",
            "117/117 [==============================] - 0s 2ms/step - loss: 1.2451 - accuracy: 0.9468\n",
            "Epoch 459/500\n",
            "117/117 [==============================] - 0s 2ms/step - loss: 1.0034 - accuracy: 0.9582\n",
            "Epoch 460/500\n",
            "117/117 [==============================] - 0s 2ms/step - loss: 1.0080 - accuracy: 0.9629\n",
            "Epoch 461/500\n",
            "117/117 [==============================] - 0s 2ms/step - loss: 0.7969 - accuracy: 0.9664\n",
            "Epoch 462/500\n",
            "117/117 [==============================] - 0s 2ms/step - loss: 1.1487 - accuracy: 0.9524\n",
            "Epoch 463/500\n",
            "117/117 [==============================] - 0s 2ms/step - loss: 0.6386 - accuracy: 0.9764\n",
            "Epoch 464/500\n",
            "117/117 [==============================] - 0s 2ms/step - loss: 0.8934 - accuracy: 0.9637\n",
            "Epoch 465/500\n",
            "117/117 [==============================] - 0s 2ms/step - loss: 0.8598 - accuracy: 0.9661\n",
            "Epoch 466/500\n",
            "117/117 [==============================] - 0s 2ms/step - loss: 0.9431 - accuracy: 0.9581\n",
            "Epoch 467/500\n",
            "117/117 [==============================] - 0s 2ms/step - loss: 0.8522 - accuracy: 0.9652\n",
            "Epoch 468/500\n",
            "117/117 [==============================] - 0s 2ms/step - loss: 0.7038 - accuracy: 0.9685\n",
            "Epoch 469/500\n",
            "117/117 [==============================] - 0s 2ms/step - loss: 0.7992 - accuracy: 0.9636\n",
            "Epoch 470/500\n",
            "117/117 [==============================] - 0s 2ms/step - loss: 1.0925 - accuracy: 0.9578\n",
            "Epoch 471/500\n",
            "117/117 [==============================] - 0s 3ms/step - loss: 0.9926 - accuracy: 0.9614\n",
            "Epoch 472/500\n",
            "117/117 [==============================] - 0s 2ms/step - loss: 0.7317 - accuracy: 0.9672\n",
            "Epoch 473/500\n",
            "117/117 [==============================] - 0s 2ms/step - loss: 0.6008 - accuracy: 0.9788\n",
            "Epoch 474/500\n",
            "117/117 [==============================] - 0s 2ms/step - loss: 0.8720 - accuracy: 0.9582\n",
            "Epoch 475/500\n",
            "117/117 [==============================] - 0s 2ms/step - loss: 0.6874 - accuracy: 0.9708\n",
            "Epoch 476/500\n",
            "117/117 [==============================] - 0s 2ms/step - loss: 1.0679 - accuracy: 0.9586\n",
            "Epoch 477/500\n",
            "117/117 [==============================] - 0s 2ms/step - loss: 0.9951 - accuracy: 0.9597\n",
            "Epoch 478/500\n",
            "117/117 [==============================] - 0s 3ms/step - loss: 0.7344 - accuracy: 0.9697\n",
            "Epoch 479/500\n",
            "117/117 [==============================] - 0s 2ms/step - loss: 0.5789 - accuracy: 0.9745\n",
            "Epoch 480/500\n",
            "117/117 [==============================] - 0s 2ms/step - loss: 0.7923 - accuracy: 0.9665\n",
            "Epoch 481/500\n",
            "117/117 [==============================] - 0s 3ms/step - loss: 0.6185 - accuracy: 0.9725\n",
            "Epoch 482/500\n",
            "117/117 [==============================] - 0s 2ms/step - loss: 0.9837 - accuracy: 0.9602\n",
            "Epoch 483/500\n",
            "117/117 [==============================] - 0s 2ms/step - loss: 0.9418 - accuracy: 0.9638\n",
            "Epoch 484/500\n",
            "117/117 [==============================] - 0s 2ms/step - loss: 1.0272 - accuracy: 0.9561\n",
            "Epoch 485/500\n",
            "117/117 [==============================] - 0s 2ms/step - loss: 1.6064 - accuracy: 0.9415\n",
            "Epoch 486/500\n",
            "117/117 [==============================] - 0s 2ms/step - loss: 0.8612 - accuracy: 0.9616\n",
            "Epoch 487/500\n",
            "117/117 [==============================] - 0s 3ms/step - loss: 0.8491 - accuracy: 0.9630\n",
            "Epoch 488/500\n",
            "117/117 [==============================] - 0s 2ms/step - loss: 0.9952 - accuracy: 0.9599\n",
            "Epoch 489/500\n",
            "117/117 [==============================] - 0s 2ms/step - loss: 0.8454 - accuracy: 0.9638\n",
            "Epoch 490/500\n",
            "117/117 [==============================] - 0s 2ms/step - loss: 0.6325 - accuracy: 0.9772\n",
            "Epoch 491/500\n",
            "117/117 [==============================] - 0s 2ms/step - loss: 1.0345 - accuracy: 0.9547\n",
            "Epoch 492/500\n",
            "117/117 [==============================] - 0s 2ms/step - loss: 0.8309 - accuracy: 0.9646\n",
            "Epoch 493/500\n",
            "117/117 [==============================] - 0s 2ms/step - loss: 1.0406 - accuracy: 0.9610\n",
            "Epoch 494/500\n",
            "117/117 [==============================] - 0s 3ms/step - loss: 0.6391 - accuracy: 0.9723\n",
            "Epoch 495/500\n",
            "117/117 [==============================] - 0s 3ms/step - loss: 0.8068 - accuracy: 0.9628\n",
            "Epoch 496/500\n",
            "117/117 [==============================] - 0s 3ms/step - loss: 0.8004 - accuracy: 0.9661\n",
            "Epoch 497/500\n",
            "117/117 [==============================] - 0s 2ms/step - loss: 0.6201 - accuracy: 0.9763\n",
            "Epoch 498/500\n",
            "117/117 [==============================] - 0s 3ms/step - loss: 1.0618 - accuracy: 0.9567\n",
            "Epoch 499/500\n",
            "117/117 [==============================] - 0s 3ms/step - loss: 0.9501 - accuracy: 0.9598\n",
            "Epoch 500/500\n",
            "117/117 [==============================] - 0s 3ms/step - loss: 0.7421 - accuracy: 0.9697\n"
          ]
        },
        {
          "output_type": "execute_result",
          "data": {
            "text/plain": [
              "<keras.callbacks.History at 0x7faada102090>"
            ]
          },
          "metadata": {},
          "execution_count": 214
        }
      ]
    },
    {
      "cell_type": "code",
      "metadata": {
        "colab": {
          "base_uri": "https://localhost:8080/"
        },
        "id": "EyNl7_bKBjTl",
        "outputId": "63d8acbe-4669-48cb-8ac7-50de425d64f8"
      },
      "source": [
        "loss,accuracy = model.evaluate(X_test, y_test)\n",
        "print(loss, accuracy)"
      ],
      "execution_count": 195,
      "outputs": [
        {
          "output_type": "stream",
          "name": "stdout",
          "text": [
            "234/234 [==============================] - 0s 1ms/step - loss: 8.6929 - accuracy: 0.9794\n",
            "8.692902565002441 0.9793704152107239\n"
          ]
        }
      ]
    },
    {
      "cell_type": "markdown",
      "metadata": {
        "id": "WSMcDJFaCdbi"
      },
      "source": [
        "## Predict on eval dataset for further labeling."
      ]
    },
    {
      "cell_type": "code",
      "metadata": {
        "id": "v1O3J-fUESee"
      },
      "source": [
        "y_pred = model.predict(X_train)\n",
        "y_cls = (y_pred > 0.5).astype(\"int32\")"
      ],
      "execution_count": 215,
      "outputs": []
    },
    {
      "cell_type": "code",
      "metadata": {
        "colab": {
          "base_uri": "https://localhost:8080/"
        },
        "id": "35pPz6XlH9bB",
        "outputId": "fc654701-fe8f-443b-9ace-f32f61d9edae"
      },
      "source": [
        "(y_pred > 0.5).sum()"
      ],
      "execution_count": 60,
      "outputs": [
        {
          "output_type": "execute_result",
          "data": {
            "text/plain": [
              "827"
            ]
          },
          "metadata": {},
          "execution_count": 60
        }
      ]
    },
    {
      "cell_type": "code",
      "metadata": {
        "id": "B91pKTF8JNYN"
      },
      "source": [
        "def eval_model(y_test, y_cls):\n",
        "  y1 = y_test.reshape(-1)\n",
        "  y2 = y_cls.reshape(-1)\n",
        "  print(roc_auc_score(y1, y2))\n",
        "  print(classification_report(y1,y2))\n",
        "  print(confusion_matrix(y1,y2))\n"
      ],
      "execution_count": 116,
      "outputs": []
    },
    {
      "cell_type": "code",
      "metadata": {
        "colab": {
          "base_uri": "https://localhost:8080/"
        },
        "id": "UWFMBYZxOSUk",
        "outputId": "e1659f32-2ead-4d0e-e35d-4577a77c5bac"
      },
      "source": [
        "eval_model(y_train, y_cls)"
      ],
      "execution_count": 216,
      "outputs": [
        {
          "output_type": "stream",
          "name": "stdout",
          "text": [
            "0.4913836899499039\n",
            "              precision    recall  f1-score   support\n",
            "\n",
            "         0.0       0.99      0.29      0.45     36799\n",
            "         1.0       0.01      0.69      0.02       433\n",
            "\n",
            "    accuracy                           0.30     37232\n",
            "   macro avg       0.50      0.49      0.24     37232\n",
            "weighted avg       0.98      0.30      0.45     37232\n",
            "\n",
            "[[10754 26045]\n",
            " [  134   299]]\n"
          ]
        }
      ]
    },
    {
      "cell_type": "code",
      "metadata": {
        "colab": {
          "base_uri": "https://localhost:8080/"
        },
        "id": "9_zSyw6yoU1S",
        "outputId": "63e16b52-fe88-4eba-97ea-eab8a56aa27b"
      },
      "source": [
        "eval_model(y_train, y_cls)"
      ],
      "execution_count": 203,
      "outputs": [
        {
          "output_type": "stream",
          "name": "stdout",
          "text": [
            "0.5064665001502765\n",
            "              precision    recall  f1-score   support\n",
            "\n",
            "         0.0       0.99      0.67      0.80     36799\n",
            "         1.0       0.01      0.35      0.02       433\n",
            "\n",
            "    accuracy                           0.66     37232\n",
            "   macro avg       0.50      0.51      0.41     37232\n",
            "weighted avg       0.98      0.66      0.79     37232\n",
            "\n",
            "[[24527 12272]\n",
            " [  283   150]]\n"
          ]
        }
      ]
    },
    {
      "cell_type": "code",
      "metadata": {
        "colab": {
          "base_uri": "https://localhost:8080/"
        },
        "id": "BEGS90tDyMV6",
        "outputId": "1155b3bc-7010-4c85-d045-2a3591598959"
      },
      "source": [
        "eval_model(y_test, y_cls)"
      ],
      "execution_count": 197,
      "outputs": [
        {
          "output_type": "stream",
          "name": "stdout",
          "text": [
            "0.5\n",
            "              precision    recall  f1-score   support\n",
            "\n",
            "         0.0       0.98      1.00      0.99      7311\n",
            "         1.0       0.00      0.00      0.00       154\n",
            "\n",
            "    accuracy                           0.98      7465\n",
            "   macro avg       0.49      0.50      0.49      7465\n",
            "weighted avg       0.96      0.98      0.97      7465\n",
            "\n",
            "[[7311    0]\n",
            " [ 154    0]]\n"
          ]
        },
        {
          "output_type": "stream",
          "name": "stderr",
          "text": [
            "/usr/local/lib/python3.7/dist-packages/sklearn/metrics/_classification.py:1272: UndefinedMetricWarning: Precision and F-score are ill-defined and being set to 0.0 in labels with no predicted samples. Use `zero_division` parameter to control this behavior.\n",
            "  _warn_prf(average, modifier, msg_start, len(result))\n"
          ]
        }
      ]
    },
    {
      "cell_type": "code",
      "metadata": {
        "id": "BYZigB-fymgd"
      },
      "source": [
        "def export_result(df_eval,y_pred):\n",
        "  '''\n",
        "  Attach the predicte result (probability) into original records.\n",
        "  Export to a csv file for further investication\n",
        "  '''\n",
        "  df_eval['predict'] = y_pred\n",
        "  df_eval['mid_value'] = abs(df_eval['predict'] - 0.5)\n",
        "  df_eval = df_eval.sort_values('mid_value')\n",
        "  value_limit = df_eval.iloc[200,-1]\n",
        "  df_record4label = df_eval[(df_eval['mid_value'] <= value_limit)|(df_eval['fraud'] == 1)]\n",
        "  path = '/content/drive/MyDrive/Colab Notebooks/finalproject/'\n",
        "  file_csv = path + 'for_label.csv'\n",
        "  df_record4label.to_csv(file_csv)\n",
        "  return True\n"
      ],
      "execution_count": 84,
      "outputs": []
    },
    {
      "cell_type": "code",
      "metadata": {
        "colab": {
          "base_uri": "https://localhost:8080/"
        },
        "id": "dI0Pw_Ur3xbd",
        "outputId": "75ccc644-ccd3-48ca-a126-7cfb9c8de1ef"
      },
      "source": [
        "record_to_label(df_eval,y_pred)"
      ],
      "execution_count": 85,
      "outputs": [
        {
          "output_type": "execute_result",
          "data": {
            "text/plain": [
              "True"
            ]
          },
          "metadata": {},
          "execution_count": 85
        }
      ]
    }
  ]
}