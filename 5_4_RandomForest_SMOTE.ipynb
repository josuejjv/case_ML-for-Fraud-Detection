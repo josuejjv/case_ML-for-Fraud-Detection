{
  "nbformat": 4,
  "nbformat_minor": 0,
  "metadata": {
    "colab": {
      "name": "5_4_RandomForest_SMOTE.ipynb",
      "provenance": [],
      "authorship_tag": "ABX9TyO8h+tSsiOVzuO4YjkxjLzh",
      "include_colab_link": true
    },
    "kernelspec": {
      "name": "python3",
      "display_name": "Python 3"
    },
    "language_info": {
      "name": "python"
    }
  },
  "cells": [
    {
      "cell_type": "markdown",
      "metadata": {
        "id": "view-in-github",
        "colab_type": "text"
      },
      "source": [
        "<a href=\"https://colab.research.google.com/github/ryanhao1115/ML-for-Fraud-Detection/blob/main/5_4_RandomForest_SMOTE.ipynb\" target=\"_parent\"><img src=\"https://colab.research.google.com/assets/colab-badge.svg\" alt=\"Open In Colab\"/></a>"
      ]
    },
    {
      "cell_type": "code",
      "metadata": {
        "colab": {
          "base_uri": "https://localhost:8080/"
        },
        "id": "ndtW0FwNmcWr",
        "outputId": "8aba408e-a8a2-4570-df88-d987ce9b679a"
      },
      "source": [
        "from google.colab import drive\n",
        "drive.mount('/content/drive')"
      ],
      "execution_count": 1,
      "outputs": [
        {
          "output_type": "stream",
          "name": "stdout",
          "text": [
            "Mounted at /content/drive\n"
          ]
        }
      ]
    },
    {
      "cell_type": "code",
      "metadata": {
        "colab": {
          "base_uri": "https://localhost:8080/"
        },
        "id": "B0ly0AY21KvU",
        "outputId": "06daac1c-9cbc-4247-8dbd-89db23f15792"
      },
      "source": [
        "!pip install imbalanced-learn"
      ],
      "execution_count": 294,
      "outputs": [
        {
          "output_type": "stream",
          "name": "stdout",
          "text": [
            "Requirement already satisfied: imbalanced-learn in /usr/local/lib/python3.7/dist-packages (0.4.3)\n",
            "Requirement already satisfied: scikit-learn>=0.20 in /usr/local/lib/python3.7/dist-packages (from imbalanced-learn) (0.22.2.post1)\n",
            "Requirement already satisfied: scipy>=0.13.3 in /usr/local/lib/python3.7/dist-packages (from imbalanced-learn) (1.4.1)\n",
            "Requirement already satisfied: numpy>=1.8.2 in /usr/local/lib/python3.7/dist-packages (from imbalanced-learn) (1.19.5)\n",
            "Requirement already satisfied: joblib>=0.11 in /usr/local/lib/python3.7/dist-packages (from scikit-learn>=0.20->imbalanced-learn) (1.0.1)\n"
          ]
        }
      ]
    },
    {
      "cell_type": "markdown",
      "metadata": {
        "id": "oINI7xYSmpo8"
      },
      "source": [
        "## Random Forest model with SMOTE\n",
        "1. import new return label data.\n",
        "2. SMOTE to address imbalance class issue.\n",
        "4. Train model\n",
        "5. Eval model\n",
        "6. Create Risk-heatmap"
      ]
    },
    {
      "cell_type": "code",
      "metadata": {
        "id": "6Gc_G68myO1w"
      },
      "source": [
        "import pandas as pd\n",
        "import numpy as np\n",
        "from sklearn.preprocessing import OneHotEncoder\n",
        "from sklearn.preprocessing import StandardScaler\n",
        "from sklearn.metrics import classification_report, roc_auc_score, confusion_matrix,accuracy_score\n",
        "import random\n",
        "from sklearn.ensemble import RandomForestClassifier \n",
        "from sklearn.model_selection import train_test_split,GridSearchCV,cross_val_score\n",
        "from imblearn.over_sampling import SMOTE\n",
        "from imblearn.under_sampling import RandomUnderSampler\n",
        "from imblearn.pipeline import Pipeline\n"
      ],
      "execution_count": 419,
      "outputs": []
    },
    {
      "cell_type": "code",
      "metadata": {
        "id": "wr3fxm5Waw2H"
      },
      "source": [
        "def reset_seeds():\n",
        "    '''\n",
        "    reset random seeds for modeling\n",
        "    '''\n",
        "    np.random.seed(1)\n",
        "    random.seed(2)\n",
        "    if tf.__version__[0] == '2':\n",
        "        tf.random.set_seed(3)\n",
        "    else:\n",
        "        tf.set_random_seed(3)\n",
        "    print(\"RANDOM SEEDS RESET\")"
      ],
      "execution_count": 219,
      "outputs": []
    },
    {
      "cell_type": "code",
      "metadata": {
        "id": "EB5yPnJdyRnG"
      },
      "source": [
        "## import dataset \n",
        "path = '/content/drive/MyDrive/Colab Notebooks/finalproject/'\n",
        "file = path + 'sales_clean.csv'\n",
        "df = pd.read_csv(file)"
      ],
      "execution_count": 5,
      "outputs": []
    },
    {
      "cell_type": "code",
      "metadata": {
        "id": "zM0xX0nKWIu0"
      },
      "source": [
        "df = df.drop(columns='Unnamed: 0')"
      ],
      "execution_count": 6,
      "outputs": []
    },
    {
      "cell_type": "code",
      "metadata": {
        "colab": {
          "base_uri": "https://localhost:8080/"
        },
        "id": "tXuAbPlSyWVW",
        "outputId": "8d636786-5ada-4904-f364-9f6fa94fdbeb"
      },
      "source": [
        "df.nunique()"
      ],
      "execution_count": 369,
      "outputs": [
        {
          "output_type": "execute_result",
          "data": {
            "text/plain": [
              "distributor        639\n",
              "sales              209\n",
              "branch              28\n",
              "inv_type             3\n",
              "invoice_no       30721\n",
              "product_no        1094\n",
              "prod_cla             7\n",
              "qty                202\n",
              "total_amt        16112\n",
              "sale_price        8598\n",
              "ship_qty           202\n",
              "cust_type           20\n",
              "return               2\n",
              "discount_app         2\n",
              "list_price        6720\n",
              "inv_ship_days      133\n",
              "fraud                3\n",
              "dtype: int64"
            ]
          },
          "metadata": {},
          "execution_count": 369
        }
      ]
    },
    {
      "cell_type": "markdown",
      "metadata": {
        "id": "lCCJjJWqGLvU"
      },
      "source": [
        "## import return label data"
      ]
    },
    {
      "cell_type": "code",
      "metadata": {
        "id": "cYVtnDc2HXFA"
      },
      "source": [
        "## import fraud data\n",
        "file = path + 'frauds.csv'\n",
        "df_fraud = pd.read_csv(file,header=None)\n",
        "df_fraud.columns = ['invoice_no']"
      ],
      "execution_count": 8,
      "outputs": []
    },
    {
      "cell_type": "code",
      "metadata": {
        "id": "YntiE6PVIrPC"
      },
      "source": [
        "## import return new labeled data\n",
        "file = path + 'return.csv'\n",
        "df_fraud2 = pd.read_csv(file,header=None)\n",
        "df_fraud2.columns = ['invoice_no']"
      ],
      "execution_count": 9,
      "outputs": []
    },
    {
      "cell_type": "code",
      "metadata": {
        "colab": {
          "base_uri": "https://localhost:8080/"
        },
        "id": "CiNt30SZf6aD",
        "outputId": "9ad2d057-388f-4348-b8d4-89c9b1d3c26e"
      },
      "source": [
        "len(df_fraud2)"
      ],
      "execution_count": 10,
      "outputs": [
        {
          "output_type": "execute_result",
          "data": {
            "text/plain": [
              "24"
            ]
          },
          "metadata": {},
          "execution_count": 10
        }
      ]
    },
    {
      "cell_type": "code",
      "metadata": {
        "id": "bo6Q08-CJyOv"
      },
      "source": [
        "def label_fraud(df, df_fraud, df_fraud2):\n",
        "  df['fraud'] = np.zeros(len(df))\n",
        "  frauds_l = df_fraud['invoice_no'].to_list()\n",
        "  frauds_l2 = df_fraud2['invoice_no'].to_list()\n",
        "  df.loc[df['invoice_no'].isin(frauds_l),'fraud'] = 1\n",
        "  df.loc[df['invoice_no'].isin(frauds_l2),'fraud'] = 2\n",
        "  return df"
      ],
      "execution_count": 11,
      "outputs": []
    },
    {
      "cell_type": "code",
      "metadata": {
        "id": "y0iwhuZ_XIpE"
      },
      "source": [
        "df = label_fraud(df, df_fraud,df_fraud2)"
      ],
      "execution_count": 12,
      "outputs": []
    },
    {
      "cell_type": "code",
      "metadata": {
        "colab": {
          "base_uri": "https://localhost:8080/"
        },
        "id": "S6y811N2NJZS",
        "outputId": "4a05289e-b7e3-407b-e8a4-3fccd22e35f2"
      },
      "source": [
        "df['fraud'].value_counts()"
      ],
      "execution_count": 13,
      "outputs": [
        {
          "output_type": "execute_result",
          "data": {
            "text/plain": [
              "0.0    228014\n",
              "2.0       433\n",
              "1.0       154\n",
              "Name: fraud, dtype: int64"
            ]
          },
          "metadata": {},
          "execution_count": 13
        }
      ]
    },
    {
      "cell_type": "markdown",
      "metadata": {
        "id": "l7OnGZt9GEAL"
      },
      "source": [
        "## Encoding"
      ]
    },
    {
      "cell_type": "code",
      "metadata": {
        "colab": {
          "base_uri": "https://localhost:8080/"
        },
        "id": "KnPg5AboX9Pp",
        "outputId": "f0daccd3-2d33-4421-f147-e5bb345a9b66"
      },
      "source": [
        "df.nunique()"
      ],
      "execution_count": 317,
      "outputs": [
        {
          "output_type": "execute_result",
          "data": {
            "text/plain": [
              "distributor        639\n",
              "sales              209\n",
              "branch              28\n",
              "inv_type             3\n",
              "invoice_no       30721\n",
              "product_no        1094\n",
              "prod_cla             7\n",
              "qty                202\n",
              "total_amt        16112\n",
              "sale_price        8598\n",
              "ship_qty           202\n",
              "cust_type           20\n",
              "return               2\n",
              "discount_app         2\n",
              "list_price        6720\n",
              "inv_ship_days      133\n",
              "fraud                3\n",
              "dtype: int64"
            ]
          },
          "metadata": {},
          "execution_count": 317
        }
      ]
    },
    {
      "cell_type": "code",
      "metadata": {
        "id": "T0O7sPin33OP"
      },
      "source": [
        "cols = df.columns.to_list()\n",
        "cols = ['distributor', 'sales', 'branch', 'inv_type', 'invoice_no', 'product_no', 'prod_cla', 'cust_type']"
      ],
      "execution_count": 38,
      "outputs": []
    },
    {
      "cell_type": "code",
      "metadata": {
        "id": "VlDcgPcLY014"
      },
      "source": [
        "## remove some fields with many classes\n",
        "cols1 = ['distributor', 'sales', 'invoice_no', 'product_no']\n",
        "df_less = df.drop(columns=cols1)"
      ],
      "execution_count": 248,
      "outputs": []
    },
    {
      "cell_type": "code",
      "metadata": {
        "id": "fpoyuiZZaxoR"
      },
      "source": [
        "def field_onehotencoding(df):\n",
        "  cols = [ 'branch', 'inv_type',  'prod_cla', 'cust_type']\n",
        "  df[cols] = df[cols].astype('str') \n",
        "  df_enc = pd.get_dummies(df)\n",
        "  return df_enc"
      ],
      "execution_count": 249,
      "outputs": []
    },
    {
      "cell_type": "code",
      "metadata": {
        "id": "IX-MPQX1cq4P"
      },
      "source": [
        "df_less = field_onehotencoding(df_less)"
      ],
      "execution_count": 250,
      "outputs": []
    },
    {
      "cell_type": "code",
      "metadata": {
        "colab": {
          "base_uri": "https://localhost:8080/"
        },
        "id": "PdzuM0U2jb9V",
        "outputId": "a86cb94f-c37f-47b5-d491-fe5060107ca2"
      },
      "source": [
        "df_less.shape"
      ],
      "execution_count": 251,
      "outputs": [
        {
          "output_type": "execute_result",
          "data": {
            "text/plain": [
              "(228601, 67)"
            ]
          },
          "metadata": {},
          "execution_count": 251
        }
      ]
    },
    {
      "cell_type": "markdown",
      "metadata": {
        "id": "zYRaXHXsP07P"
      },
      "source": [
        "## Splite Train Test data\n"
      ]
    },
    {
      "cell_type": "code",
      "metadata": {
        "id": "d7PpSBXyT1iz"
      },
      "source": [
        "df_fraud = df_less[df_less['fraud'] == 1]\n",
        "df_non_fraud = df_less[df_less['fraud'] == 0]\n",
        "df_fraud2 = df_less[df_less['fraud'] == 2]"
      ],
      "execution_count": 302,
      "outputs": []
    },
    {
      "cell_type": "code",
      "metadata": {
        "colab": {
          "base_uri": "https://localhost:8080/"
        },
        "id": "eGH1pJ_JVnr7",
        "outputId": "00e87e91-6195-42a3-f90f-f9fd386bc9ac"
      },
      "source": [
        "df_fraud2.shape"
      ],
      "execution_count": 311,
      "outputs": [
        {
          "output_type": "execute_result",
          "data": {
            "text/plain": [
              "(433, 67)"
            ]
          },
          "metadata": {},
          "execution_count": 311
        }
      ]
    },
    {
      "cell_type": "code",
      "metadata": {
        "colab": {
          "base_uri": "https://localhost:8080/"
        },
        "id": "9J8c4dTt6QAt",
        "outputId": "f13c637a-d567-4e3a-c33c-9487d5aaab2b"
      },
      "source": [
        "df_non_fraud.shape"
      ],
      "execution_count": 303,
      "outputs": [
        {
          "output_type": "execute_result",
          "data": {
            "text/plain": [
              "(228014, 67)"
            ]
          },
          "metadata": {},
          "execution_count": 303
        }
      ]
    },
    {
      "cell_type": "code",
      "metadata": {
        "colab": {
          "base_uri": "https://localhost:8080/"
        },
        "id": "k4nyP6ft-Lg9",
        "outputId": "b1ef245c-204c-4d24-b451-24d715d6c669"
      },
      "source": [
        "df_non_fraud.nunique()"
      ],
      "execution_count": 307,
      "outputs": [
        {
          "output_type": "execute_result",
          "data": {
            "text/plain": [
              "qty                 202\n",
              "total_amt         15896\n",
              "sale_price         8237\n",
              "ship_qty            202\n",
              "return                2\n",
              "                  ...  \n",
              "cust_type_KX01        2\n",
              "cust_type_LX01        2\n",
              "cust_type_MX01        2\n",
              "cust_type_NX01        2\n",
              "cust_type_ZZ01        2\n",
              "Length: 67, dtype: int64"
            ]
          },
          "metadata": {},
          "execution_count": 307
        }
      ]
    },
    {
      "cell_type": "code",
      "metadata": {
        "id": "M2L3ePEOXvyD"
      },
      "source": [
        "def sampling_record(df_non_fraud,df_fraud,df_fraud2):\n",
        "  '''\n",
        "  Random sampling from unlabled records.\n",
        "  concat with labeled records\n",
        "  '''\n",
        "  df = df_non_fraud.sample(frac=1,replace=False)\n",
        "\n",
        "  sample_size = len(df_non_fraud) - 8000\n",
        " \n",
        "  ## Build training dataset\n",
        "  df_train = df.iloc[:sample_size,:]\n",
        "  df_train = pd.concat([df_train,df_fraud2])\n",
        "  df_train.loc[df_train['fraud'] == 2, 'fraud'] = 1 \n",
        "  df_train = df_train.sample(frac=1,replace=False)\n",
        "  print(len(df_train))\n",
        "\n",
        "  ## Build eval dataset\n",
        "  df_test = df.iloc[sample_size:,:]\n",
        "  df_test = pd.concat([df_test,df_fraud])\n",
        "  df_test = df_test.sort_index()\n",
        "  print(len(df_test))\n",
        "\n",
        "  return df_train, df_test\n"
      ],
      "execution_count": 312,
      "outputs": []
    },
    {
      "cell_type": "code",
      "metadata": {
        "colab": {
          "base_uri": "https://localhost:8080/"
        },
        "id": "O01agYImtUx9",
        "outputId": "188b7437-a97f-4a90-a0c1-9aaff07d3707"
      },
      "source": [
        "df_train, df_test = sampling_record(df_non_fraud, df_fraud, df_fraud2)"
      ],
      "execution_count": 393,
      "outputs": [
        {
          "output_type": "stream",
          "name": "stdout",
          "text": [
            "220447\n",
            "8154\n"
          ]
        }
      ]
    },
    {
      "cell_type": "code",
      "metadata": {
        "colab": {
          "base_uri": "https://localhost:8080/"
        },
        "id": "pzKw_DggxMS-",
        "outputId": "ff9592fc-85bc-436f-bb9c-f33aebd6872c"
      },
      "source": [
        "df_train.shape"
      ],
      "execution_count": 394,
      "outputs": [
        {
          "output_type": "execute_result",
          "data": {
            "text/plain": [
              "(220447, 67)"
            ]
          },
          "metadata": {},
          "execution_count": 394
        }
      ]
    },
    {
      "cell_type": "code",
      "metadata": {
        "colab": {
          "base_uri": "https://localhost:8080/"
        },
        "id": "HqJlSiFlRwXl",
        "outputId": "6a3b2337-c31a-4d6a-a4e3-ed82317357ee"
      },
      "source": [
        "df_test.shape"
      ],
      "execution_count": 395,
      "outputs": [
        {
          "output_type": "execute_result",
          "data": {
            "text/plain": [
              "(8154, 67)"
            ]
          },
          "metadata": {},
          "execution_count": 395
        }
      ]
    },
    {
      "cell_type": "code",
      "metadata": {
        "colab": {
          "base_uri": "https://localhost:8080/"
        },
        "id": "V_LOYj9ZZne0",
        "outputId": "cf81c20c-c879-474d-8150-5ee19be969c6"
      },
      "source": [
        "df_train.nunique()"
      ],
      "execution_count": 315,
      "outputs": [
        {
          "output_type": "execute_result",
          "data": {
            "text/plain": [
              "qty                 202\n",
              "total_amt         15737\n",
              "sale_price         8375\n",
              "ship_qty            202\n",
              "return                2\n",
              "                  ...  \n",
              "cust_type_KX01        2\n",
              "cust_type_LX01        2\n",
              "cust_type_MX01        2\n",
              "cust_type_NX01        2\n",
              "cust_type_ZZ01        2\n",
              "Length: 67, dtype: int64"
            ]
          },
          "metadata": {},
          "execution_count": 315
        }
      ]
    },
    {
      "cell_type": "markdown",
      "metadata": {
        "id": "accC5JvAB2kU"
      },
      "source": [
        "## SMOTE "
      ]
    },
    {
      "cell_type": "code",
      "metadata": {
        "id": "H6TNNuMcCrgh"
      },
      "source": [
        "y_train = df_train['fraud'].values\n",
        "X_train = df_train.drop(columns=['fraud'])"
      ],
      "execution_count": 396,
      "outputs": []
    },
    {
      "cell_type": "code",
      "metadata": {
        "colab": {
          "base_uri": "https://localhost:8080/"
        },
        "id": "hxaNVbYnB87z",
        "outputId": "2d43bd7a-1111-40d9-f74b-f8757449cec3"
      },
      "source": [
        "# define pipeline\n",
        "over = SMOTE(sampling_strategy=0.1)\n",
        "under = RandomUnderSampler(sampling_strategy=0.5)\n",
        "steps = [('o', over), ('u', under)]\n",
        "pipeline = Pipeline(steps=steps)\n",
        "\n",
        "# transform the dataset\n",
        "X_train, y_train = pipeline.fit_resample(X_train, y_train)"
      ],
      "execution_count": 397,
      "outputs": [
        {
          "output_type": "stream",
          "name": "stderr",
          "text": [
            "/usr/local/lib/python3.7/dist-packages/sklearn/utils/deprecation.py:87: FutureWarning: Function safe_indexing is deprecated; safe_indexing is deprecated in version 0.22 and will be removed in version 0.24.\n",
            "  warnings.warn(msg, category=FutureWarning)\n",
            "/usr/local/lib/python3.7/dist-packages/sklearn/utils/deprecation.py:87: FutureWarning: Function safe_indexing is deprecated; safe_indexing is deprecated in version 0.22 and will be removed in version 0.24.\n",
            "  warnings.warn(msg, category=FutureWarning)\n"
          ]
        }
      ]
    },
    {
      "cell_type": "code",
      "metadata": {
        "colab": {
          "base_uri": "https://localhost:8080/"
        },
        "id": "Op4gFEOnDBG5",
        "outputId": "c1229235-3a42-4125-f434-8e69ee7346bf"
      },
      "source": [
        "X_train.shape"
      ],
      "execution_count": 398,
      "outputs": [
        {
          "output_type": "execute_result",
          "data": {
            "text/plain": [
              "(66003, 66)"
            ]
          },
          "metadata": {},
          "execution_count": 398
        }
      ]
    },
    {
      "cell_type": "code",
      "metadata": {
        "colab": {
          "base_uri": "https://localhost:8080/"
        },
        "id": "0zfTl8fyDLdo",
        "outputId": "9309d0f5-74b2-4446-9643-ed295b542994"
      },
      "source": [
        "y_train.sum()"
      ],
      "execution_count": 371,
      "outputs": [
        {
          "output_type": "execute_result",
          "data": {
            "text/plain": [
              "22001.0"
            ]
          },
          "metadata": {},
          "execution_count": 371
        }
      ]
    },
    {
      "cell_type": "code",
      "metadata": {
        "colab": {
          "base_uri": "https://localhost:8080/"
        },
        "id": "rdaT9AW_DTnY",
        "outputId": "a5ec616e-12bc-4f3f-ca8e-a5b88b984aa0"
      },
      "source": [
        "y_train.shape"
      ],
      "execution_count": 378,
      "outputs": [
        {
          "output_type": "execute_result",
          "data": {
            "text/plain": [
              "(66003,)"
            ]
          },
          "metadata": {},
          "execution_count": 378
        }
      ]
    },
    {
      "cell_type": "code",
      "metadata": {
        "colab": {
          "base_uri": "https://localhost:8080/"
        },
        "id": "VyGJ2qKguWsS",
        "outputId": "7ed67352-dc40-4151-8d45-339185ea3322"
      },
      "source": [
        "X_test.shape"
      ],
      "execution_count": 402,
      "outputs": [
        {
          "output_type": "execute_result",
          "data": {
            "text/plain": [
              "(8154, 66)"
            ]
          },
          "metadata": {},
          "execution_count": 402
        }
      ]
    },
    {
      "cell_type": "markdown",
      "metadata": {
        "id": "gDkexYmPxM8O"
      },
      "source": [
        "## Standardscale data"
      ]
    },
    {
      "cell_type": "code",
      "metadata": {
        "id": "Wxt4dsJo7tDa"
      },
      "source": [
        "scaler = StandardScaler()"
      ],
      "execution_count": 400,
      "outputs": []
    },
    {
      "cell_type": "code",
      "metadata": {
        "id": "YeeK6JNC8Fqz"
      },
      "source": [
        "y_test = df_test['fraud'].values\n",
        "X_test = df_test.drop(columns=['fraud'])"
      ],
      "execution_count": 401,
      "outputs": []
    },
    {
      "cell_type": "code",
      "metadata": {
        "id": "86joAZPl9YpL"
      },
      "source": [
        "X_train = scaler.fit_transform(X_train)\n",
        "X_test = scaler.transform(X_test)\n"
      ],
      "execution_count": 403,
      "outputs": []
    },
    {
      "cell_type": "code",
      "metadata": {
        "colab": {
          "base_uri": "https://localhost:8080/"
        },
        "id": "MNUBFns291Qv",
        "outputId": "8518abb9-498f-4e3e-93f8-fbd58cd3767e"
      },
      "source": [
        "X_train.shape"
      ],
      "execution_count": 325,
      "outputs": [
        {
          "output_type": "execute_result",
          "data": {
            "text/plain": [
              "(66003, 66)"
            ]
          },
          "metadata": {},
          "execution_count": 325
        }
      ]
    },
    {
      "cell_type": "code",
      "metadata": {
        "colab": {
          "base_uri": "https://localhost:8080/"
        },
        "id": "4o9UXO0--hgv",
        "outputId": "9cc018c1-4b78-4ec8-b5ab-1da66c99d46d"
      },
      "source": [
        "y_test.shape"
      ],
      "execution_count": 326,
      "outputs": [
        {
          "output_type": "execute_result",
          "data": {
            "text/plain": [
              "(8154, 1)"
            ]
          },
          "metadata": {},
          "execution_count": 326
        }
      ]
    },
    {
      "cell_type": "code",
      "metadata": {
        "colab": {
          "base_uri": "https://localhost:8080/"
        },
        "id": "gMv9MH5QVu6B",
        "outputId": "03a23a99-eb97-48a9-ab55-2301ff3aca27"
      },
      "source": [
        "y_train.sum()"
      ],
      "execution_count": 327,
      "outputs": [
        {
          "output_type": "execute_result",
          "data": {
            "text/plain": [
              "22001.0"
            ]
          },
          "metadata": {},
          "execution_count": 327
        }
      ]
    },
    {
      "cell_type": "markdown",
      "metadata": {
        "id": "vnO2HnA4_RQU"
      },
      "source": [
        "## Build model"
      ]
    },
    {
      "cell_type": "code",
      "metadata": {
        "colab": {
          "base_uri": "https://localhost:8080/"
        },
        "id": "09WCa-Qn_T0G",
        "outputId": "965e1cdd-654e-4975-fb1d-9d0f0b50eb75"
      },
      "source": [
        "# define the  model\n",
        "RF = RandomForestClassifier(random_state = 66)\n",
        "score = cross_val_score(RF,X_train,y_train,cv=10).mean()\n",
        "print('交叉验证得分: %.4f'%score)"
      ],
      "execution_count": 410,
      "outputs": [
        {
          "output_type": "stream",
          "name": "stdout",
          "text": [
            "交叉验证得分: 0.9985\n"
          ]
        }
      ]
    },
    {
      "cell_type": "code",
      "metadata": {
        "colab": {
          "base_uri": "https://localhost:8080/"
        },
        "id": "_pS2vQI4vnF_",
        "outputId": "5aab071b-7e1b-4d67-a603-274a5579c73f"
      },
      "source": [
        "## RandomForest oob_score test\n",
        "\n",
        "RF1 = RandomForestClassifier(n_estimators=25,oob_score=True)\n",
        "RF1 =RF1.fit(X_train,y_train)\n",
        "\n",
        "RF1.oob_score_"
      ],
      "execution_count": 404,
      "outputs": [
        {
          "output_type": "execute_result",
          "data": {
            "text/plain": [
              "0.9983940123933761"
            ]
          },
          "metadata": {},
          "execution_count": 404
        }
      ]
    },
    {
      "cell_type": "markdown",
      "metadata": {
        "id": "cfEQ-OXDA3mV"
      },
      "source": [
        "## Tuning hyperparameter "
      ]
    },
    {
      "cell_type": "code",
      "metadata": {
        "colab": {
          "base_uri": "https://localhost:8080/"
        },
        "id": "EyNl7_bKBjTl",
        "outputId": "b70efecf-73fa-427b-ff5a-06ee54f0d770"
      },
      "source": [
        "RF = RandomForestClassifier(random_state = 66)\n",
        "score = cross_val_score(RF,X_train,y_train,cv=10).mean()\n",
        "print('基尼系数得分: %.4f'%score)\n",
        "RF = RandomForestClassifier(criterion = 'entropy',random_state = 66)\n",
        "score = cross_val_score(RF,X_train,y_train,cv=10).mean()\n",
        "print('熵得分: %.4f'%score)"
      ],
      "execution_count": 409,
      "outputs": [
        {
          "output_type": "stream",
          "name": "stdout",
          "text": [
            "熵得分: 0.9985\n"
          ]
        }
      ]
    },
    {
      "cell_type": "code",
      "metadata": {
        "colab": {
          "base_uri": "https://localhost:8080/"
        },
        "id": "2VNQB5OA0Y-v",
        "outputId": "a8e67df3-76ca-41d6-ac24-e1a0a5e56921"
      },
      "source": [
        "## Tuning n_estimators\n",
        "for i in range(50,150,10):\n",
        "    DT = RandomForestClassifier(n_estimators = i,random_state = 66) #,criterion = 'entropy'\n",
        "    score = cross_val_score(DT,X_train,y_train,cv=10).mean()\n",
        "    print('n_estimators: ',i,'   score:',score)"
      ],
      "execution_count": 411,
      "outputs": [
        {
          "output_type": "stream",
          "name": "stdout",
          "text": [
            "n_estimators:  50    score: 0.9984850389977643\n",
            "n_estimators:  60    score: 0.998515332846722\n",
            "n_estimators:  70    score: 0.9984547382627976\n",
            "n_estimators:  80    score: 0.9985001859222432\n",
            "n_estimators:  90    score: 0.9985153374373947\n",
            "n_estimators:  100    score: 0.9985304866572099\n",
            "n_estimators:  110    score: 0.9985153374373947\n",
            "n_estimators:  120    score: 0.9985001859222432\n",
            "n_estimators:  130    score: 0.9985001859222432\n",
            "n_estimators:  140    score: 0.998485036702428\n"
          ]
        }
      ]
    },
    {
      "cell_type": "code",
      "metadata": {
        "colab": {
          "base_uri": "https://localhost:8080/"
        },
        "id": "lOrFmini4gmW",
        "outputId": "2171fbc3-e164-4cd7-f0eb-fd261d082402"
      },
      "source": [
        "## Tuning max_depth\n",
        "for i in range(30,50,5):\n",
        "    DT = RandomForestClassifier(n_estimators = 100,random_state = 66,max_depth =i ) \n",
        "    score = cross_val_score(DT,X_train,y_train,cv=10).mean()\n",
        "    print('max_depth: ',i,'   score:',score)"
      ],
      "execution_count": 414,
      "outputs": [
        {
          "output_type": "stream",
          "name": "stdout",
          "text": [
            "max_depth:  30    score: 0.9985304866572099\n",
            "max_depth:  35    score: 0.9985304866572099\n",
            "max_depth:  40    score: 0.9985304866572099\n",
            "max_depth:  45    score: 0.9985304866572099\n"
          ]
        }
      ]
    },
    {
      "cell_type": "code",
      "metadata": {
        "colab": {
          "base_uri": "https://localhost:8080/"
        },
        "id": "zEFfy0zH39Il",
        "outputId": "6e4aee23-e340-4887-dbf0-c792ed6f6c5e"
      },
      "source": [
        "RF = RandomForestClassifier(n_estimators=100, max_depth=25)\n",
        "RF.fit(X_train,y_train)"
      ],
      "execution_count": 416,
      "outputs": [
        {
          "output_type": "execute_result",
          "data": {
            "text/plain": [
              "RandomForestClassifier(bootstrap=True, ccp_alpha=0.0, class_weight=None,\n",
              "                       criterion='gini', max_depth=25, max_features='auto',\n",
              "                       max_leaf_nodes=None, max_samples=None,\n",
              "                       min_impurity_decrease=0.0, min_impurity_split=None,\n",
              "                       min_samples_leaf=1, min_samples_split=2,\n",
              "                       min_weight_fraction_leaf=0.0, n_estimators=100,\n",
              "                       n_jobs=None, oob_score=False, random_state=None,\n",
              "                       verbose=0, warm_start=False)"
            ]
          },
          "metadata": {},
          "execution_count": 416
        }
      ]
    },
    {
      "cell_type": "markdown",
      "metadata": {
        "id": "WSMcDJFaCdbi"
      },
      "source": [
        "## Predict on eval dataset for further labeling."
      ]
    },
    {
      "cell_type": "code",
      "metadata": {
        "id": "v1O3J-fUESee"
      },
      "source": [
        "y_pred = RF1.predict(X_test)"
      ],
      "execution_count": 405,
      "outputs": []
    },
    {
      "cell_type": "code",
      "metadata": {
        "id": "4HwdXfUB-oaK"
      },
      "source": [
        "y_pred = RF.predict(X_test)"
      ],
      "execution_count": 417,
      "outputs": []
    },
    {
      "cell_type": "code",
      "metadata": {
        "colab": {
          "base_uri": "https://localhost:8080/"
        },
        "id": "_OhX4x_jBe--",
        "outputId": "3e91fe73-6510-4d52-892d-d0cd569b6c63"
      },
      "source": [
        "accuracy_score(y_test,y_pred)"
      ],
      "execution_count": 420,
      "outputs": [
        {
          "output_type": "execute_result",
          "data": {
            "text/plain": [
              "0.9834437086092715"
            ]
          },
          "metadata": {},
          "execution_count": 420
        }
      ]
    },
    {
      "cell_type": "code",
      "metadata": {
        "id": "B91pKTF8JNYN"
      },
      "source": [
        "def eval_model(y_test, y_pred):\n",
        "  print(roc_auc_score(y_test, y_pred))\n",
        "  print(classification_report(y_test, y_pred))\n",
        "  print(confusion_matrix(y_test, y_pred))\n"
      ],
      "execution_count": 406,
      "outputs": []
    },
    {
      "cell_type": "code",
      "metadata": {
        "colab": {
          "base_uri": "https://localhost:8080/"
        },
        "id": "UWFMBYZxOSUk",
        "outputId": "c10c47b7-ac61-4402-aafd-d74ae3a34070"
      },
      "source": [
        "eval_model(y_test,y_pred)"
      ],
      "execution_count": 418,
      "outputs": [
        {
          "output_type": "stream",
          "name": "stdout",
          "text": [
            "0.5744253246753247\n",
            "              precision    recall  f1-score   support\n",
            "\n",
            "         0.0       0.98      1.00      0.99      8000\n",
            "         1.0       0.85      0.15      0.25       154\n",
            "\n",
            "    accuracy                           0.98      8154\n",
            "   macro avg       0.92      0.57      0.62      8154\n",
            "weighted avg       0.98      0.98      0.98      8154\n",
            "\n",
            "[[7996    4]\n",
            " [ 131   23]]\n"
          ]
        }
      ]
    },
    {
      "cell_type": "code",
      "metadata": {
        "colab": {
          "base_uri": "https://localhost:8080/"
        },
        "id": "9_zSyw6yoU1S",
        "outputId": "802b2c3d-7bfc-4523-c5f7-60ac2f019668"
      },
      "source": [
        "eval_model(y_test, y_pred)"
      ],
      "execution_count": 407,
      "outputs": [
        {
          "output_type": "stream",
          "name": "stdout",
          "text": [
            "0.5711785714285714\n",
            "              precision    recall  f1-score   support\n",
            "\n",
            "         0.0       0.98      1.00      0.99      8000\n",
            "         1.0       0.85      0.14      0.24       154\n",
            "\n",
            "    accuracy                           0.98      8154\n",
            "   macro avg       0.91      0.57      0.62      8154\n",
            "weighted avg       0.98      0.98      0.98      8154\n",
            "\n",
            "[[7996    4]\n",
            " [ 132   22]]\n"
          ]
        }
      ]
    },
    {
      "cell_type": "code",
      "metadata": {
        "colab": {
          "base_uri": "https://localhost:8080/"
        },
        "id": "BEGS90tDyMV6",
        "outputId": "29e97c6a-ee2d-4670-dbe4-cc78375a4242"
      },
      "source": [
        "eval_model(y_test, y_cls)"
      ],
      "execution_count": 290,
      "outputs": [
        {
          "output_type": "stream",
          "name": "stdout",
          "text": [
            "0.6254853896103897\n",
            "              precision    recall  f1-score   support\n",
            "\n",
            "         0.0       0.99      0.97      0.98      8000\n",
            "         1.0       0.16      0.28      0.20       154\n",
            "\n",
            "    accuracy                           0.96      8154\n",
            "   macro avg       0.57      0.63      0.59      8154\n",
            "weighted avg       0.97      0.96      0.96      8154\n",
            "\n",
            "[[7774  226]\n",
            " [ 111   43]]\n"
          ]
        }
      ]
    },
    {
      "cell_type": "code",
      "metadata": {
        "colab": {
          "base_uri": "https://localhost:8080/"
        },
        "id": "gloH4XtD02hn",
        "outputId": "e42450d8-d76e-43eb-a192-e6b5a2a55502"
      },
      "source": [
        "eval_model(y_test, y_cls)"
      ],
      "execution_count": 368,
      "outputs": [
        {
          "output_type": "stream",
          "name": "stdout",
          "text": [
            "0.5975243506493507\n",
            "              precision    recall  f1-score   support\n",
            "\n",
            "         0.0       0.98      0.99      0.99      8000\n",
            "         1.0       0.38      0.20      0.26       154\n",
            "\n",
            "    accuracy                           0.98      8154\n",
            "   macro avg       0.68      0.60      0.63      8154\n",
            "weighted avg       0.97      0.98      0.98      8154\n",
            "\n",
            "[[7950   50]\n",
            " [ 123   31]]\n"
          ]
        }
      ]
    },
    {
      "cell_type": "code",
      "metadata": {
        "colab": {
          "base_uri": "https://localhost:8080/"
        },
        "id": "t6byULn8GBib",
        "outputId": "0a863017-b2f5-429b-b669-0468b89a1b78"
      },
      "source": [
        "len(RF.feature_importances_)"
      ],
      "execution_count": 422,
      "outputs": [
        {
          "output_type": "execute_result",
          "data": {
            "text/plain": [
              "66"
            ]
          },
          "metadata": {},
          "execution_count": 422
        }
      ]
    },
    {
      "cell_type": "code",
      "metadata": {
        "id": "twZAYMQKCreP"
      },
      "source": [
        "df_eval = df_test.drop(columns='fraud')"
      ],
      "execution_count": 425,
      "outputs": []
    },
    {
      "cell_type": "code",
      "metadata": {
        "colab": {
          "base_uri": "https://localhost:8080/"
        },
        "id": "rm-ZmnS6Cfsy",
        "outputId": "dc3e305c-7b68-4c17-b858-024cac067475"
      },
      "source": [
        "feature_imp = pd.Series(RF.feature_importances_,index=df_eval.columns).sort_values(ascending=False)\n",
        "feature_imp.head(10)"
      ],
      "execution_count": 430,
      "outputs": [
        {
          "output_type": "execute_result",
          "data": {
            "text/plain": [
              "inv_ship_days       0.199970\n",
              "branch_720006       0.158623\n",
              "sale_price          0.098963\n",
              "qty                 0.072609\n",
              "list_price          0.049043\n",
              "cust_type_AB02      0.043817\n",
              "branch_720019       0.042134\n",
              "total_amt           0.041865\n",
              "prod_cla_11020.0    0.028836\n",
              "branch_720036       0.023003\n",
              "dtype: float64"
            ]
          },
          "metadata": {},
          "execution_count": 430
        }
      ]
    },
    {
      "cell_type": "code",
      "metadata": {
        "id": "BYZigB-fymgd"
      },
      "source": [
        "def export_result(df_test,y_cls, y_pred):\n",
        "  '''\n",
        "  Attach the predicte result (probability) into original records.\n",
        "  Export to a csv file for further investication\n",
        "  '''\n",
        "  df_test['predict'] = y_cls\n",
        "  df_test['prob']  = y_pred\n",
        "  path = '/content/drive/MyDrive/Colab Notebooks/finalproject/'\n",
        "  file_csv = path + 'pred_result.csv'\n",
        "  df_test.to_csv(file_csv)\n",
        "  return True\n"
      ],
      "execution_count": 362,
      "outputs": []
    },
    {
      "cell_type": "code",
      "metadata": {
        "colab": {
          "base_uri": "https://localhost:8080/"
        },
        "id": "dI0Pw_Ur3xbd",
        "outputId": "478013c9-27b1-408e-eed8-678ea164c5c5"
      },
      "source": [
        "export_result(df_test,y_cls,y_pred)"
      ],
      "execution_count": 364,
      "outputs": [
        {
          "output_type": "execute_result",
          "data": {
            "text/plain": [
              "True"
            ]
          },
          "metadata": {},
          "execution_count": 364
        }
      ]
    },
    {
      "cell_type": "code",
      "metadata": {
        "id": "uvKs4xdaXiuN"
      },
      "source": [
        ""
      ],
      "execution_count": null,
      "outputs": []
    }
  ]
}