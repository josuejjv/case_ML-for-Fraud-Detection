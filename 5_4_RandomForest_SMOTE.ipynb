{
  "nbformat": 4,
  "nbformat_minor": 0,
  "metadata": {
    "colab": {
      "name": "5_4_RandomForest_SMOTE.ipynb",
      "provenance": [],
      "authorship_tag": "ABX9TyO2NX73K13CE3uhQHA7cfsF",
      "include_colab_link": true
    },
    "kernelspec": {
      "name": "python3",
      "display_name": "Python 3"
    },
    "language_info": {
      "name": "python"
    }
  },
  "cells": [
    {
      "cell_type": "markdown",
      "metadata": {
        "id": "view-in-github",
        "colab_type": "text"
      },
      "source": [
        "<a href=\"https://colab.research.google.com/github/ryanhao1115/ML-for-Fraud-Detection/blob/main/5_4_RandomForest_SMOTE.ipynb\" target=\"_parent\"><img src=\"https://colab.research.google.com/assets/colab-badge.svg\" alt=\"Open In Colab\"/></a>"
      ]
    },
    {
      "cell_type": "code",
      "metadata": {
        "colab": {
          "base_uri": "https://localhost:8080/"
        },
        "id": "ndtW0FwNmcWr",
        "outputId": "b174d1fe-0f72-4b77-f32f-bd7e0e6aa964"
      },
      "source": [
        "from google.colab import drive\n",
        "drive.mount('/content/drive')"
      ],
      "execution_count": 1,
      "outputs": [
        {
          "output_type": "stream",
          "name": "stdout",
          "text": [
            "Mounted at /content/drive\n"
          ]
        }
      ]
    },
    {
      "cell_type": "code",
      "metadata": {
        "colab": {
          "base_uri": "https://localhost:8080/"
        },
        "id": "B0ly0AY21KvU",
        "outputId": "06daac1c-9cbc-4247-8dbd-89db23f15792"
      },
      "source": [
        "!pip install imbalanced-learn"
      ],
      "execution_count": 294,
      "outputs": [
        {
          "output_type": "stream",
          "name": "stdout",
          "text": [
            "Requirement already satisfied: imbalanced-learn in /usr/local/lib/python3.7/dist-packages (0.4.3)\n",
            "Requirement already satisfied: scikit-learn>=0.20 in /usr/local/lib/python3.7/dist-packages (from imbalanced-learn) (0.22.2.post1)\n",
            "Requirement already satisfied: scipy>=0.13.3 in /usr/local/lib/python3.7/dist-packages (from imbalanced-learn) (1.4.1)\n",
            "Requirement already satisfied: numpy>=1.8.2 in /usr/local/lib/python3.7/dist-packages (from imbalanced-learn) (1.19.5)\n",
            "Requirement already satisfied: joblib>=0.11 in /usr/local/lib/python3.7/dist-packages (from scikit-learn>=0.20->imbalanced-learn) (1.0.1)\n"
          ]
        }
      ]
    },
    {
      "cell_type": "markdown",
      "metadata": {
        "id": "oINI7xYSmpo8"
      },
      "source": [
        "## Random Forest model with SMOTE\n",
        "1. import new return label data.\n",
        "2. SMOTE to address imbalance class issue.\n",
        "4. Train model\n",
        "5. Eval model\n",
        "6. Create Risk-heatmap"
      ]
    },
    {
      "cell_type": "code",
      "metadata": {
        "colab": {
          "base_uri": "https://localhost:8080/"
        },
        "id": "6Gc_G68myO1w",
        "outputId": "5552eb0f-8819-4c26-9d05-e46171c7d76a"
      },
      "source": [
        "import pandas as pd\n",
        "import numpy as np\n",
        "from sklearn.preprocessing import OneHotEncoder\n",
        "from sklearn.preprocessing import StandardScaler\n",
        "from sklearn.metrics import classification_report, roc_auc_score, confusion_matrix,accuracy_score\n",
        "import random\n",
        "from sklearn.ensemble import RandomForestClassifier \n",
        "from sklearn.model_selection import train_test_split,GridSearchCV,cross_val_score\n",
        "from imblearn.over_sampling import SMOTE\n",
        "from imblearn.under_sampling import RandomUnderSampler\n",
        "from imblearn.pipeline import Pipeline\n"
      ],
      "execution_count": 2,
      "outputs": [
        {
          "output_type": "stream",
          "name": "stderr",
          "text": [
            "/usr/local/lib/python3.7/dist-packages/sklearn/externals/six.py:31: FutureWarning: The module is deprecated in version 0.21 and will be removed in version 0.23 since we've dropped support for Python 2.7. Please rely on the official version of six (https://pypi.org/project/six/).\n",
            "  \"(https://pypi.org/project/six/).\", FutureWarning)\n",
            "/usr/local/lib/python3.7/dist-packages/sklearn/utils/deprecation.py:144: FutureWarning: The sklearn.neighbors.base module is  deprecated in version 0.22 and will be removed in version 0.24. The corresponding classes / functions should instead be imported from sklearn.neighbors. Anything that cannot be imported from sklearn.neighbors is now part of the private API.\n",
            "  warnings.warn(message, FutureWarning)\n"
          ]
        }
      ]
    },
    {
      "cell_type": "code",
      "metadata": {
        "id": "wr3fxm5Waw2H"
      },
      "source": [
        "def reset_seeds():\n",
        "    '''\n",
        "    reset random seeds for modeling\n",
        "    '''\n",
        "    np.random.seed(1)\n",
        "    random.seed(2)\n",
        "    if tf.__version__[0] == '2':\n",
        "        tf.random.set_seed(3)\n",
        "    else:\n",
        "        tf.set_random_seed(3)\n",
        "    print(\"RANDOM SEEDS RESET\")"
      ],
      "execution_count": 3,
      "outputs": []
    },
    {
      "cell_type": "code",
      "metadata": {
        "id": "EB5yPnJdyRnG"
      },
      "source": [
        "## import dataset \n",
        "path = '/content/drive/MyDrive/Colab Notebooks/finalproject/'\n",
        "file = path + 'sales_clean.csv'\n",
        "df = pd.read_csv(file)"
      ],
      "execution_count": 4,
      "outputs": []
    },
    {
      "cell_type": "code",
      "metadata": {
        "id": "zM0xX0nKWIu0"
      },
      "source": [
        "df = df.drop(columns='Unnamed: 0')"
      ],
      "execution_count": 5,
      "outputs": []
    },
    {
      "cell_type": "code",
      "metadata": {
        "colab": {
          "base_uri": "https://localhost:8080/"
        },
        "id": "tXuAbPlSyWVW",
        "outputId": "1f0de23d-f15b-43c3-c8f9-b089dab312c8"
      },
      "source": [
        "df.nunique()"
      ],
      "execution_count": 6,
      "outputs": [
        {
          "output_type": "execute_result",
          "data": {
            "text/plain": [
              "distributor        639\n",
              "sales              209\n",
              "branch              28\n",
              "inv_type             3\n",
              "invoice_no       30721\n",
              "product_no        1094\n",
              "prod_cla             7\n",
              "qty                202\n",
              "total_amt        16112\n",
              "sale_price        8598\n",
              "ship_qty           202\n",
              "cust_type           20\n",
              "return               2\n",
              "discount_app         2\n",
              "list_price        6720\n",
              "inv_ship_days      133\n",
              "dtype: int64"
            ]
          },
          "metadata": {},
          "execution_count": 6
        }
      ]
    },
    {
      "cell_type": "markdown",
      "metadata": {
        "id": "lCCJjJWqGLvU"
      },
      "source": [
        "## import return label data"
      ]
    },
    {
      "cell_type": "code",
      "metadata": {
        "id": "cYVtnDc2HXFA"
      },
      "source": [
        "## import fraud data\n",
        "file = path + 'frauds.csv'\n",
        "df_fraud = pd.read_csv(file,header=None)\n",
        "df_fraud.columns = ['invoice_no']"
      ],
      "execution_count": 7,
      "outputs": []
    },
    {
      "cell_type": "code",
      "metadata": {
        "id": "YntiE6PVIrPC"
      },
      "source": [
        "## import return new labeled data\n",
        "file = path + 'return.csv'\n",
        "df_fraud2 = pd.read_csv(file,header=None)\n",
        "df_fraud2.columns = ['invoice_no']"
      ],
      "execution_count": 8,
      "outputs": []
    },
    {
      "cell_type": "code",
      "metadata": {
        "colab": {
          "base_uri": "https://localhost:8080/"
        },
        "id": "CiNt30SZf6aD",
        "outputId": "eef057ac-fa8e-4b12-a198-59a59668f183"
      },
      "source": [
        "len(df_fraud2)"
      ],
      "execution_count": 9,
      "outputs": [
        {
          "output_type": "execute_result",
          "data": {
            "text/plain": [
              "24"
            ]
          },
          "metadata": {},
          "execution_count": 9
        }
      ]
    },
    {
      "cell_type": "code",
      "metadata": {
        "id": "bo6Q08-CJyOv"
      },
      "source": [
        "def label_fraud(df, df_fraud, df_fraud2):\n",
        "  df['fraud'] = np.zeros(len(df))\n",
        "  frauds_l = df_fraud['invoice_no'].to_list()\n",
        "  frauds_l2 = df_fraud2['invoice_no'].to_list()\n",
        "  df.loc[df['invoice_no'].isin(frauds_l),'fraud'] = 1\n",
        "  df.loc[df['invoice_no'].isin(frauds_l2),'fraud'] = 2\n",
        "  return df"
      ],
      "execution_count": 10,
      "outputs": []
    },
    {
      "cell_type": "code",
      "metadata": {
        "id": "y0iwhuZ_XIpE"
      },
      "source": [
        "df = label_fraud(df, df_fraud,df_fraud2)"
      ],
      "execution_count": 11,
      "outputs": []
    },
    {
      "cell_type": "code",
      "metadata": {
        "colab": {
          "base_uri": "https://localhost:8080/"
        },
        "id": "S6y811N2NJZS",
        "outputId": "394ea214-0f62-4d7d-9f90-48387d40b4ae"
      },
      "source": [
        "df['fraud'].value_counts()"
      ],
      "execution_count": 12,
      "outputs": [
        {
          "output_type": "execute_result",
          "data": {
            "text/plain": [
              "0.0    228014\n",
              "2.0       433\n",
              "1.0       154\n",
              "Name: fraud, dtype: int64"
            ]
          },
          "metadata": {},
          "execution_count": 12
        }
      ]
    },
    {
      "cell_type": "markdown",
      "metadata": {
        "id": "l7OnGZt9GEAL"
      },
      "source": [
        "## Encoding"
      ]
    },
    {
      "cell_type": "code",
      "metadata": {
        "colab": {
          "base_uri": "https://localhost:8080/"
        },
        "id": "KnPg5AboX9Pp",
        "outputId": "1219d15f-603f-476f-9f8b-5e5798f5dbf2"
      },
      "source": [
        "df.nunique()"
      ],
      "execution_count": 13,
      "outputs": [
        {
          "output_type": "execute_result",
          "data": {
            "text/plain": [
              "distributor        639\n",
              "sales              209\n",
              "branch              28\n",
              "inv_type             3\n",
              "invoice_no       30721\n",
              "product_no        1094\n",
              "prod_cla             7\n",
              "qty                202\n",
              "total_amt        16112\n",
              "sale_price        8598\n",
              "ship_qty           202\n",
              "cust_type           20\n",
              "return               2\n",
              "discount_app         2\n",
              "list_price        6720\n",
              "inv_ship_days      133\n",
              "fraud                3\n",
              "dtype: int64"
            ]
          },
          "metadata": {},
          "execution_count": 13
        }
      ]
    },
    {
      "cell_type": "code",
      "metadata": {
        "id": "T0O7sPin33OP"
      },
      "source": [
        "cols = df.columns.to_list()\n",
        "cols = ['distributor', 'sales', 'branch', 'inv_type', 'invoice_no', 'product_no', 'prod_cla', 'cust_type']"
      ],
      "execution_count": 38,
      "outputs": []
    },
    {
      "cell_type": "code",
      "metadata": {
        "id": "VlDcgPcLY014"
      },
      "source": [
        "## remove some fields with many classes\n",
        "cols1 = ['distributor', 'sales','branch', 'invoice_no', 'product_no']\n",
        "df_less = df.drop(columns=cols1)"
      ],
      "execution_count": 14,
      "outputs": []
    },
    {
      "cell_type": "code",
      "metadata": {
        "id": "fpoyuiZZaxoR"
      },
      "source": [
        "def field_onehotencoding(df):\n",
        "  cols = [ 'inv_type',  'prod_cla', 'cust_type']\n",
        "  df[cols] = df[cols].astype('str') \n",
        "  df_enc = pd.get_dummies(df)\n",
        "  return df_enc"
      ],
      "execution_count": 15,
      "outputs": []
    },
    {
      "cell_type": "code",
      "metadata": {
        "id": "IX-MPQX1cq4P"
      },
      "source": [
        "df_less = field_onehotencoding(df_less)"
      ],
      "execution_count": 16,
      "outputs": []
    },
    {
      "cell_type": "code",
      "metadata": {
        "colab": {
          "base_uri": "https://localhost:8080/"
        },
        "id": "PdzuM0U2jb9V",
        "outputId": "12072daf-b293-478d-89f2-6d1c4927a04c"
      },
      "source": [
        "df_less.shape"
      ],
      "execution_count": 17,
      "outputs": [
        {
          "output_type": "execute_result",
          "data": {
            "text/plain": [
              "(228601, 39)"
            ]
          },
          "metadata": {},
          "execution_count": 17
        }
      ]
    },
    {
      "cell_type": "markdown",
      "metadata": {
        "id": "zYRaXHXsP07P"
      },
      "source": [
        "## Splite Train Test data\n"
      ]
    },
    {
      "cell_type": "code",
      "metadata": {
        "id": "d7PpSBXyT1iz"
      },
      "source": [
        "df_fraud = df_less[df_less['fraud'] == 1]\n",
        "df_non_fraud = df_less[df_less['fraud'] == 0]\n",
        "df_fraud2 = df_less[df_less['fraud'] == 2]"
      ],
      "execution_count": 18,
      "outputs": []
    },
    {
      "cell_type": "code",
      "metadata": {
        "colab": {
          "base_uri": "https://localhost:8080/"
        },
        "id": "eGH1pJ_JVnr7",
        "outputId": "513a9923-e8fb-4b56-964a-a6a4345f5e52"
      },
      "source": [
        "df_fraud2.shape"
      ],
      "execution_count": 19,
      "outputs": [
        {
          "output_type": "execute_result",
          "data": {
            "text/plain": [
              "(433, 39)"
            ]
          },
          "metadata": {},
          "execution_count": 19
        }
      ]
    },
    {
      "cell_type": "code",
      "metadata": {
        "colab": {
          "base_uri": "https://localhost:8080/"
        },
        "id": "9J8c4dTt6QAt",
        "outputId": "d2c491f7-697e-4359-f7a1-39f845eea806"
      },
      "source": [
        "df_non_fraud.shape"
      ],
      "execution_count": 20,
      "outputs": [
        {
          "output_type": "execute_result",
          "data": {
            "text/plain": [
              "(228014, 39)"
            ]
          },
          "metadata": {},
          "execution_count": 20
        }
      ]
    },
    {
      "cell_type": "code",
      "metadata": {
        "colab": {
          "base_uri": "https://localhost:8080/"
        },
        "id": "k4nyP6ft-Lg9",
        "outputId": "c9fc75ab-5508-4ddb-de89-66b6377abc16"
      },
      "source": [
        "df_non_fraud.nunique()"
      ],
      "execution_count": 21,
      "outputs": [
        {
          "output_type": "execute_result",
          "data": {
            "text/plain": [
              "qty                   202\n",
              "total_amt           15896\n",
              "sale_price           8237\n",
              "ship_qty              202\n",
              "return                  2\n",
              "discount_app            2\n",
              "list_price           6710\n",
              "inv_ship_days         128\n",
              "fraud                   1\n",
              "inv_type_Z001           2\n",
              "inv_type_Z016           2\n",
              "inv_type_Z038           2\n",
              "prod_cla_11010.0        2\n",
              "prod_cla_11020.0        2\n",
              "prod_cla_11030.0        2\n",
              "prod_cla_11040.0        2\n",
              "prod_cla_11050.0        2\n",
              "prod_cla_11060.0        2\n",
              "prod_cla_9999.0         2\n",
              "cust_type_AA01          2\n",
              "cust_type_AA02          2\n",
              "cust_type_AB01          2\n",
              "cust_type_AB02          2\n",
              "cust_type_AB03          2\n",
              "cust_type_AB04          2\n",
              "cust_type_AB05          2\n",
              "cust_type_AB06          2\n",
              "cust_type_AX01          2\n",
              "cust_type_CX01          2\n",
              "cust_type_EX01          2\n",
              "cust_type_FX01          2\n",
              "cust_type_GX01          2\n",
              "cust_type_HX01          2\n",
              "cust_type_JX01          2\n",
              "cust_type_KX01          2\n",
              "cust_type_LX01          2\n",
              "cust_type_MX01          2\n",
              "cust_type_NX01          2\n",
              "cust_type_ZZ01          2\n",
              "dtype: int64"
            ]
          },
          "metadata": {},
          "execution_count": 21
        }
      ]
    },
    {
      "cell_type": "code",
      "metadata": {
        "id": "M2L3ePEOXvyD"
      },
      "source": [
        "def sampling_record(df_non_fraud,df_fraud,df_fraud2):\n",
        "  '''\n",
        "  Random sampling from unlabled records.\n",
        "  concat with labeled records\n",
        "  '''\n",
        "  df = df_non_fraud.sample(frac=1,replace=False)\n",
        "\n",
        "  sample_size = len(df_non_fraud) - 8000\n",
        " \n",
        "  ## Build training dataset\n",
        "  df_train = df.iloc[:sample_size,:]\n",
        "  df_train = pd.concat([df_train,df_fraud2])\n",
        "  df_train.loc[df_train['fraud'] == 2, 'fraud'] = 1 \n",
        "  df_train = df_train.sample(frac=1,replace=False)\n",
        "  print(len(df_train))\n",
        "\n",
        "  ## Build eval dataset\n",
        "  df_test = df.iloc[sample_size:,:]\n",
        "  df_test = pd.concat([df_test,df_fraud])\n",
        "  df_test = df_test.sort_index()\n",
        "  print(len(df_test))\n",
        "\n",
        "  return df_train, df_test\n"
      ],
      "execution_count": 22,
      "outputs": []
    },
    {
      "cell_type": "code",
      "metadata": {
        "colab": {
          "base_uri": "https://localhost:8080/"
        },
        "id": "O01agYImtUx9",
        "outputId": "6145ce90-a04e-468e-d00e-a6cb9e1c7416"
      },
      "source": [
        "df_train, df_test = sampling_record(df_non_fraud, df_fraud, df_fraud2)"
      ],
      "execution_count": 23,
      "outputs": [
        {
          "output_type": "stream",
          "name": "stdout",
          "text": [
            "220447\n",
            "8154\n"
          ]
        }
      ]
    },
    {
      "cell_type": "code",
      "metadata": {
        "colab": {
          "base_uri": "https://localhost:8080/"
        },
        "id": "pzKw_DggxMS-",
        "outputId": "61b54ee5-680f-47a8-e929-e2dff3b3a169"
      },
      "source": [
        "df_train.shape"
      ],
      "execution_count": 24,
      "outputs": [
        {
          "output_type": "execute_result",
          "data": {
            "text/plain": [
              "(220447, 39)"
            ]
          },
          "metadata": {},
          "execution_count": 24
        }
      ]
    },
    {
      "cell_type": "code",
      "metadata": {
        "colab": {
          "base_uri": "https://localhost:8080/"
        },
        "id": "HqJlSiFlRwXl",
        "outputId": "8c795a1a-1875-459a-8b98-816fd102db16"
      },
      "source": [
        "df_test.shape"
      ],
      "execution_count": 25,
      "outputs": [
        {
          "output_type": "execute_result",
          "data": {
            "text/plain": [
              "(8154, 39)"
            ]
          },
          "metadata": {},
          "execution_count": 25
        }
      ]
    },
    {
      "cell_type": "code",
      "metadata": {
        "colab": {
          "base_uri": "https://localhost:8080/"
        },
        "id": "V_LOYj9ZZne0",
        "outputId": "ae0ff3f8-dce1-4ffc-c5f8-67cc140e9148"
      },
      "source": [
        "df_train.nunique()"
      ],
      "execution_count": 26,
      "outputs": [
        {
          "output_type": "execute_result",
          "data": {
            "text/plain": [
              "qty                   201\n",
              "total_amt           15726\n",
              "sale_price           8384\n",
              "ship_qty              201\n",
              "return                  2\n",
              "discount_app            2\n",
              "list_price           6621\n",
              "inv_ship_days         131\n",
              "fraud                   2\n",
              "inv_type_Z001           2\n",
              "inv_type_Z016           2\n",
              "inv_type_Z038           2\n",
              "prod_cla_11010.0        2\n",
              "prod_cla_11020.0        2\n",
              "prod_cla_11030.0        2\n",
              "prod_cla_11040.0        2\n",
              "prod_cla_11050.0        2\n",
              "prod_cla_11060.0        2\n",
              "prod_cla_9999.0         2\n",
              "cust_type_AA01          2\n",
              "cust_type_AA02          2\n",
              "cust_type_AB01          2\n",
              "cust_type_AB02          2\n",
              "cust_type_AB03          2\n",
              "cust_type_AB04          2\n",
              "cust_type_AB05          2\n",
              "cust_type_AB06          2\n",
              "cust_type_AX01          2\n",
              "cust_type_CX01          2\n",
              "cust_type_EX01          2\n",
              "cust_type_FX01          2\n",
              "cust_type_GX01          2\n",
              "cust_type_HX01          2\n",
              "cust_type_JX01          2\n",
              "cust_type_KX01          2\n",
              "cust_type_LX01          2\n",
              "cust_type_MX01          2\n",
              "cust_type_NX01          2\n",
              "cust_type_ZZ01          2\n",
              "dtype: int64"
            ]
          },
          "metadata": {},
          "execution_count": 26
        }
      ]
    },
    {
      "cell_type": "markdown",
      "metadata": {
        "id": "accC5JvAB2kU"
      },
      "source": [
        "## SMOTE "
      ]
    },
    {
      "cell_type": "code",
      "metadata": {
        "id": "H6TNNuMcCrgh"
      },
      "source": [
        "y_train = df_train['fraud'].values\n",
        "X_train = df_train.drop(columns=['fraud'])"
      ],
      "execution_count": 27,
      "outputs": []
    },
    {
      "cell_type": "code",
      "metadata": {
        "colab": {
          "base_uri": "https://localhost:8080/"
        },
        "id": "hxaNVbYnB87z",
        "outputId": "67b4eba0-22bb-4416-c94b-fc2819af6aa8"
      },
      "source": [
        "# define pipeline\n",
        "over = SMOTE(sampling_strategy=0.1)\n",
        "under = RandomUnderSampler(sampling_strategy=0.5)\n",
        "steps = [('o', over), ('u', under)]\n",
        "pipeline = Pipeline(steps=steps)\n",
        "\n",
        "# transform the dataset\n",
        "X_train, y_train = pipeline.fit_resample(X_train, y_train)"
      ],
      "execution_count": 28,
      "outputs": [
        {
          "output_type": "stream",
          "name": "stderr",
          "text": [
            "/usr/local/lib/python3.7/dist-packages/sklearn/utils/deprecation.py:87: FutureWarning: Function safe_indexing is deprecated; safe_indexing is deprecated in version 0.22 and will be removed in version 0.24.\n",
            "  warnings.warn(msg, category=FutureWarning)\n",
            "/usr/local/lib/python3.7/dist-packages/sklearn/utils/deprecation.py:87: FutureWarning: Function safe_indexing is deprecated; safe_indexing is deprecated in version 0.22 and will be removed in version 0.24.\n",
            "  warnings.warn(msg, category=FutureWarning)\n"
          ]
        }
      ]
    },
    {
      "cell_type": "code",
      "metadata": {
        "colab": {
          "base_uri": "https://localhost:8080/"
        },
        "id": "Op4gFEOnDBG5",
        "outputId": "b54b5554-ee8c-4a84-e134-2179d3a6dea0"
      },
      "source": [
        "X_train.shape"
      ],
      "execution_count": 29,
      "outputs": [
        {
          "output_type": "execute_result",
          "data": {
            "text/plain": [
              "(66003, 38)"
            ]
          },
          "metadata": {},
          "execution_count": 29
        }
      ]
    },
    {
      "cell_type": "code",
      "metadata": {
        "colab": {
          "base_uri": "https://localhost:8080/"
        },
        "id": "0zfTl8fyDLdo",
        "outputId": "b3f80f34-56c0-468d-b33d-44b6266b807c"
      },
      "source": [
        "y_train.sum()"
      ],
      "execution_count": 30,
      "outputs": [
        {
          "output_type": "execute_result",
          "data": {
            "text/plain": [
              "22001.0"
            ]
          },
          "metadata": {},
          "execution_count": 30
        }
      ]
    },
    {
      "cell_type": "code",
      "metadata": {
        "colab": {
          "base_uri": "https://localhost:8080/"
        },
        "id": "rdaT9AW_DTnY",
        "outputId": "3c6673af-51a2-41f0-83dc-1c15653b4b71"
      },
      "source": [
        "y_train.shape"
      ],
      "execution_count": 31,
      "outputs": [
        {
          "output_type": "execute_result",
          "data": {
            "text/plain": [
              "(66003,)"
            ]
          },
          "metadata": {},
          "execution_count": 31
        }
      ]
    },
    {
      "cell_type": "code",
      "metadata": {
        "colab": {
          "base_uri": "https://localhost:8080/",
          "height": 166
        },
        "id": "VyGJ2qKguWsS",
        "outputId": "0aa446ce-77de-42cb-b11d-521da25262c9"
      },
      "source": [
        "X_test.shape"
      ],
      "execution_count": 32,
      "outputs": [
        {
          "output_type": "error",
          "ename": "NameError",
          "evalue": "ignored",
          "traceback": [
            "\u001b[0;31m---------------------------------------------------------------------------\u001b[0m",
            "\u001b[0;31mNameError\u001b[0m                                 Traceback (most recent call last)",
            "\u001b[0;32m<ipython-input-32-cf290153e199>\u001b[0m in \u001b[0;36m<module>\u001b[0;34m()\u001b[0m\n\u001b[0;32m----> 1\u001b[0;31m \u001b[0mX_test\u001b[0m\u001b[0;34m.\u001b[0m\u001b[0mshape\u001b[0m\u001b[0;34m\u001b[0m\u001b[0;34m\u001b[0m\u001b[0m\n\u001b[0m",
            "\u001b[0;31mNameError\u001b[0m: name 'X_test' is not defined"
          ]
        }
      ]
    },
    {
      "cell_type": "markdown",
      "metadata": {
        "id": "gDkexYmPxM8O"
      },
      "source": [
        "## Standardscale data"
      ]
    },
    {
      "cell_type": "code",
      "metadata": {
        "id": "Wxt4dsJo7tDa"
      },
      "source": [
        "scaler = StandardScaler()"
      ],
      "execution_count": 33,
      "outputs": []
    },
    {
      "cell_type": "code",
      "metadata": {
        "id": "YeeK6JNC8Fqz"
      },
      "source": [
        "y_test = df_test['fraud'].values\n",
        "X_test = df_test.drop(columns=['fraud'])"
      ],
      "execution_count": 34,
      "outputs": []
    },
    {
      "cell_type": "code",
      "metadata": {
        "id": "86joAZPl9YpL"
      },
      "source": [
        "X_train = scaler.fit_transform(X_train)\n",
        "X_test = scaler.transform(X_test)\n"
      ],
      "execution_count": 35,
      "outputs": []
    },
    {
      "cell_type": "code",
      "metadata": {
        "colab": {
          "base_uri": "https://localhost:8080/"
        },
        "id": "MNUBFns291Qv",
        "outputId": "ceb8110c-c4f7-4481-d8f3-04934f2c2a11"
      },
      "source": [
        "X_train.shape"
      ],
      "execution_count": 36,
      "outputs": [
        {
          "output_type": "execute_result",
          "data": {
            "text/plain": [
              "(66003, 38)"
            ]
          },
          "metadata": {},
          "execution_count": 36
        }
      ]
    },
    {
      "cell_type": "code",
      "metadata": {
        "colab": {
          "base_uri": "https://localhost:8080/"
        },
        "id": "4o9UXO0--hgv",
        "outputId": "b5db9e49-c9eb-432d-ab06-1b3ea6ab145f"
      },
      "source": [
        "y_test.shape"
      ],
      "execution_count": 37,
      "outputs": [
        {
          "output_type": "execute_result",
          "data": {
            "text/plain": [
              "(8154,)"
            ]
          },
          "metadata": {},
          "execution_count": 37
        }
      ]
    },
    {
      "cell_type": "code",
      "metadata": {
        "colab": {
          "base_uri": "https://localhost:8080/"
        },
        "id": "gMv9MH5QVu6B",
        "outputId": "b207c6b1-9b3a-4c38-eee2-ce897e82eb41"
      },
      "source": [
        "y_train.sum()"
      ],
      "execution_count": 38,
      "outputs": [
        {
          "output_type": "execute_result",
          "data": {
            "text/plain": [
              "22001.0"
            ]
          },
          "metadata": {},
          "execution_count": 38
        }
      ]
    },
    {
      "cell_type": "markdown",
      "metadata": {
        "id": "vnO2HnA4_RQU"
      },
      "source": [
        "## Build model"
      ]
    },
    {
      "cell_type": "code",
      "metadata": {
        "colab": {
          "base_uri": "https://localhost:8080/"
        },
        "id": "09WCa-Qn_T0G",
        "outputId": "965e1cdd-654e-4975-fb1d-9d0f0b50eb75"
      },
      "source": [
        "# define the  model\n",
        "RF = RandomForestClassifier(random_state = 66)\n",
        "score = cross_val_score(RF,X_train,y_train,cv=10).mean()\n",
        "print('交叉验证得分: %.4f'%score)"
      ],
      "execution_count": 410,
      "outputs": [
        {
          "output_type": "stream",
          "name": "stdout",
          "text": [
            "交叉验证得分: 0.9985\n"
          ]
        }
      ]
    },
    {
      "cell_type": "code",
      "metadata": {
        "colab": {
          "base_uri": "https://localhost:8080/"
        },
        "id": "_pS2vQI4vnF_",
        "outputId": "5aab071b-7e1b-4d67-a603-274a5579c73f"
      },
      "source": [
        "## RandomForest oob_score test\n",
        "\n",
        "RF1 = RandomForestClassifier(n_estimators=25,oob_score=True)\n",
        "RF1 =RF1.fit(X_train,y_train)\n",
        "\n",
        "RF1.oob_score_"
      ],
      "execution_count": 404,
      "outputs": [
        {
          "output_type": "execute_result",
          "data": {
            "text/plain": [
              "0.9983940123933761"
            ]
          },
          "metadata": {},
          "execution_count": 404
        }
      ]
    },
    {
      "cell_type": "markdown",
      "metadata": {
        "id": "cfEQ-OXDA3mV"
      },
      "source": [
        "## Tuning hyperparameter "
      ]
    },
    {
      "cell_type": "code",
      "metadata": {
        "colab": {
          "base_uri": "https://localhost:8080/"
        },
        "id": "EyNl7_bKBjTl",
        "outputId": "b70efecf-73fa-427b-ff5a-06ee54f0d770"
      },
      "source": [
        "RF = RandomForestClassifier(random_state = 66)\n",
        "score = cross_val_score(RF,X_train,y_train,cv=10).mean()\n",
        "print('基尼系数得分: %.4f'%score)\n",
        "RF = RandomForestClassifier(criterion = 'entropy',random_state = 66)\n",
        "score = cross_val_score(RF,X_train,y_train,cv=10).mean()\n",
        "print('熵得分: %.4f'%score)"
      ],
      "execution_count": 409,
      "outputs": [
        {
          "output_type": "stream",
          "name": "stdout",
          "text": [
            "熵得分: 0.9985\n"
          ]
        }
      ]
    },
    {
      "cell_type": "code",
      "metadata": {
        "colab": {
          "base_uri": "https://localhost:8080/"
        },
        "id": "2VNQB5OA0Y-v",
        "outputId": "a8e67df3-76ca-41d6-ac24-e1a0a5e56921"
      },
      "source": [
        "## Tuning n_estimators\n",
        "for i in range(50,150,10):\n",
        "    DT = RandomForestClassifier(n_estimators = i,random_state = 66) #,criterion = 'entropy'\n",
        "    score = cross_val_score(DT,X_train,y_train,cv=10).mean()\n",
        "    print('n_estimators: ',i,'   score:',score)"
      ],
      "execution_count": 411,
      "outputs": [
        {
          "output_type": "stream",
          "name": "stdout",
          "text": [
            "n_estimators:  50    score: 0.9984850389977643\n",
            "n_estimators:  60    score: 0.998515332846722\n",
            "n_estimators:  70    score: 0.9984547382627976\n",
            "n_estimators:  80    score: 0.9985001859222432\n",
            "n_estimators:  90    score: 0.9985153374373947\n",
            "n_estimators:  100    score: 0.9985304866572099\n",
            "n_estimators:  110    score: 0.9985153374373947\n",
            "n_estimators:  120    score: 0.9985001859222432\n",
            "n_estimators:  130    score: 0.9985001859222432\n",
            "n_estimators:  140    score: 0.998485036702428\n"
          ]
        }
      ]
    },
    {
      "cell_type": "code",
      "metadata": {
        "colab": {
          "base_uri": "https://localhost:8080/"
        },
        "id": "lOrFmini4gmW",
        "outputId": "2171fbc3-e164-4cd7-f0eb-fd261d082402"
      },
      "source": [
        "## Tuning max_depth\n",
        "for i in range(30,50,5):\n",
        "    DT = RandomForestClassifier(n_estimators = 100,random_state = 66,max_depth =i ) \n",
        "    score = cross_val_score(DT,X_train,y_train,cv=10).mean()\n",
        "    print('max_depth: ',i,'   score:',score)"
      ],
      "execution_count": 414,
      "outputs": [
        {
          "output_type": "stream",
          "name": "stdout",
          "text": [
            "max_depth:  30    score: 0.9985304866572099\n",
            "max_depth:  35    score: 0.9985304866572099\n",
            "max_depth:  40    score: 0.9985304866572099\n",
            "max_depth:  45    score: 0.9985304866572099\n"
          ]
        }
      ]
    },
    {
      "cell_type": "code",
      "metadata": {
        "colab": {
          "base_uri": "https://localhost:8080/"
        },
        "id": "zEFfy0zH39Il",
        "outputId": "200d3826-e124-4cf3-bac6-485b04be9a90"
      },
      "source": [
        "RF = RandomForestClassifier(n_estimators=100, max_depth=25)\n",
        "RF.fit(X_train,y_train)"
      ],
      "execution_count": 39,
      "outputs": [
        {
          "output_type": "execute_result",
          "data": {
            "text/plain": [
              "RandomForestClassifier(bootstrap=True, ccp_alpha=0.0, class_weight=None,\n",
              "                       criterion='gini', max_depth=25, max_features='auto',\n",
              "                       max_leaf_nodes=None, max_samples=None,\n",
              "                       min_impurity_decrease=0.0, min_impurity_split=None,\n",
              "                       min_samples_leaf=1, min_samples_split=2,\n",
              "                       min_weight_fraction_leaf=0.0, n_estimators=100,\n",
              "                       n_jobs=None, oob_score=False, random_state=None,\n",
              "                       verbose=0, warm_start=False)"
            ]
          },
          "metadata": {},
          "execution_count": 39
        }
      ]
    },
    {
      "cell_type": "markdown",
      "metadata": {
        "id": "WSMcDJFaCdbi"
      },
      "source": [
        "## Predict on eval dataset for further labeling."
      ]
    },
    {
      "cell_type": "code",
      "metadata": {
        "id": "v1O3J-fUESee"
      },
      "source": [
        "y_pred = RF1.predict(X_test)"
      ],
      "execution_count": 405,
      "outputs": []
    },
    {
      "cell_type": "code",
      "metadata": {
        "id": "4HwdXfUB-oaK"
      },
      "source": [
        "y_pred = RF.predict(X_test)"
      ],
      "execution_count": 40,
      "outputs": []
    },
    {
      "cell_type": "code",
      "metadata": {
        "colab": {
          "base_uri": "https://localhost:8080/"
        },
        "id": "_OhX4x_jBe--",
        "outputId": "f458e55e-a98b-4da5-905f-550e3e856003"
      },
      "source": [
        "accuracy_score(y_test,y_pred)"
      ],
      "execution_count": 41,
      "outputs": [
        {
          "output_type": "execute_result",
          "data": {
            "text/plain": [
              "0.9862644101054697"
            ]
          },
          "metadata": {},
          "execution_count": 41
        }
      ]
    },
    {
      "cell_type": "code",
      "metadata": {
        "id": "B91pKTF8JNYN"
      },
      "source": [
        "def eval_model(y_test, y_pred):\n",
        "  print(roc_auc_score(y_test, y_pred))\n",
        "  print(classification_report(y_test, y_pred))\n",
        "  print(confusion_matrix(y_test, y_pred))\n"
      ],
      "execution_count": 42,
      "outputs": []
    },
    {
      "cell_type": "code",
      "metadata": {
        "colab": {
          "base_uri": "https://localhost:8080/"
        },
        "id": "UWFMBYZxOSUk",
        "outputId": "c10c47b7-ac61-4402-aafd-d74ae3a34070"
      },
      "source": [
        "eval_model(y_test,y_pred)"
      ],
      "execution_count": 418,
      "outputs": [
        {
          "output_type": "stream",
          "name": "stdout",
          "text": [
            "0.5744253246753247\n",
            "              precision    recall  f1-score   support\n",
            "\n",
            "         0.0       0.98      1.00      0.99      8000\n",
            "         1.0       0.85      0.15      0.25       154\n",
            "\n",
            "    accuracy                           0.98      8154\n",
            "   macro avg       0.92      0.57      0.62      8154\n",
            "weighted avg       0.98      0.98      0.98      8154\n",
            "\n",
            "[[7996    4]\n",
            " [ 131   23]]\n"
          ]
        }
      ]
    },
    {
      "cell_type": "code",
      "metadata": {
        "colab": {
          "base_uri": "https://localhost:8080/"
        },
        "id": "9_zSyw6yoU1S",
        "outputId": "c0535216-a071-47ba-c119-523b225b1eb6"
      },
      "source": [
        "eval_model(y_test, y_pred)"
      ],
      "execution_count": 43,
      "outputs": [
        {
          "output_type": "stream",
          "name": "stdout",
          "text": [
            "0.6586534090909091\n",
            "              precision    recall  f1-score   support\n",
            "\n",
            "         0.0       0.99      1.00      0.99      8000\n",
            "         1.0       0.88      0.32      0.47       154\n",
            "\n",
            "    accuracy                           0.99      8154\n",
            "   macro avg       0.93      0.66      0.73      8154\n",
            "weighted avg       0.98      0.99      0.98      8154\n",
            "\n",
            "[[7993    7]\n",
            " [ 105   49]]\n"
          ]
        }
      ]
    },
    {
      "cell_type": "code",
      "metadata": {
        "colab": {
          "base_uri": "https://localhost:8080/"
        },
        "id": "BEGS90tDyMV6",
        "outputId": "29e97c6a-ee2d-4670-dbe4-cc78375a4242"
      },
      "source": [
        "eval_model(y_test, y_cls)"
      ],
      "execution_count": 290,
      "outputs": [
        {
          "output_type": "stream",
          "name": "stdout",
          "text": [
            "0.6254853896103897\n",
            "              precision    recall  f1-score   support\n",
            "\n",
            "         0.0       0.99      0.97      0.98      8000\n",
            "         1.0       0.16      0.28      0.20       154\n",
            "\n",
            "    accuracy                           0.96      8154\n",
            "   macro avg       0.57      0.63      0.59      8154\n",
            "weighted avg       0.97      0.96      0.96      8154\n",
            "\n",
            "[[7774  226]\n",
            " [ 111   43]]\n"
          ]
        }
      ]
    },
    {
      "cell_type": "code",
      "metadata": {
        "colab": {
          "base_uri": "https://localhost:8080/"
        },
        "id": "gloH4XtD02hn",
        "outputId": "e42450d8-d76e-43eb-a192-e6b5a2a55502"
      },
      "source": [
        "eval_model(y_test, y_cls)"
      ],
      "execution_count": 368,
      "outputs": [
        {
          "output_type": "stream",
          "name": "stdout",
          "text": [
            "0.5975243506493507\n",
            "              precision    recall  f1-score   support\n",
            "\n",
            "         0.0       0.98      0.99      0.99      8000\n",
            "         1.0       0.38      0.20      0.26       154\n",
            "\n",
            "    accuracy                           0.98      8154\n",
            "   macro avg       0.68      0.60      0.63      8154\n",
            "weighted avg       0.97      0.98      0.98      8154\n",
            "\n",
            "[[7950   50]\n",
            " [ 123   31]]\n"
          ]
        }
      ]
    },
    {
      "cell_type": "code",
      "metadata": {
        "colab": {
          "base_uri": "https://localhost:8080/"
        },
        "id": "t6byULn8GBib",
        "outputId": "0a863017-b2f5-429b-b669-0468b89a1b78"
      },
      "source": [
        "len(RF.feature_importances_)"
      ],
      "execution_count": 422,
      "outputs": [
        {
          "output_type": "execute_result",
          "data": {
            "text/plain": [
              "66"
            ]
          },
          "metadata": {},
          "execution_count": 422
        }
      ]
    },
    {
      "cell_type": "code",
      "metadata": {
        "id": "twZAYMQKCreP"
      },
      "source": [
        "df_eval = df_test.drop(columns='fraud')"
      ],
      "execution_count": 425,
      "outputs": []
    },
    {
      "cell_type": "code",
      "metadata": {
        "colab": {
          "base_uri": "https://localhost:8080/"
        },
        "id": "rm-ZmnS6Cfsy",
        "outputId": "dc3e305c-7b68-4c17-b858-024cac067475"
      },
      "source": [
        "feature_imp = pd.Series(RF.feature_importances_,index=df_eval.columns).sort_values(ascending=False)\n",
        "feature_imp.head(10)"
      ],
      "execution_count": 430,
      "outputs": [
        {
          "output_type": "execute_result",
          "data": {
            "text/plain": [
              "inv_ship_days       0.199970\n",
              "branch_720006       0.158623\n",
              "sale_price          0.098963\n",
              "qty                 0.072609\n",
              "list_price          0.049043\n",
              "cust_type_AB02      0.043817\n",
              "branch_720019       0.042134\n",
              "total_amt           0.041865\n",
              "prod_cla_11020.0    0.028836\n",
              "branch_720036       0.023003\n",
              "dtype: float64"
            ]
          },
          "metadata": {},
          "execution_count": 430
        }
      ]
    },
    {
      "cell_type": "code",
      "metadata": {
        "id": "BYZigB-fymgd"
      },
      "source": [
        "def export_result(df_test,y_cls, y_pred):\n",
        "  '''\n",
        "  Attach the predicte result (probability) into original records.\n",
        "  Export to a csv file for further investication\n",
        "  '''\n",
        "  df_test['predict'] = y_cls\n",
        "  df_test['prob']  = y_pred\n",
        "  path = '/content/drive/MyDrive/Colab Notebooks/finalproject/'\n",
        "  file_csv = path + 'pred_result.csv'\n",
        "  df_test.to_csv(file_csv)\n",
        "  return True\n"
      ],
      "execution_count": 362,
      "outputs": []
    },
    {
      "cell_type": "code",
      "metadata": {
        "colab": {
          "base_uri": "https://localhost:8080/"
        },
        "id": "dI0Pw_Ur3xbd",
        "outputId": "478013c9-27b1-408e-eed8-678ea164c5c5"
      },
      "source": [
        "export_result(df_test,y_cls,y_pred)"
      ],
      "execution_count": 364,
      "outputs": [
        {
          "output_type": "execute_result",
          "data": {
            "text/plain": [
              "True"
            ]
          },
          "metadata": {},
          "execution_count": 364
        }
      ]
    },
    {
      "cell_type": "code",
      "metadata": {
        "id": "uvKs4xdaXiuN"
      },
      "source": [
        ""
      ],
      "execution_count": null,
      "outputs": []
    }
  ]
}