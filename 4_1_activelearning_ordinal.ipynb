{
  "nbformat": 4,
  "nbformat_minor": 0,
  "metadata": {
    "colab": {
      "name": "4.1_activelearning_ordinal.ipynb",
      "provenance": [],
      "authorship_tag": "ABX9TyPEo6yOOzmd9iqcqpJJ4kpL",
      "include_colab_link": true
    },
    "kernelspec": {
      "name": "python3",
      "display_name": "Python 3"
    },
    "language_info": {
      "name": "python"
    }
  },
  "cells": [
    {
      "cell_type": "markdown",
      "metadata": {
        "id": "view-in-github",
        "colab_type": "text"
      },
      "source": [
        "<a href=\"https://colab.research.google.com/github/ryanhao1115/ML-for-Fraud-Detection/blob/main/4_1_activelearning_ordinal.ipynb\" target=\"_parent\"><img src=\"https://colab.research.google.com/assets/colab-badge.svg\" alt=\"Open In Colab\"/></a>"
      ]
    },
    {
      "cell_type": "code",
      "metadata": {
        "colab": {
          "base_uri": "https://localhost:8080/"
        },
        "id": "ndtW0FwNmcWr",
        "outputId": "457f6d83-79c9-430e-a39d-8c1e740a96b5"
      },
      "source": [
        "from google.colab import drive\n",
        "drive.mount('/content/drive')"
      ],
      "execution_count": 3,
      "outputs": [
        {
          "output_type": "stream",
          "name": "stdout",
          "text": [
            "Mounted at /content/drive\n"
          ]
        }
      ]
    },
    {
      "cell_type": "markdown",
      "metadata": {
        "id": "oINI7xYSmpo8"
      },
      "source": [
        "## Active Learning with Ordinal encoding data\n",
        "1. Ordinal encoding categorical fileds\n",
        "2. Process the labeled fraud invoice\n",
        "3. Sample data for active learning\n",
        "4. Train model\n",
        "5. Choose top 100 uncertain invoice\n",
        "6. Get back the labeled data"
      ]
    },
    {
      "cell_type": "code",
      "metadata": {
        "id": "6Gc_G68myO1w"
      },
      "source": [
        "import pandas as pd\n",
        "import numpy as np\n",
        "from sklearn.preprocessing import LabelEncoder\n",
        "from keras.models import Sequential\n",
        "from keras.layers import Dense"
      ],
      "execution_count": 12,
      "outputs": []
    },
    {
      "cell_type": "code",
      "metadata": {
        "id": "EB5yPnJdyRnG"
      },
      "source": [
        "## import dataset \n",
        "path = '/content/drive/MyDrive/Colab Notebooks/finalproject/'\n",
        "file = path + 'sales_clean.csv'\n",
        "df = pd.read_csv(file)"
      ],
      "execution_count": 104,
      "outputs": []
    },
    {
      "cell_type": "code",
      "metadata": {
        "id": "zM0xX0nKWIu0"
      },
      "source": [
        "df = df.drop(columns='Unnamed: 0')"
      ],
      "execution_count": 107,
      "outputs": []
    },
    {
      "cell_type": "code",
      "metadata": {
        "colab": {
          "base_uri": "https://localhost:8080/",
          "height": 226
        },
        "id": "tXuAbPlSyWVW",
        "outputId": "4e9e5e85-3413-411c-db2a-911a407941a5"
      },
      "source": [
        "df.tail()"
      ],
      "execution_count": 116,
      "outputs": [
        {
          "output_type": "execute_result",
          "data": {
            "text/html": [
              "<div>\n",
              "<style scoped>\n",
              "    .dataframe tbody tr th:only-of-type {\n",
              "        vertical-align: middle;\n",
              "    }\n",
              "\n",
              "    .dataframe tbody tr th {\n",
              "        vertical-align: top;\n",
              "    }\n",
              "\n",
              "    .dataframe thead th {\n",
              "        text-align: right;\n",
              "    }\n",
              "</style>\n",
              "<table border=\"1\" class=\"dataframe\">\n",
              "  <thead>\n",
              "    <tr style=\"text-align: right;\">\n",
              "      <th></th>\n",
              "      <th>distributor</th>\n",
              "      <th>sales</th>\n",
              "      <th>branch</th>\n",
              "      <th>inv_type</th>\n",
              "      <th>invoice_no</th>\n",
              "      <th>product_no</th>\n",
              "      <th>prod_cla</th>\n",
              "      <th>qty</th>\n",
              "      <th>total_amt</th>\n",
              "      <th>sale_price</th>\n",
              "      <th>ship_qty</th>\n",
              "      <th>cust_type</th>\n",
              "      <th>return</th>\n",
              "      <th>discount_app</th>\n",
              "      <th>list_price</th>\n",
              "      <th>inv_ship_days</th>\n",
              "      <th>fraud</th>\n",
              "    </tr>\n",
              "  </thead>\n",
              "  <tbody>\n",
              "    <tr>\n",
              "      <th>228596</th>\n",
              "      <td>A15020494</td>\n",
              "      <td>PJ036429</td>\n",
              "      <td>720018</td>\n",
              "      <td>Z038</td>\n",
              "      <td>2111414500</td>\n",
              "      <td>BFD37B45</td>\n",
              "      <td>11020.0</td>\n",
              "      <td>1</td>\n",
              "      <td>83.59</td>\n",
              "      <td>83.59</td>\n",
              "      <td>1</td>\n",
              "      <td>AA02</td>\n",
              "      <td>0</td>\n",
              "      <td>1</td>\n",
              "      <td>94.46</td>\n",
              "      <td>3</td>\n",
              "      <td>0.0</td>\n",
              "    </tr>\n",
              "    <tr>\n",
              "      <th>228597</th>\n",
              "      <td>A15020494</td>\n",
              "      <td>PJ036429</td>\n",
              "      <td>720018</td>\n",
              "      <td>Z038</td>\n",
              "      <td>2111414500</td>\n",
              "      <td>BRC1H611</td>\n",
              "      <td>11020.0</td>\n",
              "      <td>1</td>\n",
              "      <td>417.95</td>\n",
              "      <td>417.95</td>\n",
              "      <td>1</td>\n",
              "      <td>AA02</td>\n",
              "      <td>0</td>\n",
              "      <td>1</td>\n",
              "      <td>472.28</td>\n",
              "      <td>3</td>\n",
              "      <td>0.0</td>\n",
              "    </tr>\n",
              "    <tr>\n",
              "      <th>228598</th>\n",
              "      <td>A15020494</td>\n",
              "      <td>PJ036429</td>\n",
              "      <td>720018</td>\n",
              "      <td>Z038</td>\n",
              "      <td>2111414500</td>\n",
              "      <td>FPDAP28BAP</td>\n",
              "      <td>11020.0</td>\n",
              "      <td>1</td>\n",
              "      <td>4188.73</td>\n",
              "      <td>4188.73</td>\n",
              "      <td>1</td>\n",
              "      <td>AA02</td>\n",
              "      <td>0</td>\n",
              "      <td>1</td>\n",
              "      <td>4733.26</td>\n",
              "      <td>3</td>\n",
              "      <td>0.0</td>\n",
              "    </tr>\n",
              "    <tr>\n",
              "      <th>228599</th>\n",
              "      <td>A15050131</td>\n",
              "      <td>PJ040864</td>\n",
              "      <td>720037</td>\n",
              "      <td>Z038</td>\n",
              "      <td>2111414525</td>\n",
              "      <td>BRC301B611</td>\n",
              "      <td>11050.0</td>\n",
              "      <td>1</td>\n",
              "      <td>398.23</td>\n",
              "      <td>398.23</td>\n",
              "      <td>1</td>\n",
              "      <td>AB02</td>\n",
              "      <td>0</td>\n",
              "      <td>1</td>\n",
              "      <td>450.00</td>\n",
              "      <td>4</td>\n",
              "      <td>0.0</td>\n",
              "    </tr>\n",
              "    <tr>\n",
              "      <th>228600</th>\n",
              "      <td>A15050131</td>\n",
              "      <td>PJ040864</td>\n",
              "      <td>720037</td>\n",
              "      <td>Z038</td>\n",
              "      <td>2111414525</td>\n",
              "      <td>VAML350HV1</td>\n",
              "      <td>11050.0</td>\n",
              "      <td>1</td>\n",
              "      <td>7654.87</td>\n",
              "      <td>7654.87</td>\n",
              "      <td>1</td>\n",
              "      <td>AB02</td>\n",
              "      <td>0</td>\n",
              "      <td>1</td>\n",
              "      <td>8650.00</td>\n",
              "      <td>4</td>\n",
              "      <td>0.0</td>\n",
              "    </tr>\n",
              "  </tbody>\n",
              "</table>\n",
              "</div>"
            ],
            "text/plain": [
              "       distributor     sales  branch  ... list_price  inv_ship_days fraud\n",
              "228596   A15020494  PJ036429  720018  ...      94.46              3   0.0\n",
              "228597   A15020494  PJ036429  720018  ...     472.28              3   0.0\n",
              "228598   A15020494  PJ036429  720018  ...    4733.26              3   0.0\n",
              "228599   A15050131  PJ040864  720037  ...     450.00              4   0.0\n",
              "228600   A15050131  PJ040864  720037  ...    8650.00              4   0.0\n",
              "\n",
              "[5 rows x 17 columns]"
            ]
          },
          "metadata": {},
          "execution_count": 116
        }
      ]
    },
    {
      "cell_type": "markdown",
      "metadata": {
        "id": "lCCJjJWqGLvU"
      },
      "source": [
        "## import label data and sampling"
      ]
    },
    {
      "cell_type": "code",
      "metadata": {
        "id": "cYVtnDc2HXFA"
      },
      "source": [
        "## import fraud data\n",
        "file = path + 'frauds.csv'\n",
        "df_fraud = pd.read_csv(file,header=None)"
      ],
      "execution_count": 111,
      "outputs": []
    },
    {
      "cell_type": "code",
      "metadata": {
        "id": "YntiE6PVIrPC"
      },
      "source": [
        "df_fraud.columns = ['invoice_no']"
      ],
      "execution_count": 113,
      "outputs": []
    },
    {
      "cell_type": "code",
      "metadata": {
        "id": "bo6Q08-CJyOv"
      },
      "source": [
        "def label_fraud(df, df_fraud):\n",
        "  df['fraud'] = np.zeros(len(df))\n",
        "  frauds_l = df_fraud['invoice_no'].to_list()\n",
        "  df.loc[df['invoice_no'].isin(frauds_l),'fraud'] = 1\n",
        "  return df"
      ],
      "execution_count": 114,
      "outputs": []
    },
    {
      "cell_type": "code",
      "metadata": {
        "id": "y0iwhuZ_XIpE"
      },
      "source": [
        "df = label_fraud(df, df_fraud)"
      ],
      "execution_count": 115,
      "outputs": []
    },
    {
      "cell_type": "code",
      "metadata": {
        "colab": {
          "base_uri": "https://localhost:8080/"
        },
        "id": "S6y811N2NJZS",
        "outputId": "ff9f9be4-c7ef-4ce2-fd16-2c71774a88c8"
      },
      "source": [
        "df['fraud'].value_counts()"
      ],
      "execution_count": 117,
      "outputs": [
        {
          "output_type": "execute_result",
          "data": {
            "text/plain": [
              "0.0    228447\n",
              "1.0       154\n",
              "Name: fraud, dtype: int64"
            ]
          },
          "metadata": {},
          "execution_count": 117
        }
      ]
    },
    {
      "cell_type": "markdown",
      "metadata": {
        "id": "l7OnGZt9GEAL"
      },
      "source": [
        "## Encoding"
      ]
    },
    {
      "cell_type": "code",
      "metadata": {
        "id": "T0O7sPin33OP"
      },
      "source": [
        "cols = df.columns.to_list()\n",
        "cols = ['distributor', 'sales', 'branch', 'inv_type', 'invoice_no', 'product_no', 'prod_cla', 'cust_type']"
      ],
      "execution_count": 118,
      "outputs": []
    },
    {
      "cell_type": "code",
      "metadata": {
        "id": "486mzoZj2LsQ"
      },
      "source": [
        "def field_encoding(df):\n",
        "  '''\n",
        "  Ordinal encode categorical fields.\n",
        "  '''\n",
        "  cols = ['distributor', 'sales', 'branch', 'inv_type', 'invoice_no', 'product_no', 'prod_cla', 'cust_type']\n",
        "  df[cols] = df[cols].astype('str') \n",
        "  enc = LabelEncoder()\n",
        "  for f in cols:\n",
        "    df[f] = enc.fit_transform(df[f])\n",
        "  return df"
      ],
      "execution_count": 119,
      "outputs": []
    },
    {
      "cell_type": "code",
      "metadata": {
        "id": "qgVnIE3j7G0X"
      },
      "source": [
        "df_enc = field_encoding(df)"
      ],
      "execution_count": 120,
      "outputs": []
    },
    {
      "cell_type": "code",
      "metadata": {
        "colab": {
          "base_uri": "https://localhost:8080/"
        },
        "id": "A7gwzMqo8zkK",
        "outputId": "953e5deb-3b20-4c4d-f0a7-dd450a8d0efe"
      },
      "source": [
        "df_enc.nunique()"
      ],
      "execution_count": 121,
      "outputs": [
        {
          "output_type": "execute_result",
          "data": {
            "text/plain": [
              "distributor        639\n",
              "sales              209\n",
              "branch              28\n",
              "inv_type             3\n",
              "invoice_no       30721\n",
              "product_no        1094\n",
              "prod_cla             7\n",
              "qty                202\n",
              "total_amt        16112\n",
              "sale_price        8598\n",
              "ship_qty           202\n",
              "cust_type           20\n",
              "return               2\n",
              "discount_app         2\n",
              "list_price        6720\n",
              "inv_ship_days      133\n",
              "fraud                2\n",
              "dtype: int64"
            ]
          },
          "metadata": {},
          "execution_count": 121
        }
      ]
    },
    {
      "cell_type": "code",
      "metadata": {
        "colab": {
          "base_uri": "https://localhost:8080/",
          "height": 226
        },
        "id": "-aFHEsi0zisf",
        "outputId": "451fa22b-d1e4-4461-afbb-02e87b8723b8"
      },
      "source": [
        "df_enc.head()"
      ],
      "execution_count": 122,
      "outputs": [
        {
          "output_type": "execute_result",
          "data": {
            "text/html": [
              "<div>\n",
              "<style scoped>\n",
              "    .dataframe tbody tr th:only-of-type {\n",
              "        vertical-align: middle;\n",
              "    }\n",
              "\n",
              "    .dataframe tbody tr th {\n",
              "        vertical-align: top;\n",
              "    }\n",
              "\n",
              "    .dataframe thead th {\n",
              "        text-align: right;\n",
              "    }\n",
              "</style>\n",
              "<table border=\"1\" class=\"dataframe\">\n",
              "  <thead>\n",
              "    <tr style=\"text-align: right;\">\n",
              "      <th></th>\n",
              "      <th>distributor</th>\n",
              "      <th>sales</th>\n",
              "      <th>branch</th>\n",
              "      <th>inv_type</th>\n",
              "      <th>invoice_no</th>\n",
              "      <th>product_no</th>\n",
              "      <th>prod_cla</th>\n",
              "      <th>qty</th>\n",
              "      <th>total_amt</th>\n",
              "      <th>sale_price</th>\n",
              "      <th>ship_qty</th>\n",
              "      <th>cust_type</th>\n",
              "      <th>return</th>\n",
              "      <th>discount_app</th>\n",
              "      <th>list_price</th>\n",
              "      <th>inv_ship_days</th>\n",
              "      <th>fraud</th>\n",
              "    </tr>\n",
              "  </thead>\n",
              "  <tbody>\n",
              "    <tr>\n",
              "      <th>0</th>\n",
              "      <td>637</td>\n",
              "      <td>39</td>\n",
              "      <td>0</td>\n",
              "      <td>0</td>\n",
              "      <td>0</td>\n",
              "      <td>513</td>\n",
              "      <td>6</td>\n",
              "      <td>1</td>\n",
              "      <td>1000.00</td>\n",
              "      <td>1000.00</td>\n",
              "      <td>0</td>\n",
              "      <td>0</td>\n",
              "      <td>0</td>\n",
              "      <td>0</td>\n",
              "      <td>1000.0</td>\n",
              "      <td>239</td>\n",
              "      <td>0.0</td>\n",
              "    </tr>\n",
              "    <tr>\n",
              "      <th>1</th>\n",
              "      <td>450</td>\n",
              "      <td>21</td>\n",
              "      <td>10</td>\n",
              "      <td>1</td>\n",
              "      <td>1</td>\n",
              "      <td>984</td>\n",
              "      <td>0</td>\n",
              "      <td>4</td>\n",
              "      <td>130973.44</td>\n",
              "      <td>32743.36</td>\n",
              "      <td>0</td>\n",
              "      <td>8</td>\n",
              "      <td>1</td>\n",
              "      <td>1</td>\n",
              "      <td>37000.0</td>\n",
              "      <td>237</td>\n",
              "      <td>0.0</td>\n",
              "    </tr>\n",
              "    <tr>\n",
              "      <th>2</th>\n",
              "      <td>118</td>\n",
              "      <td>110</td>\n",
              "      <td>23</td>\n",
              "      <td>1</td>\n",
              "      <td>2</td>\n",
              "      <td>57</td>\n",
              "      <td>1</td>\n",
              "      <td>1</td>\n",
              "      <td>398.23</td>\n",
              "      <td>398.23</td>\n",
              "      <td>0</td>\n",
              "      <td>0</td>\n",
              "      <td>1</td>\n",
              "      <td>1</td>\n",
              "      <td>450.0</td>\n",
              "      <td>225</td>\n",
              "      <td>0.0</td>\n",
              "    </tr>\n",
              "    <tr>\n",
              "      <th>3</th>\n",
              "      <td>118</td>\n",
              "      <td>110</td>\n",
              "      <td>23</td>\n",
              "      <td>1</td>\n",
              "      <td>2</td>\n",
              "      <td>552</td>\n",
              "      <td>0</td>\n",
              "      <td>1</td>\n",
              "      <td>2831.86</td>\n",
              "      <td>2831.86</td>\n",
              "      <td>0</td>\n",
              "      <td>0</td>\n",
              "      <td>1</td>\n",
              "      <td>1</td>\n",
              "      <td>3200.0</td>\n",
              "      <td>225</td>\n",
              "      <td>0.0</td>\n",
              "    </tr>\n",
              "    <tr>\n",
              "      <th>4</th>\n",
              "      <td>68</td>\n",
              "      <td>142</td>\n",
              "      <td>23</td>\n",
              "      <td>1</td>\n",
              "      <td>3</td>\n",
              "      <td>57</td>\n",
              "      <td>1</td>\n",
              "      <td>4</td>\n",
              "      <td>1592.92</td>\n",
              "      <td>398.23</td>\n",
              "      <td>0</td>\n",
              "      <td>0</td>\n",
              "      <td>1</td>\n",
              "      <td>1</td>\n",
              "      <td>450.0</td>\n",
              "      <td>225</td>\n",
              "      <td>0.0</td>\n",
              "    </tr>\n",
              "  </tbody>\n",
              "</table>\n",
              "</div>"
            ],
            "text/plain": [
              "   distributor  sales  branch  ...  list_price  inv_ship_days  fraud\n",
              "0          637     39       0  ...      1000.0            239    0.0\n",
              "1          450     21      10  ...     37000.0            237    0.0\n",
              "2          118    110      23  ...       450.0            225    0.0\n",
              "3          118    110      23  ...      3200.0            225    0.0\n",
              "4           68    142      23  ...       450.0            225    0.0\n",
              "\n",
              "[5 rows x 17 columns]"
            ]
          },
          "metadata": {},
          "execution_count": 122
        }
      ]
    },
    {
      "cell_type": "markdown",
      "metadata": {
        "id": "zYRaXHXsP07P"
      },
      "source": [
        "## Resampling to address the imbalance class\n",
        "Because fraud labels are given to invoice level, need to keep records of same invoice together. "
      ]
    },
    {
      "cell_type": "code",
      "metadata": {
        "id": "d7PpSBXyT1iz"
      },
      "source": [
        "df_fraud = df_enc[df_enc['fraud'] == 1]\n",
        "df_non_fraud = df_enc[df_enc['fraud'] == 0]"
      ],
      "execution_count": 123,
      "outputs": []
    },
    {
      "cell_type": "code",
      "metadata": {
        "colab": {
          "base_uri": "https://localhost:8080/",
          "height": 226
        },
        "id": "eGH1pJ_JVnr7",
        "outputId": "3a74a482-33de-4bce-9028-49ae4e43afb9"
      },
      "source": [
        "df_fraud.tail()"
      ],
      "execution_count": 126,
      "outputs": [
        {
          "output_type": "execute_result",
          "data": {
            "text/html": [
              "<div>\n",
              "<style scoped>\n",
              "    .dataframe tbody tr th:only-of-type {\n",
              "        vertical-align: middle;\n",
              "    }\n",
              "\n",
              "    .dataframe tbody tr th {\n",
              "        vertical-align: top;\n",
              "    }\n",
              "\n",
              "    .dataframe thead th {\n",
              "        text-align: right;\n",
              "    }\n",
              "</style>\n",
              "<table border=\"1\" class=\"dataframe\">\n",
              "  <thead>\n",
              "    <tr style=\"text-align: right;\">\n",
              "      <th></th>\n",
              "      <th>distributor</th>\n",
              "      <th>sales</th>\n",
              "      <th>branch</th>\n",
              "      <th>inv_type</th>\n",
              "      <th>invoice_no</th>\n",
              "      <th>product_no</th>\n",
              "      <th>prod_cla</th>\n",
              "      <th>qty</th>\n",
              "      <th>total_amt</th>\n",
              "      <th>sale_price</th>\n",
              "      <th>ship_qty</th>\n",
              "      <th>cust_type</th>\n",
              "      <th>return</th>\n",
              "      <th>discount_app</th>\n",
              "      <th>list_price</th>\n",
              "      <th>inv_ship_days</th>\n",
              "      <th>fraud</th>\n",
              "    </tr>\n",
              "  </thead>\n",
              "  <tbody>\n",
              "    <tr>\n",
              "      <th>209638</th>\n",
              "      <td>542</td>\n",
              "      <td>49</td>\n",
              "      <td>8</td>\n",
              "      <td>2</td>\n",
              "      <td>28150</td>\n",
              "      <td>52</td>\n",
              "      <td>1</td>\n",
              "      <td>1</td>\n",
              "      <td>110.94</td>\n",
              "      <td>100.9554</td>\n",
              "      <td>1</td>\n",
              "      <td>0</td>\n",
              "      <td>0</td>\n",
              "      <td>1</td>\n",
              "      <td>125.36</td>\n",
              "      <td>2</td>\n",
              "      <td>1.0</td>\n",
              "    </tr>\n",
              "    <tr>\n",
              "      <th>209639</th>\n",
              "      <td>542</td>\n",
              "      <td>49</td>\n",
              "      <td>8</td>\n",
              "      <td>2</td>\n",
              "      <td>28150</td>\n",
              "      <td>62</td>\n",
              "      <td>1</td>\n",
              "      <td>1</td>\n",
              "      <td>416.01</td>\n",
              "      <td>378.5691</td>\n",
              "      <td>1</td>\n",
              "      <td>0</td>\n",
              "      <td>0</td>\n",
              "      <td>1</td>\n",
              "      <td>470.09</td>\n",
              "      <td>2</td>\n",
              "      <td>1.0</td>\n",
              "    </tr>\n",
              "    <tr>\n",
              "      <th>209640</th>\n",
              "      <td>542</td>\n",
              "      <td>49</td>\n",
              "      <td>8</td>\n",
              "      <td>2</td>\n",
              "      <td>28150</td>\n",
              "      <td>484</td>\n",
              "      <td>1</td>\n",
              "      <td>1</td>\n",
              "      <td>4650.04</td>\n",
              "      <td>4231.5364</td>\n",
              "      <td>1</td>\n",
              "      <td>0</td>\n",
              "      <td>0</td>\n",
              "      <td>1</td>\n",
              "      <td>5254.55</td>\n",
              "      <td>2</td>\n",
              "      <td>1.0</td>\n",
              "    </tr>\n",
              "    <tr>\n",
              "      <th>209641</th>\n",
              "      <td>542</td>\n",
              "      <td>49</td>\n",
              "      <td>8</td>\n",
              "      <td>2</td>\n",
              "      <td>28150</td>\n",
              "      <td>70</td>\n",
              "      <td>4</td>\n",
              "      <td>2</td>\n",
              "      <td>820.84</td>\n",
              "      <td>373.4822</td>\n",
              "      <td>2</td>\n",
              "      <td>0</td>\n",
              "      <td>0</td>\n",
              "      <td>1</td>\n",
              "      <td>463.77</td>\n",
              "      <td>2</td>\n",
              "      <td>1.0</td>\n",
              "    </tr>\n",
              "    <tr>\n",
              "      <th>209642</th>\n",
              "      <td>542</td>\n",
              "      <td>49</td>\n",
              "      <td>8</td>\n",
              "      <td>2</td>\n",
              "      <td>28150</td>\n",
              "      <td>1076</td>\n",
              "      <td>4</td>\n",
              "      <td>2</td>\n",
              "      <td>6931.38</td>\n",
              "      <td>3153.7779</td>\n",
              "      <td>2</td>\n",
              "      <td>0</td>\n",
              "      <td>0</td>\n",
              "      <td>1</td>\n",
              "      <td>3916.23</td>\n",
              "      <td>2</td>\n",
              "      <td>1.0</td>\n",
              "    </tr>\n",
              "  </tbody>\n",
              "</table>\n",
              "</div>"
            ],
            "text/plain": [
              "        distributor  sales  branch  ...  list_price  inv_ship_days  fraud\n",
              "209638          542     49       8  ...      125.36              2    1.0\n",
              "209639          542     49       8  ...      470.09              2    1.0\n",
              "209640          542     49       8  ...     5254.55              2    1.0\n",
              "209641          542     49       8  ...      463.77              2    1.0\n",
              "209642          542     49       8  ...     3916.23              2    1.0\n",
              "\n",
              "[5 rows x 17 columns]"
            ]
          },
          "metadata": {},
          "execution_count": 126
        }
      ]
    },
    {
      "cell_type": "code",
      "metadata": {
        "id": "M2L3ePEOXvyD"
      },
      "source": [
        "sample_inv = df_non_fraud['invoice_no'].unique()"
      ],
      "execution_count": 137,
      "outputs": []
    },
    {
      "cell_type": "code",
      "metadata": {
        "colab": {
          "base_uri": "https://localhost:8080/"
        },
        "id": "l_tDCpKgY1W-",
        "outputId": "536019aa-9a55-486d-d6f8-f73077100d3d"
      },
      "source": [
        "len(sample_inv)"
      ],
      "execution_count": 139,
      "outputs": [
        {
          "output_type": "execute_result",
          "data": {
            "text/plain": [
              "30710"
            ]
          },
          "metadata": {},
          "execution_count": 139
        }
      ]
    }
  ]
}