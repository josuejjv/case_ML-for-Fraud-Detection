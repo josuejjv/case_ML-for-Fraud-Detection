{
  "nbformat": 4,
  "nbformat_minor": 0,
  "metadata": {
    "colab": {
      "name": "4.1_activelearning_ordinal.ipynb",
      "provenance": [],
      "authorship_tag": "ABX9TyNwAGv6GXxvO+Hg1xGJvk3I",
      "include_colab_link": true
    },
    "kernelspec": {
      "name": "python3",
      "display_name": "Python 3"
    },
    "language_info": {
      "name": "python"
    }
  },
  "cells": [
    {
      "cell_type": "markdown",
      "metadata": {
        "id": "view-in-github",
        "colab_type": "text"
      },
      "source": [
        "<a href=\"https://colab.research.google.com/github/ryanhao1115/ML-for-Fraud-Detection/blob/main/4_1_activelearning_ordinal.ipynb\" target=\"_parent\"><img src=\"https://colab.research.google.com/assets/colab-badge.svg\" alt=\"Open In Colab\"/></a>"
      ]
    },
    {
      "cell_type": "code",
      "metadata": {
        "colab": {
          "base_uri": "https://localhost:8080/"
        },
        "id": "ndtW0FwNmcWr",
        "outputId": "b62665ad-441c-4db1-839b-f7feb4dc6849"
      },
      "source": [
        "from google.colab import drive\n",
        "drive.mount('/content/drive')"
      ],
      "execution_count": 63,
      "outputs": [
        {
          "output_type": "stream",
          "name": "stdout",
          "text": [
            "Drive already mounted at /content/drive; to attempt to forcibly remount, call drive.mount(\"/content/drive\", force_remount=True).\n"
          ]
        }
      ]
    },
    {
      "cell_type": "markdown",
      "metadata": {
        "id": "oINI7xYSmpo8"
      },
      "source": [
        "## Active Learning with Ordinal encoding data\n",
        "1. Ordinal encoding categorical fileds\n",
        "2. Process the labeled fraud invoice\n",
        "3. Sample data for active learning\n",
        "4. Train model\n",
        "5. Choose top 100 uncertain invoice\n",
        "6. Get back the labeled data"
      ]
    },
    {
      "cell_type": "code",
      "metadata": {
        "id": "6Gc_G68myO1w"
      },
      "source": [
        "import pandas as pd\n",
        "import numpy as np\n",
        "from sklearn.preprocessing import LabelEncoder\n",
        "from sklearn.preprocessing import StandardScaler\n",
        "from keras.models import Sequential\n",
        "from keras.layers import Dense\n",
        "from sklearn.metrics import classification_report, roc_auc_score"
      ],
      "execution_count": 64,
      "outputs": []
    },
    {
      "cell_type": "code",
      "metadata": {
        "id": "EB5yPnJdyRnG"
      },
      "source": [
        "## import dataset \n",
        "path = '/content/drive/MyDrive/Colab Notebooks/finalproject/'\n",
        "file = path + 'sales_clean.csv'\n",
        "df = pd.read_csv(file)"
      ],
      "execution_count": 65,
      "outputs": []
    },
    {
      "cell_type": "code",
      "metadata": {
        "id": "zM0xX0nKWIu0"
      },
      "source": [
        "df = df.drop(columns='Unnamed: 0')"
      ],
      "execution_count": 66,
      "outputs": []
    },
    {
      "cell_type": "code",
      "metadata": {
        "colab": {
          "base_uri": "https://localhost:8080/",
          "height": 320
        },
        "id": "tXuAbPlSyWVW",
        "outputId": "520b2340-98e8-422a-a82b-445ee293096e"
      },
      "source": [
        "df.describe()"
      ],
      "execution_count": 88,
      "outputs": [
        {
          "output_type": "execute_result",
          "data": {
            "text/html": [
              "<div>\n",
              "<style scoped>\n",
              "    .dataframe tbody tr th:only-of-type {\n",
              "        vertical-align: middle;\n",
              "    }\n",
              "\n",
              "    .dataframe tbody tr th {\n",
              "        vertical-align: top;\n",
              "    }\n",
              "\n",
              "    .dataframe thead th {\n",
              "        text-align: right;\n",
              "    }\n",
              "</style>\n",
              "<table border=\"1\" class=\"dataframe\">\n",
              "  <thead>\n",
              "    <tr style=\"text-align: right;\">\n",
              "      <th></th>\n",
              "      <th>branch</th>\n",
              "      <th>invoice_no</th>\n",
              "      <th>prod_cla</th>\n",
              "      <th>qty</th>\n",
              "      <th>total_amt</th>\n",
              "      <th>sale_price</th>\n",
              "      <th>ship_qty</th>\n",
              "      <th>return</th>\n",
              "      <th>discount_app</th>\n",
              "      <th>list_price</th>\n",
              "      <th>inv_ship_days</th>\n",
              "      <th>fraud</th>\n",
              "    </tr>\n",
              "  </thead>\n",
              "  <tbody>\n",
              "    <tr>\n",
              "      <th>count</th>\n",
              "      <td>228601.000000</td>\n",
              "      <td>2.286010e+05</td>\n",
              "      <td>228601.000000</td>\n",
              "      <td>228601.000000</td>\n",
              "      <td>2.286010e+05</td>\n",
              "      <td>228601.000000</td>\n",
              "      <td>228601.000000</td>\n",
              "      <td>228601.000000</td>\n",
              "      <td>228601.000000</td>\n",
              "      <td>228601.000000</td>\n",
              "      <td>228601.000000</td>\n",
              "      <td>228601.000000</td>\n",
              "    </tr>\n",
              "    <tr>\n",
              "      <th>mean</th>\n",
              "      <td>716373.299509</td>\n",
              "      <td>2.110400e+09</td>\n",
              "      <td>11020.276814</td>\n",
              "      <td>2.073206</td>\n",
              "      <td>5.395319e+03</td>\n",
              "      <td>3124.179679</td>\n",
              "      <td>2.012332</td>\n",
              "      <td>0.000822</td>\n",
              "      <td>0.999869</td>\n",
              "      <td>3530.768339</td>\n",
              "      <td>4.421481</td>\n",
              "      <td>0.004462</td>\n",
              "    </tr>\n",
              "    <tr>\n",
              "      <th>std</th>\n",
              "      <td>48447.146978</td>\n",
              "      <td>3.109950e+07</td>\n",
              "      <td>12.908625</td>\n",
              "      <td>11.449643</td>\n",
              "      <td>2.513897e+04</td>\n",
              "      <td>4540.858362</td>\n",
              "      <td>10.723446</td>\n",
              "      <td>0.028666</td>\n",
              "      <td>0.011455</td>\n",
              "      <td>5131.707878</td>\n",
              "      <td>9.610810</td>\n",
              "      <td>0.090721</td>\n",
              "    </tr>\n",
              "    <tr>\n",
              "      <th>min</th>\n",
              "      <td>72010.000000</td>\n",
              "      <td>1.103721e+09</td>\n",
              "      <td>9999.000000</td>\n",
              "      <td>1.000000</td>\n",
              "      <td>3.053000e+01</td>\n",
              "      <td>29.200000</td>\n",
              "      <td>0.000000</td>\n",
              "      <td>0.000000</td>\n",
              "      <td>0.000000</td>\n",
              "      <td>33.000000</td>\n",
              "      <td>-1.000000</td>\n",
              "      <td>0.000000</td>\n",
              "    </tr>\n",
              "    <tr>\n",
              "      <th>25%</th>\n",
              "      <td>720008.000000</td>\n",
              "      <td>2.111333e+09</td>\n",
              "      <td>11020.000000</td>\n",
              "      <td>1.000000</td>\n",
              "      <td>4.172400e+02</td>\n",
              "      <td>415.120000</td>\n",
              "      <td>1.000000</td>\n",
              "      <td>0.000000</td>\n",
              "      <td>1.000000</td>\n",
              "      <td>469.090000</td>\n",
              "      <td>1.000000</td>\n",
              "      <td>0.000000</td>\n",
              "    </tr>\n",
              "    <tr>\n",
              "      <th>50%</th>\n",
              "      <td>720013.000000</td>\n",
              "      <td>2.111360e+09</td>\n",
              "      <td>11020.000000</td>\n",
              "      <td>1.000000</td>\n",
              "      <td>2.920350e+03</td>\n",
              "      <td>2326.810000</td>\n",
              "      <td>1.000000</td>\n",
              "      <td>0.000000</td>\n",
              "      <td>1.000000</td>\n",
              "      <td>2629.300000</td>\n",
              "      <td>2.000000</td>\n",
              "      <td>0.000000</td>\n",
              "    </tr>\n",
              "    <tr>\n",
              "      <th>75%</th>\n",
              "      <td>720021.000000</td>\n",
              "      <td>2.111387e+09</td>\n",
              "      <td>11020.000000</td>\n",
              "      <td>1.000000</td>\n",
              "      <td>4.188730e+03</td>\n",
              "      <td>3662.410000</td>\n",
              "      <td>1.000000</td>\n",
              "      <td>0.000000</td>\n",
              "      <td>1.000000</td>\n",
              "      <td>4138.520000</td>\n",
              "      <td>5.000000</td>\n",
              "      <td>0.000000</td>\n",
              "    </tr>\n",
              "    <tr>\n",
              "      <th>max</th>\n",
              "      <td>720037.000000</td>\n",
              "      <td>2.111415e+09</td>\n",
              "      <td>11060.000000</td>\n",
              "      <td>1189.000000</td>\n",
              "      <td>2.051452e+06</td>\n",
              "      <td>50442.470000</td>\n",
              "      <td>1189.000000</td>\n",
              "      <td>1.000000</td>\n",
              "      <td>1.000000</td>\n",
              "      <td>57000.000000</td>\n",
              "      <td>239.000000</td>\n",
              "      <td>2.000000</td>\n",
              "    </tr>\n",
              "  </tbody>\n",
              "</table>\n",
              "</div>"
            ],
            "text/plain": [
              "              branch    invoice_no  ...  inv_ship_days          fraud\n",
              "count  228601.000000  2.286010e+05  ...  228601.000000  228601.000000\n",
              "mean   716373.299509  2.110400e+09  ...       4.421481       0.004462\n",
              "std     48447.146978  3.109950e+07  ...       9.610810       0.090721\n",
              "min     72010.000000  1.103721e+09  ...      -1.000000       0.000000\n",
              "25%    720008.000000  2.111333e+09  ...       1.000000       0.000000\n",
              "50%    720013.000000  2.111360e+09  ...       2.000000       0.000000\n",
              "75%    720021.000000  2.111387e+09  ...       5.000000       0.000000\n",
              "max    720037.000000  2.111415e+09  ...     239.000000       2.000000\n",
              "\n",
              "[8 rows x 12 columns]"
            ]
          },
          "metadata": {},
          "execution_count": 88
        }
      ]
    },
    {
      "cell_type": "markdown",
      "metadata": {
        "id": "lCCJjJWqGLvU"
      },
      "source": [
        "## import label data and sampling"
      ]
    },
    {
      "cell_type": "code",
      "metadata": {
        "id": "cYVtnDc2HXFA"
      },
      "source": [
        "## import fraud data\n",
        "file = path + 'frauds.csv'\n",
        "df_fraud = pd.read_csv(file,header=None)\n",
        "df_fraud.columns = ['invoice_no']"
      ],
      "execution_count": 68,
      "outputs": []
    },
    {
      "cell_type": "code",
      "metadata": {
        "id": "YntiE6PVIrPC"
      },
      "source": [
        "file = path + 'frauds2.csv'\n",
        "df_fraud2 = pd.read_csv(file,header=None)\n",
        "df_fraud2.columns = ['invoice_no']"
      ],
      "execution_count": 69,
      "outputs": []
    },
    {
      "cell_type": "code",
      "metadata": {
        "id": "CiNt30SZf6aD"
      },
      "source": [
        "df_fraud"
      ],
      "execution_count": null,
      "outputs": []
    },
    {
      "cell_type": "code",
      "metadata": {
        "id": "bo6Q08-CJyOv"
      },
      "source": [
        "def label_fraud(df, df_fraud, df_fraud2):\n",
        "  df['fraud'] = np.zeros(len(df))\n",
        "  frauds_l = df_fraud['invoice_no'].to_list()\n",
        "  frauds_l2 = df_fraud2['invoice_no'].to_list()\n",
        "  df.loc[df['invoice_no'].isin(frauds_l),'fraud'] = 1\n",
        "  df.loc[df['invoice_no'].isin(frauds_l2),'fraud'] = 2\n",
        "  return df"
      ],
      "execution_count": 71,
      "outputs": []
    },
    {
      "cell_type": "code",
      "metadata": {
        "id": "y0iwhuZ_XIpE"
      },
      "source": [
        "df = label_fraud(df, df_fraud,df_fraud2)"
      ],
      "execution_count": 72,
      "outputs": []
    },
    {
      "cell_type": "code",
      "metadata": {
        "colab": {
          "base_uri": "https://localhost:8080/"
        },
        "id": "S6y811N2NJZS",
        "outputId": "6178fa00-3011-42a6-83ec-a2fd6999b967"
      },
      "source": [
        "df['fraud'].value_counts()"
      ],
      "execution_count": 89,
      "outputs": [
        {
          "output_type": "execute_result",
          "data": {
            "text/plain": [
              "0.0    228014\n",
              "2.0       433\n",
              "1.0       154\n",
              "Name: fraud, dtype: int64"
            ]
          },
          "metadata": {},
          "execution_count": 89
        }
      ]
    },
    {
      "cell_type": "markdown",
      "metadata": {
        "id": "zYRaXHXsP07P"
      },
      "source": [
        "## Resampling to address the imbalance class\n",
        "Because fraud labels are given to invoice level, need to keep records of same invoice together. "
      ]
    },
    {
      "cell_type": "code",
      "metadata": {
        "id": "d7PpSBXyT1iz"
      },
      "source": [
        "df_fraud = df[df['fraud'] == 1]\n",
        "df_non_fraud = df[df['fraud'] == 0]\n",
        "df_fraud2 = df[df['fraud'] == 2]"
      ],
      "execution_count": 115,
      "outputs": []
    },
    {
      "cell_type": "code",
      "metadata": {
        "colab": {
          "base_uri": "https://localhost:8080/"
        },
        "id": "eGH1pJ_JVnr7",
        "outputId": "ae93d439-7786-475a-f886-921c13dfe50e"
      },
      "source": [
        "df_fraud2.info()"
      ],
      "execution_count": 116,
      "outputs": [
        {
          "output_type": "stream",
          "name": "stdout",
          "text": [
            "<class 'pandas.core.frame.DataFrame'>\n",
            "Int64Index: 433 entries, 19646 to 217825\n",
            "Data columns (total 17 columns):\n",
            " #   Column         Non-Null Count  Dtype  \n",
            "---  ------         --------------  -----  \n",
            " 0   distributor    433 non-null    object \n",
            " 1   sales          433 non-null    object \n",
            " 2   branch         433 non-null    object \n",
            " 3   inv_type       433 non-null    object \n",
            " 4   invoice_no     433 non-null    object \n",
            " 5   product_no     433 non-null    object \n",
            " 6   prod_cla       433 non-null    object \n",
            " 7   qty            433 non-null    int64  \n",
            " 8   total_amt      433 non-null    float64\n",
            " 9   sale_price     433 non-null    float64\n",
            " 10  ship_qty       433 non-null    int64  \n",
            " 11  cust_type      433 non-null    object \n",
            " 12  return         433 non-null    int64  \n",
            " 13  discount_app   433 non-null    int64  \n",
            " 14  list_price     433 non-null    float64\n",
            " 15  inv_ship_days  433 non-null    int64  \n",
            " 16  fraud          433 non-null    float64\n",
            "dtypes: float64(4), int64(5), object(8)\n",
            "memory usage: 60.9+ KB\n"
          ]
        }
      ]
    },
    {
      "cell_type": "code",
      "metadata": {
        "id": "M2L3ePEOXvyD"
      },
      "source": [
        "def sampling_inv(df_non_fraud):\n",
        "  '''\n",
        "  Random sampling from unlabled invoices.\n",
        "  '''\n",
        "  sample_inv = df_non_fraud['invoice_no'].unique()\n",
        "  print(len(sample_inv))\n",
        "  sample_inv1 = np.random.choice(sample_inv,size=1000,replace=False)\n",
        "  sample_inv = np.setdiff1d(sample_inv,sample_inv1)\n",
        "  print(len(sample_inv))\n",
        "  sample_inv2 = np.random.choice(sample_inv,size=10000,replace=False)\n",
        "  sample_inv = np.setdiff1d(sample_inv,sample_inv2)\n",
        "  print(len(sample_inv))\n",
        "  return sample_inv1, sample_inv2, sample_inv\n"
      ],
      "execution_count": 117,
      "outputs": []
    },
    {
      "cell_type": "code",
      "metadata": {
        "colab": {
          "base_uri": "https://localhost:8080/"
        },
        "id": "l_tDCpKgY1W-",
        "outputId": "6365f38b-3864-4aa1-8fb7-991b1405871a"
      },
      "source": [
        "sample_inv1, sample_inv2, sample_inv = sampling_inv(df_non_fraud)"
      ],
      "execution_count": 118,
      "outputs": [
        {
          "output_type": "stream",
          "name": "stdout",
          "text": [
            "30686\n",
            "29686\n",
            "19686\n"
          ]
        }
      ]
    },
    {
      "cell_type": "code",
      "metadata": {
        "colab": {
          "base_uri": "https://localhost:8080/"
        },
        "id": "aFm7Iw2VepcP",
        "outputId": "9bb305bc-a71d-4b9e-cdfc-20aa508e34cf"
      },
      "source": [
        "len(np.unique(sample_inv2))"
      ],
      "execution_count": 119,
      "outputs": [
        {
          "output_type": "execute_result",
          "data": {
            "text/plain": [
              "10000"
            ]
          },
          "metadata": {},
          "execution_count": 119
        }
      ]
    },
    {
      "cell_type": "code",
      "metadata": {
        "id": "9Js8R7sDr7BM"
      },
      "source": [
        "## Build training dataset\n",
        "df_train = df_non_fraud[df_non_fraud['invoice_no'].isin(sample_inv1)]\n",
        "df_train = pd.concat([df_train,df_fraud])\n",
        "df_train = df_train.sort_index()"
      ],
      "execution_count": 120,
      "outputs": []
    },
    {
      "cell_type": "code",
      "metadata": {
        "id": "O01agYImtUx9"
      },
      "source": [
        "## Build eval dataset\n",
        "df_eval = df_non_fraud[df_non_fraud['invoice_no'].isin(sample_inv2)]\n",
        "df_eval = pd.concat([df_eval,df_fraud2])\n",
        "df_eval.loc[df_eval['fraud'] == 2, 'fraud'] = 1 \n",
        "df_eval = df_eval.sort_index()"
      ],
      "execution_count": 121,
      "outputs": []
    },
    {
      "cell_type": "code",
      "metadata": {
        "colab": {
          "base_uri": "https://localhost:8080/"
        },
        "id": "pzKw_DggxMS-",
        "outputId": "5136df6c-126a-4490-907b-ca8932fd8e54"
      },
      "source": [
        "len(df_train)"
      ],
      "execution_count": 122,
      "outputs": [
        {
          "output_type": "execute_result",
          "data": {
            "text/plain": [
              "7418"
            ]
          },
          "metadata": {},
          "execution_count": 122
        }
      ]
    },
    {
      "cell_type": "code",
      "metadata": {
        "colab": {
          "base_uri": "https://localhost:8080/"
        },
        "id": "V_LOYj9ZZne0",
        "outputId": "d5b550b2-d95c-47ff-ebfb-edb1961a0c9c"
      },
      "source": [
        "df_train.info()"
      ],
      "execution_count": 123,
      "outputs": [
        {
          "output_type": "stream",
          "name": "stdout",
          "text": [
            "<class 'pandas.core.frame.DataFrame'>\n",
            "Int64Index: 7418 entries, 262 to 228150\n",
            "Data columns (total 17 columns):\n",
            " #   Column         Non-Null Count  Dtype  \n",
            "---  ------         --------------  -----  \n",
            " 0   distributor    7418 non-null   object \n",
            " 1   sales          7418 non-null   object \n",
            " 2   branch         7418 non-null   object \n",
            " 3   inv_type       7418 non-null   object \n",
            " 4   invoice_no     7418 non-null   object \n",
            " 5   product_no     7418 non-null   object \n",
            " 6   prod_cla       7418 non-null   object \n",
            " 7   qty            7418 non-null   int64  \n",
            " 8   total_amt      7418 non-null   float64\n",
            " 9   sale_price     7418 non-null   float64\n",
            " 10  ship_qty       7418 non-null   int64  \n",
            " 11  cust_type      7418 non-null   object \n",
            " 12  return         7418 non-null   int64  \n",
            " 13  discount_app   7418 non-null   int64  \n",
            " 14  list_price     7418 non-null   float64\n",
            " 15  inv_ship_days  7418 non-null   int64  \n",
            " 16  fraud          7418 non-null   float64\n",
            "dtypes: float64(4), int64(5), object(8)\n",
            "memory usage: 1.0+ MB\n"
          ]
        }
      ]
    },
    {
      "cell_type": "markdown",
      "metadata": {
        "id": "l7OnGZt9GEAL"
      },
      "source": [
        "## Encoding"
      ]
    },
    {
      "cell_type": "code",
      "metadata": {
        "id": "T0O7sPin33OP"
      },
      "source": [
        "cols = df.columns.to_list()\n",
        "cols = ['distributor', 'sales', 'branch', 'inv_type', 'invoice_no', 'product_no', 'prod_cla', 'cust_type']"
      ],
      "execution_count": 124,
      "outputs": []
    },
    {
      "cell_type": "code",
      "metadata": {
        "id": "486mzoZj2LsQ"
      },
      "source": [
        "def field_encoding(df_train, df_eval):\n",
        "  '''\n",
        "  Ordinal encode categorical fields.\n",
        "  '''\n",
        "  cols = ['distributor', 'sales', 'branch', 'inv_type', 'invoice_no', 'product_no', 'prod_cla', 'cust_type']\n",
        "  df_train[cols] = df_train[cols].astype('str') \n",
        "  df_eval[cols] = df_eval[cols].astype('str') \n",
        "  df1 = pd.concat([df_train, df_eval])\n",
        "  enc = LabelEncoder()\n",
        "  for f in cols:\n",
        "    enc.fit(df1[f])\n",
        "    df_train[f] = enc.transform(df_train[f])\n",
        "    df_eval[f] = enc.transform(df_eval[f])\n",
        "  return df_train, df_eval"
      ],
      "execution_count": 125,
      "outputs": []
    },
    {
      "cell_type": "code",
      "metadata": {
        "id": "qgVnIE3j7G0X"
      },
      "source": [
        "X_train, X_eval = field_encoding(df_train, df_eval)"
      ],
      "execution_count": 126,
      "outputs": []
    },
    {
      "cell_type": "code",
      "metadata": {
        "colab": {
          "base_uri": "https://localhost:8080/"
        },
        "id": "A7gwzMqo8zkK",
        "outputId": "e7f3eee5-f2b5-4a10-c4cc-a2168c94df0a"
      },
      "source": [
        "X_train.nunique()"
      ],
      "execution_count": 127,
      "outputs": [
        {
          "output_type": "execute_result",
          "data": {
            "text/plain": [
              "distributor       333\n",
              "sales             147\n",
              "branch             28\n",
              "inv_type            2\n",
              "invoice_no       1011\n",
              "product_no        458\n",
              "prod_cla            7\n",
              "qty                44\n",
              "total_amt        1879\n",
              "sale_price       1548\n",
              "ship_qty           43\n",
              "cust_type          20\n",
              "return              1\n",
              "discount_app        2\n",
              "list_price       1271\n",
              "inv_ship_days      35\n",
              "fraud               2\n",
              "dtype: int64"
            ]
          },
          "metadata": {},
          "execution_count": 127
        }
      ]
    },
    {
      "cell_type": "markdown",
      "metadata": {
        "id": "gDkexYmPxM8O"
      },
      "source": [
        "## Standardscale data"
      ]
    },
    {
      "cell_type": "code",
      "metadata": {
        "id": "Wxt4dsJo7tDa"
      },
      "source": [
        "scaler = StandardScaler()"
      ],
      "execution_count": 100,
      "outputs": []
    },
    {
      "cell_type": "code",
      "metadata": {
        "id": "YeeK6JNC8Fqz"
      },
      "source": [
        "y_train = X_train['fraud'].values\n",
        "X_train = X_train.drop(columns=['fraud'])\n",
        "\n",
        "X_train = scaler.fit_transform(X_train)\n",
        "y_train = y_train.reshape(len(y_train),1)"
      ],
      "execution_count": 128,
      "outputs": []
    },
    {
      "cell_type": "code",
      "metadata": {
        "id": "86joAZPl9YpL"
      },
      "source": [
        "y_eval = X_eval['fraud'].values\n",
        "X_eval = X_eval.drop(columns=['fraud'])\n",
        "\n",
        "X_eval = scaler.transform(X_eval)\n",
        "y_eval = y_eval.reshape(len(y_eval),1)"
      ],
      "execution_count": 129,
      "outputs": []
    },
    {
      "cell_type": "code",
      "metadata": {
        "colab": {
          "base_uri": "https://localhost:8080/"
        },
        "id": "MNUBFns291Qv",
        "outputId": "b4bbc3e7-c60a-4626-ebdc-8c716ea7c8e7"
      },
      "source": [
        "X_train[0]"
      ],
      "execution_count": 130,
      "outputs": [
        {
          "output_type": "execute_result",
          "data": {
            "text/plain": [
              "array([ 0.34925379,  1.3282699 ,  1.39139481,  0.01161143, -1.76370248,\n",
              "        1.32479988, -0.08662241, -0.10594321,  0.15073646,  1.04364105,\n",
              "       -0.10152181,  0.01993016,  0.        ,  0.01161143,  1.04205654,\n",
              "        0.12487154])"
            ]
          },
          "metadata": {},
          "execution_count": 130
        }
      ]
    },
    {
      "cell_type": "code",
      "metadata": {
        "colab": {
          "base_uri": "https://localhost:8080/"
        },
        "id": "4o9UXO0--hgv",
        "outputId": "a14c226d-fcd4-4034-e81d-9d8b73d4dddc"
      },
      "source": [
        "y_eval.shape"
      ],
      "execution_count": 104,
      "outputs": [
        {
          "output_type": "execute_result",
          "data": {
            "text/plain": [
              "(74685, 1)"
            ]
          },
          "metadata": {},
          "execution_count": 104
        }
      ]
    },
    {
      "cell_type": "markdown",
      "metadata": {
        "id": "vnO2HnA4_RQU"
      },
      "source": [
        "## Build model"
      ]
    },
    {
      "cell_type": "code",
      "metadata": {
        "id": "09WCa-Qn_T0G"
      },
      "source": [
        "# define the  model\n",
        "model = Sequential()\n",
        "model.add(Dense(32, input_dim=X_train.shape[1], activation='relu', kernel_initializer='he_normal'))\n",
        "model.add(Dense(16,activation='relu'))\n",
        "model.add(Dense(1, activation='sigmoid'))\n",
        "# compile the keras model\n",
        "model.compile(loss='binary_crossentropy', optimizer='adam', metrics=['accuracy'])"
      ],
      "execution_count": 105,
      "outputs": []
    },
    {
      "cell_type": "code",
      "metadata": {
        "colab": {
          "base_uri": "https://localhost:8080/"
        },
        "id": "pBs2KuNeAErs",
        "outputId": "083f8d29-416e-42b6-9e57-5ecdddf645bb"
      },
      "source": [
        "model.summary()"
      ],
      "execution_count": 106,
      "outputs": [
        {
          "output_type": "stream",
          "name": "stdout",
          "text": [
            "Model: \"sequential_1\"\n",
            "_________________________________________________________________\n",
            "Layer (type)                 Output Shape              Param #   \n",
            "=================================================================\n",
            "dense_3 (Dense)              (None, 32)                544       \n",
            "_________________________________________________________________\n",
            "dense_4 (Dense)              (None, 16)                528       \n",
            "_________________________________________________________________\n",
            "dense_5 (Dense)              (None, 1)                 17        \n",
            "=================================================================\n",
            "Total params: 1,089\n",
            "Trainable params: 1,089\n",
            "Non-trainable params: 0\n",
            "_________________________________________________________________\n"
          ]
        }
      ]
    },
    {
      "cell_type": "markdown",
      "metadata": {
        "id": "cfEQ-OXDA3mV"
      },
      "source": [
        "## Training model"
      ]
    },
    {
      "cell_type": "code",
      "metadata": {
        "colab": {
          "base_uri": "https://localhost:8080/"
        },
        "id": "Pp9q-HK4A6UX",
        "outputId": "c4d7f157-cd54-442e-ad65-4efcf4d2a24d"
      },
      "source": [
        "model.fit(X_train, y_train, epochs=100, batch_size=32)"
      ],
      "execution_count": 131,
      "outputs": [
        {
          "output_type": "stream",
          "name": "stdout",
          "text": [
            "Epoch 1/100\n",
            "232/232 [==============================] - 1s 3ms/step - loss: 0.1560 - accuracy: 0.9802\n",
            "Epoch 2/100\n",
            "232/232 [==============================] - 1s 3ms/step - loss: 0.0535 - accuracy: 0.9864\n",
            "Epoch 3/100\n",
            "232/232 [==============================] - 1s 3ms/step - loss: 0.0349 - accuracy: 0.9891\n",
            "Epoch 4/100\n",
            "232/232 [==============================] - 1s 3ms/step - loss: 0.0265 - accuracy: 0.9912\n",
            "Epoch 5/100\n",
            "232/232 [==============================] - 1s 3ms/step - loss: 0.0238 - accuracy: 0.9922\n",
            "Epoch 6/100\n",
            "232/232 [==============================] - 1s 3ms/step - loss: 0.0195 - accuracy: 0.9926\n",
            "Epoch 7/100\n",
            "232/232 [==============================] - 1s 3ms/step - loss: 0.0174 - accuracy: 0.9947\n",
            "Epoch 8/100\n",
            "232/232 [==============================] - 1s 3ms/step - loss: 0.0159 - accuracy: 0.9951\n",
            "Epoch 9/100\n",
            "232/232 [==============================] - 1s 3ms/step - loss: 0.0142 - accuracy: 0.9961\n",
            "Epoch 10/100\n",
            "232/232 [==============================] - 1s 3ms/step - loss: 0.0135 - accuracy: 0.9964\n",
            "Epoch 11/100\n",
            "232/232 [==============================] - 1s 3ms/step - loss: 0.0125 - accuracy: 0.9965\n",
            "Epoch 12/100\n",
            "232/232 [==============================] - 1s 3ms/step - loss: 0.0123 - accuracy: 0.9964\n",
            "Epoch 13/100\n",
            "232/232 [==============================] - 1s 3ms/step - loss: 0.0111 - accuracy: 0.9965\n",
            "Epoch 14/100\n",
            "232/232 [==============================] - 1s 3ms/step - loss: 0.0104 - accuracy: 0.9972\n",
            "Epoch 15/100\n",
            "232/232 [==============================] - 1s 3ms/step - loss: 0.0111 - accuracy: 0.9965\n",
            "Epoch 16/100\n",
            "232/232 [==============================] - 1s 3ms/step - loss: 0.0102 - accuracy: 0.9969\n",
            "Epoch 17/100\n",
            "232/232 [==============================] - 1s 3ms/step - loss: 0.0089 - accuracy: 0.9985\n",
            "Epoch 18/100\n",
            "232/232 [==============================] - 1s 3ms/step - loss: 0.0090 - accuracy: 0.9977\n",
            "Epoch 19/100\n",
            "232/232 [==============================] - 1s 3ms/step - loss: 0.0084 - accuracy: 0.9980\n",
            "Epoch 20/100\n",
            "232/232 [==============================] - 1s 3ms/step - loss: 0.0079 - accuracy: 0.9981\n",
            "Epoch 21/100\n",
            "232/232 [==============================] - 1s 3ms/step - loss: 0.0076 - accuracy: 0.9982\n",
            "Epoch 22/100\n",
            "232/232 [==============================] - 1s 3ms/step - loss: 0.0073 - accuracy: 0.9981\n",
            "Epoch 23/100\n",
            "232/232 [==============================] - 1s 3ms/step - loss: 0.0069 - accuracy: 0.9987\n",
            "Epoch 24/100\n",
            "232/232 [==============================] - 1s 3ms/step - loss: 0.0065 - accuracy: 0.9987\n",
            "Epoch 25/100\n",
            "232/232 [==============================] - 1s 3ms/step - loss: 0.0064 - accuracy: 0.9984\n",
            "Epoch 26/100\n",
            "232/232 [==============================] - 1s 3ms/step - loss: 0.0061 - accuracy: 0.9985\n",
            "Epoch 27/100\n",
            "232/232 [==============================] - 1s 3ms/step - loss: 0.0060 - accuracy: 0.9984\n",
            "Epoch 28/100\n",
            "232/232 [==============================] - 1s 3ms/step - loss: 0.0057 - accuracy: 0.9989\n",
            "Epoch 29/100\n",
            "232/232 [==============================] - 1s 3ms/step - loss: 0.0055 - accuracy: 0.9985\n",
            "Epoch 30/100\n",
            "232/232 [==============================] - 1s 3ms/step - loss: 0.0051 - accuracy: 0.9989\n",
            "Epoch 31/100\n",
            "232/232 [==============================] - 1s 3ms/step - loss: 0.0055 - accuracy: 0.9985\n",
            "Epoch 32/100\n",
            "232/232 [==============================] - 1s 3ms/step - loss: 0.0053 - accuracy: 0.9985\n",
            "Epoch 33/100\n",
            "232/232 [==============================] - 1s 3ms/step - loss: 0.0051 - accuracy: 0.9985\n",
            "Epoch 34/100\n",
            "232/232 [==============================] - 1s 3ms/step - loss: 0.0045 - accuracy: 0.9991\n",
            "Epoch 35/100\n",
            "232/232 [==============================] - 1s 3ms/step - loss: 0.0045 - accuracy: 0.9991\n",
            "Epoch 36/100\n",
            "232/232 [==============================] - 1s 3ms/step - loss: 0.0037 - accuracy: 0.9995\n",
            "Epoch 37/100\n",
            "232/232 [==============================] - 1s 3ms/step - loss: 0.0039 - accuracy: 0.9991\n",
            "Epoch 38/100\n",
            "232/232 [==============================] - 1s 3ms/step - loss: 0.0040 - accuracy: 0.9989\n",
            "Epoch 39/100\n",
            "232/232 [==============================] - 1s 3ms/step - loss: 0.0040 - accuracy: 0.9991\n",
            "Epoch 40/100\n",
            "232/232 [==============================] - 1s 3ms/step - loss: 0.0039 - accuracy: 0.9988\n",
            "Epoch 41/100\n",
            "232/232 [==============================] - 1s 3ms/step - loss: 0.0035 - accuracy: 0.9991\n",
            "Epoch 42/100\n",
            "232/232 [==============================] - 1s 3ms/step - loss: 0.0036 - accuracy: 0.9988\n",
            "Epoch 43/100\n",
            "232/232 [==============================] - 1s 3ms/step - loss: 0.0035 - accuracy: 0.9989\n",
            "Epoch 44/100\n",
            "232/232 [==============================] - 1s 3ms/step - loss: 0.0030 - accuracy: 0.9991\n",
            "Epoch 45/100\n",
            "232/232 [==============================] - 1s 3ms/step - loss: 0.0030 - accuracy: 0.9992\n",
            "Epoch 46/100\n",
            "232/232 [==============================] - 1s 3ms/step - loss: 0.0035 - accuracy: 0.9991\n",
            "Epoch 47/100\n",
            "232/232 [==============================] - 1s 3ms/step - loss: 0.0027 - accuracy: 0.9993\n",
            "Epoch 48/100\n",
            "232/232 [==============================] - 1s 3ms/step - loss: 0.0030 - accuracy: 0.9991\n",
            "Epoch 49/100\n",
            "232/232 [==============================] - 1s 3ms/step - loss: 0.0029 - accuracy: 0.9991\n",
            "Epoch 50/100\n",
            "232/232 [==============================] - 1s 3ms/step - loss: 0.0027 - accuracy: 0.9993\n",
            "Epoch 51/100\n",
            "232/232 [==============================] - 1s 3ms/step - loss: 0.0027 - accuracy: 0.9991\n",
            "Epoch 52/100\n",
            "232/232 [==============================] - 1s 3ms/step - loss: 0.0035 - accuracy: 0.9987\n",
            "Epoch 53/100\n",
            "232/232 [==============================] - 1s 3ms/step - loss: 0.0024 - accuracy: 0.9993\n",
            "Epoch 54/100\n",
            "232/232 [==============================] - 1s 3ms/step - loss: 0.0026 - accuracy: 0.9992\n",
            "Epoch 55/100\n",
            "232/232 [==============================] - 1s 3ms/step - loss: 0.0029 - accuracy: 0.9991\n",
            "Epoch 56/100\n",
            "232/232 [==============================] - 1s 3ms/step - loss: 0.0026 - accuracy: 0.9991\n",
            "Epoch 57/100\n",
            "232/232 [==============================] - 1s 3ms/step - loss: 0.0024 - accuracy: 0.9993\n",
            "Epoch 58/100\n",
            "232/232 [==============================] - 1s 3ms/step - loss: 0.0028 - accuracy: 0.9988\n",
            "Epoch 59/100\n",
            "232/232 [==============================] - 1s 3ms/step - loss: 0.0024 - accuracy: 0.9992\n",
            "Epoch 60/100\n",
            "232/232 [==============================] - 1s 3ms/step - loss: 0.0024 - accuracy: 0.9992\n",
            "Epoch 61/100\n",
            "232/232 [==============================] - 1s 3ms/step - loss: 0.0021 - accuracy: 0.9993\n",
            "Epoch 62/100\n",
            "232/232 [==============================] - 1s 3ms/step - loss: 0.0025 - accuracy: 0.9991\n",
            "Epoch 63/100\n",
            "232/232 [==============================] - 1s 3ms/step - loss: 0.0019 - accuracy: 0.9992\n",
            "Epoch 64/100\n",
            "232/232 [==============================] - 1s 3ms/step - loss: 0.0020 - accuracy: 0.9993\n",
            "Epoch 65/100\n",
            "232/232 [==============================] - 1s 3ms/step - loss: 0.0026 - accuracy: 0.9991\n",
            "Epoch 66/100\n",
            "232/232 [==============================] - 1s 3ms/step - loss: 0.0028 - accuracy: 0.9989\n",
            "Epoch 67/100\n",
            "232/232 [==============================] - 1s 3ms/step - loss: 0.0040 - accuracy: 0.9992\n",
            "Epoch 68/100\n",
            "232/232 [==============================] - 1s 3ms/step - loss: 0.0020 - accuracy: 0.9992\n",
            "Epoch 69/100\n",
            "232/232 [==============================] - 1s 3ms/step - loss: 0.0020 - accuracy: 0.9992\n",
            "Epoch 70/100\n",
            "232/232 [==============================] - 1s 3ms/step - loss: 0.0020 - accuracy: 0.9995\n",
            "Epoch 71/100\n",
            "232/232 [==============================] - 1s 3ms/step - loss: 0.0021 - accuracy: 0.9992\n",
            "Epoch 72/100\n",
            "232/232 [==============================] - 1s 3ms/step - loss: 0.0022 - accuracy: 0.9993\n",
            "Epoch 73/100\n",
            "232/232 [==============================] - 1s 3ms/step - loss: 0.0020 - accuracy: 0.9992\n",
            "Epoch 74/100\n",
            "232/232 [==============================] - 1s 3ms/step - loss: 0.0016 - accuracy: 0.9996\n",
            "Epoch 75/100\n",
            "232/232 [==============================] - 1s 3ms/step - loss: 0.0026 - accuracy: 0.9989\n",
            "Epoch 76/100\n",
            "232/232 [==============================] - 1s 3ms/step - loss: 0.0021 - accuracy: 0.9992\n",
            "Epoch 77/100\n",
            "232/232 [==============================] - 1s 3ms/step - loss: 0.0017 - accuracy: 0.9993\n",
            "Epoch 78/100\n",
            "232/232 [==============================] - 1s 3ms/step - loss: 0.0019 - accuracy: 0.9992\n",
            "Epoch 79/100\n",
            "232/232 [==============================] - 1s 3ms/step - loss: 0.0023 - accuracy: 0.9991\n",
            "Epoch 80/100\n",
            "232/232 [==============================] - 1s 3ms/step - loss: 0.0020 - accuracy: 0.9995\n",
            "Epoch 81/100\n",
            "232/232 [==============================] - 1s 3ms/step - loss: 0.0020 - accuracy: 0.9992\n",
            "Epoch 82/100\n",
            "232/232 [==============================] - 1s 3ms/step - loss: 0.0019 - accuracy: 0.9995\n",
            "Epoch 83/100\n",
            "232/232 [==============================] - 1s 3ms/step - loss: 0.0018 - accuracy: 0.9992\n",
            "Epoch 84/100\n",
            "232/232 [==============================] - 1s 3ms/step - loss: 0.0018 - accuracy: 0.9995\n",
            "Epoch 85/100\n",
            "232/232 [==============================] - 1s 3ms/step - loss: 0.0021 - accuracy: 0.9991\n",
            "Epoch 86/100\n",
            "232/232 [==============================] - 1s 3ms/step - loss: 0.0021 - accuracy: 0.9993\n",
            "Epoch 87/100\n",
            "232/232 [==============================] - 1s 3ms/step - loss: 0.0013 - accuracy: 0.9995\n",
            "Epoch 88/100\n",
            "232/232 [==============================] - 1s 3ms/step - loss: 0.0017 - accuracy: 0.9993\n",
            "Epoch 89/100\n",
            "232/232 [==============================] - 1s 3ms/step - loss: 0.0017 - accuracy: 0.9993\n",
            "Epoch 90/100\n",
            "232/232 [==============================] - 1s 3ms/step - loss: 0.0016 - accuracy: 0.9992\n",
            "Epoch 91/100\n",
            "232/232 [==============================] - 1s 3ms/step - loss: 0.0017 - accuracy: 0.9993\n",
            "Epoch 92/100\n",
            "232/232 [==============================] - 1s 3ms/step - loss: 0.0019 - accuracy: 0.9992\n",
            "Epoch 93/100\n",
            "232/232 [==============================] - 1s 3ms/step - loss: 0.0023 - accuracy: 0.9992\n",
            "Epoch 94/100\n",
            "232/232 [==============================] - 1s 3ms/step - loss: 0.0039 - accuracy: 0.9991\n",
            "Epoch 95/100\n",
            "232/232 [==============================] - 1s 3ms/step - loss: 0.0017 - accuracy: 0.9992\n",
            "Epoch 96/100\n",
            "232/232 [==============================] - 1s 3ms/step - loss: 0.0026 - accuracy: 0.9992\n",
            "Epoch 97/100\n",
            "232/232 [==============================] - 1s 3ms/step - loss: 0.0016 - accuracy: 0.9992\n",
            "Epoch 98/100\n",
            "232/232 [==============================] - 1s 3ms/step - loss: 0.0015 - accuracy: 0.9996\n",
            "Epoch 99/100\n",
            "232/232 [==============================] - 1s 3ms/step - loss: 0.0015 - accuracy: 0.9995\n",
            "Epoch 100/100\n",
            "232/232 [==============================] - 1s 3ms/step - loss: 0.0017 - accuracy: 0.9993\n"
          ]
        },
        {
          "output_type": "execute_result",
          "data": {
            "text/plain": [
              "<keras.callbacks.History at 0x7fc30194c050>"
            ]
          },
          "metadata": {},
          "execution_count": 131
        }
      ]
    },
    {
      "cell_type": "code",
      "metadata": {
        "colab": {
          "base_uri": "https://localhost:8080/"
        },
        "id": "EyNl7_bKBjTl",
        "outputId": "4beab251-0c81-4cfa-d895-561f7c9de698"
      },
      "source": [
        "loss,accuracy = model.evaluate(X_eval, y_eval)\n",
        "print(loss, accuracy)"
      ],
      "execution_count": 132,
      "outputs": [
        {
          "output_type": "stream",
          "name": "stdout",
          "text": [
            "2330/2330 [==============================] - 5s 2ms/step - loss: 0.4330 - accuracy: 0.9893\n",
            "0.4330098628997803 0.9892820715904236\n"
          ]
        }
      ]
    },
    {
      "cell_type": "markdown",
      "metadata": {
        "id": "WSMcDJFaCdbi"
      },
      "source": [
        "## Predict on eval dataset for further labeling."
      ]
    },
    {
      "cell_type": "code",
      "metadata": {
        "id": "v1O3J-fUESee"
      },
      "source": [
        "y_pred = model.predict(X_eval)\n",
        "y_cls = (y_pred > 0.5).astype(\"int32\")"
      ],
      "execution_count": 133,
      "outputs": []
    },
    {
      "cell_type": "code",
      "metadata": {
        "colab": {
          "base_uri": "https://localhost:8080/"
        },
        "id": "35pPz6XlH9bB",
        "outputId": "fc654701-fe8f-443b-9ace-f32f61d9edae"
      },
      "source": [
        "(y_pred > 0.5).sum()"
      ],
      "execution_count": 60,
      "outputs": [
        {
          "output_type": "execute_result",
          "data": {
            "text/plain": [
              "827"
            ]
          },
          "metadata": {},
          "execution_count": 60
        }
      ]
    },
    {
      "cell_type": "code",
      "metadata": {
        "id": "B91pKTF8JNYN"
      },
      "source": [
        "def eval_model(y_eval, y_cls):\n",
        "  y1 = y_eval.reshape(-1)\n",
        "  y2 = y_cls.reshape(-1)\n",
        "  print(roc_auc_score(y1, y2))\n",
        "  print(classification_report(y1,y2))\n"
      ],
      "execution_count": 134,
      "outputs": []
    },
    {
      "cell_type": "code",
      "metadata": {
        "colab": {
          "base_uri": "https://localhost:8080/"
        },
        "id": "BEGS90tDyMV6",
        "outputId": "c01ffb99-89d1-415d-fb8d-9d3fce9e64cb"
      },
      "source": [
        "eval_model(y_eval, y_cls)"
      ],
      "execution_count": 135,
      "outputs": [
        {
          "output_type": "stream",
          "name": "stdout",
          "text": [
            "0.5698541169168007\n",
            "              precision    recall  f1-score   support\n",
            "\n",
            "         0.0       1.00      0.99      0.99     74115\n",
            "         1.0       0.13      0.15      0.14       433\n",
            "\n",
            "    accuracy                           0.99     74548\n",
            "   macro avg       0.56      0.57      0.57     74548\n",
            "weighted avg       0.99      0.99      0.99     74548\n",
            "\n"
          ]
        }
      ]
    },
    {
      "cell_type": "code",
      "metadata": {
        "id": "BYZigB-fymgd"
      },
      "source": [
        "def record_to_label(df_eval,y_pred):\n",
        "  df_eval['predict'] = y_pred\n",
        "  df_eval['mid_value'] = abs(df_eval['predict'] - 0.5)\n",
        "  df_eval = df_eval.sort_values('mid_value')\n",
        "  value_limit = df_eval.iloc[100,-1]\n",
        "  df_record4label = df_eval[(df_eval['mid_value'] <= value_limit)|(df_eval['fraud'] == 1)]\n",
        "  path = '/content/drive/MyDrive/Colab Notebooks/finalproject/'\n",
        "  file_csv = path + 'for_label.csv'\n",
        "  df_record4label.to_csv(file_csv)\n",
        "  return True\n"
      ],
      "execution_count": 136,
      "outputs": []
    },
    {
      "cell_type": "code",
      "metadata": {
        "colab": {
          "base_uri": "https://localhost:8080/"
        },
        "id": "dI0Pw_Ur3xbd",
        "outputId": "19974c00-aa17-412b-edbb-0bff4c2e4f7c"
      },
      "source": [
        "record_to_label(df_eval,y_pred)"
      ],
      "execution_count": 137,
      "outputs": [
        {
          "output_type": "execute_result",
          "data": {
            "text/plain": [
              "True"
            ]
          },
          "metadata": {},
          "execution_count": 137
        }
      ]
    }
  ]
}