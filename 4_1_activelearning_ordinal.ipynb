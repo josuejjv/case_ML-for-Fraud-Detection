{
  "nbformat": 4,
  "nbformat_minor": 0,
  "metadata": {
    "colab": {
      "name": "4.1_activelearning_ordinal.ipynb",
      "provenance": [],
      "machine_shape": "hm",
      "authorship_tag": "ABX9TyPlhln+H5fJw1wUPRl1T1VR",
      "include_colab_link": true
    },
    "kernelspec": {
      "name": "python3",
      "display_name": "Python 3"
    },
    "language_info": {
      "name": "python"
    },
    "accelerator": "TPU"
  },
  "cells": [
    {
      "cell_type": "markdown",
      "metadata": {
        "id": "view-in-github",
        "colab_type": "text"
      },
      "source": [
        "<a href=\"https://colab.research.google.com/github/ryanhao1115/ML-for-Fraud-Detection/blob/main/4_1_activelearning_ordinal.ipynb\" target=\"_parent\"><img src=\"https://colab.research.google.com/assets/colab-badge.svg\" alt=\"Open In Colab\"/></a>"
      ]
    },
    {
      "cell_type": "code",
      "metadata": {
        "colab": {
          "base_uri": "https://localhost:8080/"
        },
        "id": "ndtW0FwNmcWr",
        "outputId": "f1d7d93b-e947-4454-d270-140b0590c3fe"
      },
      "source": [
        "from google.colab import drive\n",
        "drive.mount('/content/drive')"
      ],
      "execution_count": 1,
      "outputs": [
        {
          "output_type": "stream",
          "name": "stdout",
          "text": [
            "Mounted at /content/drive\n"
          ]
        }
      ]
    },
    {
      "cell_type": "markdown",
      "metadata": {
        "id": "oINI7xYSmpo8"
      },
      "source": [
        "## Active Learning with Ordinal encoding data\n",
        "1. Ordinal encoding categorical fileds\n",
        "2. Process the labeled fraud invoice\n",
        "3. Sample data for active learning\n",
        "4. Train model\n",
        "5. Choose top 100 uncertain invoice\n",
        "6. Get back the labeled data"
      ]
    },
    {
      "cell_type": "code",
      "metadata": {
        "id": "6Gc_G68myO1w"
      },
      "source": [
        "import pandas as pd\n",
        "import numpy as np\n",
        "from sklearn.preprocessing import LabelEncoder\n",
        "from sklearn.preprocessing import StandardScaler\n",
        "from keras.models import Sequential\n",
        "from keras.layers import Dense\n",
        "from sklearn.metrics import classification_report, roc_auc_score"
      ],
      "execution_count": 2,
      "outputs": []
    },
    {
      "cell_type": "code",
      "metadata": {
        "id": "EB5yPnJdyRnG"
      },
      "source": [
        "## import dataset \n",
        "path = '/content/drive/MyDrive/Colab Notebooks/finalproject/'\n",
        "file = path + 'sales_clean.csv'\n",
        "df = pd.read_csv(file)"
      ],
      "execution_count": 3,
      "outputs": []
    },
    {
      "cell_type": "code",
      "metadata": {
        "id": "zM0xX0nKWIu0"
      },
      "source": [
        "df = df.drop(columns='Unnamed: 0')"
      ],
      "execution_count": 4,
      "outputs": []
    },
    {
      "cell_type": "code",
      "metadata": {
        "colab": {
          "base_uri": "https://localhost:8080/",
          "height": 226
        },
        "id": "tXuAbPlSyWVW",
        "outputId": "88a21b9b-7e1d-4387-95fb-62b9f752e07e"
      },
      "source": [
        "df.tail()"
      ],
      "execution_count": 5,
      "outputs": [
        {
          "output_type": "execute_result",
          "data": {
            "text/html": [
              "<div>\n",
              "<style scoped>\n",
              "    .dataframe tbody tr th:only-of-type {\n",
              "        vertical-align: middle;\n",
              "    }\n",
              "\n",
              "    .dataframe tbody tr th {\n",
              "        vertical-align: top;\n",
              "    }\n",
              "\n",
              "    .dataframe thead th {\n",
              "        text-align: right;\n",
              "    }\n",
              "</style>\n",
              "<table border=\"1\" class=\"dataframe\">\n",
              "  <thead>\n",
              "    <tr style=\"text-align: right;\">\n",
              "      <th></th>\n",
              "      <th>distributor</th>\n",
              "      <th>sales</th>\n",
              "      <th>branch</th>\n",
              "      <th>inv_type</th>\n",
              "      <th>invoice_no</th>\n",
              "      <th>product_no</th>\n",
              "      <th>prod_cla</th>\n",
              "      <th>qty</th>\n",
              "      <th>total_amt</th>\n",
              "      <th>sale_price</th>\n",
              "      <th>ship_qty</th>\n",
              "      <th>cust_type</th>\n",
              "      <th>return</th>\n",
              "      <th>discount_app</th>\n",
              "      <th>list_price</th>\n",
              "      <th>inv_ship_days</th>\n",
              "    </tr>\n",
              "  </thead>\n",
              "  <tbody>\n",
              "    <tr>\n",
              "      <th>228596</th>\n",
              "      <td>A15020494</td>\n",
              "      <td>PJ036429</td>\n",
              "      <td>720018</td>\n",
              "      <td>Z038</td>\n",
              "      <td>2111414500</td>\n",
              "      <td>BFD37B45</td>\n",
              "      <td>11020.0</td>\n",
              "      <td>1</td>\n",
              "      <td>83.59</td>\n",
              "      <td>83.59</td>\n",
              "      <td>1</td>\n",
              "      <td>AA02</td>\n",
              "      <td>0</td>\n",
              "      <td>1</td>\n",
              "      <td>94.46</td>\n",
              "      <td>3</td>\n",
              "    </tr>\n",
              "    <tr>\n",
              "      <th>228597</th>\n",
              "      <td>A15020494</td>\n",
              "      <td>PJ036429</td>\n",
              "      <td>720018</td>\n",
              "      <td>Z038</td>\n",
              "      <td>2111414500</td>\n",
              "      <td>BRC1H611</td>\n",
              "      <td>11020.0</td>\n",
              "      <td>1</td>\n",
              "      <td>417.95</td>\n",
              "      <td>417.95</td>\n",
              "      <td>1</td>\n",
              "      <td>AA02</td>\n",
              "      <td>0</td>\n",
              "      <td>1</td>\n",
              "      <td>472.28</td>\n",
              "      <td>3</td>\n",
              "    </tr>\n",
              "    <tr>\n",
              "      <th>228598</th>\n",
              "      <td>A15020494</td>\n",
              "      <td>PJ036429</td>\n",
              "      <td>720018</td>\n",
              "      <td>Z038</td>\n",
              "      <td>2111414500</td>\n",
              "      <td>FPDAP28BAP</td>\n",
              "      <td>11020.0</td>\n",
              "      <td>1</td>\n",
              "      <td>4188.73</td>\n",
              "      <td>4188.73</td>\n",
              "      <td>1</td>\n",
              "      <td>AA02</td>\n",
              "      <td>0</td>\n",
              "      <td>1</td>\n",
              "      <td>4733.26</td>\n",
              "      <td>3</td>\n",
              "    </tr>\n",
              "    <tr>\n",
              "      <th>228599</th>\n",
              "      <td>A15050131</td>\n",
              "      <td>PJ040864</td>\n",
              "      <td>720037</td>\n",
              "      <td>Z038</td>\n",
              "      <td>2111414525</td>\n",
              "      <td>BRC301B611</td>\n",
              "      <td>11050.0</td>\n",
              "      <td>1</td>\n",
              "      <td>398.23</td>\n",
              "      <td>398.23</td>\n",
              "      <td>1</td>\n",
              "      <td>AB02</td>\n",
              "      <td>0</td>\n",
              "      <td>1</td>\n",
              "      <td>450.00</td>\n",
              "      <td>4</td>\n",
              "    </tr>\n",
              "    <tr>\n",
              "      <th>228600</th>\n",
              "      <td>A15050131</td>\n",
              "      <td>PJ040864</td>\n",
              "      <td>720037</td>\n",
              "      <td>Z038</td>\n",
              "      <td>2111414525</td>\n",
              "      <td>VAML350HV1</td>\n",
              "      <td>11050.0</td>\n",
              "      <td>1</td>\n",
              "      <td>7654.87</td>\n",
              "      <td>7654.87</td>\n",
              "      <td>1</td>\n",
              "      <td>AB02</td>\n",
              "      <td>0</td>\n",
              "      <td>1</td>\n",
              "      <td>8650.00</td>\n",
              "      <td>4</td>\n",
              "    </tr>\n",
              "  </tbody>\n",
              "</table>\n",
              "</div>"
            ],
            "text/plain": [
              "       distributor     sales  branch  ... discount_app  list_price inv_ship_days\n",
              "228596   A15020494  PJ036429  720018  ...            1       94.46             3\n",
              "228597   A15020494  PJ036429  720018  ...            1      472.28             3\n",
              "228598   A15020494  PJ036429  720018  ...            1     4733.26             3\n",
              "228599   A15050131  PJ040864  720037  ...            1      450.00             4\n",
              "228600   A15050131  PJ040864  720037  ...            1     8650.00             4\n",
              "\n",
              "[5 rows x 16 columns]"
            ]
          },
          "metadata": {},
          "execution_count": 5
        }
      ]
    },
    {
      "cell_type": "markdown",
      "metadata": {
        "id": "lCCJjJWqGLvU"
      },
      "source": [
        "## import label data and sampling"
      ]
    },
    {
      "cell_type": "code",
      "metadata": {
        "id": "cYVtnDc2HXFA"
      },
      "source": [
        "## import fraud data\n",
        "file = path + 'frauds.csv'\n",
        "df_fraud = pd.read_csv(file,header=None)\n",
        "df_fraud.columns = ['invoice_no']"
      ],
      "execution_count": 6,
      "outputs": []
    },
    {
      "cell_type": "code",
      "metadata": {
        "id": "YntiE6PVIrPC"
      },
      "source": [
        "file = path + 'frauds2.csv'\n",
        "df_fraud2 = pd.read_csv(file,header=None)\n",
        "df_fraud2.columns = ['invoice_no']"
      ],
      "execution_count": 7,
      "outputs": []
    },
    {
      "cell_type": "code",
      "metadata": {
        "colab": {
          "base_uri": "https://localhost:8080/",
          "height": 0
        },
        "id": "CiNt30SZf6aD",
        "outputId": "ed8f3756-77b0-4bfc-9b01-e95e102eee85"
      },
      "source": [
        "df_fraud"
      ],
      "execution_count": 8,
      "outputs": [
        {
          "output_type": "execute_result",
          "data": {
            "text/html": [
              "<div>\n",
              "<style scoped>\n",
              "    .dataframe tbody tr th:only-of-type {\n",
              "        vertical-align: middle;\n",
              "    }\n",
              "\n",
              "    .dataframe tbody tr th {\n",
              "        vertical-align: top;\n",
              "    }\n",
              "\n",
              "    .dataframe thead th {\n",
              "        text-align: right;\n",
              "    }\n",
              "</style>\n",
              "<table border=\"1\" class=\"dataframe\">\n",
              "  <thead>\n",
              "    <tr style=\"text-align: right;\">\n",
              "      <th></th>\n",
              "      <th>invoice_no</th>\n",
              "    </tr>\n",
              "  </thead>\n",
              "  <tbody>\n",
              "    <tr>\n",
              "      <th>0</th>\n",
              "      <td>2111304677</td>\n",
              "    </tr>\n",
              "    <tr>\n",
              "      <th>1</th>\n",
              "      <td>2111329548</td>\n",
              "    </tr>\n",
              "    <tr>\n",
              "      <th>2</th>\n",
              "      <td>2111336900</td>\n",
              "    </tr>\n",
              "    <tr>\n",
              "      <th>3</th>\n",
              "      <td>2111349984</td>\n",
              "    </tr>\n",
              "    <tr>\n",
              "      <th>4</th>\n",
              "      <td>2111359806</td>\n",
              "    </tr>\n",
              "    <tr>\n",
              "      <th>5</th>\n",
              "      <td>2111368995</td>\n",
              "    </tr>\n",
              "    <tr>\n",
              "      <th>6</th>\n",
              "      <td>2111369060</td>\n",
              "    </tr>\n",
              "    <tr>\n",
              "      <th>7</th>\n",
              "      <td>2111373597</td>\n",
              "    </tr>\n",
              "    <tr>\n",
              "      <th>8</th>\n",
              "      <td>2111393180</td>\n",
              "    </tr>\n",
              "    <tr>\n",
              "      <th>9</th>\n",
              "      <td>2111400912</td>\n",
              "    </tr>\n",
              "    <tr>\n",
              "      <th>10</th>\n",
              "      <td>2111405209</td>\n",
              "    </tr>\n",
              "  </tbody>\n",
              "</table>\n",
              "</div>"
            ],
            "text/plain": [
              "    invoice_no\n",
              "0   2111304677\n",
              "1   2111329548\n",
              "2   2111336900\n",
              "3   2111349984\n",
              "4   2111359806\n",
              "5   2111368995\n",
              "6   2111369060\n",
              "7   2111373597\n",
              "8   2111393180\n",
              "9   2111400912\n",
              "10  2111405209"
            ]
          },
          "metadata": {},
          "execution_count": 8
        }
      ]
    },
    {
      "cell_type": "code",
      "metadata": {
        "id": "bo6Q08-CJyOv"
      },
      "source": [
        "def label_fraud(df, df_fraud, df_fraud2):\n",
        "  df['fraud'] = np.zeros(len(df))\n",
        "  frauds_l = df_fraud['invoice_no'].to_list()\n",
        "  frauds_l2 = df_fraud2['invoice_no'].to_list()\n",
        "  df.loc[df['invoice_no'].isin(frauds_l),'fraud'] = 1\n",
        "  df.loc[df['invoice_no'].isin(frauds_l2),'fraud'] = 2\n",
        "  return df"
      ],
      "execution_count": 9,
      "outputs": []
    },
    {
      "cell_type": "code",
      "metadata": {
        "id": "y0iwhuZ_XIpE"
      },
      "source": [
        "df = label_fraud(df, df_fraud,df_fraud2)"
      ],
      "execution_count": 10,
      "outputs": []
    },
    {
      "cell_type": "code",
      "metadata": {
        "colab": {
          "base_uri": "https://localhost:8080/"
        },
        "id": "S6y811N2NJZS",
        "outputId": "296a30f3-2c72-48a6-eb49-47008c3b4114"
      },
      "source": [
        "df['fraud'].value_counts()"
      ],
      "execution_count": 11,
      "outputs": [
        {
          "output_type": "execute_result",
          "data": {
            "text/plain": [
              "0.0    228014\n",
              "2.0       433\n",
              "1.0       154\n",
              "Name: fraud, dtype: int64"
            ]
          },
          "metadata": {},
          "execution_count": 11
        }
      ]
    },
    {
      "cell_type": "markdown",
      "metadata": {
        "id": "l7OnGZt9GEAL"
      },
      "source": [
        "## Encoding"
      ]
    },
    {
      "cell_type": "code",
      "metadata": {
        "id": "T0O7sPin33OP"
      },
      "source": [
        "cols = df.columns.to_list()\n",
        "cols = ['distributor', 'sales', 'branch', 'inv_type', 'invoice_no', 'product_no', 'prod_cla', 'cust_type']"
      ],
      "execution_count": 12,
      "outputs": []
    },
    {
      "cell_type": "code",
      "metadata": {
        "id": "486mzoZj2LsQ"
      },
      "source": [
        "def field_encoding(df):\n",
        "  '''\n",
        "  Ordinal encode categorical fields.\n",
        "  '''\n",
        "  cols = ['distributor', 'sales', 'branch', 'inv_type', 'invoice_no', 'product_no', 'prod_cla', 'cust_type']\n",
        "  df[cols] = df[cols].astype('str') \n",
        "  enc = LabelEncoder()\n",
        "  for f in cols:\n",
        "    df[f] = enc.fit_transform(df[f])\n",
        "  return df"
      ],
      "execution_count": 13,
      "outputs": []
    },
    {
      "cell_type": "code",
      "metadata": {
        "id": "qgVnIE3j7G0X"
      },
      "source": [
        "df_enc = field_encoding(df)"
      ],
      "execution_count": 14,
      "outputs": []
    },
    {
      "cell_type": "code",
      "metadata": {
        "colab": {
          "base_uri": "https://localhost:8080/"
        },
        "id": "A7gwzMqo8zkK",
        "outputId": "fbce9839-a287-4b06-912c-0fe4bd038f79"
      },
      "source": [
        "df_enc.nunique()"
      ],
      "execution_count": 15,
      "outputs": [
        {
          "output_type": "execute_result",
          "data": {
            "text/plain": [
              "distributor        639\n",
              "sales              209\n",
              "branch              28\n",
              "inv_type             3\n",
              "invoice_no       30721\n",
              "product_no        1094\n",
              "prod_cla             7\n",
              "qty                202\n",
              "total_amt        16112\n",
              "sale_price        8598\n",
              "ship_qty           202\n",
              "cust_type           20\n",
              "return               2\n",
              "discount_app         2\n",
              "list_price        6720\n",
              "inv_ship_days      133\n",
              "fraud                3\n",
              "dtype: int64"
            ]
          },
          "metadata": {},
          "execution_count": 15
        }
      ]
    },
    {
      "cell_type": "code",
      "metadata": {
        "colab": {
          "base_uri": "https://localhost:8080/",
          "height": 0
        },
        "id": "-aFHEsi0zisf",
        "outputId": "f992eccb-4c07-4364-b4dc-9169af2cd776"
      },
      "source": [
        "df_enc.head()"
      ],
      "execution_count": 16,
      "outputs": [
        {
          "output_type": "execute_result",
          "data": {
            "text/html": [
              "<div>\n",
              "<style scoped>\n",
              "    .dataframe tbody tr th:only-of-type {\n",
              "        vertical-align: middle;\n",
              "    }\n",
              "\n",
              "    .dataframe tbody tr th {\n",
              "        vertical-align: top;\n",
              "    }\n",
              "\n",
              "    .dataframe thead th {\n",
              "        text-align: right;\n",
              "    }\n",
              "</style>\n",
              "<table border=\"1\" class=\"dataframe\">\n",
              "  <thead>\n",
              "    <tr style=\"text-align: right;\">\n",
              "      <th></th>\n",
              "      <th>distributor</th>\n",
              "      <th>sales</th>\n",
              "      <th>branch</th>\n",
              "      <th>inv_type</th>\n",
              "      <th>invoice_no</th>\n",
              "      <th>product_no</th>\n",
              "      <th>prod_cla</th>\n",
              "      <th>qty</th>\n",
              "      <th>total_amt</th>\n",
              "      <th>sale_price</th>\n",
              "      <th>ship_qty</th>\n",
              "      <th>cust_type</th>\n",
              "      <th>return</th>\n",
              "      <th>discount_app</th>\n",
              "      <th>list_price</th>\n",
              "      <th>inv_ship_days</th>\n",
              "      <th>fraud</th>\n",
              "    </tr>\n",
              "  </thead>\n",
              "  <tbody>\n",
              "    <tr>\n",
              "      <th>0</th>\n",
              "      <td>637</td>\n",
              "      <td>39</td>\n",
              "      <td>0</td>\n",
              "      <td>0</td>\n",
              "      <td>0</td>\n",
              "      <td>513</td>\n",
              "      <td>6</td>\n",
              "      <td>1</td>\n",
              "      <td>1000.00</td>\n",
              "      <td>1000.00</td>\n",
              "      <td>0</td>\n",
              "      <td>0</td>\n",
              "      <td>0</td>\n",
              "      <td>0</td>\n",
              "      <td>1000.0</td>\n",
              "      <td>239</td>\n",
              "      <td>0.0</td>\n",
              "    </tr>\n",
              "    <tr>\n",
              "      <th>1</th>\n",
              "      <td>450</td>\n",
              "      <td>21</td>\n",
              "      <td>10</td>\n",
              "      <td>1</td>\n",
              "      <td>1</td>\n",
              "      <td>984</td>\n",
              "      <td>0</td>\n",
              "      <td>4</td>\n",
              "      <td>130973.44</td>\n",
              "      <td>32743.36</td>\n",
              "      <td>0</td>\n",
              "      <td>8</td>\n",
              "      <td>1</td>\n",
              "      <td>1</td>\n",
              "      <td>37000.0</td>\n",
              "      <td>237</td>\n",
              "      <td>0.0</td>\n",
              "    </tr>\n",
              "    <tr>\n",
              "      <th>2</th>\n",
              "      <td>118</td>\n",
              "      <td>110</td>\n",
              "      <td>23</td>\n",
              "      <td>1</td>\n",
              "      <td>2</td>\n",
              "      <td>57</td>\n",
              "      <td>1</td>\n",
              "      <td>1</td>\n",
              "      <td>398.23</td>\n",
              "      <td>398.23</td>\n",
              "      <td>0</td>\n",
              "      <td>0</td>\n",
              "      <td>1</td>\n",
              "      <td>1</td>\n",
              "      <td>450.0</td>\n",
              "      <td>225</td>\n",
              "      <td>0.0</td>\n",
              "    </tr>\n",
              "    <tr>\n",
              "      <th>3</th>\n",
              "      <td>118</td>\n",
              "      <td>110</td>\n",
              "      <td>23</td>\n",
              "      <td>1</td>\n",
              "      <td>2</td>\n",
              "      <td>552</td>\n",
              "      <td>0</td>\n",
              "      <td>1</td>\n",
              "      <td>2831.86</td>\n",
              "      <td>2831.86</td>\n",
              "      <td>0</td>\n",
              "      <td>0</td>\n",
              "      <td>1</td>\n",
              "      <td>1</td>\n",
              "      <td>3200.0</td>\n",
              "      <td>225</td>\n",
              "      <td>0.0</td>\n",
              "    </tr>\n",
              "    <tr>\n",
              "      <th>4</th>\n",
              "      <td>68</td>\n",
              "      <td>142</td>\n",
              "      <td>23</td>\n",
              "      <td>1</td>\n",
              "      <td>3</td>\n",
              "      <td>57</td>\n",
              "      <td>1</td>\n",
              "      <td>4</td>\n",
              "      <td>1592.92</td>\n",
              "      <td>398.23</td>\n",
              "      <td>0</td>\n",
              "      <td>0</td>\n",
              "      <td>1</td>\n",
              "      <td>1</td>\n",
              "      <td>450.0</td>\n",
              "      <td>225</td>\n",
              "      <td>0.0</td>\n",
              "    </tr>\n",
              "  </tbody>\n",
              "</table>\n",
              "</div>"
            ],
            "text/plain": [
              "   distributor  sales  branch  ...  list_price  inv_ship_days  fraud\n",
              "0          637     39       0  ...      1000.0            239    0.0\n",
              "1          450     21      10  ...     37000.0            237    0.0\n",
              "2          118    110      23  ...       450.0            225    0.0\n",
              "3          118    110      23  ...      3200.0            225    0.0\n",
              "4           68    142      23  ...       450.0            225    0.0\n",
              "\n",
              "[5 rows x 17 columns]"
            ]
          },
          "metadata": {},
          "execution_count": 16
        }
      ]
    },
    {
      "cell_type": "markdown",
      "metadata": {
        "id": "zYRaXHXsP07P"
      },
      "source": [
        "## Resampling to address the imbalance class\n",
        "Because fraud labels are given to invoice level, need to keep records of same invoice together. "
      ]
    },
    {
      "cell_type": "code",
      "metadata": {
        "id": "d7PpSBXyT1iz"
      },
      "source": [
        "df_fraud = df_enc[df_enc['fraud'] == 1]\n",
        "df_non_fraud = df_enc[df_enc['fraud'] == 0]\n",
        "df_fraud2 = df_enc[df_enc['fraud'] == 2]"
      ],
      "execution_count": 17,
      "outputs": []
    },
    {
      "cell_type": "code",
      "metadata": {
        "colab": {
          "base_uri": "https://localhost:8080/",
          "height": 226
        },
        "id": "eGH1pJ_JVnr7",
        "outputId": "c449e2d9-790c-4d9d-fced-209a28361e84"
      },
      "source": [
        "df_fraud2.tail()"
      ],
      "execution_count": 18,
      "outputs": [
        {
          "output_type": "execute_result",
          "data": {
            "text/html": [
              "<div>\n",
              "<style scoped>\n",
              "    .dataframe tbody tr th:only-of-type {\n",
              "        vertical-align: middle;\n",
              "    }\n",
              "\n",
              "    .dataframe tbody tr th {\n",
              "        vertical-align: top;\n",
              "    }\n",
              "\n",
              "    .dataframe thead th {\n",
              "        text-align: right;\n",
              "    }\n",
              "</style>\n",
              "<table border=\"1\" class=\"dataframe\">\n",
              "  <thead>\n",
              "    <tr style=\"text-align: right;\">\n",
              "      <th></th>\n",
              "      <th>distributor</th>\n",
              "      <th>sales</th>\n",
              "      <th>branch</th>\n",
              "      <th>inv_type</th>\n",
              "      <th>invoice_no</th>\n",
              "      <th>product_no</th>\n",
              "      <th>prod_cla</th>\n",
              "      <th>qty</th>\n",
              "      <th>total_amt</th>\n",
              "      <th>sale_price</th>\n",
              "      <th>ship_qty</th>\n",
              "      <th>cust_type</th>\n",
              "      <th>return</th>\n",
              "      <th>discount_app</th>\n",
              "      <th>list_price</th>\n",
              "      <th>inv_ship_days</th>\n",
              "      <th>fraud</th>\n",
              "    </tr>\n",
              "  </thead>\n",
              "  <tbody>\n",
              "    <tr>\n",
              "      <th>217821</th>\n",
              "      <td>483</td>\n",
              "      <td>87</td>\n",
              "      <td>2</td>\n",
              "      <td>2</td>\n",
              "      <td>29200</td>\n",
              "      <td>252</td>\n",
              "      <td>1</td>\n",
              "      <td>2</td>\n",
              "      <td>6337.18</td>\n",
              "      <td>2883.4169</td>\n",
              "      <td>2</td>\n",
              "      <td>10</td>\n",
              "      <td>0</td>\n",
              "      <td>1</td>\n",
              "      <td>3580.5</td>\n",
              "      <td>0</td>\n",
              "      <td>2.0</td>\n",
              "    </tr>\n",
              "    <tr>\n",
              "      <th>217822</th>\n",
              "      <td>483</td>\n",
              "      <td>87</td>\n",
              "      <td>2</td>\n",
              "      <td>2</td>\n",
              "      <td>29200</td>\n",
              "      <td>57</td>\n",
              "      <td>1</td>\n",
              "      <td>2</td>\n",
              "      <td>613.28</td>\n",
              "      <td>279.0424</td>\n",
              "      <td>2</td>\n",
              "      <td>10</td>\n",
              "      <td>0</td>\n",
              "      <td>1</td>\n",
              "      <td>346.5</td>\n",
              "      <td>0</td>\n",
              "      <td>2.0</td>\n",
              "    </tr>\n",
              "    <tr>\n",
              "      <th>217823</th>\n",
              "      <td>483</td>\n",
              "      <td>87</td>\n",
              "      <td>2</td>\n",
              "      <td>2</td>\n",
              "      <td>29200</td>\n",
              "      <td>256</td>\n",
              "      <td>1</td>\n",
              "      <td>2</td>\n",
              "      <td>6555.22</td>\n",
              "      <td>2982.6251</td>\n",
              "      <td>2</td>\n",
              "      <td>10</td>\n",
              "      <td>0</td>\n",
              "      <td>1</td>\n",
              "      <td>3703.7</td>\n",
              "      <td>0</td>\n",
              "      <td>2.0</td>\n",
              "    </tr>\n",
              "    <tr>\n",
              "      <th>217824</th>\n",
              "      <td>483</td>\n",
              "      <td>87</td>\n",
              "      <td>2</td>\n",
              "      <td>2</td>\n",
              "      <td>29200</td>\n",
              "      <td>57</td>\n",
              "      <td>1</td>\n",
              "      <td>1</td>\n",
              "      <td>306.64</td>\n",
              "      <td>279.0424</td>\n",
              "      <td>1</td>\n",
              "      <td>10</td>\n",
              "      <td>0</td>\n",
              "      <td>1</td>\n",
              "      <td>346.5</td>\n",
              "      <td>0</td>\n",
              "      <td>2.0</td>\n",
              "    </tr>\n",
              "    <tr>\n",
              "      <th>217825</th>\n",
              "      <td>483</td>\n",
              "      <td>87</td>\n",
              "      <td>2</td>\n",
              "      <td>2</td>\n",
              "      <td>29200</td>\n",
              "      <td>265</td>\n",
              "      <td>1</td>\n",
              "      <td>1</td>\n",
              "      <td>3815.93</td>\n",
              "      <td>3472.4963</td>\n",
              "      <td>1</td>\n",
              "      <td>10</td>\n",
              "      <td>0</td>\n",
              "      <td>1</td>\n",
              "      <td>4312.0</td>\n",
              "      <td>0</td>\n",
              "      <td>2.0</td>\n",
              "    </tr>\n",
              "  </tbody>\n",
              "</table>\n",
              "</div>"
            ],
            "text/plain": [
              "        distributor  sales  branch  ...  list_price  inv_ship_days  fraud\n",
              "217821          483     87       2  ...      3580.5              0    2.0\n",
              "217822          483     87       2  ...       346.5              0    2.0\n",
              "217823          483     87       2  ...      3703.7              0    2.0\n",
              "217824          483     87       2  ...       346.5              0    2.0\n",
              "217825          483     87       2  ...      4312.0              0    2.0\n",
              "\n",
              "[5 rows x 17 columns]"
            ]
          },
          "metadata": {},
          "execution_count": 18
        }
      ]
    },
    {
      "cell_type": "code",
      "metadata": {
        "id": "M2L3ePEOXvyD"
      },
      "source": [
        "def sampling_inv(df_non_fraud):\n",
        "  '''\n",
        "  Random sampling from unlabled invoices.\n",
        "  '''\n",
        "  sample_inv = df_non_fraud['invoice_no'].unique()\n",
        "  print(len(sample_inv))\n",
        "  sample_inv1 = np.random.choice(sample_inv,size=1000,replace=False)\n",
        "  sample_inv = np.setdiff1d(sample_inv,sample_inv1)\n",
        "  print(len(sample_inv))\n",
        "  sample_inv2 = np.random.choice(sample_inv,size=10000,replace=False)\n",
        "  sample_inv = np.setdiff1d(sample_inv,sample_inv2)\n",
        "  print(len(sample_inv))\n",
        "  return sample_inv1, sample_inv2, sample_inv\n"
      ],
      "execution_count": 19,
      "outputs": []
    },
    {
      "cell_type": "code",
      "metadata": {
        "colab": {
          "base_uri": "https://localhost:8080/"
        },
        "id": "l_tDCpKgY1W-",
        "outputId": "03be99f5-84f0-4fa4-df8f-aa26db6da317"
      },
      "source": [
        "sample_inv1, sample_inv2, sample_inv = sampling_inv(df_non_fraud)"
      ],
      "execution_count": 20,
      "outputs": [
        {
          "output_type": "stream",
          "name": "stdout",
          "text": [
            "30686\n",
            "29686\n",
            "19686\n"
          ]
        }
      ]
    },
    {
      "cell_type": "code",
      "metadata": {
        "colab": {
          "base_uri": "https://localhost:8080/"
        },
        "id": "aFm7Iw2VepcP",
        "outputId": "9b6016b4-2d10-4789-9f3f-054ba996b463"
      },
      "source": [
        "len(np.unique(sample_inv2))"
      ],
      "execution_count": 21,
      "outputs": [
        {
          "output_type": "execute_result",
          "data": {
            "text/plain": [
              "10000"
            ]
          },
          "metadata": {},
          "execution_count": 21
        }
      ]
    },
    {
      "cell_type": "code",
      "metadata": {
        "id": "9Js8R7sDr7BM"
      },
      "source": [
        "## Build training dataset\n",
        "df_train = df_non_fraud[df_non_fraud['invoice_no'].isin(sample_inv1)]\n",
        "df_train = pd.concat([df_train,df_fraud])\n",
        "df_train = df_train.sort_index()"
      ],
      "execution_count": 22,
      "outputs": []
    },
    {
      "cell_type": "code",
      "metadata": {
        "id": "O01agYImtUx9"
      },
      "source": [
        "## Build eval dataset\n",
        "df_eval = df_non_fraud[df_non_fraud['invoice_no'].isin(sample_inv2)]\n",
        "df_eval = pd.concat([df_eval,df_fraud2])\n",
        "df_eval.loc[df_eval['fraud'] == 2, 'fraud'] = 1 \n",
        "df_eval = df_eval.sort_index()"
      ],
      "execution_count": 49,
      "outputs": []
    },
    {
      "cell_type": "code",
      "metadata": {
        "id": "pzKw_DggxMS-"
      },
      "source": [
        "df_train.head()"
      ],
      "execution_count": null,
      "outputs": []
    },
    {
      "cell_type": "markdown",
      "metadata": {
        "id": "gDkexYmPxM8O"
      },
      "source": [
        "## Standardscale data"
      ]
    },
    {
      "cell_type": "code",
      "metadata": {
        "id": "Wxt4dsJo7tDa"
      },
      "source": [
        "scaler = StandardScaler()"
      ],
      "execution_count": 30,
      "outputs": []
    },
    {
      "cell_type": "code",
      "metadata": {
        "id": "YeeK6JNC8Fqz"
      },
      "source": [
        "X_train = df_train.drop(columns=['fraud'])\n",
        "y_train = df_train['fraud'].values\n",
        "X_train = scaler.fit_transform(X_train)\n",
        "y_train = y_train.reshape(len(y_train),1)"
      ],
      "execution_count": 31,
      "outputs": []
    },
    {
      "cell_type": "code",
      "metadata": {
        "id": "86joAZPl9YpL"
      },
      "source": [
        "X_eval = df_eval.drop(columns=['fraud'])\n",
        "y_eval = df_eval['fraud'].values\n",
        "X_eval = scaler.transform(X_eval)\n",
        "y_eval = y_eval.reshape(len(y_eval),1)"
      ],
      "execution_count": 32,
      "outputs": []
    },
    {
      "cell_type": "code",
      "metadata": {
        "colab": {
          "base_uri": "https://localhost:8080/"
        },
        "id": "MNUBFns291Qv",
        "outputId": "9925f69d-8f5a-4d81-ae1e-1edc2c26d71f"
      },
      "source": [
        "X_train[0]"
      ],
      "execution_count": 33,
      "outputs": [
        {
          "output_type": "execute_result",
          "data": {
            "text/plain": [
              "array([ 1.12170975, -0.0171135 ,  1.65998078,  0.03678559, -1.75726635,\n",
              "        1.5801828 , -0.08821103, -0.09347048,  0.09596717,  1.36282573,\n",
              "       -0.09145284, -0.23992399, -0.03678559,  0.        ,  1.3610212 ,\n",
              "       -0.16311424])"
            ]
          },
          "metadata": {},
          "execution_count": 33
        }
      ]
    },
    {
      "cell_type": "code",
      "metadata": {
        "colab": {
          "base_uri": "https://localhost:8080/"
        },
        "id": "4o9UXO0--hgv",
        "outputId": "849c3074-1c1c-4ec9-a8ff-d57ac628cf15"
      },
      "source": [
        "y_eval.shape"
      ],
      "execution_count": 34,
      "outputs": [
        {
          "output_type": "execute_result",
          "data": {
            "text/plain": [
              "(74868, 1)"
            ]
          },
          "metadata": {},
          "execution_count": 34
        }
      ]
    },
    {
      "cell_type": "markdown",
      "metadata": {
        "id": "vnO2HnA4_RQU"
      },
      "source": [
        "## Build model"
      ]
    },
    {
      "cell_type": "code",
      "metadata": {
        "id": "09WCa-Qn_T0G"
      },
      "source": [
        "# define the  model\n",
        "model = Sequential()\n",
        "model.add(Dense(32, input_dim=X_train.shape[1], activation='relu', kernel_initializer='he_normal'))\n",
        "model.add(Dense(16,activation='relu'))\n",
        "model.add(Dense(1, activation='sigmoid'))\n",
        "# compile the keras model\n",
        "model.compile(loss='binary_crossentropy', optimizer='adam', metrics=['accuracy'])"
      ],
      "execution_count": 35,
      "outputs": []
    },
    {
      "cell_type": "code",
      "metadata": {
        "colab": {
          "base_uri": "https://localhost:8080/"
        },
        "id": "pBs2KuNeAErs",
        "outputId": "714d9e32-b4a9-4d50-ba1b-2df1ad6ee80b"
      },
      "source": [
        "model.summary()"
      ],
      "execution_count": 36,
      "outputs": [
        {
          "output_type": "stream",
          "name": "stdout",
          "text": [
            "Model: \"sequential\"\n",
            "_________________________________________________________________\n",
            "Layer (type)                 Output Shape              Param #   \n",
            "=================================================================\n",
            "dense (Dense)                (None, 32)                544       \n",
            "_________________________________________________________________\n",
            "dense_1 (Dense)              (None, 16)                528       \n",
            "_________________________________________________________________\n",
            "dense_2 (Dense)              (None, 1)                 17        \n",
            "=================================================================\n",
            "Total params: 1,089\n",
            "Trainable params: 1,089\n",
            "Non-trainable params: 0\n",
            "_________________________________________________________________\n"
          ]
        }
      ]
    },
    {
      "cell_type": "markdown",
      "metadata": {
        "id": "cfEQ-OXDA3mV"
      },
      "source": [
        "## Training model"
      ]
    },
    {
      "cell_type": "code",
      "metadata": {
        "colab": {
          "base_uri": "https://localhost:8080/"
        },
        "id": "Pp9q-HK4A6UX",
        "outputId": "692d11b6-e8f5-425b-ff0a-f92849889de0"
      },
      "source": [
        "model.fit(X_train, y_train, epochs=100, batch_size=32)"
      ],
      "execution_count": 37,
      "outputs": [
        {
          "output_type": "stream",
          "name": "stdout",
          "text": [
            "Epoch 1/100\n",
            "232/232 [==============================] - 1s 2ms/step - loss: 0.3367 - accuracy: 0.8600\n",
            "Epoch 2/100\n",
            "232/232 [==============================] - 0s 2ms/step - loss: 0.0963 - accuracy: 0.9792\n",
            "Epoch 3/100\n",
            "232/232 [==============================] - 0s 2ms/step - loss: 0.0868 - accuracy: 0.9795\n",
            "Epoch 4/100\n",
            "232/232 [==============================] - 0s 2ms/step - loss: 0.0819 - accuracy: 0.9818\n",
            "Epoch 5/100\n",
            "232/232 [==============================] - 0s 2ms/step - loss: 0.0777 - accuracy: 0.9823\n",
            "Epoch 6/100\n",
            "232/232 [==============================] - 0s 2ms/step - loss: 0.0740 - accuracy: 0.9823\n",
            "Epoch 7/100\n",
            "232/232 [==============================] - 0s 2ms/step - loss: 0.0699 - accuracy: 0.9828\n",
            "Epoch 8/100\n",
            "232/232 [==============================] - 0s 2ms/step - loss: 0.0650 - accuracy: 0.9832\n",
            "Epoch 9/100\n",
            "232/232 [==============================] - 0s 2ms/step - loss: 0.0611 - accuracy: 0.9830\n",
            "Epoch 10/100\n",
            "232/232 [==============================] - 0s 2ms/step - loss: 0.0565 - accuracy: 0.9832\n",
            "Epoch 11/100\n",
            "232/232 [==============================] - 0s 2ms/step - loss: 0.0530 - accuracy: 0.9841\n",
            "Epoch 12/100\n",
            "232/232 [==============================] - 0s 2ms/step - loss: 0.0499 - accuracy: 0.9838\n",
            "Epoch 13/100\n",
            "232/232 [==============================] - 0s 2ms/step - loss: 0.0464 - accuracy: 0.9851\n",
            "Epoch 14/100\n",
            "232/232 [==============================] - 0s 2ms/step - loss: 0.0439 - accuracy: 0.9861\n",
            "Epoch 15/100\n",
            "232/232 [==============================] - 0s 2ms/step - loss: 0.0408 - accuracy: 0.9873\n",
            "Epoch 16/100\n",
            "232/232 [==============================] - 0s 2ms/step - loss: 0.0384 - accuracy: 0.9872\n",
            "Epoch 17/100\n",
            "232/232 [==============================] - 0s 2ms/step - loss: 0.0359 - accuracy: 0.9884\n",
            "Epoch 18/100\n",
            "232/232 [==============================] - 0s 2ms/step - loss: 0.0338 - accuracy: 0.9874\n",
            "Epoch 19/100\n",
            "232/232 [==============================] - 0s 2ms/step - loss: 0.0317 - accuracy: 0.9880\n",
            "Epoch 20/100\n",
            "232/232 [==============================] - 0s 2ms/step - loss: 0.0300 - accuracy: 0.9888\n",
            "Epoch 21/100\n",
            "232/232 [==============================] - 0s 2ms/step - loss: 0.0279 - accuracy: 0.9884\n",
            "Epoch 22/100\n",
            "232/232 [==============================] - 0s 2ms/step - loss: 0.0257 - accuracy: 0.9901\n",
            "Epoch 23/100\n",
            "232/232 [==============================] - 0s 2ms/step - loss: 0.0245 - accuracy: 0.9904\n",
            "Epoch 24/100\n",
            "232/232 [==============================] - 0s 2ms/step - loss: 0.0227 - accuracy: 0.9920\n",
            "Epoch 25/100\n",
            "232/232 [==============================] - 0s 2ms/step - loss: 0.0210 - accuracy: 0.9924\n",
            "Epoch 26/100\n",
            "232/232 [==============================] - 0s 2ms/step - loss: 0.0195 - accuracy: 0.9928\n",
            "Epoch 27/100\n",
            "232/232 [==============================] - 0s 2ms/step - loss: 0.0186 - accuracy: 0.9941\n",
            "Epoch 28/100\n",
            "232/232 [==============================] - 0s 2ms/step - loss: 0.0177 - accuracy: 0.9945\n",
            "Epoch 29/100\n",
            "232/232 [==============================] - 0s 2ms/step - loss: 0.0166 - accuracy: 0.9951\n",
            "Epoch 30/100\n",
            "232/232 [==============================] - 0s 2ms/step - loss: 0.0150 - accuracy: 0.9954\n",
            "Epoch 31/100\n",
            "232/232 [==============================] - 0s 2ms/step - loss: 0.0146 - accuracy: 0.9958\n",
            "Epoch 32/100\n",
            "232/232 [==============================] - 0s 2ms/step - loss: 0.0138 - accuracy: 0.9959\n",
            "Epoch 33/100\n",
            "232/232 [==============================] - 0s 2ms/step - loss: 0.0135 - accuracy: 0.9962\n",
            "Epoch 34/100\n",
            "232/232 [==============================] - 0s 2ms/step - loss: 0.0126 - accuracy: 0.9961\n",
            "Epoch 35/100\n",
            "232/232 [==============================] - 0s 2ms/step - loss: 0.0124 - accuracy: 0.9964\n",
            "Epoch 36/100\n",
            "232/232 [==============================] - 0s 2ms/step - loss: 0.0114 - accuracy: 0.9974\n",
            "Epoch 37/100\n",
            "232/232 [==============================] - 0s 2ms/step - loss: 0.0113 - accuracy: 0.9965\n",
            "Epoch 38/100\n",
            "232/232 [==============================] - 0s 2ms/step - loss: 0.0115 - accuracy: 0.9966\n",
            "Epoch 39/100\n",
            "232/232 [==============================] - 0s 2ms/step - loss: 0.0106 - accuracy: 0.9973\n",
            "Epoch 40/100\n",
            "232/232 [==============================] - 0s 2ms/step - loss: 0.0103 - accuracy: 0.9973\n",
            "Epoch 41/100\n",
            "232/232 [==============================] - 0s 2ms/step - loss: 0.0099 - accuracy: 0.9972\n",
            "Epoch 42/100\n",
            "232/232 [==============================] - 0s 2ms/step - loss: 0.0095 - accuracy: 0.9970\n",
            "Epoch 43/100\n",
            "232/232 [==============================] - 0s 2ms/step - loss: 0.0096 - accuracy: 0.9970\n",
            "Epoch 44/100\n",
            "232/232 [==============================] - 0s 2ms/step - loss: 0.0097 - accuracy: 0.9973\n",
            "Epoch 45/100\n",
            "232/232 [==============================] - 0s 2ms/step - loss: 0.0093 - accuracy: 0.9976\n",
            "Epoch 46/100\n",
            "232/232 [==============================] - 0s 2ms/step - loss: 0.0092 - accuracy: 0.9970\n",
            "Epoch 47/100\n",
            "232/232 [==============================] - 0s 2ms/step - loss: 0.0085 - accuracy: 0.9972\n",
            "Epoch 48/100\n",
            "232/232 [==============================] - 0s 2ms/step - loss: 0.0081 - accuracy: 0.9974\n",
            "Epoch 49/100\n",
            "232/232 [==============================] - 0s 2ms/step - loss: 0.0086 - accuracy: 0.9972\n",
            "Epoch 50/100\n",
            "232/232 [==============================] - 0s 2ms/step - loss: 0.0081 - accuracy: 0.9976\n",
            "Epoch 51/100\n",
            "232/232 [==============================] - 0s 2ms/step - loss: 0.0079 - accuracy: 0.9976\n",
            "Epoch 52/100\n",
            "232/232 [==============================] - 0s 1ms/step - loss: 0.0079 - accuracy: 0.9972\n",
            "Epoch 53/100\n",
            "232/232 [==============================] - 0s 1ms/step - loss: 0.0074 - accuracy: 0.9978\n",
            "Epoch 54/100\n",
            "232/232 [==============================] - 0s 2ms/step - loss: 0.0077 - accuracy: 0.9970\n",
            "Epoch 55/100\n",
            "232/232 [==============================] - 0s 2ms/step - loss: 0.0072 - accuracy: 0.9970\n",
            "Epoch 56/100\n",
            "232/232 [==============================] - 0s 2ms/step - loss: 0.0067 - accuracy: 0.9980\n",
            "Epoch 57/100\n",
            "232/232 [==============================] - 0s 2ms/step - loss: 0.0073 - accuracy: 0.9972\n",
            "Epoch 58/100\n",
            "232/232 [==============================] - 0s 2ms/step - loss: 0.0072 - accuracy: 0.9974\n",
            "Epoch 59/100\n",
            "232/232 [==============================] - 0s 2ms/step - loss: 0.0068 - accuracy: 0.9973\n",
            "Epoch 60/100\n",
            "232/232 [==============================] - 0s 2ms/step - loss: 0.0063 - accuracy: 0.9981\n",
            "Epoch 61/100\n",
            "232/232 [==============================] - 0s 2ms/step - loss: 0.0065 - accuracy: 0.9972\n",
            "Epoch 62/100\n",
            "232/232 [==============================] - 0s 2ms/step - loss: 0.0064 - accuracy: 0.9980\n",
            "Epoch 63/100\n",
            "232/232 [==============================] - 0s 2ms/step - loss: 0.0066 - accuracy: 0.9977\n",
            "Epoch 64/100\n",
            "232/232 [==============================] - 0s 2ms/step - loss: 0.0062 - accuracy: 0.9974\n",
            "Epoch 65/100\n",
            "232/232 [==============================] - 0s 2ms/step - loss: 0.0064 - accuracy: 0.9974\n",
            "Epoch 66/100\n",
            "232/232 [==============================] - 0s 2ms/step - loss: 0.0061 - accuracy: 0.9974\n",
            "Epoch 67/100\n",
            "232/232 [==============================] - 0s 2ms/step - loss: 0.0063 - accuracy: 0.9970\n",
            "Epoch 68/100\n",
            "232/232 [==============================] - 0s 2ms/step - loss: 0.0071 - accuracy: 0.9970\n",
            "Epoch 69/100\n",
            "232/232 [==============================] - 0s 2ms/step - loss: 0.0063 - accuracy: 0.9973\n",
            "Epoch 70/100\n",
            "232/232 [==============================] - 0s 2ms/step - loss: 0.0064 - accuracy: 0.9974\n",
            "Epoch 71/100\n",
            "232/232 [==============================] - 0s 2ms/step - loss: 0.0061 - accuracy: 0.9973\n",
            "Epoch 72/100\n",
            "232/232 [==============================] - 0s 2ms/step - loss: 0.0061 - accuracy: 0.9977\n",
            "Epoch 73/100\n",
            "232/232 [==============================] - 0s 2ms/step - loss: 0.0057 - accuracy: 0.9978\n",
            "Epoch 74/100\n",
            "232/232 [==============================] - 0s 2ms/step - loss: 0.0062 - accuracy: 0.9977\n",
            "Epoch 75/100\n",
            "232/232 [==============================] - 0s 2ms/step - loss: 0.0061 - accuracy: 0.9977\n",
            "Epoch 76/100\n",
            "232/232 [==============================] - 0s 2ms/step - loss: 0.0053 - accuracy: 0.9976\n",
            "Epoch 77/100\n",
            "232/232 [==============================] - 0s 2ms/step - loss: 0.0055 - accuracy: 0.9978\n",
            "Epoch 78/100\n",
            "232/232 [==============================] - 0s 2ms/step - loss: 0.0056 - accuracy: 0.9977\n",
            "Epoch 79/100\n",
            "232/232 [==============================] - 0s 2ms/step - loss: 0.0051 - accuracy: 0.9976\n",
            "Epoch 80/100\n",
            "232/232 [==============================] - 0s 2ms/step - loss: 0.0061 - accuracy: 0.9976\n",
            "Epoch 81/100\n",
            "232/232 [==============================] - 0s 2ms/step - loss: 0.0060 - accuracy: 0.9974\n",
            "Epoch 82/100\n",
            "232/232 [==============================] - 0s 2ms/step - loss: 0.0054 - accuracy: 0.9977\n",
            "Epoch 83/100\n",
            "232/232 [==============================] - 0s 2ms/step - loss: 0.0056 - accuracy: 0.9970\n",
            "Epoch 84/100\n",
            "232/232 [==============================] - 0s 2ms/step - loss: 0.0059 - accuracy: 0.9973\n",
            "Epoch 85/100\n",
            "232/232 [==============================] - 0s 2ms/step - loss: 0.0052 - accuracy: 0.9980\n",
            "Epoch 86/100\n",
            "232/232 [==============================] - 0s 1ms/step - loss: 0.0053 - accuracy: 0.9980\n",
            "Epoch 87/100\n",
            "232/232 [==============================] - 0s 1ms/step - loss: 0.0069 - accuracy: 0.9976\n",
            "Epoch 88/100\n",
            "232/232 [==============================] - 0s 1ms/step - loss: 0.0052 - accuracy: 0.9978\n",
            "Epoch 89/100\n",
            "232/232 [==============================] - 0s 1ms/step - loss: 0.0054 - accuracy: 0.9980\n",
            "Epoch 90/100\n",
            "232/232 [==============================] - 0s 2ms/step - loss: 0.0056 - accuracy: 0.9974\n",
            "Epoch 91/100\n",
            "232/232 [==============================] - 0s 2ms/step - loss: 0.0057 - accuracy: 0.9976\n",
            "Epoch 92/100\n",
            "232/232 [==============================] - 0s 2ms/step - loss: 0.0051 - accuracy: 0.9973\n",
            "Epoch 93/100\n",
            "232/232 [==============================] - 0s 2ms/step - loss: 0.0052 - accuracy: 0.9976\n",
            "Epoch 94/100\n",
            "232/232 [==============================] - 0s 1ms/step - loss: 0.0050 - accuracy: 0.9977\n",
            "Epoch 95/100\n",
            "232/232 [==============================] - 0s 1ms/step - loss: 0.0054 - accuracy: 0.9976\n",
            "Epoch 96/100\n",
            "232/232 [==============================] - 0s 1ms/step - loss: 0.0054 - accuracy: 0.9976\n",
            "Epoch 97/100\n",
            "232/232 [==============================] - 0s 1ms/step - loss: 0.0054 - accuracy: 0.9977\n",
            "Epoch 98/100\n",
            "232/232 [==============================] - 0s 1ms/step - loss: 0.0053 - accuracy: 0.9977\n",
            "Epoch 99/100\n",
            "232/232 [==============================] - 0s 1ms/step - loss: 0.0043 - accuracy: 0.9984\n",
            "Epoch 100/100\n",
            "232/232 [==============================] - 0s 1ms/step - loss: 0.0051 - accuracy: 0.9978\n"
          ]
        },
        {
          "output_type": "execute_result",
          "data": {
            "text/plain": [
              "<keras.callbacks.History at 0x7fc33362e990>"
            ]
          },
          "metadata": {},
          "execution_count": 37
        }
      ]
    },
    {
      "cell_type": "code",
      "metadata": {
        "colab": {
          "base_uri": "https://localhost:8080/"
        },
        "id": "EyNl7_bKBjTl",
        "outputId": "8736bf32-d267-4eee-e2cf-0d3e06e455cd"
      },
      "source": [
        "loss,accuracy = model.evaluate(X_eval, y_eval)\n",
        "print(loss, accuracy)"
      ],
      "execution_count": 38,
      "outputs": [
        {
          "output_type": "stream",
          "name": "stdout",
          "text": [
            "2340/2340 [==============================] - 2s 963us/step - loss: 0.1526 - accuracy: 0.9866\n",
            "0.15255092084407806 0.9865897297859192\n"
          ]
        }
      ]
    },
    {
      "cell_type": "markdown",
      "metadata": {
        "id": "WSMcDJFaCdbi"
      },
      "source": [
        "## Predict on eval dataset for further labeling."
      ]
    },
    {
      "cell_type": "code",
      "metadata": {
        "id": "v1O3J-fUESee"
      },
      "source": [
        "y_pred = model.predict(X_eval)\n",
        "y_cls = (y_pred > 0.5).astype(\"int32\")"
      ],
      "execution_count": 39,
      "outputs": []
    },
    {
      "cell_type": "code",
      "metadata": {
        "colab": {
          "base_uri": "https://localhost:8080/"
        },
        "id": "35pPz6XlH9bB",
        "outputId": "fc654701-fe8f-443b-9ace-f32f61d9edae"
      },
      "source": [
        "(y_pred > 0.5).sum()"
      ],
      "execution_count": 60,
      "outputs": [
        {
          "output_type": "execute_result",
          "data": {
            "text/plain": [
              "827"
            ]
          },
          "metadata": {},
          "execution_count": 60
        }
      ]
    },
    {
      "cell_type": "code",
      "metadata": {
        "id": "B91pKTF8JNYN"
      },
      "source": [
        "def eval_model(y_test, y_cls):\n",
        "  y1 = y_eval.reshape(-1)\n",
        "  y2 = y_cls.reshape(-1)\n",
        "  print(roc_auc_score(y1, y2))\n",
        "  print(classification_report(y1,y2))\n"
      ],
      "execution_count": 40,
      "outputs": []
    },
    {
      "cell_type": "code",
      "metadata": {
        "id": "BEGS90tDyMV6"
      },
      "source": [
        "df_eval.head(100)"
      ],
      "execution_count": null,
      "outputs": []
    },
    {
      "cell_type": "code",
      "metadata": {
        "id": "BYZigB-fymgd"
      },
      "source": [
        "def record_to_label(df_eval,y_pred):\n",
        "  df_eval['predict'] = y_pred\n",
        "  df_eval['mid_value'] = abs(df_eval['predict'] - 0.5)\n",
        "  df_eval = df_eval.sort_values('mid_value')\n",
        "  value_limit = df_eval.iloc[100,-1]\n",
        "  df_record4label = df_eval[(df_eval['mid_value'] <= value_limit)|(df_eval['fraud'] == 1)]\n",
        "  path = '/content/drive/MyDrive/Colab Notebooks/finalproject/'\n",
        "  file_csv = path + 'for_label.csv'\n",
        "  df_record4label.to_csv(file_csv)\n",
        "  return True\n"
      ],
      "execution_count": 61,
      "outputs": []
    },
    {
      "cell_type": "code",
      "metadata": {
        "id": "dI0Pw_Ur3xbd"
      },
      "source": [
        "  path = '/content/drive/MyDrive/Colab Notebooks/finalproject/'\n",
        "  file_csv = path + 'for_label.csv'\n",
        "  df_record4label.to_csv(file_csv)"
      ],
      "execution_count": 62,
      "outputs": []
    }
  ]
}