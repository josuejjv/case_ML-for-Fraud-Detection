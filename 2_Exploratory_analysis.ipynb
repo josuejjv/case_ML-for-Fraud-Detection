{
  "nbformat": 4,
  "nbformat_minor": 0,
  "metadata": {
    "colab": {
      "name": "2_Exploratory_analysis.ipynb",
      "provenance": [],
      "toc_visible": true,
      "authorship_tag": "ABX9TyONs5TVvlvNAk2F8CcmKUPZ",
      "include_colab_link": true
    },
    "kernelspec": {
      "name": "python3",
      "display_name": "Python 3"
    },
    "language_info": {
      "name": "python"
    }
  },
  "cells": [
    {
      "cell_type": "markdown",
      "metadata": {
        "id": "view-in-github",
        "colab_type": "text"
      },
      "source": [
        "<a href=\"https://colab.research.google.com/github/ryanhao1115/ML-for-Fraud-Detection/blob/main/2_Exploratory_analysis.ipynb\" target=\"_parent\"><img src=\"https://colab.research.google.com/assets/colab-badge.svg\" alt=\"Open In Colab\"/></a>"
      ]
    },
    {
      "cell_type": "markdown",
      "metadata": {
        "id": "8q8UFuhRkmyn"
      },
      "source": [
        "## Exploratory Analysis\n",
        "1. Data profiling\n",
        "2. Outliners\n",
        "3. Abnormal transactions"
      ]
    },
    {
      "cell_type": "code",
      "metadata": {
        "id": "UA8x83fCkzLQ"
      },
      "source": [
        ""
      ],
      "execution_count": null,
      "outputs": []
    }
  ]
}