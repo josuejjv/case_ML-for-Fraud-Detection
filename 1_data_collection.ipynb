{
  "nbformat": 4,
  "nbformat_minor": 0,
  "metadata": {
    "kernelspec": {
      "display_name": "Python 3",
      "language": "python",
      "name": "python3"
    },
    "language_info": {
      "codemirror_mode": {
        "name": "ipython",
        "version": 3
      },
      "file_extension": ".py",
      "mimetype": "text/x-python",
      "name": "python",
      "nbconvert_exporter": "python",
      "pygments_lexer": "ipython3",
      "version": "3.8.5"
    },
    "colab": {
      "name": "1_data_collection.ipynb",
      "provenance": [],
      "collapsed_sections": [],
      "include_colab_link": true
    }
  },
  "cells": [
    {
      "cell_type": "markdown",
      "metadata": {
        "id": "view-in-github",
        "colab_type": "text"
      },
      "source": [
        "<a href=\"https://colab.research.google.com/github/ryanhao1115/ML-for-Fraud-Detection/blob/main/1_data_collection.ipynb\" target=\"_parent\"><img src=\"https://colab.research.google.com/assets/colab-badge.svg\" alt=\"Open In Colab\"/></a>"
      ]
    },
    {
      "cell_type": "code",
      "metadata": {
        "colab": {
          "base_uri": "https://localhost:8080/"
        },
        "id": "V0RYB1k--cpw",
        "outputId": "78a35079-bacb-459c-a68d-aa0e9e13e1f0"
      },
      "source": [
        "from google.colab import drive\n",
        "drive.mount('/content/drive')"
      ],
      "execution_count": 1,
      "outputs": [
        {
          "output_type": "stream",
          "name": "stdout",
          "text": [
            "Mounted at /content/drive\n"
          ]
        }
      ]
    },
    {
      "cell_type": "markdown",
      "metadata": {
        "id": "6Z0lAfsl9UMg"
      },
      "source": [
        "## Data collection and cleaning\n",
        "1. Explore datasets, first round filtering data fields.\n",
        "2. Rename columns.\n",
        "3. Cleaning data.\n",
        "4. Combine datasets into one single table. "
      ]
    },
    {
      "cell_type": "code",
      "metadata": {
        "id": "-chEQVlb9UMl"
      },
      "source": [
        "import pandas as pd"
      ],
      "execution_count": 2,
      "outputs": []
    },
    {
      "cell_type": "code",
      "metadata": {
        "id": "c2UxaRWKHvzn"
      },
      "source": [
        "def import_data(filename):\n",
        "  ''' \n",
        "  Sales dataset were exported from SAP into excel files.  One for each month.\n",
        "  import one excel file into pandas DataFrame\n",
        "  '''\n",
        "  path = '/content/drive/MyDrive/Colab Notebooks/finalproject/'\n",
        "  file_path = path + filename\n",
        "  df = pd.read_excel(file_path)\n",
        "  return df"
      ],
      "execution_count": 3,
      "outputs": []
    },
    {
      "cell_type": "code",
      "metadata": {
        "id": "s_2lvV_K9UMm"
      },
      "source": [
        "df = import_data('may.XLSX')"
      ],
      "execution_count": 4,
      "outputs": []
    },
    {
      "cell_type": "code",
      "metadata": {
        "id": "8tsq3Ur89UMo"
      },
      "source": [
        "def select_fields(df):\n",
        "  '''\n",
        "  Select fields related to this project. \n",
        "  Rename columns.\n",
        "  '''\n",
        "  col = [0,3,6,16,24,25,27,31,38,40,42,43,50,53,65,76,77,80,83,86]\n",
        "  col_names = ['distributor','sales','branch','inv_type','invoice_no','line_item','product_no','prod_cla','qty','total_amt','sale_price','status','ship_qty','cust_type','return','discount_app','list_price', 'invoice_date','ship_date','request_ship']\n",
        "  df = df.iloc[:,col]\n",
        "  df.columns = col_names\n",
        "  return df\n"
      ],
      "execution_count": 5,
      "outputs": []
    },
    {
      "cell_type": "code",
      "metadata": {
        "id": "JKPPQ6LXOfnq"
      },
      "source": [
        "df1 = select_fields(df)"
      ],
      "execution_count": 6,
      "outputs": []
    },
    {
      "cell_type": "code",
      "metadata": {
        "id": "IHGVohOLX3Xq"
      },
      "source": [
        "def fillna_filter(df):\n",
        "  '''\n",
        "  Fill all missing values. \n",
        "  Filter records according to business nature. \n",
        "  '''\n",
        "  df['cust_type'] = df['cust_type'].fillna(value='No')  ## set Nan records as a new type\n",
        "  df['return'] = df['return'].fillna(value = 'No')    ## Nan means no return\n",
        "  df['discount_app'] = df['discount_app'].fillna(value = 'No')  ## Nan means no discount\n",
        "  df['prod_cla'] = df['prod_cla'].fillna(value = '9999')  ## set Nan records as a new class\n",
        "  df['ship_date'] = df['ship_date'].fillna(value = '2019-12-31')  ## Didn't ship until the end of the year\n",
        "  df = df[df['status'] == '完成请求']     ## Only for completed invoices\n",
        "  return df\n",
        "\n"
      ],
      "execution_count": 7,
      "outputs": []
    },
    {
      "cell_type": "code",
      "metadata": {
        "id": "Y4f7-gil_bDD"
      },
      "source": [
        "df_total = fillna_filter(df1)"
      ],
      "execution_count": null,
      "outputs": []
    },
    {
      "cell_type": "code",
      "metadata": {
        "colab": {
          "base_uri": "https://localhost:8080/"
        },
        "id": "defFopeGBqdC",
        "outputId": "d6c6ebdc-f5dc-4a32-ba52-782177739e14"
      },
      "source": [
        "df_total.info()"
      ],
      "execution_count": 9,
      "outputs": [
        {
          "output_type": "stream",
          "name": "stdout",
          "text": [
            "<class 'pandas.core.frame.DataFrame'>\n",
            "Int64Index: 86056 entries, 0 to 86070\n",
            "Data columns (total 20 columns):\n",
            " #   Column        Non-Null Count  Dtype         \n",
            "---  ------        --------------  -----         \n",
            " 0   distributor   86056 non-null  object        \n",
            " 1   sales         86056 non-null  object        \n",
            " 2   branch        86056 non-null  int64         \n",
            " 3   inv_type      86056 non-null  object        \n",
            " 4   invoice_no    86056 non-null  int64         \n",
            " 5   line_item     86056 non-null  int64         \n",
            " 6   product_no    86056 non-null  object        \n",
            " 7   prod_cla      86056 non-null  object        \n",
            " 8   qty           86056 non-null  int64         \n",
            " 9   total_amt     86056 non-null  float64       \n",
            " 10  sale_price    86056 non-null  float64       \n",
            " 11  status        86056 non-null  object        \n",
            " 12  ship_qty      86056 non-null  int64         \n",
            " 13  cust_type     86056 non-null  object        \n",
            " 14  return        86056 non-null  object        \n",
            " 15  discount_app  86056 non-null  object        \n",
            " 16  list_price    86056 non-null  float64       \n",
            " 17  invoice_date  86056 non-null  datetime64[ns]\n",
            " 18  ship_date     86056 non-null  object        \n",
            " 19  request_ship  86056 non-null  datetime64[ns]\n",
            "dtypes: datetime64[ns](2), float64(3), int64(5), object(10)\n",
            "memory usage: 13.8+ MB\n"
          ]
        }
      ]
    },
    {
      "cell_type": "code",
      "metadata": {
        "id": "zJJupaF2p-En"
      },
      "source": [
        "def main(filename,df_total):\n",
        "  '''\n",
        "  Combine all functions for data import and cleaning. \n",
        "  Concat all data into one df in order.\n",
        "  '''\n",
        "  df = import_data(filename)\n",
        "  df = select_fields(df)\n",
        "  df = fillna_filter(df)\n",
        "  df_total = pd.concat([df_total,df],axis=0)\n",
        "  return df_total"
      ],
      "execution_count": 10,
      "outputs": []
    },
    {
      "cell_type": "code",
      "metadata": {
        "id": "A6v1OrhnQkZI"
      },
      "source": [
        "df_total = main('july2.XLSX',df_total)"
      ],
      "execution_count": 18,
      "outputs": []
    },
    {
      "cell_type": "code",
      "metadata": {
        "colab": {
          "base_uri": "https://localhost:8080/"
        },
        "id": "AZ9bb7CQwnCB",
        "outputId": "49c1deb5-2633-43e4-e52e-78f57880aefc"
      },
      "source": [
        "df_total['invoice_date'].max()"
      ],
      "execution_count": 19,
      "outputs": [
        {
          "output_type": "execute_result",
          "data": {
            "text/plain": [
              "Timestamp('2019-07-31 00:00:00')"
            ]
          },
          "metadata": {},
          "execution_count": 19
        }
      ]
    },
    {
      "cell_type": "code",
      "metadata": {
        "colab": {
          "base_uri": "https://localhost:8080/"
        },
        "id": "68jka2bRyTXl",
        "outputId": "e67716f8-bf96-4e8e-be4e-5d39c6d76395"
      },
      "source": [
        "df_total.info()"
      ],
      "execution_count": 20,
      "outputs": [
        {
          "output_type": "stream",
          "name": "stdout",
          "text": [
            "<class 'pandas.core.frame.DataFrame'>\n",
            "Int64Index: 248825 entries, 0 to 45763\n",
            "Data columns (total 20 columns):\n",
            " #   Column        Non-Null Count   Dtype         \n",
            "---  ------        --------------   -----         \n",
            " 0   distributor   248825 non-null  object        \n",
            " 1   sales         248825 non-null  object        \n",
            " 2   branch        248825 non-null  int64         \n",
            " 3   inv_type      248825 non-null  object        \n",
            " 4   invoice_no    248825 non-null  int64         \n",
            " 5   line_item     248825 non-null  int64         \n",
            " 6   product_no    248825 non-null  object        \n",
            " 7   prod_cla      248825 non-null  object        \n",
            " 8   qty           248825 non-null  int64         \n",
            " 9   total_amt     248825 non-null  float64       \n",
            " 10  sale_price    248825 non-null  float64       \n",
            " 11  status        248825 non-null  object        \n",
            " 12  ship_qty      248825 non-null  int64         \n",
            " 13  cust_type     248825 non-null  object        \n",
            " 14  return        248825 non-null  object        \n",
            " 15  discount_app  248825 non-null  object        \n",
            " 16  list_price    248825 non-null  float64       \n",
            " 17  invoice_date  248825 non-null  datetime64[ns]\n",
            " 18  ship_date     248825 non-null  object        \n",
            " 19  request_ship  248825 non-null  datetime64[ns]\n",
            "dtypes: datetime64[ns](2), float64(3), int64(5), object(10)\n",
            "memory usage: 39.9+ MB\n"
          ]
        }
      ]
    },
    {
      "cell_type": "code",
      "metadata": {
        "id": "hDMDVtzYw3CH"
      },
      "source": [
        "df_total.tail(3)"
      ],
      "execution_count": null,
      "outputs": []
    },
    {
      "cell_type": "code",
      "metadata": {
        "colab": {
          "base_uri": "https://localhost:8080/",
          "height": 300
        },
        "id": "ewc88W9F01Qv",
        "outputId": "564b83a0-80f8-4e37-fbb4-9d3b62b33f69"
      },
      "source": [
        "df_total.describe()"
      ],
      "execution_count": 22,
      "outputs": [
        {
          "output_type": "execute_result",
          "data": {
            "text/html": [
              "<div>\n",
              "<style scoped>\n",
              "    .dataframe tbody tr th:only-of-type {\n",
              "        vertical-align: middle;\n",
              "    }\n",
              "\n",
              "    .dataframe tbody tr th {\n",
              "        vertical-align: top;\n",
              "    }\n",
              "\n",
              "    .dataframe thead th {\n",
              "        text-align: right;\n",
              "    }\n",
              "</style>\n",
              "<table border=\"1\" class=\"dataframe\">\n",
              "  <thead>\n",
              "    <tr style=\"text-align: right;\">\n",
              "      <th></th>\n",
              "      <th>branch</th>\n",
              "      <th>invoice_no</th>\n",
              "      <th>line_item</th>\n",
              "      <th>qty</th>\n",
              "      <th>total_amt</th>\n",
              "      <th>sale_price</th>\n",
              "      <th>ship_qty</th>\n",
              "      <th>list_price</th>\n",
              "    </tr>\n",
              "  </thead>\n",
              "  <tbody>\n",
              "    <tr>\n",
              "      <th>count</th>\n",
              "      <td>248825.000000</td>\n",
              "      <td>2.488250e+05</td>\n",
              "      <td>248825.000000</td>\n",
              "      <td>248825.000000</td>\n",
              "      <td>2.488250e+05</td>\n",
              "      <td>2.488250e+05</td>\n",
              "      <td>248825.000000</td>\n",
              "      <td>2.488250e+05</td>\n",
              "    </tr>\n",
              "    <tr>\n",
              "      <th>mean</th>\n",
              "      <td>715065.076918</td>\n",
              "      <td>2.266587e+09</td>\n",
              "      <td>122.754144</td>\n",
              "      <td>1.815529</td>\n",
              "      <td>4.610675e+03</td>\n",
              "      <td>3.198007e+03</td>\n",
              "      <td>1.852169</td>\n",
              "      <td>3.619291e+03</td>\n",
              "    </tr>\n",
              "    <tr>\n",
              "      <th>std</th>\n",
              "      <td>56423.284561</td>\n",
              "      <td>5.348107e+08</td>\n",
              "      <td>204.562274</td>\n",
              "      <td>11.153265</td>\n",
              "      <td>2.801579e+04</td>\n",
              "      <td>1.438295e+04</td>\n",
              "      <td>10.292674</td>\n",
              "      <td>1.634524e+04</td>\n",
              "    </tr>\n",
              "    <tr>\n",
              "      <th>min</th>\n",
              "      <td>72010.000000</td>\n",
              "      <td>1.103721e+09</td>\n",
              "      <td>10.000000</td>\n",
              "      <td>-542.000000</td>\n",
              "      <td>-4.004956e+06</td>\n",
              "      <td>-3.069569e+04</td>\n",
              "      <td>0.000000</td>\n",
              "      <td>-3.560700e+04</td>\n",
              "    </tr>\n",
              "    <tr>\n",
              "      <th>25%</th>\n",
              "      <td>720008.000000</td>\n",
              "      <td>2.111335e+09</td>\n",
              "      <td>40.000000</td>\n",
              "      <td>1.000000</td>\n",
              "      <td>3.982300e+02</td>\n",
              "      <td>4.031900e+02</td>\n",
              "      <td>1.000000</td>\n",
              "      <td>4.564300e+02</td>\n",
              "    </tr>\n",
              "    <tr>\n",
              "      <th>50%</th>\n",
              "      <td>720013.000000</td>\n",
              "      <td>2.111365e+09</td>\n",
              "      <td>80.000000</td>\n",
              "      <td>1.000000</td>\n",
              "      <td>2.094830e+03</td>\n",
              "      <td>2.123890e+03</td>\n",
              "      <td>1.000000</td>\n",
              "      <td>2.400000e+03</td>\n",
              "    </tr>\n",
              "    <tr>\n",
              "      <th>75%</th>\n",
              "      <td>720021.000000</td>\n",
              "      <td>2.111394e+09</td>\n",
              "      <td>130.000000</td>\n",
              "      <td>1.000000</td>\n",
              "      <td>4.017970e+03</td>\n",
              "      <td>3.628320e+03</td>\n",
              "      <td>1.000000</td>\n",
              "      <td>4.100000e+03</td>\n",
              "    </tr>\n",
              "    <tr>\n",
              "      <th>max</th>\n",
              "      <td>720037.000000</td>\n",
              "      <td>4.200000e+09</td>\n",
              "      <td>3960.000000</td>\n",
              "      <td>1189.000000</td>\n",
              "      <td>2.051452e+06</td>\n",
              "      <td>4.004956e+06</td>\n",
              "      <td>1189.000000</td>\n",
              "      <td>4.525600e+06</td>\n",
              "    </tr>\n",
              "  </tbody>\n",
              "</table>\n",
              "</div>"
            ],
            "text/plain": [
              "              branch    invoice_no  ...       ship_qty    list_price\n",
              "count  248825.000000  2.488250e+05  ...  248825.000000  2.488250e+05\n",
              "mean   715065.076918  2.266587e+09  ...       1.852169  3.619291e+03\n",
              "std     56423.284561  5.348107e+08  ...      10.292674  1.634524e+04\n",
              "min     72010.000000  1.103721e+09  ...       0.000000 -3.560700e+04\n",
              "25%    720008.000000  2.111335e+09  ...       1.000000  4.564300e+02\n",
              "50%    720013.000000  2.111365e+09  ...       1.000000  2.400000e+03\n",
              "75%    720021.000000  2.111394e+09  ...       1.000000  4.100000e+03\n",
              "max    720037.000000  4.200000e+09  ...    1189.000000  4.525600e+06\n",
              "\n",
              "[8 rows x 8 columns]"
            ]
          },
          "metadata": {},
          "execution_count": 22
        }
      ]
    },
    {
      "cell_type": "code",
      "metadata": {
        "id": "vfZSi2FlWAoi"
      },
      "source": [
        "## Extract dataset for next steps\n",
        "path = '/content/drive/MyDrive/Colab Notebooks/finalproject/'\n",
        "file_csv = path + 'sales.csv'\n",
        "df_total.to_csv(file_csv)"
      ],
      "execution_count": 23,
      "outputs": []
    }
  ]
}