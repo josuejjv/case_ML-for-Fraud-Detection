{
  "nbformat": 4,
  "nbformat_minor": 0,
  "metadata": {
    "kernelspec": {
      "display_name": "Python 3",
      "language": "python",
      "name": "python3"
    },
    "language_info": {
      "codemirror_mode": {
        "name": "ipython",
        "version": 3
      },
      "file_extension": ".py",
      "mimetype": "text/x-python",
      "name": "python",
      "nbconvert_exporter": "python",
      "pygments_lexer": "ipython3",
      "version": "3.8.5"
    },
    "colab": {
      "name": "1_data_collection.ipynb",
      "provenance": [],
      "collapsed_sections": [],
      "include_colab_link": true
    }
  },
  "cells": [
    {
      "cell_type": "markdown",
      "metadata": {
        "id": "view-in-github",
        "colab_type": "text"
      },
      "source": [
        "<a href=\"https://colab.research.google.com/github/ryanhao1115/ML-for-Fraud-Detection/blob/main/1_data_collection.ipynb\" target=\"_parent\"><img src=\"https://colab.research.google.com/assets/colab-badge.svg\" alt=\"Open In Colab\"/></a>"
      ]
    },
    {
      "cell_type": "markdown",
      "metadata": {
        "id": "6Z0lAfsl9UMg"
      },
      "source": [
        "## Data collection and cleaning\n",
        "1. Explore datasets, first round filtering data fields.\n",
        "2. Rename columns.\n",
        "3. Cleaning data.\n",
        "4. Combine datasets into one single table. "
      ]
    },
    {
      "cell_type": "code",
      "metadata": {
        "colab": {
          "base_uri": "https://localhost:8080/"
        },
        "id": "V0RYB1k--cpw",
        "outputId": "5d16c2c7-692e-4f05-f700-1ead57d76018"
      },
      "source": [
        "from google.colab import drive\n",
        "drive.mount('/content/drive')"
      ],
      "execution_count": 1,
      "outputs": [
        {
          "output_type": "stream",
          "name": "stdout",
          "text": [
            "Mounted at /content/drive\n"
          ]
        }
      ]
    },
    {
      "cell_type": "code",
      "metadata": {
        "id": "-chEQVlb9UMl"
      },
      "source": [
        "import pandas as pd"
      ],
      "execution_count": 2,
      "outputs": []
    },
    {
      "cell_type": "code",
      "metadata": {
        "id": "c2UxaRWKHvzn"
      },
      "source": [
        "def import_data(filename):\n",
        "  ''' \n",
        "  Sales dataset were exported from SAP into excel files.  One for each month.\n",
        "  import one excel file into pandas DataFrame\n",
        "  '''\n",
        "  path = '/content/drive/MyDrive/Colab Notebooks/finalproject/'\n",
        "  file_path = path + filename\n",
        "  df = pd.read_excel(file_path)\n",
        "  return df"
      ],
      "execution_count": 3,
      "outputs": []
    },
    {
      "cell_type": "code",
      "metadata": {
        "id": "s_2lvV_K9UMm"
      },
      "source": [
        "df = import_data('may.XLSX')"
      ],
      "execution_count": 4,
      "outputs": []
    },
    {
      "cell_type": "code",
      "metadata": {
        "id": "8tsq3Ur89UMo"
      },
      "source": [
        "def select_fields(df):\n",
        "  '''\n",
        "  Select fields related to this project. \n",
        "  Rename columns.\n",
        "  '''\n",
        "  col = [0,3,6,16,24,25,27,31,38,40,42,43,50,53,65,76,77,80,83,86]\n",
        "  col_names = ['distributor','sales','branch','inv_type','invoice_no','line_item','product_no','prod_cla','qty','total_amt','sale_price','status','ship_qty','cust_type','return','discount_app','list_price', 'invoice_date','ship_date','request_ship']\n",
        "  df = df.iloc[:,col]\n",
        "  df.columns = col_names\n",
        "  return df\n"
      ],
      "execution_count": 5,
      "outputs": []
    },
    {
      "cell_type": "code",
      "metadata": {
        "id": "JKPPQ6LXOfnq"
      },
      "source": [
        "df1 = select_fields(df)"
      ],
      "execution_count": 6,
      "outputs": []
    },
    {
      "cell_type": "code",
      "metadata": {
        "id": "IHGVohOLX3Xq"
      },
      "source": [
        "def fillna_filter(df):\n",
        "  '''\n",
        "  Fill all missing values. \n",
        "  Filter records according to business nature. \n",
        "  '''\n",
        "  df['cust_type'] = df['cust_type'].fillna(value='No')  ## set Nan records as a new type\n",
        "  df['return'] = df['return'].fillna(value = 'No')    ## Nan means no return\n",
        "  df['discount_app'] = df['discount_app'].fillna(value = 'No')  ## Nan means no discount\n",
        "  df['prod_cla'] = df['prod_cla'].fillna(value = '9999')  ## set Nan records as a new class\n",
        "  df['ship_date'] = df['ship_date'].fillna(value = '2019-12-31')  ## Didn't ship until the end of the year\n",
        "  df = df[df['status'] == '完成请求']     ## Only for completed invoices\n",
        "  return df\n",
        "\n"
      ],
      "execution_count": 7,
      "outputs": []
    },
    {
      "cell_type": "code",
      "metadata": {
        "id": "Y4f7-gil_bDD"
      },
      "source": [
        "df_total = fillna_filter(df1)"
      ],
      "execution_count": null,
      "outputs": []
    },
    {
      "cell_type": "code",
      "metadata": {
        "colab": {
          "base_uri": "https://localhost:8080/",
          "height": 382
        },
        "id": "defFopeGBqdC",
        "outputId": "5acd646e-9197-476e-a317-433def539f57"
      },
      "source": [
        "df_total.head()"
      ],
      "execution_count": 9,
      "outputs": [
        {
          "output_type": "execute_result",
          "data": {
            "text/html": [
              "<div>\n",
              "<style scoped>\n",
              "    .dataframe tbody tr th:only-of-type {\n",
              "        vertical-align: middle;\n",
              "    }\n",
              "\n",
              "    .dataframe tbody tr th {\n",
              "        vertical-align: top;\n",
              "    }\n",
              "\n",
              "    .dataframe thead th {\n",
              "        text-align: right;\n",
              "    }\n",
              "</style>\n",
              "<table border=\"1\" class=\"dataframe\">\n",
              "  <thead>\n",
              "    <tr style=\"text-align: right;\">\n",
              "      <th></th>\n",
              "      <th>distributor</th>\n",
              "      <th>sales</th>\n",
              "      <th>branch</th>\n",
              "      <th>inv_type</th>\n",
              "      <th>invoice_no</th>\n",
              "      <th>line_item</th>\n",
              "      <th>product_no</th>\n",
              "      <th>prod_cla</th>\n",
              "      <th>qty</th>\n",
              "      <th>total_amt</th>\n",
              "      <th>sale_price</th>\n",
              "      <th>status</th>\n",
              "      <th>ship_qty</th>\n",
              "      <th>cust_type</th>\n",
              "      <th>return</th>\n",
              "      <th>discount_app</th>\n",
              "      <th>list_price</th>\n",
              "      <th>invoice_date</th>\n",
              "      <th>ship_date</th>\n",
              "      <th>request_ship</th>\n",
              "    </tr>\n",
              "  </thead>\n",
              "  <tbody>\n",
              "    <tr>\n",
              "      <th>0</th>\n",
              "      <td>G152004M</td>\n",
              "      <td>PJ024907</td>\n",
              "      <td>720006</td>\n",
              "      <td>Z001</td>\n",
              "      <td>1103720739</td>\n",
              "      <td>10</td>\n",
              "      <td>FREIGHT</td>\n",
              "      <td>9999</td>\n",
              "      <td>1</td>\n",
              "      <td>1000.00</td>\n",
              "      <td>1000.00</td>\n",
              "      <td>完成请求</td>\n",
              "      <td>0</td>\n",
              "      <td>AA01</td>\n",
              "      <td>No</td>\n",
              "      <td>No</td>\n",
              "      <td>1000.0</td>\n",
              "      <td>2019-05-06</td>\n",
              "      <td>2019-12-31</td>\n",
              "      <td>2019-04-30</td>\n",
              "    </tr>\n",
              "    <tr>\n",
              "      <th>1</th>\n",
              "      <td>A13030128</td>\n",
              "      <td>PJ017295</td>\n",
              "      <td>720016</td>\n",
              "      <td>Z016</td>\n",
              "      <td>1103720871</td>\n",
              "      <td>10</td>\n",
              "      <td>RSQ500BBY</td>\n",
              "      <td>11010</td>\n",
              "      <td>4</td>\n",
              "      <td>130973.44</td>\n",
              "      <td>32743.36</td>\n",
              "      <td>完成请求</td>\n",
              "      <td>0</td>\n",
              "      <td>AX01</td>\n",
              "      <td>32：业务　担当</td>\n",
              "      <td>1.20021e+09</td>\n",
              "      <td>37000.0</td>\n",
              "      <td>2019-05-08</td>\n",
              "      <td>2019-12-31</td>\n",
              "      <td>2019-05-08</td>\n",
              "    </tr>\n",
              "    <tr>\n",
              "      <th>9</th>\n",
              "      <td>A000288701</td>\n",
              "      <td>PJ047014</td>\n",
              "      <td>720030</td>\n",
              "      <td>Z016</td>\n",
              "      <td>1103738228</td>\n",
              "      <td>10</td>\n",
              "      <td>BRC1E631</td>\n",
              "      <td>11020</td>\n",
              "      <td>1</td>\n",
              "      <td>398.23</td>\n",
              "      <td>398.23</td>\n",
              "      <td>完成请求</td>\n",
              "      <td>0</td>\n",
              "      <td>AA01</td>\n",
              "      <td>42：营业　抬头</td>\n",
              "      <td>1.20021e+09</td>\n",
              "      <td>450.0</td>\n",
              "      <td>2019-05-20</td>\n",
              "      <td>2019-12-31</td>\n",
              "      <td>2019-05-20</td>\n",
              "    </tr>\n",
              "    <tr>\n",
              "      <th>10</th>\n",
              "      <td>A000288701</td>\n",
              "      <td>PJ047014</td>\n",
              "      <td>720030</td>\n",
              "      <td>Z016</td>\n",
              "      <td>1103738228</td>\n",
              "      <td>20</td>\n",
              "      <td>FSSP40CA</td>\n",
              "      <td>11010</td>\n",
              "      <td>1</td>\n",
              "      <td>2831.86</td>\n",
              "      <td>2831.86</td>\n",
              "      <td>完成请求</td>\n",
              "      <td>0</td>\n",
              "      <td>AA01</td>\n",
              "      <td>42：营业　抬头</td>\n",
              "      <td>1.20021e+09</td>\n",
              "      <td>3200.0</td>\n",
              "      <td>2019-05-20</td>\n",
              "      <td>2019-12-31</td>\n",
              "      <td>2019-05-20</td>\n",
              "    </tr>\n",
              "    <tr>\n",
              "      <th>11</th>\n",
              "      <td>A000214901</td>\n",
              "      <td>PJ052696</td>\n",
              "      <td>720030</td>\n",
              "      <td>Z016</td>\n",
              "      <td>1103738229</td>\n",
              "      <td>10</td>\n",
              "      <td>BRC1E631</td>\n",
              "      <td>11020</td>\n",
              "      <td>4</td>\n",
              "      <td>1592.92</td>\n",
              "      <td>398.23</td>\n",
              "      <td>完成请求</td>\n",
              "      <td>0</td>\n",
              "      <td>AA01</td>\n",
              "      <td>42：营业　抬头</td>\n",
              "      <td>1.20021e+09</td>\n",
              "      <td>450.0</td>\n",
              "      <td>2019-05-20</td>\n",
              "      <td>2019-12-31</td>\n",
              "      <td>2019-05-20</td>\n",
              "    </tr>\n",
              "  </tbody>\n",
              "</table>\n",
              "</div>"
            ],
            "text/plain": [
              "   distributor     sales  branch  ... invoice_date   ship_date  request_ship\n",
              "0     G152004M  PJ024907  720006  ...   2019-05-06  2019-12-31    2019-04-30\n",
              "1    A13030128  PJ017295  720016  ...   2019-05-08  2019-12-31    2019-05-08\n",
              "9   A000288701  PJ047014  720030  ...   2019-05-20  2019-12-31    2019-05-20\n",
              "10  A000288701  PJ047014  720030  ...   2019-05-20  2019-12-31    2019-05-20\n",
              "11  A000214901  PJ052696  720030  ...   2019-05-20  2019-12-31    2019-05-20\n",
              "\n",
              "[5 rows x 20 columns]"
            ]
          },
          "metadata": {},
          "execution_count": 9
        }
      ]
    },
    {
      "cell_type": "code",
      "metadata": {
        "id": "zJJupaF2p-En"
      },
      "source": [
        "def main(filename,df_total):\n",
        "  '''\n",
        "  Combine all functions for data import and cleaning. \n",
        "  Concat all data into one df in order.\n",
        "  '''\n",
        "  df = import_data(filename)\n",
        "  df = select_fields(df)\n",
        "  df = fillna_filter(df)\n",
        "  df_total = pd.concat([df_total,df],axis=0)\n",
        "  return df_total"
      ],
      "execution_count": 9,
      "outputs": []
    },
    {
      "cell_type": "code",
      "metadata": {
        "id": "A6v1OrhnQkZI"
      },
      "source": [
        "df_total = main('july2.XLSX',df_total)"
      ],
      "execution_count": 20,
      "outputs": []
    },
    {
      "cell_type": "code",
      "metadata": {
        "colab": {
          "base_uri": "https://localhost:8080/"
        },
        "id": "AZ9bb7CQwnCB",
        "outputId": "682a417d-b56d-493d-e000-f79ea8e9e22e"
      },
      "source": [
        "df_total['invoice_date'].max()"
      ],
      "execution_count": 21,
      "outputs": [
        {
          "output_type": "execute_result",
          "data": {
            "text/plain": [
              "Timestamp('2019-07-31 00:00:00')"
            ]
          },
          "metadata": {},
          "execution_count": 21
        }
      ]
    },
    {
      "cell_type": "code",
      "metadata": {
        "colab": {
          "base_uri": "https://localhost:8080/"
        },
        "id": "68jka2bRyTXl",
        "outputId": "97de7cfc-0363-4a6e-ee47-0d94286882d6"
      },
      "source": [
        "df_total.info()"
      ],
      "execution_count": 22,
      "outputs": [
        {
          "output_type": "stream",
          "name": "stdout",
          "text": [
            "<class 'pandas.core.frame.DataFrame'>\n",
            "Int64Index: 248825 entries, 0 to 45763\n",
            "Data columns (total 20 columns):\n",
            " #   Column        Non-Null Count   Dtype         \n",
            "---  ------        --------------   -----         \n",
            " 0   distributor   248825 non-null  object        \n",
            " 1   sales         248825 non-null  object        \n",
            " 2   branch        248825 non-null  int64         \n",
            " 3   inv_type      248825 non-null  object        \n",
            " 4   invoice_no    248825 non-null  int64         \n",
            " 5   line_item     248825 non-null  int64         \n",
            " 6   product_no    248825 non-null  object        \n",
            " 7   prod_cla      248825 non-null  object        \n",
            " 8   qty           248825 non-null  int64         \n",
            " 9   total_amt     248825 non-null  float64       \n",
            " 10  sale_price    248825 non-null  float64       \n",
            " 11  status        248825 non-null  object        \n",
            " 12  ship_qty      248825 non-null  int64         \n",
            " 13  cust_type     248825 non-null  object        \n",
            " 14  return        248825 non-null  object        \n",
            " 15  discount_app  248825 non-null  object        \n",
            " 16  list_price    248825 non-null  float64       \n",
            " 17  invoice_date  248825 non-null  datetime64[ns]\n",
            " 18  ship_date     248825 non-null  object        \n",
            " 19  request_ship  248825 non-null  datetime64[ns]\n",
            "dtypes: datetime64[ns](2), float64(3), int64(5), object(10)\n",
            "memory usage: 39.9+ MB\n"
          ]
        }
      ]
    },
    {
      "cell_type": "code",
      "metadata": {
        "id": "hDMDVtzYw3CH"
      },
      "source": [
        "df_total.tail(3)"
      ],
      "execution_count": null,
      "outputs": []
    },
    {
      "cell_type": "code",
      "metadata": {
        "colab": {
          "base_uri": "https://localhost:8080/"
        },
        "id": "ewc88W9F01Qv",
        "outputId": "3bdfe283-b061-4d8e-edbb-1f78dadbb28b"
      },
      "source": [
        "df_total['branch'].value_counts()"
      ],
      "execution_count": null,
      "outputs": [
        {
          "output_type": "execute_result",
          "data": {
            "text/plain": [
              "720006    13931\n",
              "720008    11623\n",
              "720013     9336\n",
              "720007     8140\n",
              "720009     7294\n",
              "720010     7126\n",
              "720017     6549\n",
              "720019     5808\n",
              "720028     4959\n",
              "720027     4830\n",
              "720014     4588\n",
              "720018     4469\n",
              "720016     3940\n",
              "720036     3668\n",
              "720030     3599\n",
              "720029     3440\n",
              "720012     3276\n",
              "720011     3178\n",
              "720015     2094\n",
              "720021     2067\n",
              "720037     1962\n",
              "720024     1885\n",
              "720025     1805\n",
              "720026     1663\n",
              "720023     1032\n",
              "720022      872\n",
              "72010       668\n",
              "72011       193\n",
              "Name: branch, dtype: int64"
            ]
          },
          "metadata": {},
          "execution_count": 84
        }
      ]
    },
    {
      "cell_type": "code",
      "metadata": {
        "id": "vfZSi2FlWAoi"
      },
      "source": [
        "## Extract dataset for next steps\n",
        "path = '/content/drive/MyDrive/Colab Notebooks/finalproject/'\n",
        "file_csv = path + 'sales.csv'\n",
        "df_total.to_csv(file_csv)"
      ],
      "execution_count": 23,
      "outputs": []
    }
  ]
}