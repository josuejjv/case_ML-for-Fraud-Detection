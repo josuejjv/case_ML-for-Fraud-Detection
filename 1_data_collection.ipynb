{
  "nbformat": 4,
  "nbformat_minor": 0,
  "metadata": {
    "kernelspec": {
      "display_name": "Python 3",
      "language": "python",
      "name": "python3"
    },
    "language_info": {
      "codemirror_mode": {
        "name": "ipython",
        "version": 3
      },
      "file_extension": ".py",
      "mimetype": "text/x-python",
      "name": "python",
      "nbconvert_exporter": "python",
      "pygments_lexer": "ipython3",
      "version": "3.8.5"
    },
    "colab": {
      "name": "1_data_collection.ipynb",
      "provenance": [],
      "collapsed_sections": [],
      "toc_visible": true,
      "machine_shape": "hm",
      "include_colab_link": true
    }
  },
  "cells": [
    {
      "cell_type": "markdown",
      "metadata": {
        "id": "view-in-github",
        "colab_type": "text"
      },
      "source": [
        "<a href=\"https://colab.research.google.com/github/ryanhao1115/ML-for-Fraud-Detection/blob/main/1_data_collection.ipynb\" target=\"_parent\"><img src=\"https://colab.research.google.com/assets/colab-badge.svg\" alt=\"Open In Colab\"/></a>"
      ]
    },
    {
      "cell_type": "markdown",
      "metadata": {
        "id": "6Z0lAfsl9UMg"
      },
      "source": [
        "## Data collection and cleaning\n",
        "1. Explore datasets, first round filtering data fields.\n",
        "2. Rename columns.\n",
        "3. Cleaning data.\n",
        "4. Combine datasets into one single table. "
      ]
    },
    {
      "cell_type": "code",
      "metadata": {
        "colab": {
          "base_uri": "https://localhost:8080/"
        },
        "id": "V0RYB1k--cpw",
        "outputId": "3482007f-e4ce-4d55-99bb-042885bd04e9"
      },
      "source": [
        "from google.colab import drive\n",
        "drive.mount('/content/drive')"
      ],
      "execution_count": 1,
      "outputs": [
        {
          "output_type": "stream",
          "name": "stdout",
          "text": [
            "Mounted at /content/drive\n"
          ]
        }
      ]
    },
    {
      "cell_type": "code",
      "metadata": {
        "id": "-chEQVlb9UMl"
      },
      "source": [
        "import pandas as pd"
      ],
      "execution_count": 2,
      "outputs": []
    },
    {
      "cell_type": "code",
      "metadata": {
        "id": "c2UxaRWKHvzn"
      },
      "source": [
        "def import_date(filename):\n",
        "  ''' \n",
        "  Sales dataset were exported from SAP into excel files.  One for each month.\n",
        "  import one excel file into pandas DataFrame\n",
        "  '''\n",
        "  path = '/content/drive/MyDrive/Colab Notebooks/finalproject/'\n",
        "  file_path = path + filename\n",
        "  df = pd.read_excel(file_path)\n",
        "  return df"
      ],
      "execution_count": 34,
      "outputs": []
    },
    {
      "cell_type": "code",
      "metadata": {
        "id": "s_2lvV_K9UMm"
      },
      "source": [
        "df = import_date('may.XLSX')"
      ],
      "execution_count": 5,
      "outputs": []
    },
    {
      "cell_type": "code",
      "metadata": {
        "id": "gUgkSkua9UMn"
      },
      "source": [
        "df.head()"
      ],
      "execution_count": null,
      "outputs": []
    },
    {
      "cell_type": "code",
      "metadata": {
        "id": "8tsq3Ur89UMo"
      },
      "source": [
        "def select_fields(df):\n",
        "  '''\n",
        "  Select fields related to this project. \n",
        "  Rename columns.\n",
        "  '''\n",
        "  col = [0,3,6,16,24,25,27,38,40,42,43,50,53,65,76,77,80,83,86]\n",
        "  col_names = ['distributor','sales','branch','inv_type','invoice_no','line_item','product_no','qty','total_amt','sale_price','status','ship_qty','cust_type','return','discount_app','list_price', 'invoice_date','ship_date','request_ship']\n",
        "  df = df.iloc[:,col]\n",
        "  df.columns = col_names\n",
        "  return df\n"
      ],
      "execution_count": 35,
      "outputs": []
    },
    {
      "cell_type": "code",
      "metadata": {
        "colab": {
          "base_uri": "https://localhost:8080/"
        },
        "id": "Y4f7-gil_bDD",
        "outputId": "ba786039-0e41-4326-a8df-c0bdece6442b"
      },
      "source": [
        "df_s.isnull().sum()"
      ],
      "execution_count": 36,
      "outputs": [
        {
          "output_type": "execute_result",
          "data": {
            "text/plain": [
              "distributor         0\n",
              "sales               0\n",
              "branch              0\n",
              "inv_type            0\n",
              "invoice_no          0\n",
              "line_item           0\n",
              "product_no          0\n",
              "qty                 0\n",
              "total_amt           0\n",
              "sale_price          0\n",
              "status              8\n",
              "ship_qty            0\n",
              "cust_type        4594\n",
              "return          81266\n",
              "discount_app     4572\n",
              "list_price          0\n",
              "invoice_date        0\n",
              "ship_date        4534\n",
              "request_ship        0\n",
              "dtype: int64"
            ]
          },
          "metadata": {},
          "execution_count": 36
        }
      ]
    }
  ]
}